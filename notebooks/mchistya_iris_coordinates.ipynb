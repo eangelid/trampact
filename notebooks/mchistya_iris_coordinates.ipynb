{
 "cells": [
  {
   "cell_type": "code",
   "execution_count": 6,
   "id": "5a935cc3",
   "metadata": {},
   "outputs": [],
   "source": [
    "import shapefile as sp\n",
    "from dbfread import DBF"
   ]
  },
  {
   "cell_type": "markdown",
   "id": "658be6ff",
   "metadata": {},
   "source": [
    "Un sigle qui signifiait « Ilots Regroupés pour l'Information Statistique » et qui faisait référence à la taille visée de 2 000 habitants par maille élémentaire.\n",
    "\n",
    "Depuis, l'IRIS (appellation qui se substitue désormais à IRIS2000) constitue la brique de base en matière de diffusion de données infra-communales. Il doit respecter des critères géographiques et démographiques et avoir des contours identifiables sans ambigüité et stables dans le temps.\n",
    "\n",
    "Les communes d'au moins 10 000 habitants et une forte proportion des communes de 5 000 à 10 000 habitants sont découpées en IRIS. Ce découpage constitue une partition de leur territoire. La France compte environ 16 100 IRIS dont 650 dans les DOM.\n",
    "\n",
    "On distingue trois types d'IRIS :\n",
    "\n",
    "Les IRIS d'habitat : leur population se situe en général entre 1 800 et 5 000 habitants. Ils sont homogènes quant au type d'habitat et leurs limites s'appuient sur les grandes coupures du tissu urbain (voies principales, voies ferrées, cours d'eau...).\n",
    "Les IRIS d'activité : ils regroupent plus de 1 000 salariés et comptent au moins deux fois plus d'emplois salariés que de population résidente.\n",
    "Les IRIS divers : il s'agit de grandes zones spécifiques peu habitées et ayant une superficie importante (parcs de loisirs, zones portuaires, forêts...).\n",
    "\n"
   ]
  },
  {
   "cell_type": "code",
   "execution_count": 7,
   "id": "91247240",
   "metadata": {},
   "outputs": [],
   "source": [
    "class Iris():\n",
    "    \n",
    "    def __init__(self):\n",
    "        self.get_files()\n",
    "        self.get_records()\n",
    "        self.get_iris_id()\n",
    "    \n",
    "    def get_files(self):\n",
    "        #client = storage.Client().bucket('trampact_storage')\n",
    "\n",
    "        #path_dbf = \"gs://{}/{}/{}\".format(bucket_name, path,'IRIS_GEO_2018_FRTOT.dbf')\n",
    "        #path_shp = 'gs://{}/{}/{}'.format(bucket_name, path,'IRIS_GEO_2018_FRTOT.shp')\n",
    "        \n",
    "        path_dbf ='../raw_data/iris_geo/IRIS_GEO_2018_FRTOT.dbf'\n",
    "        path_shp ='../raw_data/iris_geo/IRIS_GEO_2018_FRTOT.shp'\n",
    "\n",
    "        self.dbf=DBF(path_dbf)\n",
    "        self.shp = sp.Reader(path_shp)\n",
    "\n",
    "\n",
    "    def get_records(self):\n",
    "        records = []\n",
    "        for record in self.dbf:\n",
    "            records.append(dict(record))\n",
    "        self.records = records\n",
    "\n",
    "    def get_iris_id(self):\n",
    "        iris_id = []\n",
    "        for i in range(len(self.records)):\n",
    "            r = self.records[i]['CODE_IRIS']\n",
    "            iris_id.append(r)\n",
    "        self.iris_id = iris_id\n",
    "        \n",
    "    def get_iris_type(self, iris_id):\n",
    "        iris_type = {}\n",
    "        for i in range(len(self.records)):\n",
    "            iris_type[self.iris_id[i]]= self.records[i]['TYP_IRIS']\n",
    "        self.iris_type = iris_type\n",
    "        return iris_type[str(iris_id)]\n",
    "\n",
    "    def get_box_coord(self, iris_id):\n",
    "        shapes = self.shp.shapes()\n",
    "        box_coord = {}\n",
    "        for i in range(len(shapes)):\n",
    "            box_coord[self.iris_id[i]] = shapes[i].bbox\n",
    "        return box_coord[str(iris_id)]\n",
    "\n",
    "    def get_poly_coord(self, iris_id):\n",
    "        shapes = self.shp.shapes()\n",
    "        poly_coord = {}\n",
    "        for i in range(len(shapes)):\n",
    "            poly_coord[self.iris_id[i]] = shapes[i].__geo_interface__['coordinates'][0]\n",
    "        return poly_coord[str(iris_id)]   \n"
   ]
  },
  {
   "cell_type": "code",
   "execution_count": 8,
   "id": "ab410419",
   "metadata": {},
   "outputs": [],
   "source": [
    "iris = Iris()"
   ]
  },
  {
   "cell_type": "code",
   "execution_count": 31,
   "id": "6415186e",
   "metadata": {},
   "outputs": [
    {
     "data": {
      "text/plain": [
       "'H'"
      ]
     },
     "execution_count": 31,
     "metadata": {},
     "output_type": "execute_result"
    }
   ],
   "source": [
    "iris.get_iris_type('061230107')"
   ]
  },
  {
   "cell_type": "code",
   "execution_count": 29,
   "id": "a1dc33aa",
   "metadata": {},
   "outputs": [
    {
     "data": {
      "text/plain": [
       "[7.288164256383002, 43.70616376439394, 7.323476112735955, 43.7325002458164]"
      ]
     },
     "execution_count": 29,
     "metadata": {},
     "output_type": "execute_result"
    }
   ],
   "source": [
    "iris.get_box_coord('060880801')"
   ]
  },
  {
   "cell_type": "code",
   "execution_count": 10,
   "id": "eef8a29a",
   "metadata": {},
   "outputs": [],
   "source": [
    "path_dbf ='../raw_data/iris_geo/IRIS_GEO_2018_FRTOT.dbf'\n",
    "path_shp ='../raw_data/iris_geo/IRIS_GEO_2018_FRTOT.shp'\n",
    "\n",
    "dbf=DBF(path_dbf)\n",
    "shp = sp.Reader(path_shp)\n",
    "\n",
    "records = []\n",
    "for record in DBF(path_dbf):\n",
    "    records.append(dict(record))\n",
    "    "
   ]
  },
  {
   "cell_type": "code",
   "execution_count": 11,
   "id": "ea8fa073",
   "metadata": {},
   "outputs": [
    {
     "data": {
      "text/plain": [
       "{'INSEE_COM': '72191',\n",
       " 'NOM_COM': 'Mayet',\n",
       " 'IRIS': '0000',\n",
       " 'CODE_IRIS': '721910000',\n",
       " 'NOM_IRIS': 'Mayet',\n",
       " 'TYP_IRIS': 'Z'}"
      ]
     },
     "execution_count": 11,
     "metadata": {},
     "output_type": "execute_result"
    }
   ],
   "source": [
    "records[0]"
   ]
  },
  {
   "cell_type": "code",
   "execution_count": 12,
   "id": "25f56e73",
   "metadata": {},
   "outputs": [],
   "source": [
    "def get_iris_list():\n",
    "    iris_id = []\n",
    "    for i in range(len(records)):\n",
    "        r = records[i]['CODE_IRIS']\n",
    "        iris_id.append(r)\n",
    "    return iris_id"
   ]
  },
  {
   "cell_type": "code",
   "execution_count": 22,
   "id": "18aa5b01",
   "metadata": {},
   "outputs": [
    {
     "data": {
      "text/plain": [
       "45"
      ]
     },
     "execution_count": 22,
     "metadata": {},
     "output_type": "execute_result"
    }
   ],
   "source": [
    "iris_list =get_iris_list()\n",
    "iris_list.index('2A0990000')\n",
    "    "
   ]
  },
  {
   "cell_type": "code",
   "execution_count": 28,
   "id": "8f8d35cd",
   "metadata": {},
   "outputs": [
    {
     "data": {
      "text/plain": [
       "48412"
      ]
     },
     "execution_count": 28,
     "metadata": {},
     "output_type": "execute_result"
    }
   ],
   "source": [
    "iris_list.index('060880801')"
   ]
  },
  {
   "cell_type": "code",
   "execution_count": 87,
   "id": "2c41c39a",
   "metadata": {},
   "outputs": [
    {
     "data": {
      "text/plain": [
       "[5.074076567058182, 45.797890833135114, 5.141096735822965, 45.8552780627737]"
      ]
     },
     "execution_count": 87,
     "metadata": {},
     "output_type": "execute_result"
    }
   ],
   "source": [
    "iris.get_box_coord('010270000')"
   ]
  },
  {
   "cell_type": "code",
   "execution_count": 1,
   "id": "dda756df",
   "metadata": {},
   "outputs": [
    {
     "data": {
      "text/plain": [
       "9"
      ]
     },
     "execution_count": 1,
     "metadata": {},
     "output_type": "execute_result"
    }
   ],
   "source": [
    "len('010270000')"
   ]
  },
  {
   "cell_type": "code",
   "execution_count": 27,
   "id": "44cb6021",
   "metadata": {},
   "outputs": [
    {
     "data": {
      "text/plain": [
       "9"
      ]
     },
     "execution_count": 27,
     "metadata": {},
     "output_type": "execute_result"
    }
   ],
   "source": [
    "len('060880801')"
   ]
  },
  {
   "cell_type": "code",
   "execution_count": 4,
   "id": "dd0a4682",
   "metadata": {},
   "outputs": [
    {
     "data": {
      "text/plain": [
       "8"
      ]
     },
     "execution_count": 4,
     "metadata": {},
     "output_type": "execute_result"
    }
   ],
   "source": [
    "len('60880801')"
   ]
  },
  {
   "cell_type": "code",
   "execution_count": 24,
   "id": "62c79052",
   "metadata": {},
   "outputs": [
    {
     "data": {
      "text/plain": [
       "False"
      ]
     },
     "execution_count": 24,
     "metadata": {},
     "output_type": "execute_result"
    }
   ],
   "source": [
    "'61620000' in iris_list"
   ]
  },
  {
   "cell_type": "code",
   "execution_count": 6,
   "id": "7e683a40",
   "metadata": {},
   "outputs": [
    {
     "name": "stdout",
     "output_type": "stream",
     "text": [
      "Requirement already satisfied: shapely in /home/mchistya/.pyenv/versions/3.8.6/envs/lewagon/lib/python3.8/site-packages (1.7.1)\r\n"
     ]
    }
   ],
   "source": [
    "!pip install shapely"
   ]
  },
  {
   "cell_type": "code",
   "execution_count": 7,
   "id": "335dd887",
   "metadata": {},
   "outputs": [
    {
     "name": "stdout",
     "output_type": "stream",
     "text": [
      "True\n"
     ]
    }
   ],
   "source": [
    "from shapely.geometry import Point\n",
    "from shapely.geometry.polygon import Polygon\n",
    "\n",
    "point = Point(0.5, 0.5)\n",
    "polygon = Polygon([(0, 0), (0, 1), (1, 1), (1, 0)])\n",
    "print(polygon.contains(point))"
   ]
  },
  {
   "cell_type": "code",
   "execution_count": 26,
   "id": "cbc758ed",
   "metadata": {},
   "outputs": [
    {
     "data": {
      "text/html": [
       "<div>\n",
       "<style scoped>\n",
       "    .dataframe tbody tr th:only-of-type {\n",
       "        vertical-align: middle;\n",
       "    }\n",
       "\n",
       "    .dataframe tbody tr th {\n",
       "        vertical-align: top;\n",
       "    }\n",
       "\n",
       "    .dataframe thead th {\n",
       "        text-align: right;\n",
       "    }\n",
       "</style>\n",
       "<table border=\"1\" class=\"dataframe\">\n",
       "  <thead>\n",
       "    <tr style=\"text-align: right;\">\n",
       "      <th></th>\n",
       "      <th>Unnamed: 0</th>\n",
       "      <th>Unnamed: 0.1</th>\n",
       "      <th>iris</th>\n",
       "      <th>iris_with_t1</th>\n",
       "      <th>AN</th>\n",
       "      <th>longitude</th>\n",
       "      <th>latitude</th>\n",
       "      <th>('LAB', 'is_sport')</th>\n",
       "      <th>('LAB', 'is_leasure')</th>\n",
       "      <th>('LAB', 'is_medical')</th>\n",
       "      <th>...</th>\n",
       "      <th>('LAB', 'is_high_educ')</th>\n",
       "      <th>('LAB', 'is_schools')</th>\n",
       "      <th>('LAB', 'is_transport')</th>\n",
       "      <th>Q_XY_acceptable</th>\n",
       "      <th>Q_XY_bonne</th>\n",
       "      <th>Q_XY_mauvaise</th>\n",
       "      <th>LAB</th>\n",
       "      <th>CLASSE</th>\n",
       "      <th>distance tram t1</th>\n",
       "      <th>proche tram t1</th>\n",
       "    </tr>\n",
       "  </thead>\n",
       "  <tbody>\n",
       "    <tr>\n",
       "      <th>0</th>\n",
       "      <td>0</td>\n",
       "      <td>4384</td>\n",
       "      <td>60881201</td>\n",
       "      <td>1</td>\n",
       "      <td>2018</td>\n",
       "      <td>7.256436</td>\n",
       "      <td>43.72625</td>\n",
       "      <td>0</td>\n",
       "      <td>0</td>\n",
       "      <td>0</td>\n",
       "      <td>...</td>\n",
       "      <td>0</td>\n",
       "      <td>0</td>\n",
       "      <td>0</td>\n",
       "      <td>0.0</td>\n",
       "      <td>1.0</td>\n",
       "      <td>0.0</td>\n",
       "      <td>Banque, Caisse d'épargne</td>\n",
       "      <td>Services a</td>\n",
       "      <td>86.91</td>\n",
       "      <td>oui</td>\n",
       "    </tr>\n",
       "  </tbody>\n",
       "</table>\n",
       "<p>1 rows × 26 columns</p>\n",
       "</div>"
      ],
      "text/plain": [
       "   Unnamed: 0  Unnamed: 0.1      iris  iris_with_t1    AN  longitude  \\\n",
       "0           0          4384  60881201             1  2018   7.256436   \n",
       "\n",
       "   latitude  ('LAB', 'is_sport')  ('LAB', 'is_leasure')  \\\n",
       "0  43.72625                    0                      0   \n",
       "\n",
       "   ('LAB', 'is_medical')  ...  ('LAB', 'is_high_educ')  ('LAB', 'is_schools')  \\\n",
       "0                      0  ...                        0                      0   \n",
       "\n",
       "   ('LAB', 'is_transport')  Q_XY_acceptable  Q_XY_bonne  Q_XY_mauvaise  \\\n",
       "0                        0              0.0         1.0            0.0   \n",
       "\n",
       "                        LAB      CLASSE  distance tram t1  proche tram t1  \n",
       "0  Banque, Caisse d'épargne  Services a             86.91             oui  \n",
       "\n",
       "[1 rows x 26 columns]"
      ]
     },
     "execution_count": 26,
     "metadata": {},
     "output_type": "execute_result"
    }
   ],
   "source": [
    "import pandas as pd\n",
    "df=pd.read_csv(\"gs://trampact_storage/data/BPE_T1_v1.csv\")\n",
    "df.head(1)"
   ]
  },
  {
   "cell_type": "code",
   "execution_count": 11,
   "id": "48b207be",
   "metadata": {},
   "outputs": [
    {
     "name": "stdout",
     "output_type": "stream",
     "text": [
      "False\n"
     ]
    }
   ],
   "source": [
    "point = Point(45.829124, 5.102229)\n",
    "polygon = Polygon([(0, 0), (0, 1), (1, 1), (1, 0)])\n",
    "print(polygon.contains(point))"
   ]
  },
  {
   "cell_type": "code",
   "execution_count": 31,
   "id": "82f736e1",
   "metadata": {},
   "outputs": [],
   "source": [
    "bucket_name = 'trampact_storage'\n",
    "path = 'data/iris_geo'\n",
    "    \n",
    "    \n",
    "class Iris():\n",
    "    \n",
    "    \n",
    "    def __init__(self):\n",
    "        self.get_files(bucket_name, path)\n",
    "        self.get_records()\n",
    "        self.get_iris_id()\n",
    "    \n",
    "    def get_files(self,bucket_name, path):\n",
    "        #client = storage.Client().bucket('trampact_storage')\n",
    "\n",
    "        #path_dbf = \"gs://{}/{}/{}\".format(bucket_name, path,'IRIS_GEO_2018_FRTOT.dbf')\n",
    "        #path_shp = 'gs://{}/{}/{}'.format(bucket_name, path,'IRIS_GEO_2018_FRTOT.shp')\n",
    "        path_dbf = 'gs://{}/{}/{}'.format(bucket_name, path,'IRIS_GEO_2018_FRTOT.dbf')\n",
    "        path_shp = 'gs://{}/{}/{}'.format(bucket_name, path,'IRIS_GEO_2018_FRTOT.shp')\n",
    "        #path_dbf ='../raw_data/iris_geo/IRIS_GEO_2018_FRTOT.dbf'\n",
    "        #path_shp ='../raw_data/iris_geo/IRIS_GEO_2018_FRTOT.shp'\n",
    "\n",
    "        self.dbf=DBF(path_dbf)\n",
    "        self.shp = sp.Reader(path_shp)\n",
    "        \n",
    "    def get_records(self):\n",
    "        records = []\n",
    "        for record in self.dbf:\n",
    "            records.append(dict(record))\n",
    "        self.records = records\n",
    "\n",
    "    def get_iris_id(self):\n",
    "        iris_id = []\n",
    "        for i in range(len(self.records)):\n",
    "            r = self.records[i]['CODE_IRIS']\n",
    "            iris_id.append(r)\n",
    "        self.iris_id = iris_id\n",
    "\n",
    "    def get_box_coord(self, iris_id):\n",
    "        shapes = self.shp.shapes()\n",
    "        box_coord = {}\n",
    "        for i in range(len(shapes)):\n",
    "            box_coord[self.iris_id[i]] = shapes[i].bbox\n",
    "        return box_coord[str(iris_id)]\n",
    "\n",
    "    def get_poly_coord(self, iris_id):\n",
    "        shapes = self.shp.shapes()\n",
    "        poly_coord = {}\n",
    "        for i in range(len(shapes)):\n",
    "            poly_coord[self.iris_id[i]] = shapes[i].__geo_interface__['coordinates'][0]\n",
    "        return poly_coord[str(iris_id)]"
   ]
  },
  {
   "cell_type": "code",
   "execution_count": null,
   "id": "4e5707ef",
   "metadata": {},
   "outputs": [],
   "source": []
  }
 ],
 "metadata": {
  "kernelspec": {
   "display_name": "Python 3",
   "language": "python",
   "name": "python3"
  },
  "language_info": {
   "codemirror_mode": {
    "name": "ipython",
    "version": 3
   },
   "file_extension": ".py",
   "mimetype": "text/x-python",
   "name": "python",
   "nbconvert_exporter": "python",
   "pygments_lexer": "ipython3",
   "version": "3.8.6"
  },
  "toc": {
   "base_numbering": 1,
   "nav_menu": {},
   "number_sections": true,
   "sideBar": true,
   "skip_h1_title": false,
   "title_cell": "Table of Contents",
   "title_sidebar": "Contents",
   "toc_cell": false,
   "toc_position": {},
   "toc_section_display": true,
   "toc_window_display": false
  }
 },
 "nbformat": 4,
 "nbformat_minor": 5
}
