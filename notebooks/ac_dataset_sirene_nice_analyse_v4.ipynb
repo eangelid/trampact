{
 "cells": [
  {
   "cell_type": "markdown",
   "id": "608e5a1c",
   "metadata": {},
   "source": [
    "# Analyse data based \"sirene_nice\""
   ]
  },
  {
   "cell_type": "code",
   "execution_count": 68,
   "id": "51361cb6",
   "metadata": {},
   "outputs": [
    {
     "name": "stdout",
     "output_type": "stream",
     "text": [
      "The autoreload extension is already loaded. To reload it, use:\n",
      "  %reload_ext autoreload\n"
     ]
    }
   ],
   "source": [
    "%load_ext autoreload\n",
    "%autoreload 2"
   ]
  },
  {
   "cell_type": "code",
   "execution_count": 69,
   "id": "43535e26",
   "metadata": {},
   "outputs": [],
   "source": [
    "from trampact.analyse_ml_sirene import Machine_learning_sirene\n",
    "import pandas as pd\n",
    "import numpy as np"
   ]
  },
  {
   "cell_type": "markdown",
   "id": "fee72ca2",
   "metadata": {},
   "source": [
    "# import data clean"
   ]
  },
  {
   "cell_type": "code",
   "execution_count": 70,
   "id": "1d5e3165",
   "metadata": {
    "scrolled": true
   },
   "outputs": [
    {
     "name": "stderr",
     "output_type": "stream",
     "text": [
      "/home/lewagon/.pyenv/versions/3.8.6/envs/trampact/lib/python3.8/site-packages/IPython/core/interactiveshell.py:3361: DtypeWarning: Columns (1,81) have mixed types.Specify dtype option on import or set low_memory=False.\n",
      "  if (await self.run_code(code, result,  async_=asy)):\n"
     ]
    }
   ],
   "source": [
    "entreprise_df=Machine_learning_sirene.get_data_clean()"
   ]
  },
  {
   "cell_type": "code",
   "execution_count": 71,
   "id": "2b7bc384",
   "metadata": {},
   "outputs": [
    {
     "data": {
      "text/html": [
       "<div>\n",
       "<style scoped>\n",
       "    .dataframe tbody tr th:only-of-type {\n",
       "        vertical-align: middle;\n",
       "    }\n",
       "\n",
       "    .dataframe tbody tr th {\n",
       "        vertical-align: top;\n",
       "    }\n",
       "\n",
       "    .dataframe thead th {\n",
       "        text-align: right;\n",
       "    }\n",
       "</style>\n",
       "<table border=\"1\" class=\"dataframe\">\n",
       "  <thead>\n",
       "    <tr style=\"text-align: right;\">\n",
       "      <th></th>\n",
       "      <th>Unnamed: 0</th>\n",
       "      <th>SIREN</th>\n",
       "      <th>NIC</th>\n",
       "      <th>siret</th>\n",
       "      <th>Statut de diffusion de l'établissement</th>\n",
       "      <th>Date de création de l'établissement</th>\n",
       "      <th>effectifs</th>\n",
       "      <th>Année de la tranche d'effectif de l'établissement</th>\n",
       "      <th>Activité principale de l'établissement</th>\n",
       "      <th>Date de la dernière mise à jour de l'établissement</th>\n",
       "      <th>...</th>\n",
       "      <th>Classe de l'unité légale</th>\n",
       "      <th>SIRET du siège de l'unité légale</th>\n",
       "      <th>Nature juridique de l'unité légale</th>\n",
       "      <th>Première ligne de l'adressage</th>\n",
       "      <th>Date de fermeture de l'unité légale</th>\n",
       "      <th>Filename</th>\n",
       "      <th>y</th>\n",
       "      <th>x</th>\n",
       "      <th>distance tram t1</th>\n",
       "      <th>proche t1</th>\n",
       "    </tr>\n",
       "  </thead>\n",
       "  <tbody>\n",
       "    <tr>\n",
       "      <th>0</th>\n",
       "      <td>0</td>\n",
       "      <td>337723027</td>\n",
       "      <td>13</td>\n",
       "      <td>33772302700013</td>\n",
       "      <td>O</td>\n",
       "      <td>1944-08-28</td>\n",
       "      <td>1</td>\n",
       "      <td></td>\n",
       "      <td>67.04</td>\n",
       "      <td>1944-08-28</td>\n",
       "      <td>...</td>\n",
       "      <td>Debits de boissons (sans spectacle)</td>\n",
       "      <td>33772302700013</td>\n",
       "      <td>Entrepreneur individuel</td>\n",
       "      <td>Monsieur MAX CHARASSE</td>\n",
       "      <td>1988-09-20</td>\n",
       "      <td>sirene_v3_42</td>\n",
       "      <td>43.700752</td>\n",
       "      <td>7.274309</td>\n",
       "      <td>286.18</td>\n",
       "      <td>oui</td>\n",
       "    </tr>\n",
       "    <tr>\n",
       "      <th>1</th>\n",
       "      <td>1</td>\n",
       "      <td>353509078</td>\n",
       "      <td>13</td>\n",
       "      <td>35350907800013</td>\n",
       "      <td>O</td>\n",
       "      <td>1990-01-15</td>\n",
       "      <td>1</td>\n",
       "      <td></td>\n",
       "      <td>70.2C</td>\n",
       "      <td>1944-08-28</td>\n",
       "      <td>...</td>\n",
       "      <td>Commerce de gros de fruits et legumes</td>\n",
       "      <td>35350907800013</td>\n",
       "      <td>Société à responsabilité limitée (sans autre i...</td>\n",
       "      <td>BANAFRUIT</td>\n",
       "      <td>1944-08-28</td>\n",
       "      <td>sirene_v3_61</td>\n",
       "      <td>43.668033</td>\n",
       "      <td>7.208477</td>\n",
       "      <td>6538.89</td>\n",
       "      <td>non</td>\n",
       "    </tr>\n",
       "  </tbody>\n",
       "</table>\n",
       "<p>2 rows × 112 columns</p>\n",
       "</div>"
      ],
      "text/plain": [
       "   Unnamed: 0      SIREN  NIC           siret  \\\n",
       "0           0  337723027   13  33772302700013   \n",
       "1           1  353509078   13  35350907800013   \n",
       "\n",
       "  Statut de diffusion de l'établissement Date de création de l'établissement  \\\n",
       "0                                      O                          1944-08-28   \n",
       "1                                      O                          1990-01-15   \n",
       "\n",
       "   effectifs Année de la tranche d'effectif de l'établissement  \\\n",
       "0          1                                                     \n",
       "1          1                                                     \n",
       "\n",
       "  Activité principale de l'établissement  \\\n",
       "0                                  67.04   \n",
       "1                                  70.2C   \n",
       "\n",
       "  Date de la dernière mise à jour de l'établissement  ...  \\\n",
       "0                                         1944-08-28  ...   \n",
       "1                                         1944-08-28  ...   \n",
       "\n",
       "                Classe de l'unité légale  SIRET du siège de l'unité légale  \\\n",
       "0    Debits de boissons (sans spectacle)                    33772302700013   \n",
       "1  Commerce de gros de fruits et legumes                    35350907800013   \n",
       "\n",
       "                  Nature juridique de l'unité légale  \\\n",
       "0                            Entrepreneur individuel   \n",
       "1  Société à responsabilité limitée (sans autre i...   \n",
       "\n",
       "  Première ligne de l'adressage Date de fermeture de l'unité légale  \\\n",
       "0         Monsieur MAX CHARASSE                          1988-09-20   \n",
       "1                     BANAFRUIT                          1944-08-28   \n",
       "\n",
       "       Filename          y         x distance tram t1 proche t1  \n",
       "0  sirene_v3_42  43.700752  7.274309           286.18       oui  \n",
       "1  sirene_v3_61  43.668033  7.208477          6538.89       non  \n",
       "\n",
       "[2 rows x 112 columns]"
      ]
     },
     "execution_count": 71,
     "metadata": {},
     "output_type": "execute_result"
    }
   ],
   "source": [
    "entreprise_df.head(2)"
   ]
  },
  {
   "cell_type": "code",
   "execution_count": 5,
   "id": "9c7c1474",
   "metadata": {},
   "outputs": [],
   "source": [
    "# entreprise_df.dtypes.head(30)"
   ]
  },
  {
   "cell_type": "code",
   "execution_count": null,
   "id": "ff8f728f",
   "metadata": {},
   "outputs": [],
   "source": []
  },
  {
   "cell_type": "code",
   "execution_count": null,
   "id": "f0395d92",
   "metadata": {},
   "outputs": [],
   "source": []
  },
  {
   "cell_type": "markdown",
   "id": "a56d6faa",
   "metadata": {},
   "source": [
    "# Année 2005==>2007"
   ]
  },
  {
   "cell_type": "code",
   "execution_count": 6,
   "id": "11144bd4",
   "metadata": {},
   "outputs": [],
   "source": [
    "#liste feature pour l'encodage\n",
    "feature_ml=[\n",
    "            \"Date de création de l'unité légale\",\n",
    "            \"effectifs\",\n",
    "            \"Classe de l'établissement\",\n",
    "            #\"Nature juridique de l'unité légale\",\n",
    "            \"proche t1\"\n",
    "            ]\n",
    "\n"
   ]
  },
  {
   "cell_type": "markdown",
   "id": "6e133aec",
   "metadata": {},
   "source": [
    "## Onehot encoder"
   ]
  },
  {
   "cell_type": "code",
   "execution_count": null,
   "id": "15bbc95f",
   "metadata": {},
   "outputs": [],
   "source": []
  },
  {
   "cell_type": "code",
   "execution_count": 7,
   "id": "f29d9ca3",
   "metadata": {
    "scrolled": true
   },
   "outputs": [
    {
     "name": "stderr",
     "output_type": "stream",
     "text": [
      "/home/lewagon/.pyenv/versions/3.8.6/envs/trampact/lib/python3.8/site-packages/IPython/core/interactiveshell.py:3441: DtypeWarning: Columns (1,81) have mixed types.Specify dtype option on import or set low_memory=False.\n",
      "  exec(code_obj, self.user_global_ns, self.user_ns)\n",
      "/home/lewagon/code/eangelid/trampact/trampact/analyse_ml_sirene.py:73: SettingWithCopyWarning: \n",
      "A value is trying to be set on a copy of a slice from a DataFrame.\n",
      "Try using .loc[row_indexer,col_indexer] = value instead\n",
      "\n",
      "See the caveats in the documentation: https://pandas.pydata.org/pandas-docs/stable/user_guide/indexing.html#returning-a-view-versus-a-copy\n",
      "  entreprise_ml_df[\"Date de création de l'unité légale\"]=\\\n"
     ]
    }
   ],
   "source": [
    "#y=\"proche t1\"\n",
    "#X=le reste\n",
    "y_encoder, X_encoder, list_y_encoder, list_X_encoder=Machine_learning_sirene.encoder_feature(feature_ml,\\\n",
    "                                                                                             filtre_date=True,\\\n",
    "                                                                                             date_debut=2005,date_end=2007)\n"
   ]
  },
  {
   "cell_type": "code",
   "execution_count": null,
   "id": "f9434bf7",
   "metadata": {},
   "outputs": [],
   "source": []
  },
  {
   "cell_type": "code",
   "execution_count": null,
   "id": "96bbf7b9",
   "metadata": {},
   "outputs": [],
   "source": []
  },
  {
   "cell_type": "markdown",
   "id": "4e991da3",
   "metadata": {},
   "source": [
    "### Encoder X"
   ]
  },
  {
   "cell_type": "code",
   "execution_count": null,
   "id": "431583fd",
   "metadata": {},
   "outputs": [],
   "source": []
  },
  {
   "cell_type": "code",
   "execution_count": 8,
   "id": "a3d38278",
   "metadata": {},
   "outputs": [
    {
     "data": {
      "text/plain": [
       "array([[1., 0., 0., ..., 0., 0., 0.],\n",
       "       [1., 0., 0., ..., 0., 0., 0.],\n",
       "       [1., 0., 0., ..., 0., 0., 0.],\n",
       "       ...,\n",
       "       [0., 1., 0., ..., 0., 0., 0.],\n",
       "       [1., 0., 0., ..., 0., 0., 0.],\n",
       "       [1., 0., 0., ..., 0., 0., 0.]])"
      ]
     },
     "execution_count": 8,
     "metadata": {},
     "output_type": "execute_result"
    }
   ],
   "source": [
    "X_encoder"
   ]
  },
  {
   "cell_type": "code",
   "execution_count": 9,
   "id": "f970548d",
   "metadata": {},
   "outputs": [
    {
     "data": {
      "text/plain": [
       "(19040, 562)"
      ]
     },
     "execution_count": 9,
     "metadata": {},
     "output_type": "execute_result"
    }
   ],
   "source": [
    "X_encoder.shape"
   ]
  },
  {
   "cell_type": "code",
   "execution_count": 10,
   "id": "778b3780",
   "metadata": {
    "scrolled": true
   },
   "outputs": [
    {
     "data": {
      "text/plain": [
       "[1,\n",
       " 2,\n",
       " 4,\n",
       " 8,\n",
       " 15,\n",
       " 35,\n",
       " 75,\n",
       " 150,\n",
       " 225,\n",
       " 375,\n",
       " 750,\n",
       " 'Accueil de jeunes enfants',\n",
       " 'Accueil des personnes agees',\n",
       " 'Action sociale sans hebergement n.c.a.',\n",
       " 'Activite des economistes de la construction',\n",
       " 'Activite des geometres',\n",
       " 'Activite des medecins generalistes',\n",
       " 'Activites artistiques',\n",
       " 'Activites chirurgicales',\n",
       " 'Activites combinees de soutien lie aux batiments',\n",
       " 'Activites comptables',\n",
       " \"Activites d'architecture\",\n",
       " \"Activites d'enquete\",\n",
       " \"Activites de centres d'appels\",\n",
       " 'Activites de clubs de sports',\n",
       " 'Activites de conditionnement',\n",
       " 'Activites de nettoyage',\n",
       " 'Activites de pre-presse',\n",
       " 'Activites de radio',\n",
       " 'Activites de radiodiagnostic et de radiotherapie',\n",
       " 'Activites de sante humaine non classees ailleurs',\n",
       " 'Activites de securite privee',\n",
       " \"Activites de soutien a l'enseignement\",\n",
       " 'Activites de soutien a la production animale',\n",
       " 'Activites de soutien au spectacle vivant',\n",
       " 'Activites de soutien aux cultures',\n",
       " \"Activites des agences de placement de main-d'œuvre\",\n",
       " 'Activites des agences de presse',\n",
       " 'Activites des agences de publicite',\n",
       " \"Activites des agences de recouvrement de factures et des societes d'information financiere sur la clientele\",\n",
       " 'Activites des agences de travail temporaire',\n",
       " 'Activites des agences de voyage',\n",
       " \"Activites des agents et courtiers d'assurances\",\n",
       " 'Activites des auxiliaires medicaux',\n",
       " 'Activites des centres de culture physique',\n",
       " 'Activites des infirmiers et des sages-femmes',\n",
       " 'Activites des marchands de biens immobiliers',\n",
       " 'Activites des organisations et organismes extraterritoriaux',\n",
       " 'Activites des organisations patronales et consulaires',\n",
       " 'Activites des organisations professionnelles',\n",
       " 'Activites des organisations religieuses',\n",
       " \"Activites des parcs d'attractions et parcs a themes\",\n",
       " \"Activites des professionnels de la reeducation, de l'appareillage et des pedicures-podologues\",\n",
       " 'Activites des sieges sociaux',\n",
       " 'Activites des societes holding',\n",
       " 'Activites des syndicats de salaries',\n",
       " 'Activites des voyagistes',\n",
       " 'Activites generales de securite sociale',\n",
       " 'Activites hospitalieres',\n",
       " 'Activites juridiques',\n",
       " 'Activites liees aux systemes de securite',\n",
       " 'Activites photographiques',\n",
       " 'Activites specialisees de design',\n",
       " 'Activites specialisees, scientifiques et techniques diverses',\n",
       " 'Activites veterinaires',\n",
       " \"Administration d'autres biens immobiliers\",\n",
       " \"Administration d'entreprises\",\n",
       " \"Administration d'immeubles et autres biens immobiliers\",\n",
       " \"Administration d'immeubles residentiels\",\n",
       " 'Administration de marches financiers',\n",
       " 'Administration publique (tutelle) de la sante, de la formation, de la culture et des services sociaux, autre que securite sociale',\n",
       " 'Administration publique (tutelle) des activites economiques',\n",
       " 'Affretement et organisation des transports',\n",
       " 'Agencement de lieux de vente',\n",
       " 'Agences de presse',\n",
       " 'Agences de voyage',\n",
       " 'Agences immobilieres',\n",
       " 'Agences, conseil en publicite',\n",
       " 'Aide a domicile',\n",
       " 'Ambulances',\n",
       " 'Analyses, essais et inspections techniques',\n",
       " 'Arts du spectacle vivant',\n",
       " 'Assurance dommages',\n",
       " 'Assurance vie',\n",
       " \"Autre accueil ou accompagnement sans hebergement d'enfants et d'adolescents\",\n",
       " 'Autre creation artistique',\n",
       " 'Autre distribution de credit',\n",
       " 'Autre imprimerie (labeur)',\n",
       " 'Autre mise a disposition de ressources humaines',\n",
       " \"Autres activites auxiliaires d'assurance et de caisses de retraite\",\n",
       " 'Autres activites auxiliaires de services financiers, hors assurance et caisses de retraite, n.c.a.',\n",
       " \"Autres activites d'edition\",\n",
       " 'Autres activites de courrier',\n",
       " 'Autres activites de nettoyage des batiments et nettoyage industriel',\n",
       " 'Autres activites de nettoyage n.c.a.',\n",
       " 'Autres activites de poste et de courrier',\n",
       " 'Autres activites de soutien aux entreprises n.c.a.',\n",
       " 'Autres activites de telecommunication',\n",
       " 'Autres activites des medecins specialistes',\n",
       " 'Autres activites des services financiers, hors assurance et caisses de retraite, n.c.a.',\n",
       " 'Autres activites du travail des grains',\n",
       " 'Autres activites graphiques',\n",
       " 'Autres activites informatiques',\n",
       " 'Autres activites liees au sport',\n",
       " 'Autres activites manufacturieres n.c.a.',\n",
       " 'Autres activites recreatives',\n",
       " 'Autres activites recreatives et de loisirs',\n",
       " 'Autres activites sportives',\n",
       " 'Autres assurances',\n",
       " 'Autres auxiliaires financiers',\n",
       " 'Autres commerces de detail alimentaires en magasin specialise',\n",
       " 'Autres commerces de detail en magasin non specialise',\n",
       " 'Autres commerces de detail specialises divers',\n",
       " 'Autres commerces de detail sur eventaires et marches',\n",
       " 'Autres commerces de gros de biens de consommation',\n",
       " 'Autres cultures non permanentes',\n",
       " 'Autres enseignements',\n",
       " \"Autres formes d'action sociale\",\n",
       " 'Autres hebergements',\n",
       " 'Autres intermediaires du commerce en combustibles, metaux, mineraux et produits chimiques',\n",
       " 'Autres intermediaires du commerce en denrees, boissons et tabac',\n",
       " 'Autres intermediaires du commerce en produits divers',\n",
       " 'Autres intermediaires specialises du commerce',\n",
       " 'Autres intermediations monetaires',\n",
       " 'Autres organisations fonctionnant par adhesion volontaire',\n",
       " \"Autres services d'information n.c.a.\",\n",
       " 'Autres services de reservation et activites connexes',\n",
       " 'Autres services de restauration n.c.a.',\n",
       " 'Autres services personnels',\n",
       " 'Autres services personnels n.c.a.',\n",
       " 'Autres soins corporels',\n",
       " 'Autres transports routiers de voyageurs',\n",
       " \"Autres travaux d'installation\",\n",
       " \"Autres travaux d'installation n.c.a.\",\n",
       " 'Autres travaux de finition',\n",
       " 'Autres travaux specialises de construction',\n",
       " \"Auxiliaires d'assurance\",\n",
       " 'Blanchisserie - teinturerie de detail',\n",
       " 'Blanchisserie-teinturerie de detail',\n",
       " 'Blanchisserie-teinturerie de gros',\n",
       " 'Boulangerie et boulangerie-patisserie',\n",
       " 'Cafes tabacs',\n",
       " 'Cafeterias et autres libres-services',\n",
       " \"Centrales d'achat non alimentaires\",\n",
       " 'Charcuterie',\n",
       " 'Coiffure',\n",
       " 'Collecte des dechets dangereux',\n",
       " 'Collecte des dechets non dangereux',\n",
       " 'Collecte et traitement des eaux usees',\n",
       " \"Commerce d'alimentation generale\",\n",
       " \"Commerce d'autres vehicules automobiles\",\n",
       " 'Commerce de detail alimentaire sur eventaires et marches',\n",
       " \"Commerce de detail d'appareils electromenagers en magasin specialise\",\n",
       " \"Commerce de detail d'appareils electromenagers et de radio television\",\n",
       " \"Commerce de detail d'articles d'horlogerie et de bijouterie en magasin specialise\",\n",
       " \"Commerce de detail d'articles de sport en magasin specialise\",\n",
       " \"Commerce de detail d'articles de sport et de loisir\",\n",
       " \"Commerce de detail d'articles medicaux et orthopediques\",\n",
       " \"Commerce de detail d'articles medicaux et orthopediques en magasin specialise\",\n",
       " \"Commerce de detail d'autres equipements du foyer\",\n",
       " \"Commerce de detail d'enregistrements musicaux et video en magasin specialise\",\n",
       " \"Commerce de detail d'equipement du foyer\",\n",
       " \"Commerce de detail d'equipements automobiles\",\n",
       " \"Commerce de detail d'habillement\",\n",
       " \"Commerce de detail d'habillement en magasin specialise\",\n",
       " \"Commerce de detail d'ordinateurs, d'unites peripheriques et de logiciels en magasin specialise\",\n",
       " \"Commerce de detail de biens d'occasion\",\n",
       " \"Commerce de detail de biens d'occasion en magasin\",\n",
       " 'Commerce de detail de boissons',\n",
       " 'Commerce de detail de boissons en magasin specialise',\n",
       " 'Commerce de detail de bricolage',\n",
       " 'Commerce de detail de carburants',\n",
       " 'Commerce de detail de carburants en magasin specialise',\n",
       " 'Commerce de detail de fleurs',\n",
       " 'Commerce de detail de fleurs, plantes, graines, engrais, animaux de compagnie et aliments pour ces animaux en magasin specialise',\n",
       " 'Commerce de detail de fruits et legumes',\n",
       " 'Commerce de detail de fruits et legumes en magasin specialise',\n",
       " 'Commerce de detail de jeux et jouets en magasin specialise',\n",
       " 'Commerce de detail de journaux et papeterie en magasin specialise',\n",
       " 'Commerce de detail de la chaussure',\n",
       " 'Commerce de detail de livres en magasin specialise',\n",
       " 'Commerce de detail de livres, journaux et papeterie',\n",
       " \"Commerce de detail de maroquinerie et d'articles de voyage\",\n",
       " 'Commerce de detail de materiels audio et video en magasin specialise',\n",
       " 'Commerce de detail de materiels de telecommunication en magasin specialise',\n",
       " 'Commerce de detail de meubles',\n",
       " 'Commerce de detail de pain, patisserie et confiserie',\n",
       " 'Commerce de detail de pain, patisserie et confiserie en magasin specialise',\n",
       " 'Commerce de detail de parfumerie et de produits de beaute',\n",
       " 'Commerce de detail de parfumerie et de produits de beaute en magasin specialise',\n",
       " 'Commerce de detail de poissons, crustaces et mollusques en magasin specialise',\n",
       " 'Commerce de detail de produits a base de tabac en magasin specialise',\n",
       " 'Commerce de detail de produits laitiers',\n",
       " 'Commerce de detail de produits pharmaceutiques',\n",
       " 'Commerce de detail de produits pharmaceutiques en magasin specialise',\n",
       " 'Commerce de detail de quincaillerie',\n",
       " 'Commerce de detail de quincaillerie, peintures et verres en grandes surfaces (400 m² et plus)',\n",
       " 'Commerce de detail de quincaillerie, peintures et verres en petites surfaces (moins de 400 m²)',\n",
       " 'Commerce de detail de tapis, moquettes et revetements de murs et de sols en magasin specialise',\n",
       " 'Commerce de detail de textiles',\n",
       " 'Commerce de detail de textiles en magasin specialise',\n",
       " \"Commerce de detail de textiles, d'habillement et de chaussures sur eventaires et marches\",\n",
       " 'Commerce de detail de viandes et de produits a base de viande en magasin specialise',\n",
       " 'Commerce de detail de viandes et produits a base de viande',\n",
       " 'Commerce de detail non alimentaire sur eventaires et marches',\n",
       " 'Commerce de gros (commerce interentreprises) alimentaire non specialise',\n",
       " 'Commerce de gros (commerce interentreprises) alimentaire specialise divers',\n",
       " \"Commerce de gros (commerce interentreprises) d'animaux vivants\",\n",
       " \"Commerce de gros (commerce interentreprises) d'appareils electromenagers\",\n",
       " \"Commerce de gros (commerce interentreprises) d'appareils sanitaires et de produits de decoration\",\n",
       " \"Commerce de gros (commerce interentreprises) d'articles d'horlogerie et de bijouterie\",\n",
       " \"Commerce de gros (commerce interentreprises) d'autres biens domestiques\",\n",
       " \"Commerce de gros (commerce interentreprises) d'autres machines et equipements de bureau\",\n",
       " \"Commerce de gros (commerce interentreprises) d'autres produits intermediaires\",\n",
       " \"Commerce de gros (commerce interentreprises) d'habillement et de chaussures\",\n",
       " \"Commerce de gros (commerce interentreprises) d'ordinateurs, d'equipements informatiques peripheriques et de logiciels\",\n",
       " 'Commerce de gros (commerce interentreprises) de bois et de materiaux de construction',\n",
       " 'Commerce de gros (commerce interentreprises) de boissons',\n",
       " 'Commerce de gros (commerce interentreprises) de cafe, the, cacao et epices',\n",
       " 'Commerce de gros (commerce interentreprises) de combustibles et de produits annexes',\n",
       " \"Commerce de gros (commerce interentreprises) de composants et d'equipements electroniques et de telecommunication\",\n",
       " 'Commerce de gros (commerce interentreprises) de fleurs et plantes',\n",
       " 'Commerce de gros (commerce interentreprises) de fournitures et equipements divers pour le commerce et les services',\n",
       " 'Commerce de gros (commerce interentreprises) de fournitures et equipements industriels divers',\n",
       " 'Commerce de gros (commerce interentreprises) de fournitures pour la plomberie et le chauffage',\n",
       " 'Commerce de gros (commerce interentreprises) de fruits et legumes',\n",
       " \"Commerce de gros (commerce interentreprises) de machines pour l'extraction, la construction et le genie civil\",\n",
       " 'Commerce de gros (commerce interentreprises) de materiel electrique',\n",
       " \"Commerce de gros (commerce interentreprises) de meubles, de tapis et d'appareils d'eclairage\",\n",
       " 'Commerce de gros (commerce interentreprises) de minerais et metaux',\n",
       " 'Commerce de gros (commerce interentreprises) de parfumerie et de produits de beaute',\n",
       " 'Commerce de gros (commerce interentreprises) de poissons, crustaces et mollusques',\n",
       " 'Commerce de gros (commerce interentreprises) de produits a base de viande',\n",
       " 'Commerce de gros (commerce interentreprises) de produits chimiques',\n",
       " 'Commerce de gros (commerce interentreprises) de produits laitiers, œufs, huiles et matieres grasses comestibles',\n",
       " 'Commerce de gros (commerce interentreprises) de produits pharmaceutiques',\n",
       " 'Commerce de gros (commerce interentreprises) de quincaillerie',\n",
       " 'Commerce de gros (commerce interentreprises) de sucre, chocolat et confiserie',\n",
       " 'Commerce de gros (commerce interentreprises) de textiles',\n",
       " \"Commerce de gros (commerce interentreprises) de vaisselle, verrerie et produits d'entretien\",\n",
       " 'Commerce de gros (commerce interentreprises) non specialise',\n",
       " 'Commerce de gros alimentaire non specialise',\n",
       " \"Commerce de gros d'equipements automobiles\",\n",
       " \"Commerce de gros d'habillement\",\n",
       " 'Commerce de gros de bois et de produits derives',\n",
       " 'Commerce de gros de boissons',\n",
       " 'Commerce de gros de fleurs et plantes',\n",
       " 'Commerce de gros de fruits et legumes',\n",
       " 'Commerce de gros de parfumerie et de produits de beaute',\n",
       " 'Commerce de gros de quincaillerie',\n",
       " 'Commerce de gros de viandes de boucherie',\n",
       " 'Commerce de vehicules automobiles',\n",
       " 'Commerce de voitures et de vehicules automobiles legers',\n",
       " 'Commerce et reparation de motocycles',\n",
       " 'Commerce gros appareils electromenagers et radiotelevision',\n",
       " 'Commerces de detail alimentaires specialises divers',\n",
       " \"Commerces de detail d'optique\",\n",
       " 'Commerces de detail de charbons et combustibles',\n",
       " 'Commerces de detail divers en magasin specialise',\n",
       " 'Commerces de gros alimentaires specialises divers',\n",
       " 'Composition et photogravure',\n",
       " 'Conseil en relations publiques et communication',\n",
       " 'Conseil en systemes et logiciels informatiques',\n",
       " 'Conseil en systemes informatiques',\n",
       " 'Conseil pour les affaires et autres conseils de gestion',\n",
       " 'Conseil pour les affaires et la gestion',\n",
       " \"Construction d'autres batiments\",\n",
       " \"Construction d'autres ouvrages de genie civil n.c.a.\",\n",
       " 'Construction de bateaux de plaisance',\n",
       " 'Construction de batiments divers',\n",
       " 'Construction de chaussees routieres et de sols sportifs',\n",
       " 'Construction de maisons individuelles',\n",
       " 'Construction de navires et de structures flottantes',\n",
       " 'Construction de reseaux pour fluides',\n",
       " 'Construction de routes et autoroutes',\n",
       " 'Controle technique automobile',\n",
       " 'Courtage de valeurs mobilieres et de marchandises',\n",
       " 'Creation artistique relevant des arts plastiques',\n",
       " \"Creches et garderies d'enfants\",\n",
       " 'Cuisson de produits de boulangerie',\n",
       " 'Culture de cereales ; cultures industrielles',\n",
       " 'Culture de fruits oleagineux',\n",
       " 'Culture de la vigne',\n",
       " 'Culture de legumes ; maraichage',\n",
       " 'Culture de legumes, de melons, de racines et de tubercules',\n",
       " 'Culture et elevage associes',\n",
       " 'Debits de boissons',\n",
       " \"Demantelement d'epaves\",\n",
       " 'Desinfection, desinsectisation, deratisation',\n",
       " 'Distribution de films cinematographiques',\n",
       " \"Edition d'enregistrements sonores\",\n",
       " 'Edition de journaux',\n",
       " 'Edition de livres',\n",
       " 'Edition de logiciels applicatifs',\n",
       " 'Edition de revues et periodiques',\n",
       " 'Edition et diffusion de programmes radio',\n",
       " 'Edition et distribution video',\n",
       " \"Elevage d'autres animaux\",\n",
       " 'Ennoblissement textile',\n",
       " 'Enquetes et securite',\n",
       " 'Enregistrement sonore et edition musicale',\n",
       " 'Enseignement culturel',\n",
       " \"Enseignement de disciplines sportives et d'activites de loisirs\",\n",
       " 'Enseignement de la conduite',\n",
       " 'Enseignement post-secondaire non superieur',\n",
       " 'Enseignement secondaire general',\n",
       " 'Enseignement secondaire technique ou professionnel',\n",
       " 'Enseignement superieur',\n",
       " 'Entreposage et stockage frigorifique',\n",
       " 'Entreposage et stockage non frigorifique',\n",
       " 'Entretien corporel',\n",
       " \"Entretien et reparation d'autres vehicules automobiles\",\n",
       " 'Entretien et reparation de machines de bureau et de materiel informatique',\n",
       " 'Entretien et reparation de vehicules automobiles',\n",
       " 'Entretien et reparation de vehicules automobiles legers',\n",
       " 'Etudes de marche et sondages',\n",
       " 'Evaluation des risques et dommages',\n",
       " \"Extraction de pierres ornementales et de construction, de calcaire industriel, de gypse, de craie et d'ardoise\",\n",
       " 'Fabric. ascenseurs, monte-charges et escaliers mecaniques',\n",
       " \"Fabrication d'appareils medicochirurgicaux\",\n",
       " \"Fabrication d'articles ceramiques a usage domestique ou ornemental\",\n",
       " \"Fabrication d'articles de bijouterie fantaisie et articles similaires\",\n",
       " \"Fabrication d'articles de joaillerie et bijouterie\",\n",
       " \"Fabrication d'articles de voyage, de maroquinerie et de sellerie\",\n",
       " \"Fabrication d'articles textiles, sauf habillement\",\n",
       " \"Fabrication d'autres equipements automobiles\",\n",
       " \"Fabrication d'autres materiels electriques\",\n",
       " \"Fabrication d'autres meubles et industries connexes de l'ameublement\",\n",
       " \"Fabrication d'autres produits ceramiques\",\n",
       " \"Fabrication d'autres vetements et accessoires\",\n",
       " \"Fabrication d'elements en matieres plastiques pour la construction\",\n",
       " \"Fabrication d'equipements aerauliques et frigorifiques industriels\",\n",
       " \"Fabrication d'huiles essentielles\",\n",
       " \"Fabrication d'instrumentation scientifique et technique\",\n",
       " \"Fabrication d'instruments de musique\",\n",
       " \"Fabrication d'objets divers en bois\",\n",
       " \"Fabrication d'objets divers en bois ; fabrication d'objets en liege, vannerie et sparterie\",\n",
       " \"Fabrication de beton pret a l'emploi\",\n",
       " 'Fabrication de cacao, chocolat et de produits de confiserie',\n",
       " 'Fabrication de charpentes et de menuiseries',\n",
       " 'Fabrication de constructions metalliques',\n",
       " 'Fabrication de glaces et sorbets',\n",
       " 'Fabrication de machines agricoles et forestieres',\n",
       " 'Fabrication de materiel de levage et de manutention',\n",
       " 'Fabrication de materiel medico-chirurgical et dentaire',\n",
       " 'Fabrication de materiels optique et photographique',\n",
       " 'Fabrication de matieres plastiques de base',\n",
       " 'Fabrication de menuiseries et fermetures metalliques',\n",
       " 'Fabrication de meubles de cuisine',\n",
       " 'Fabrication de parfums et de produits pour la toilette',\n",
       " 'Fabrication de pates alimentaires',\n",
       " 'Fabrication de plats prepares',\n",
       " 'Fabrication de portes et fenetres en metal',\n",
       " 'Fabrication de preparations pharmaceutiques',\n",
       " 'Fabrication de structures metalliques et de parties de structures',\n",
       " 'Fabrication de vetements de dessous',\n",
       " 'Fabrication de vetements de dessus',\n",
       " 'Fabrication de vetements sur mesure',\n",
       " \"Fabrication et faconnage d'autres articles en verre, y compris verre technique\",\n",
       " 'Faconnage et transformation du verre plat',\n",
       " 'Fonds de placement et entites financieres similaires',\n",
       " 'Forages et sondages',\n",
       " 'Forge, estampage, matricage ; metallurgie des poudres',\n",
       " \"Formation continue d'adultes\",\n",
       " 'Formation des adultes et formation continue',\n",
       " \"Gestion d'installations informatiques\",\n",
       " \"Gestion d'installations sportives\",\n",
       " 'Gestion de fonds',\n",
       " 'Gestion de portefeuilles',\n",
       " 'Gestion de salles de spectacles',\n",
       " 'Gestion de supports de publicite',\n",
       " 'Gestion des sites et monuments historiques et des attractions touristiques similaires',\n",
       " 'Hebergement medicalise pour personnes agees',\n",
       " 'Hebergement social pour adultes et familles en difficultes et autre hebergement social',\n",
       " 'Hebergement social pour enfants en difficultes',\n",
       " 'Hebergement social pour personnes agees',\n",
       " 'Hebergement touristique et autre hebergement de courte duree',\n",
       " 'Hors nomenclature',\n",
       " 'Horticulture ; pepinieres',\n",
       " 'Hotels avec restaurant',\n",
       " 'Hotels de tourisme sans restaurant',\n",
       " 'Hotels et hebergement similaire',\n",
       " 'Hypermarches',\n",
       " \"Industries connexes de l'ameublement\",\n",
       " 'Ingenierie, etudes techniques',\n",
       " \"Installation d'eau et de gaz\",\n",
       " \"Installation d'equipements electriques, de materiels electroniques et optiques ou d'autres materiels\",\n",
       " \"Installation d'equipements thermiques et de climatisation\",\n",
       " 'Installation de machines et equipements mecaniques',\n",
       " 'Installation de structures metalliques, chaudronnees et de tuyauterie',\n",
       " 'Intermediaires du commerce en bois et materiaux de construction',\n",
       " 'Intermediaires du commerce en machines, equipements industriels, navires et avions',\n",
       " 'Intermediaires du commerce en matieres premieres agricoles, animaux vivants, matieres premieres textiles et produits semi-finis',\n",
       " 'Intermediaires du commerce en meubles, articles de menage et quincaillerie',\n",
       " 'Intermediaires du commerce en produits alimentaires',\n",
       " 'Intermediaires du commerce en textiles, habillement, chaussures et articles en cuir',\n",
       " 'Intermediaires du commerce en textiles, habillement, fourrures, chaussures et articles en cuir',\n",
       " 'Intermediaires non specialises du commerce',\n",
       " \"Intermediaires specialises dans le commerce d'autres produits specifiques\",\n",
       " \"Laboratoires d'analyses medicales\",\n",
       " 'Location avec operateur de materiel de construction',\n",
       " \"Location d'appareils de transport aerien\",\n",
       " \"Location d'autres biens immobiliers\",\n",
       " \"Location d'autres biens personnels et domestiques\",\n",
       " \"Location d'autres materiels de transport terrestre\",\n",
       " 'Location de camions avec chauffeur',\n",
       " 'Location de camions avec conducteur',\n",
       " 'Location de courte duree de voitures et de vehicules automobiles legers',\n",
       " 'Location de logements',\n",
       " 'Location de longue duree de voitures et de vehicules automobiles legers',\n",
       " 'Location de machines et equipements divers',\n",
       " 'Location de machines et equipements pour la construction',\n",
       " \"Location de terrains et d'autres biens immobiliers\",\n",
       " 'Location de videocassettes et disques video',\n",
       " \"Location et location-bail d'articles de loisirs et de sport\",\n",
       " \"Location et location-bail d'autres biens personnels et domestiques\",\n",
       " \"Location et location-bail d'autres machines, equipements et biens materiels n.c.a.\",\n",
       " 'Location et location-bail de camions',\n",
       " 'Location et location-bail de machines de bureau et de materiel informatique',\n",
       " 'Location et location-bail de machines et equipements pour la construction',\n",
       " 'Location et location-bail de materiels de transport aerien',\n",
       " \"Location-bail de propriete intellectuelle et de produits similaires, a l'exception des œuvres soumises a copyright\",\n",
       " 'Manutention non portuaire',\n",
       " 'Manutention portuaire',\n",
       " 'Marchands de biens immobiliers',\n",
       " 'Mecanique industrielle',\n",
       " 'Menuiserie bois et matieres plastiques',\n",
       " 'Menuiserie metallique ; serrurerie',\n",
       " 'Messagerie, fret express',\n",
       " 'Nettoyage courant des batiments',\n",
       " 'Organisation de foires et salons',\n",
       " 'Organisation de foires, salons professionnels et congres',\n",
       " \"Organisation de jeux de hasard et d'argent\",\n",
       " 'Organisations associatives n.c.a.',\n",
       " 'Organismes de placement en valeurs mobilieres',\n",
       " 'Patisserie',\n",
       " 'Peche en mer',\n",
       " 'Peinture',\n",
       " 'Photocopie, preparation de documents et autres activites specialisees de soutien de bureau',\n",
       " 'Platrerie',\n",
       " 'Pompes funebres',\n",
       " 'Portails Internet',\n",
       " 'Post-production de films cinematographiques, de video et de programmes de television',\n",
       " 'Pratique dentaire',\n",
       " 'Pratique medicale',\n",
       " 'Preparation industrielle de produits a base de viandes',\n",
       " \"Production d'electricite\",\n",
       " 'Production de films et de programmes pour la television',\n",
       " 'Production de films institutionnels et publicitaires',\n",
       " 'Production de films pour le cinema',\n",
       " \"Production et distribution de vapeur et d'air conditionne\",\n",
       " 'Programmation informatique',\n",
       " 'Projection de films cinematographiques',\n",
       " \"Promotion immobiliere d'autres batiments\",\n",
       " 'Promotion immobiliere de bureaux',\n",
       " 'Promotion immobiliere de logements',\n",
       " 'Realisation de couvertures par elements',\n",
       " 'Realisation et entretien de plantations ornementales',\n",
       " 'Recherche-developpement en autres sciences physiques et naturelles',\n",
       " 'Recherche-developpement en biotechnologie',\n",
       " 'Recherche-developpement en sciences humaines et sociales',\n",
       " 'Recuperation de dechets tries',\n",
       " 'Regie publicitaire de medias',\n",
       " 'Reliure et activites connexes',\n",
       " \"Reparation d'appareils electromenagers et d'equipements pour la maison et le jardin\",\n",
       " \"Reparation d'articles d'horlogerie et de bijouterie\",\n",
       " \"Reparation d'articles personnels et domestiques n.c.a.\",\n",
       " \"Reparation d'autres biens personnels et domestiques\",\n",
       " \"Reparation d'autres equipements\",\n",
       " \"Reparation d'ordinateurs et d'equipements peripheriques\",\n",
       " \"Reparation d'ouvrages en metaux\",\n",
       " \"Reparation de chaussures et d'articles en cuir\",\n",
       " 'Reparation de machines et equipements mecaniques',\n",
       " 'Reparation de materiels electroniques et optiques',\n",
       " \"Reparation de meubles et d'equipements du foyer\",\n",
       " 'Reparation de produits electroniques grand public',\n",
       " 'Reparation et maintenance navale',\n",
       " \"Reproduction d'enregistrements\",\n",
       " \"Reproduction d'enregistrements video\",\n",
       " 'Reproduction de plantes',\n",
       " 'Restauration collective sous contrat',\n",
       " 'Restauration de type rapide',\n",
       " 'Restauration de type traditionnel',\n",
       " 'Restauration traditionnelle',\n",
       " 'Revetement des sols et des murs',\n",
       " 'Secretariat et traduction',\n",
       " 'Selection et mise a disposition de personnel',\n",
       " 'Services administratifs combines de bureau',\n",
       " 'Services aeroportuaires',\n",
       " 'Services annexes a la production',\n",
       " 'Services annexes aux spectacles',\n",
       " 'Services auxiliaires des transports aeriens',\n",
       " 'Services auxiliaires des transports par eau',\n",
       " 'Services auxiliaires des transports terrestres',\n",
       " \"Services d'amenagement paysager\",\n",
       " 'Services de demenagement',\n",
       " \"Services de soutien a l'exploitation forestiere\",\n",
       " 'Services des traiteurs',\n",
       " 'Services forestiers',\n",
       " 'Services funeraires',\n",
       " 'Soins de beaute',\n",
       " \"Soins hors d'un cadre reglemente\",\n",
       " 'Studios et autres activites photographiques',\n",
       " 'Superettes',\n",
       " 'Supermarches',\n",
       " 'Supports juridiques de gestion de patrimoine',\n",
       " 'Supports juridiques de gestion de patrimoine immobilier',\n",
       " 'Supports juridiques de gestion de patrimoine mobilier',\n",
       " 'Supports juridiques de programme',\n",
       " 'Supports juridiques de programmes',\n",
       " 'Taille, faconnage et finissage de pierres',\n",
       " 'Telecommunications filaires',\n",
       " 'Telecommunications par satellite',\n",
       " 'Telecommunications sans fil',\n",
       " 'Terrassements divers, demolition',\n",
       " 'Terrassements en grande masse',\n",
       " \"Tierce maintenance de systemes et d'applications informatiques\",\n",
       " 'Traduction et interpretation',\n",
       " 'Traitement de donnees',\n",
       " 'Traitement de donnees, hebergement et activites connexes',\n",
       " 'Traiteurs, organisation de receptions',\n",
       " 'Transformation du the et du cafe',\n",
       " 'Transformation et conservation de la viande de boucherie',\n",
       " 'Transport de voyageurs par taxis',\n",
       " 'Transports aeriens de passagers',\n",
       " 'Transports de voyageurs par taxis',\n",
       " 'Transports fluviaux',\n",
       " 'Transports maritimes et cotiers de passagers',\n",
       " 'Transports routiers de fret de proximite',\n",
       " 'Transports routiers de fret interurbains',\n",
       " 'Transports routiers de marchandises de proximite',\n",
       " 'Transports routiers reguliers de voyageurs',\n",
       " 'Transports urbains et suburbains de voyageurs',\n",
       " 'Travail temporaire',\n",
       " \"Travaux d'etancheification\",\n",
       " \"Travaux d'installation d'eau et de gaz en tous locaux\",\n",
       " \"Travaux d'installation d'equipements thermiques et de climatisation\",\n",
       " \"Travaux d'installation electrique\",\n",
       " \"Travaux d'installation electrique dans tous locaux\",\n",
       " \"Travaux d'isolation\",\n",
       " 'Travaux de charpente',\n",
       " 'Travaux de couverture par elements',\n",
       " 'Travaux de demolition',\n",
       " 'Travaux de finition n.c.a.',\n",
       " 'Travaux de maconnerie generale',\n",
       " 'Travaux de maconnerie generale et gros œuvre de batiment',\n",
       " 'Travaux de menuiserie bois et PVC',\n",
       " 'Travaux de menuiserie metallique et serrurerie',\n",
       " 'Travaux de montage de structures metalliques',\n",
       " 'Travaux de peinture et vitrerie',\n",
       " 'Travaux de platrerie',\n",
       " 'Travaux de revetement des sols et des murs',\n",
       " 'Travaux de terrassement courants et travaux preparatoires',\n",
       " 'Travaux de terrassement specialises ou de grande masse',\n",
       " 'Travaux maritimes et fluviaux',\n",
       " 'Vente a distance sur catalogue general',\n",
       " 'Vente a distance sur catalogue specialise',\n",
       " 'Vente a domicile',\n",
       " 'Vente par automates et autres commerces de detail hors magasin, eventaires ou marches n.c.a.',\n",
       " 'Vente par correspondance specialisee',\n",
       " 'Vente par correspondance sur catalogue general',\n",
       " 'Viticulture']"
      ]
     },
     "execution_count": 10,
     "metadata": {},
     "output_type": "execute_result"
    }
   ],
   "source": [
    "list_X_encoder"
   ]
  },
  {
   "cell_type": "code",
   "execution_count": 11,
   "id": "aba4fb4f",
   "metadata": {},
   "outputs": [
    {
     "data": {
      "text/plain": [
       "562"
      ]
     },
     "execution_count": 11,
     "metadata": {},
     "output_type": "execute_result"
    }
   ],
   "source": [
    "len(list_X_encoder)"
   ]
  },
  {
   "cell_type": "code",
   "execution_count": null,
   "id": "b85fee82",
   "metadata": {},
   "outputs": [],
   "source": []
  },
  {
   "cell_type": "markdown",
   "id": "bfd5d8dd",
   "metadata": {},
   "source": [
    "### Encoder y"
   ]
  },
  {
   "cell_type": "code",
   "execution_count": null,
   "id": "5add73a9",
   "metadata": {},
   "outputs": [],
   "source": []
  },
  {
   "cell_type": "code",
   "execution_count": 12,
   "id": "8862edda",
   "metadata": {},
   "outputs": [
    {
     "data": {
      "text/plain": [
       "array([[1.],\n",
       "       [0.],\n",
       "       [1.],\n",
       "       ...,\n",
       "       [0.],\n",
       "       [0.],\n",
       "       [1.]])"
      ]
     },
     "execution_count": 12,
     "metadata": {},
     "output_type": "execute_result"
    }
   ],
   "source": [
    "y_encoder"
   ]
  },
  {
   "cell_type": "code",
   "execution_count": 13,
   "id": "502358ff",
   "metadata": {},
   "outputs": [
    {
     "data": {
      "text/plain": [
       "['non', 'oui']"
      ]
     },
     "execution_count": 13,
     "metadata": {},
     "output_type": "execute_result"
    }
   ],
   "source": [
    " list_y_encoder"
   ]
  },
  {
   "cell_type": "markdown",
   "id": "afa731ed",
   "metadata": {},
   "source": [
    "## Model baseline"
   ]
  },
  {
   "cell_type": "code",
   "execution_count": 14,
   "id": "21f331a5",
   "metadata": {},
   "outputs": [
    {
     "data": {
      "text/plain": [
       "0.0    10679\n",
       "1.0     8361\n",
       "dtype: int64"
      ]
     },
     "execution_count": 14,
     "metadata": {},
     "output_type": "execute_result"
    }
   ],
   "source": [
    "valeur_proche_t1=pd.DataFrame(y_encoder).value_counts()\n",
    "valeur_proche_t1"
   ]
  },
  {
   "cell_type": "code",
   "execution_count": 15,
   "id": "0d292f46",
   "metadata": {},
   "outputs": [
    {
     "data": {
      "text/plain": [
       "0.4391281512605042"
      ]
     },
     "execution_count": 15,
     "metadata": {},
     "output_type": "execute_result"
    }
   ],
   "source": [
    "Model_baseline=valeur_proche_t1[1]/(valeur_proche_t1[0]+valeur_proche_t1[1])\n",
    "Model_baseline"
   ]
  },
  {
   "cell_type": "markdown",
   "id": "d52a8597",
   "metadata": {},
   "source": [
    "## Logistic regression"
   ]
  },
  {
   "cell_type": "code",
   "execution_count": null,
   "id": "be1c1071",
   "metadata": {},
   "outputs": [],
   "source": []
  },
  {
   "cell_type": "code",
   "execution_count": 61,
   "id": "9b5748a6",
   "metadata": {},
   "outputs": [],
   "source": [
    "from sklearn.model_selection import train_test_split\n",
    "X_train, X_test, y_train, y_test = train_test_split(\n",
    "                    X_encoder, y_encoder, test_size=0.3)"
   ]
  },
  {
   "cell_type": "code",
   "execution_count": null,
   "id": "8b23e4d0",
   "metadata": {},
   "outputs": [],
   "source": []
  },
  {
   "cell_type": "code",
   "execution_count": 62,
   "id": "9295d5f7",
   "metadata": {
    "scrolled": true
   },
   "outputs": [
    {
     "name": "stderr",
     "output_type": "stream",
     "text": [
      "/home/lewagon/.pyenv/versions/3.8.6/envs/trampact/lib/python3.8/site-packages/sklearn/utils/validation.py:63: DataConversionWarning: A column-vector y was passed when a 1d array was expected. Please change the shape of y to (n_samples, ), for example using ravel().\n",
      "  return f(*args, **kwargs)\n",
      "/home/lewagon/.pyenv/versions/3.8.6/envs/trampact/lib/python3.8/site-packages/sklearn/linear_model/_logistic.py:763: ConvergenceWarning: lbfgs failed to converge (status=1):\n",
      "STOP: TOTAL NO. of ITERATIONS REACHED LIMIT.\n",
      "\n",
      "Increase the number of iterations (max_iter) or scale the data as shown in:\n",
      "    https://scikit-learn.org/stable/modules/preprocessing.html\n",
      "Please also refer to the documentation for alternative solver options:\n",
      "    https://scikit-learn.org/stable/modules/linear_model.html#logistic-regression\n",
      "  n_iter_i = _check_optimize_result(\n"
     ]
    },
    {
     "data": {
      "text/plain": [
       "LogisticRegression()"
      ]
     },
     "execution_count": 62,
     "metadata": {},
     "output_type": "execute_result"
    }
   ],
   "source": [
    "from sklearn.linear_model import LogisticRegression\n",
    "# Instanciate the model\n",
    "model = LogisticRegression()\n",
    "# # Train the model on the Training data\n",
    "model.fit(X_train, y_train)"
   ]
  },
  {
   "cell_type": "code",
   "execution_count": 63,
   "id": "e12da37f",
   "metadata": {
    "scrolled": true
   },
   "outputs": [
    {
     "data": {
      "text/plain": [
       "array([[ 1.89787778e-01,  3.67712806e-01,  4.16754058e-01,\n",
       "         6.36228848e-01,  1.08639857e-01, -6.78041382e-02,\n",
       "        -9.39248851e-01, -9.30287601e-01, -1.62902557e-01,\n",
       "         2.53783264e-01, -1.55894556e-01, -3.72025838e-01,\n",
       "         2.01640155e-01,  3.09909949e-01,  6.86875920e-01,\n",
       "        -1.25149263e-01, -5.29718718e-01, -2.65240228e-01,\n",
       "        -2.04311440e-01,  1.47347756e-01, -5.17324371e-02,\n",
       "        -2.97861814e-01, -1.83407770e-01, -5.67872554e-01,\n",
       "         1.74573024e-01, -1.84598849e-01,  2.90470963e-01,\n",
       "        -4.82749707e-01,  5.85064250e-01, -5.67872554e-01,\n",
       "        -3.61376309e-01,  4.25097278e-01, -3.05321088e-01,\n",
       "         4.21811074e-02,  1.28004755e-02,  8.70021566e-01,\n",
       "        -1.19434359e+00,  6.89819321e-01,  9.03108385e-03,\n",
       "        -1.00997431e-01,  1.66927157e-01, -7.50371436e-02,\n",
       "         0.00000000e+00,  4.25097278e-01, -3.18376383e-01,\n",
       "         4.18255320e-01, -2.23093359e-01,  1.53349851e-01,\n",
       "         1.73576158e-01, -3.23002516e-01, -1.52906576e-01,\n",
       "         1.01869328e+00, -4.85892758e-02,  0.00000000e+00,\n",
       "         4.25097278e-01,  1.18787496e+00, -3.70658230e-01,\n",
       "         1.66752997e-01, -7.21214376e-02, -2.45008841e-01,\n",
       "        -4.51210881e-01,  3.69015060e-02,  6.72979358e-02,\n",
       "        -3.32106917e-01, -8.71196919e-01,  1.14508250e+00,\n",
       "         3.82356333e-01,  3.30117047e-01, -4.78748391e-02,\n",
       "         9.03870822e-02, -1.18407852e+00, -5.34213995e-01,\n",
       "        -3.18376383e-01,  3.16253722e-01,  4.18255320e-01,\n",
       "         1.97612635e-01,  1.30424297e-01,  1.49337573e-01,\n",
       "         7.46940913e-02, -2.47242877e-01,  3.51555637e-01,\n",
       "         4.44542858e-01, -3.05602670e-02, -6.23302723e-01,\n",
       "         4.99681525e-01, -1.38710918e-01,  9.65632971e-02,\n",
       "         1.78255386e-01, -5.42649687e-01, -4.71053199e-04,\n",
       "        -2.03539477e-01,  3.35715146e-01,  4.10710130e-02,\n",
       "         9.62310726e-02,  4.08478587e-01,  4.68799731e-01,\n",
       "         4.02062376e-01,  5.81613086e-01, -4.14621730e-02,\n",
       "        -1.08440495e+00, -8.10687372e-02, -3.18376383e-01,\n",
       "         9.62310726e-02,  5.39109310e-01, -3.64551011e-01,\n",
       "         1.19887527e+00,  3.13648333e-01, -5.81564498e-01,\n",
       "        -4.28494554e-01, -3.59489376e-01, -1.45276909e-01,\n",
       "        -9.77113768e-02, -1.80654693e-01, -1.15486063e-01,\n",
       "         2.22303634e-01,  8.54998928e-03, -5.67872554e-01,\n",
       "         8.76613203e-02, -7.67441552e-01,  4.25097278e-01,\n",
       "         4.25097278e-01,  4.25097278e-01,  9.56948999e-02,\n",
       "         3.48014890e-01, -3.72025838e-01, -7.73607494e-03,\n",
       "        -1.19496432e-02, -5.93578949e-01,  0.00000000e+00,\n",
       "         6.05980733e-01,  4.25097278e-01,  1.21953431e+00,\n",
       "        -4.27371585e-01,  6.75303877e-01,  5.77811750e-01,\n",
       "         6.69874012e-01, -9.80523316e-01,  9.83991490e-01,\n",
       "        -1.47307001e-01,  5.80553206e-01,  1.27851111e-01,\n",
       "        -9.81496065e-01,  2.55977539e-01, -1.64512110e-01,\n",
       "         3.76383862e-01,  6.78043367e-01,  1.33592476e+00,\n",
       "         5.18620047e-01,  7.49508702e-01,  3.85362952e-01,\n",
       "         4.47500633e-01,  4.39237060e-01,  8.57935654e-01,\n",
       "         3.07633405e-01,  5.61933602e-02,  2.93526688e-01,\n",
       "         3.40121144e-01,  3.86799432e-01, -3.18376383e-01,\n",
       "         2.30317150e-01,  9.62310726e-02,  4.10705492e-01,\n",
       "        -4.75156254e-01,  9.18706487e-02, -1.26307894e-01,\n",
       "        -2.47286650e-01, -6.01406973e-02,  4.25097278e-01,\n",
       "         1.53349851e-01,  1.33469707e-01, -1.08440495e+00,\n",
       "        -1.00241306e+00,  3.25725749e-01, -7.94283244e-01,\n",
       "         2.09407997e-01, -4.35181308e-01,  9.62310726e-02,\n",
       "        -3.18376383e-01, -1.63541428e-01, -9.10721941e-01,\n",
       "         9.62310726e-02, -2.14009083e-01,  6.08971675e-01,\n",
       "        -4.03275414e-01, -9.50746370e-01, -5.93578949e-01,\n",
       "         9.62310726e-02, -3.18376383e-01,  7.46940913e-02,\n",
       "        -3.47764775e-02,  7.51146960e-01, -3.18376383e-01,\n",
       "        -3.07504285e-01, -3.72025838e-01,  0.00000000e+00,\n",
       "         3.09262552e-01, -3.18376383e-01,  4.25097278e-01,\n",
       "        -3.18376383e-01, -1.23796117e-01,  1.40365194e-01,\n",
       "         6.69874012e-01, -3.18376383e-01,  3.81106238e-01,\n",
       "        -6.78600419e-02, -3.89221866e-01, -2.98128534e-01,\n",
       "         9.50645985e-01, -5.67872554e-01,  4.25097278e-01,\n",
       "        -1.41175695e-01, -4.16817992e-01, -2.04935209e-01,\n",
       "         2.16605093e-01, -1.76835492e-01,  2.48035388e-01,\n",
       "         1.53349851e-01, -1.94747354e-01, -3.18376383e-01,\n",
       "        -6.21420561e-01, -1.68479426e-01,  2.40712474e-01,\n",
       "         8.22679667e-01,  0.00000000e+00, -5.67872554e-01,\n",
       "        -7.67441552e-01, -1.00335965e+00, -1.78129372e+00,\n",
       "         1.43031038e+00, -5.06596923e-01, -3.18376383e-01,\n",
       "        -2.23891895e-01,  1.53349851e-01,  0.00000000e+00,\n",
       "        -3.18376383e-01,  2.02979876e-01, -1.24459580e-01,\n",
       "        -1.01353140e-01,  0.00000000e+00,  7.51146960e-01,\n",
       "         5.72277325e-01,  1.49837964e+00, -6.01406973e-02,\n",
       "         1.32746696e-02,  0.00000000e+00,  9.62310726e-02,\n",
       "         2.44602198e-01,  2.96592101e-01, -1.55840033e-01,\n",
       "         1.19718078e+00, -3.18376383e-01,  1.86115251e-01,\n",
       "         5.59677395e-01,  3.69577174e-01,  1.04029521e-01,\n",
       "        -3.18376383e-01, -3.43645847e-01,  1.85958344e-01,\n",
       "        -1.63541428e-01, -6.15767473e-01, -7.24889264e-02,\n",
       "         2.06484408e-01,  0.00000000e+00, -3.18376383e-01,\n",
       "        -3.18376383e-01,  9.62310726e-02, -3.24311349e-01,\n",
       "         3.56922954e-01,  4.18255320e-01,  3.56922954e-01,\n",
       "         4.25097278e-01,  2.06484408e-01,  7.51146960e-01,\n",
       "        -5.67872554e-01,  0.00000000e+00, -3.18376383e-01,\n",
       "        -1.46151380e-02, -5.67872554e-01, -3.72025838e-01,\n",
       "        -3.18376383e-01, -5.42649687e-01, -3.81804975e-01,\n",
       "        -5.67872554e-01,  0.00000000e+00, -3.18376383e-01,\n",
       "        -3.18376383e-01,  0.00000000e+00, -3.18376383e-01,\n",
       "         0.00000000e+00,  9.62310726e-02,  1.86743840e-01,\n",
       "         0.00000000e+00, -3.18376383e-01,  0.00000000e+00,\n",
       "         4.02768631e-01,  0.00000000e+00,  9.62310726e-02,\n",
       "        -9.55576515e-01,  4.25097278e-01,  7.51146960e-01,\n",
       "         0.00000000e+00, -3.18376383e-01,  0.00000000e+00,\n",
       "         1.94388632e-01,  0.00000000e+00, -5.67872554e-01,\n",
       "        -5.67872554e-01,  6.69874012e-01, -7.64474297e-01,\n",
       "         4.25097278e-01,  0.00000000e+00,  1.00367638e+00,\n",
       "         1.53349851e-01, -5.42649687e-01, -1.63541428e-01,\n",
       "         0.00000000e+00,  4.18255320e-01,  4.18255320e-01,\n",
       "        -8.56012617e-01,  0.00000000e+00, -3.18376383e-01,\n",
       "         3.60527063e-01, -7.67441552e-01, -3.18376383e-01,\n",
       "        -1.65157460e-01,  9.62310726e-02, -1.12967183e-01,\n",
       "         6.26463907e-01, -7.49701012e-01,  1.26097856e-01,\n",
       "         4.25097278e-01,  4.25097278e-01, -3.49911561e-01,\n",
       "         1.02257627e-01,  4.25097278e-01, -1.51440817e-01,\n",
       "        -4.39495461e-01,  4.12034893e-01,  5.66704597e-01,\n",
       "        -3.18376383e-01, -3.55836862e-01, -8.21687834e-01,\n",
       "        -7.90628300e-01, -5.57161036e-01, -7.27824997e-01,\n",
       "        -3.18376383e-01,  3.86799432e-01,  7.74427789e-02,\n",
       "        -2.79979135e-02,  1.00417388e+00,  0.00000000e+00,\n",
       "         9.62310726e-02, -5.30752480e-01,  1.77593056e-01,\n",
       "         7.51146960e-01, -2.45182763e-01,  4.25097278e-01,\n",
       "        -1.34462000e-01,  2.48805421e-02,  5.26625221e-01,\n",
       "         6.25012737e-01,  0.00000000e+00,  9.62310726e-02,\n",
       "         4.25097278e-01, -1.88852921e-01,  1.24073114e-01,\n",
       "         1.33182502e-02,  1.00367638e+00, -1.12123254e-01,\n",
       "        -3.18376383e-01, -1.87348742e-01,  7.12085264e-03,\n",
       "        -7.67441552e-01,  3.79184696e-01, -3.18376383e-01,\n",
       "        -2.66324490e-01, -2.13092070e-01, -5.95097786e-01,\n",
       "         6.60316419e-01, -1.29009015e+00, -3.18376383e-01,\n",
       "         2.65633294e-01,  4.44427961e-01, -8.47011731e-01,\n",
       "         0.00000000e+00,  7.85642711e-02, -2.74687145e-01,\n",
       "        -1.63541428e-01,  4.25097278e-01, -1.10915146e+00,\n",
       "         7.79165255e-01,  8.70021566e-01, -5.42649687e-01,\n",
       "         2.34464786e-01,  3.81949735e-01,  4.25097278e-01,\n",
       "        -3.18376383e-01,  7.22931449e-01, -1.45670380e-01,\n",
       "        -3.72025838e-01,  9.62310726e-02, -3.18376383e-01,\n",
       "        -1.41494422e-01,  0.00000000e+00,  1.03278978e+00,\n",
       "        -1.05373300e-01,  9.62310726e-02,  1.53349851e-01,\n",
       "        -3.72025838e-01,  4.25097278e-01,  0.00000000e+00,\n",
       "         6.40670465e-01,  7.51146960e-01, -9.50746370e-01,\n",
       "        -3.18376383e-01,  4.58244482e-01,  9.76426356e-01,\n",
       "        -3.18376383e-01, -1.94808785e-01,  3.92198676e-01,\n",
       "        -1.18991278e-01,  7.17992504e-01, -4.85096921e-01,\n",
       "        -5.27038698e-01, -3.18376383e-01, -9.92787187e-02,\n",
       "        -3.18376383e-01,  5.08759787e-01,  1.28329965e-01,\n",
       "         1.14051818e+00,  4.76833256e-01,  2.26558768e-01,\n",
       "        -6.56056793e-02, -1.98475479e-01,  4.25097278e-01,\n",
       "         1.33182502e-02, -7.67441552e-01, -3.18376383e-01,\n",
       "        -5.42649687e-01, -3.18376383e-01,  0.00000000e+00,\n",
       "        -4.84348267e-02, -6.49993884e-02,  1.01225142e-01,\n",
       "         4.25097278e-01, -7.65243882e-01,  4.25097278e-01,\n",
       "        -7.67441552e-01, -3.18376383e-01,  4.55558534e-01,\n",
       "        -8.05893820e-02, -4.77193229e-01, -1.20186637e+00,\n",
       "         1.86743840e-01,  7.51146960e-01, -4.08870658e-01,\n",
       "        -1.69781087e-01,  5.28065371e-01, -1.88852921e-01,\n",
       "        -5.14783840e-01, -6.42572682e-02, -5.41488466e-01,\n",
       "        -1.54444806e-01, -1.63541428e-01, -8.05893820e-02,\n",
       "         3.19846984e-01, -6.69461597e-01,  1.20970196e+00,\n",
       "         3.05611187e-01, -1.50276956e-01, -5.91444553e-01,\n",
       "         4.76704755e-01,  8.15118231e-02, -2.10096110e-01,\n",
       "        -1.36827267e-01, -4.92705755e-01, -5.67872554e-01,\n",
       "         1.42767513e-02, -1.56580336e-01, -3.40440118e-01,\n",
       "         2.04865289e-01]])"
      ]
     },
     "execution_count": 63,
     "metadata": {},
     "output_type": "execute_result"
    }
   ],
   "source": [
    "model.coef_"
   ]
  },
  {
   "cell_type": "code",
   "execution_count": 64,
   "id": "eaf26b4a",
   "metadata": {},
   "outputs": [
    {
     "data": {
      "text/plain": [
       "(1, 481)"
      ]
     },
     "execution_count": 64,
     "metadata": {},
     "output_type": "execute_result"
    }
   ],
   "source": [
    "model.coef_.shape"
   ]
  },
  {
   "cell_type": "code",
   "execution_count": 65,
   "id": "ad225772",
   "metadata": {},
   "outputs": [
    {
     "data": {
      "text/plain": [
       "0.591228796028134"
      ]
     },
     "execution_count": 65,
     "metadata": {},
     "output_type": "execute_result"
    }
   ],
   "source": [
    "model.score(X_test, y_test)"
   ]
  },
  {
   "cell_type": "code",
   "execution_count": null,
   "id": "7c782ead",
   "metadata": {},
   "outputs": [],
   "source": []
  },
  {
   "cell_type": "code",
   "execution_count": 66,
   "id": "8b3ff52d",
   "metadata": {
    "scrolled": true
   },
   "outputs": [
    {
     "data": {
      "text/html": [
       "<div>\n",
       "<style scoped>\n",
       "    .dataframe tbody tr th:only-of-type {\n",
       "        vertical-align: middle;\n",
       "    }\n",
       "\n",
       "    .dataframe tbody tr th {\n",
       "        vertical-align: top;\n",
       "    }\n",
       "\n",
       "    .dataframe thead th {\n",
       "        text-align: right;\n",
       "    }\n",
       "</style>\n",
       "<table border=\"1\" class=\"dataframe\">\n",
       "  <thead>\n",
       "    <tr style=\"text-align: right;\">\n",
       "      <th></th>\n",
       "      <th>Edition et diffusion de programmes radio</th>\n",
       "      <th>Debits de boissons</th>\n",
       "      <th>Commerce de detail de la chaussure</th>\n",
       "      <th>Commerce de detail d'articles d'horlogerie et de bijouterie en magasin specialise</th>\n",
       "      <th>Travaux de demolition</th>\n",
       "      <th>Autres intermediations monetaires</th>\n",
       "      <th>Enseignement de la conduite</th>\n",
       "      <th>Activites juridiques</th>\n",
       "      <th>Administration publique generale</th>\n",
       "      <th>Superettes</th>\n",
       "      <th>...</th>\n",
       "      <th>Commerce de gros (commerce interentreprises) d'autres produits intermediaires</th>\n",
       "      <th>Culture de la vigne</th>\n",
       "      <th>Commerce de gros (commerce interentreprises) d'autres machines et equipements de bureau</th>\n",
       "      <th>Autres cultures non permanentes</th>\n",
       "      <th>Promotion immobiliere de logements</th>\n",
       "      <th>Ambulances</th>\n",
       "      <th>Activites des agences de travail temporaire</th>\n",
       "      <th>Transports maritimes et cotiers de fret</th>\n",
       "      <th>Production d'electricite</th>\n",
       "      <th>Culture de legumes, de melons, de racines et de tubercules</th>\n",
       "    </tr>\n",
       "  </thead>\n",
       "  <tbody>\n",
       "    <tr>\n",
       "      <th>0</th>\n",
       "      <td>1.49838</td>\n",
       "      <td>1.43031</td>\n",
       "      <td>1.335925</td>\n",
       "      <td>1.219534</td>\n",
       "      <td>1.209702</td>\n",
       "      <td>1.198875</td>\n",
       "      <td>1.197181</td>\n",
       "      <td>1.187875</td>\n",
       "      <td>1.145083</td>\n",
       "      <td>1.140518</td>\n",
       "      <td>...</td>\n",
       "      <td>-1.002413</td>\n",
       "      <td>-1.00336</td>\n",
       "      <td>-1.084405</td>\n",
       "      <td>-1.084405</td>\n",
       "      <td>-1.109151</td>\n",
       "      <td>-1.184079</td>\n",
       "      <td>-1.194344</td>\n",
       "      <td>-1.201866</td>\n",
       "      <td>-1.29009</td>\n",
       "      <td>-1.781294</td>\n",
       "    </tr>\n",
       "  </tbody>\n",
       "</table>\n",
       "<p>1 rows × 481 columns</p>\n",
       "</div>"
      ],
      "text/plain": [
       "   Edition et diffusion de programmes radio  Debits de boissons  \\\n",
       "0                                   1.49838             1.43031   \n",
       "\n",
       "   Commerce de detail de la chaussure  \\\n",
       "0                            1.335925   \n",
       "\n",
       "   Commerce de detail d'articles d'horlogerie et de bijouterie en magasin specialise  \\\n",
       "0                                           1.219534                                   \n",
       "\n",
       "   Travaux de demolition  Autres intermediations monetaires  \\\n",
       "0               1.209702                           1.198875   \n",
       "\n",
       "   Enseignement de la conduite  Activites juridiques  \\\n",
       "0                     1.197181              1.187875   \n",
       "\n",
       "   Administration publique generale  Superettes  ...  \\\n",
       "0                          1.145083    1.140518  ...   \n",
       "\n",
       "   Commerce de gros (commerce interentreprises) d'autres produits intermediaires  \\\n",
       "0                                          -1.002413                               \n",
       "\n",
       "   Culture de la vigne  \\\n",
       "0             -1.00336   \n",
       "\n",
       "   Commerce de gros (commerce interentreprises) d'autres machines et equipements de bureau  \\\n",
       "0                                          -1.084405                                         \n",
       "\n",
       "   Autres cultures non permanentes  Promotion immobiliere de logements  \\\n",
       "0                        -1.084405                           -1.109151   \n",
       "\n",
       "   Ambulances  Activites des agences de travail temporaire  \\\n",
       "0   -1.184079                                    -1.194344   \n",
       "\n",
       "   Transports maritimes et cotiers de fret  Production d'electricite  \\\n",
       "0                                -1.201866                  -1.29009   \n",
       "\n",
       "   Culture de legumes, de melons, de racines et de tubercules  \n",
       "0                                          -1.781294           \n",
       "\n",
       "[1 rows x 481 columns]"
      ]
     },
     "execution_count": 66,
     "metadata": {},
     "output_type": "execute_result"
    }
   ],
   "source": [
    "coef_2007=pd.DataFrame(model.coef_,columns=list_X_encoder).sort_values(by=0,axis=1, ascending=False)\n",
    "coef_2007"
   ]
  },
  {
   "cell_type": "code",
   "execution_count": null,
   "id": "89016efa",
   "metadata": {},
   "outputs": [],
   "source": []
  },
  {
   "cell_type": "code",
   "execution_count": 67,
   "id": "59b89861",
   "metadata": {},
   "outputs": [
    {
     "data": {
      "text/plain": [
       "Edition et diffusion de programmes radio                                                                       1.498380\n",
       "Debits de boissons                                                                                             1.430310\n",
       "Commerce de detail de la chaussure                                                                             1.335925\n",
       "Commerce de detail d'articles d'horlogerie et de bijouterie en magasin specialise                              1.219534\n",
       "Travaux de demolition                                                                                          1.209702\n",
       "Autres intermediations monetaires                                                                              1.198875\n",
       "Enseignement de la conduite                                                                                    1.197181\n",
       "Activites juridiques                                                                                           1.187875\n",
       "Administration publique generale                                                                               1.145083\n",
       "Superettes                                                                                                     1.140518\n",
       "Reparation de chaussures et d'articles en cuir                                                                 1.032790\n",
       "Activites des syndicats de salaries                                                                            1.018693\n",
       "Laboratoires d'analyses medicales                                                                              1.004174\n",
       "Fabrication de plaques, feuilles, tubes et profiles en matieres plastiques                                     1.003676\n",
       "Mecanique industrielle                                                                                         1.003676\n",
       "Commerce de detail d'habillement en magasin specialise                                                         0.983991\n",
       "Restauration traditionnelle                                                                                    0.976426\n",
       "Commerces de detail d'optique                                                                                  0.950646\n",
       "Recherche-developpement en biotechnologie                                                                      0.870022\n",
       "Activites des agences de recouvrement de factures et des societes d'information financiere sur la clientele    0.870022\n",
       "Name: 0, dtype: float64"
      ]
     },
     "execution_count": 67,
     "metadata": {},
     "output_type": "execute_result"
    }
   ],
   "source": [
    "coef_top=coef_2007.iloc[0,:20]\n",
    "coef_top\n"
   ]
  },
  {
   "cell_type": "code",
   "execution_count": 23,
   "id": "6f571571",
   "metadata": {},
   "outputs": [
    {
     "data": {
      "text/plain": [
       "<AxesSubplot:>"
      ]
     },
     "execution_count": 23,
     "metadata": {},
     "output_type": "execute_result"
    },
    {
     "data": {
      "image/png": "[encoded data removed]",
      "text/plain": [
       "<Figure size 432x288 with 1 Axes>"
      ]
     },
     "metadata": {
      "needs_background": "light"
     },
     "output_type": "display_data"
    }
   ],
   "source": [
    "coef_top.plot.barh()\n"
   ]
  },
  {
   "cell_type": "code",
   "execution_count": 24,
   "id": "230458e0",
   "metadata": {},
   "outputs": [],
   "source": [
    "# import matplotlib.pyplot as plt\n",
    "# # plot top\n",
    "# # plot param\n",
    "# nbr_value=len(coef_top.index.tolist())\n",
    "# plt.figure(figsize=(10, 5))\n",
    "# plt.ylabel(\"Coefficient magnitude\")\n",
    "# plt.xticks(np.arange(1,  1+ nbr_value),\n",
    "#             coef_top.index, rotation=60,\n",
    "#             ha=\"right\")\n",
    "# #plot\n",
    "# plt.bar(np.arange(1,1+ nbr_value), coef_top.values,color=\"blue\")"
   ]
  },
  {
   "cell_type": "code",
   "execution_count": 25,
   "id": "8ccc90c6",
   "metadata": {
    "scrolled": true
   },
   "outputs": [
    {
     "data": {
      "text/plain": [
       "Services funeraires                                                 -0.999759\n",
       "Activites des agences de travail temporaire                         -1.001803\n",
       "Commerce de detail non alimentaire sur eventaires et marches        -1.030265\n",
       "Travaux de menuiserie metallique et serrurerie                      -1.097071\n",
       "Travaux de platrerie                                                -1.127795\n",
       "Commerce de gros (commerce interentreprises) de fruits et legumes   -1.272112\n",
       "Organisation de foires et salons                                    -1.301785\n",
       "Culture de legumes, de melons, de racines et de tubercules          -1.428375\n",
       "Name: 0, dtype: float64"
      ]
     },
     "execution_count": 25,
     "metadata": {},
     "output_type": "execute_result"
    }
   ],
   "source": [
    "coef_bad=coef_2007.iloc[0,-8:]\n",
    "coef_bad"
   ]
  },
  {
   "cell_type": "code",
   "execution_count": 26,
   "id": "0d05328a",
   "metadata": {},
   "outputs": [
    {
     "data": {
      "text/plain": [
       "<AxesSubplot:>"
      ]
     },
     "execution_count": 26,
     "metadata": {},
     "output_type": "execute_result"
    },
    {
     "data": {
      "image/png": "[encoded data removed]",
      "text/plain": [
       "<Figure size 432x288 with 1 Axes>"
      ]
     },
     "metadata": {
      "needs_background": "light"
     },
     "output_type": "display_data"
    }
   ],
   "source": [
    "coef_bad.plot.barh()"
   ]
  },
  {
   "cell_type": "code",
   "execution_count": 27,
   "id": "8ff6c134",
   "metadata": {},
   "outputs": [],
   "source": [
    "# # plot bad\n",
    "# # plot param\n",
    "# nbr_value=len(coef_bad.index.tolist())\n",
    "# plt.figure(figsize=(10, 5))\n",
    "# plt.ylabel(\"Coefficient magnitude\")\n",
    "# plt.xticks(np.arange(1,  1+ nbr_value),\n",
    "#             coef_bad.index, rotation=60,\n",
    "#             ha=\"right\")\n",
    "# #plot\n",
    "# plt.bar(np.arange(1,1+ nbr_value), coef_bad.values,color=\"red\")"
   ]
  },
  {
   "cell_type": "code",
   "execution_count": null,
   "id": "a375f59a",
   "metadata": {},
   "outputs": [],
   "source": []
  },
  {
   "cell_type": "code",
   "execution_count": 28,
   "id": "3deba63e",
   "metadata": {
    "scrolled": true
   },
   "outputs": [],
   "source": [
    "# #Méthode direct pour trajet le plot\n",
    "# coef.iloc[0,:10].plot.bar()"
   ]
  },
  {
   "cell_type": "code",
   "execution_count": null,
   "id": "af3325d4",
   "metadata": {},
   "outputs": [],
   "source": []
  },
  {
   "cell_type": "markdown",
   "id": "2618c7d3",
   "metadata": {},
   "source": [
    "### Learning curve==> Hors sujet"
   ]
  },
  {
   "cell_type": "code",
   "execution_count": null,
   "id": "0c3c6d63",
   "metadata": {},
   "outputs": [],
   "source": []
  },
  {
   "cell_type": "code",
   "execution_count": 29,
   "id": "5a4040df",
   "metadata": {},
   "outputs": [],
   "source": [
    "# train_sizes=[]\n",
    "# nbre_cv=5\n",
    "# nbre_data=round(len(X_encoder)*1/nbre_cv)\n",
    "# subdivision=round(nbre_data/10)\n",
    "# test=0\n",
    "# for i in range(1, 10):\n",
    "#     test=i*subdivision\n",
    "#     train_sizes.append(test)\n",
    "# train_sizes.append(nbre_data)\n",
    "# train_sizes[::1]"
   ]
  },
  {
   "cell_type": "code",
   "execution_count": null,
   "id": "8ad0c829",
   "metadata": {},
   "outputs": [],
   "source": []
  },
  {
   "cell_type": "code",
   "execution_count": 30,
   "id": "afa65421",
   "metadata": {},
   "outputs": [],
   "source": [
    "# from sklearn.model_selection import learning_curve\n",
    "\n",
    "\n",
    "# # Get train scores (accurance), train sizes, and validation scores using `learning_curve`\n",
    "# train_sizes, train_scores, test_scores = learning_curve(\n",
    "#     estimator=LogisticRegression(), X=X_encoder, y=y_encoder, train_sizes=train_sizes, cv=nbre_cv)"
   ]
  },
  {
   "cell_type": "code",
   "execution_count": 31,
   "id": "95b7fc52",
   "metadata": {},
   "outputs": [],
   "source": [
    "# train_scores_mean = np.mean(train_scores, axis=1)\n",
    "# train_scores_mean"
   ]
  },
  {
   "cell_type": "code",
   "execution_count": 32,
   "id": "4d5ebbfd",
   "metadata": {},
   "outputs": [],
   "source": [
    "# test_scores_mean = np.mean(test_scores, axis=1)\n",
    "# test_scores_mean"
   ]
  },
  {
   "cell_type": "code",
   "execution_count": 33,
   "id": "44e1251a",
   "metadata": {},
   "outputs": [],
   "source": [
    "# plt.plot(train_sizes, train_scores_mean, label = 'Training score')\n",
    "# plt.plot(train_sizes, test_scores_mean, label = 'Test score')\n",
    "# plt.ylabel('accurance', fontsize = 14)\n",
    "# plt.xlabel('Training set size', fontsize = 14)\n",
    "# plt.title('Learning curves', fontsize = 18, y = 1.03)\n",
    "# plt.legend()"
   ]
  },
  {
   "cell_type": "code",
   "execution_count": null,
   "id": "69c0961c",
   "metadata": {},
   "outputs": [],
   "source": []
  },
  {
   "cell_type": "code",
   "execution_count": null,
   "id": "b2dbc43e",
   "metadata": {},
   "outputs": [],
   "source": []
  },
  {
   "cell_type": "code",
   "execution_count": null,
   "id": "c3e57921",
   "metadata": {},
   "outputs": [],
   "source": []
  },
  {
   "cell_type": "code",
   "execution_count": null,
   "id": "752e09aa",
   "metadata": {},
   "outputs": [],
   "source": []
  },
  {
   "cell_type": "code",
   "execution_count": null,
   "id": "894ca604",
   "metadata": {},
   "outputs": [],
   "source": []
  },
  {
   "cell_type": "code",
   "execution_count": null,
   "id": "93de781c",
   "metadata": {},
   "outputs": [],
   "source": []
  },
  {
   "cell_type": "code",
   "execution_count": null,
   "id": "7b4fe6ee",
   "metadata": {},
   "outputs": [],
   "source": []
  },
  {
   "cell_type": "code",
   "execution_count": null,
   "id": "7b775f6e",
   "metadata": {},
   "outputs": [],
   "source": []
  },
  {
   "cell_type": "code",
   "execution_count": null,
   "id": "b069191c",
   "metadata": {},
   "outputs": [],
   "source": []
  },
  {
   "cell_type": "markdown",
   "id": "e68a7125",
   "metadata": {},
   "source": [
    "### Selecting the Most Important Features"
   ]
  },
  {
   "cell_type": "code",
   "execution_count": 34,
   "id": "b541bc0c",
   "metadata": {},
   "outputs": [],
   "source": [
    "# # Permutation Importance\n",
    "# from sklearn.inspection import permutation_importance"
   ]
  },
  {
   "cell_type": "code",
   "execution_count": null,
   "id": "8cd19893",
   "metadata": {},
   "outputs": [],
   "source": []
  },
  {
   "cell_type": "code",
   "execution_count": 35,
   "id": "1f5fb1f9",
   "metadata": {},
   "outputs": [],
   "source": [
    "# n_repeats=15"
   ]
  },
  {
   "cell_type": "code",
   "execution_count": 36,
   "id": "2d2a341e",
   "metadata": {},
   "outputs": [],
   "source": [
    "# # Fit model\n",
    "# model = LogisticRegression()\n",
    "# model.fit(X_train, y_train) \n",
    "\n",
    "# # Perform Permutation\n",
    "# permutation_score = permutation_importance(model, X_train, y_train, n_repeats=15) \n",
    "\n"
   ]
  },
  {
   "cell_type": "code",
   "execution_count": null,
   "id": "9c6e7609",
   "metadata": {},
   "outputs": [],
   "source": []
  },
  {
   "cell_type": "code",
   "execution_count": null,
   "id": "abaffbb5",
   "metadata": {},
   "outputs": [],
   "source": []
  },
  {
   "cell_type": "code",
   "execution_count": 37,
   "id": "7605a48d",
   "metadata": {},
   "outputs": [],
   "source": [
    "# # Unstack results\n",
    "# importance_df = pd.DataFrame(np.vstack((list_X_encoder,\n",
    "#                                         permutation_score.importances_mean)).T) \n",
    "# importance_df.columns=['feature','score decrease']\n",
    "\n",
    "\n",
    "# # # Order by importance\n",
    "# most_important_features = importance_df.sort_values(by=\"score decrease\", ascending = False)\n",
    "# most_important_features.head(10)"
   ]
  },
  {
   "cell_type": "code",
   "execution_count": null,
   "id": "1d5461f5",
   "metadata": {},
   "outputs": [],
   "source": []
  },
  {
   "cell_type": "code",
   "execution_count": null,
   "id": "c4a4b18d",
   "metadata": {},
   "outputs": [],
   "source": []
  },
  {
   "cell_type": "code",
   "execution_count": null,
   "id": "4886b41b",
   "metadata": {},
   "outputs": [],
   "source": []
  },
  {
   "cell_type": "code",
   "execution_count": null,
   "id": "4d98556f",
   "metadata": {},
   "outputs": [],
   "source": []
  },
  {
   "cell_type": "code",
   "execution_count": null,
   "id": "1f8de5b4",
   "metadata": {},
   "outputs": [],
   "source": []
  },
  {
   "cell_type": "code",
   "execution_count": null,
   "id": "97f62e3e",
   "metadata": {},
   "outputs": [],
   "source": []
  },
  {
   "cell_type": "markdown",
   "id": "cdd14700",
   "metadata": {},
   "source": [
    "# Année 2008==>20012"
   ]
  },
  {
   "cell_type": "markdown",
   "id": "4bb5c5e6",
   "metadata": {},
   "source": [
    "## Onehot encoder"
   ]
  },
  {
   "cell_type": "code",
   "execution_count": 38,
   "id": "24c2ddd4",
   "metadata": {},
   "outputs": [
    {
     "name": "stderr",
     "output_type": "stream",
     "text": [
      "/home/lewagon/.pyenv/versions/3.8.6/envs/trampact/lib/python3.8/site-packages/IPython/core/interactiveshell.py:3441: DtypeWarning: Columns (1,81) have mixed types.Specify dtype option on import or set low_memory=False.\n",
      "  exec(code_obj, self.user_global_ns, self.user_ns)\n",
      "/home/lewagon/code/eangelid/trampact/trampact/analyse_ml_sirene.py:73: SettingWithCopyWarning: \n",
      "A value is trying to be set on a copy of a slice from a DataFrame.\n",
      "Try using .loc[row_indexer,col_indexer] = value instead\n",
      "\n",
      "See the caveats in the documentation: https://pandas.pydata.org/pandas-docs/stable/user_guide/indexing.html#returning-a-view-versus-a-copy\n",
      "  entreprise_ml_df[\"Date de création de l'unité légale\"]=\\\n"
     ]
    }
   ],
   "source": [
    "#y=\"proche t1\"\n",
    "#X=le reste\n",
    "y_encoder, X_encoder, list_y_encoder, list_X_encoder=Machine_learning_sirene.encoder_feature(feature_ml,\\\n",
    "                                                                                             filtre_date=True,\\\n",
    "                                                                                             date_debut=2008,date_end=2012)\n"
   ]
  },
  {
   "cell_type": "code",
   "execution_count": null,
   "id": "71289fc8",
   "metadata": {},
   "outputs": [],
   "source": []
  },
  {
   "cell_type": "code",
   "execution_count": null,
   "id": "bd245288",
   "metadata": {},
   "outputs": [],
   "source": []
  },
  {
   "cell_type": "markdown",
   "id": "e920061d",
   "metadata": {},
   "source": [
    "### Encoder X"
   ]
  },
  {
   "cell_type": "code",
   "execution_count": 39,
   "id": "e4d58141",
   "metadata": {},
   "outputs": [
    {
     "data": {
      "text/plain": [
       "array([[1., 0., 0., ..., 0., 0., 0.],\n",
       "       [1., 0., 0., ..., 0., 0., 0.],\n",
       "       [1., 0., 0., ..., 0., 0., 0.],\n",
       "       ...,\n",
       "       [1., 0., 0., ..., 0., 0., 0.],\n",
       "       [1., 0., 0., ..., 0., 0., 0.],\n",
       "       [1., 0., 0., ..., 0., 0., 0.]])"
      ]
     },
     "execution_count": 39,
     "metadata": {},
     "output_type": "execute_result"
    }
   ],
   "source": [
    "X_encoder"
   ]
  },
  {
   "cell_type": "code",
   "execution_count": 40,
   "id": "ee92fda7",
   "metadata": {},
   "outputs": [
    {
     "data": {
      "text/plain": [
       "(40283, 481)"
      ]
     },
     "execution_count": 40,
     "metadata": {},
     "output_type": "execute_result"
    }
   ],
   "source": [
    "X_encoder.shape"
   ]
  },
  {
   "cell_type": "code",
   "execution_count": 41,
   "id": "9a0f3c21",
   "metadata": {},
   "outputs": [
    {
     "data": {
      "text/plain": [
       "[1,\n",
       " 2,\n",
       " 4,\n",
       " 8,\n",
       " 15,\n",
       " 35,\n",
       " 75,\n",
       " 150,\n",
       " 375,\n",
       " 3500,\n",
       " 'Accueil de jeunes enfants',\n",
       " \"Accueil ou accompagnement sans hebergement d'adultes handicapes ou de personnes agees\",\n",
       " 'Action sociale sans hebergement n.c.a.',\n",
       " 'Activite des economistes de la construction',\n",
       " 'Activite des geometres',\n",
       " 'Activite des medecins generalistes',\n",
       " 'Activites chirurgicales',\n",
       " 'Activites combinees de soutien lie aux batiments',\n",
       " 'Activites comptables',\n",
       " \"Activites d'architecture\",\n",
       " \"Activites d'enquete\",\n",
       " \"Activites de centres d'appels\",\n",
       " 'Activites de clubs de sports',\n",
       " 'Activites de conditionnement',\n",
       " 'Activites de pre-presse',\n",
       " 'Activites de radiodiagnostic et de radiotherapie',\n",
       " 'Activites de sante humaine non classees ailleurs',\n",
       " 'Activites de securite privee',\n",
       " \"Activites de soutien a l'enseignement\",\n",
       " 'Activites de soutien a la production animale',\n",
       " 'Activites de soutien au spectacle vivant',\n",
       " 'Activites de soutien aux cultures',\n",
       " \"Activites des agences de placement de main-d'œuvre\",\n",
       " 'Activites des agences de presse',\n",
       " 'Activites des agences de publicite',\n",
       " \"Activites des agences de recouvrement de factures et des societes d'information financiere sur la clientele\",\n",
       " 'Activites des agences de travail temporaire',\n",
       " 'Activites des agences de voyage',\n",
       " \"Activites des agents et courtiers d'assurances\",\n",
       " 'Activites des centres de culture physique',\n",
       " 'Activites des infirmiers et des sages-femmes',\n",
       " 'Activites des marchands de biens immobiliers',\n",
       " 'Activites des organisations et organismes extraterritoriaux',\n",
       " 'Activites des organisations patronales et consulaires',\n",
       " 'Activites des organisations politiques',\n",
       " 'Activites des organisations professionnelles',\n",
       " 'Activites des organisations religieuses',\n",
       " \"Activites des parcs d'attractions et parcs a themes\",\n",
       " \"Activites des professionnels de la reeducation, de l'appareillage et des pedicures-podologues\",\n",
       " 'Activites des sieges sociaux',\n",
       " 'Activites des societes holding',\n",
       " 'Activites des syndicats de salaries',\n",
       " 'Activites des voyagistes',\n",
       " 'Activites generales de securite sociale',\n",
       " 'Activites hospitalieres',\n",
       " 'Activites juridiques',\n",
       " 'Activites liees aux systemes de securite',\n",
       " 'Activites photographiques',\n",
       " 'Activites specialisees de design',\n",
       " 'Activites specialisees, scientifiques et techniques diverses',\n",
       " 'Activites veterinaires',\n",
       " \"Administration d'immeubles et autres biens immobiliers\",\n",
       " 'Administration de marches financiers',\n",
       " 'Administration publique (tutelle) de la sante, de la formation, de la culture et des services sociaux, autre que securite sociale',\n",
       " 'Administration publique (tutelle) des activites economiques',\n",
       " 'Administration publique generale',\n",
       " 'Affretement et organisation des transports',\n",
       " 'Agencement de lieux de vente',\n",
       " 'Agences immobilieres',\n",
       " 'Aide a domicile',\n",
       " 'Ambulances',\n",
       " 'Analyses, essais et inspections techniques',\n",
       " 'Appret et tannage des cuirs ; preparation et teinture des fourrures',\n",
       " 'Arts du spectacle vivant',\n",
       " \"Autre accueil ou accompagnement sans hebergement d'enfants et d'adolescents\",\n",
       " 'Autre creation artistique',\n",
       " 'Autre distribution de credit',\n",
       " 'Autre imprimerie (labeur)',\n",
       " 'Autre mise a disposition de ressources humaines',\n",
       " \"Autres activites auxiliaires d'assurance et de caisses de retraite\",\n",
       " 'Autres activites auxiliaires de services financiers, hors assurance et caisses de retraite, n.c.a.',\n",
       " \"Autres activites d'edition\",\n",
       " 'Autres activites de nettoyage des batiments et nettoyage industriel',\n",
       " 'Autres activites de nettoyage n.c.a.',\n",
       " 'Autres activites de poste et de courrier',\n",
       " 'Autres activites de soutien aux entreprises n.c.a.',\n",
       " 'Autres activites de telecommunication',\n",
       " 'Autres activites des medecins specialistes',\n",
       " 'Autres activites des services financiers, hors assurance et caisses de retraite, n.c.a.',\n",
       " 'Autres activites informatiques',\n",
       " 'Autres activites liees au sport',\n",
       " 'Autres activites manufacturieres n.c.a.',\n",
       " 'Autres activites recreatives et de loisirs',\n",
       " 'Autres activites sportives',\n",
       " 'Autres assurances',\n",
       " 'Autres commerces de detail alimentaires en magasin specialise',\n",
       " 'Autres commerces de detail en magasin non specialise',\n",
       " 'Autres commerces de detail specialises divers',\n",
       " 'Autres commerces de detail sur eventaires et marches',\n",
       " 'Autres cultures non permanentes',\n",
       " 'Autres enseignements',\n",
       " 'Autres hebergements',\n",
       " 'Autres intermediaires du commerce en combustibles, metaux, mineraux et produits chimiques',\n",
       " 'Autres intermediaires du commerce en denrees, boissons et tabac',\n",
       " 'Autres intermediaires du commerce en produits divers',\n",
       " 'Autres intermediations monetaires',\n",
       " 'Autres organisations fonctionnant par adhesion volontaire',\n",
       " \"Autres services d'information n.c.a.\",\n",
       " 'Autres services de reservation et activites connexes',\n",
       " 'Autres services de restauration n.c.a.',\n",
       " 'Autres services personnels n.c.a.',\n",
       " 'Autres transports routiers de voyageurs',\n",
       " \"Autres travaux d'installation n.c.a.\",\n",
       " 'Autres travaux de finition',\n",
       " 'Autres travaux specialises de construction',\n",
       " 'Blanchisserie-teinturerie de detail',\n",
       " 'Blanchisserie-teinturerie de gros',\n",
       " 'Boulangerie et boulangerie-patisserie',\n",
       " 'Cafeterias et autres libres-services',\n",
       " \"Captage, traitement et distribution d'eau\",\n",
       " \"Centrales d'achat alimentaires\",\n",
       " \"Centrales d'achat non alimentaires\",\n",
       " 'Charcuterie',\n",
       " 'Coiffure',\n",
       " 'Collecte des dechets non dangereux',\n",
       " 'Collecte et traitement des eaux usees',\n",
       " \"Commerce d'alimentation generale\",\n",
       " \"Commerce d'autres vehicules automobiles\",\n",
       " \"Commerce d'electricite\",\n",
       " 'Commerce de detail alimentaire sur eventaires et marches',\n",
       " \"Commerce de detail d'appareils electromenagers en magasin specialise\",\n",
       " \"Commerce de detail d'articles d'horlogerie et de bijouterie en magasin specialise\",\n",
       " \"Commerce de detail d'articles de sport en magasin specialise\",\n",
       " \"Commerce de detail d'articles medicaux et orthopediques en magasin specialise\",\n",
       " \"Commerce de detail d'autres equipements du foyer\",\n",
       " \"Commerce de detail d'enregistrements musicaux et video en magasin specialise\",\n",
       " \"Commerce de detail d'equipements automobiles\",\n",
       " \"Commerce de detail d'habillement en magasin specialise\",\n",
       " \"Commerce de detail d'ordinateurs, d'unites peripheriques et de logiciels en magasin specialise\",\n",
       " \"Commerce de detail de biens d'occasion en magasin\",\n",
       " 'Commerce de detail de boissons en magasin specialise',\n",
       " 'Commerce de detail de carburants en magasin specialise',\n",
       " 'Commerce de detail de fleurs, plantes, graines, engrais, animaux de compagnie et aliments pour ces animaux en magasin specialise',\n",
       " 'Commerce de detail de fruits et legumes en magasin specialise',\n",
       " 'Commerce de detail de jeux et jouets en magasin specialise',\n",
       " 'Commerce de detail de journaux et papeterie en magasin specialise',\n",
       " 'Commerce de detail de la chaussure',\n",
       " 'Commerce de detail de livres en magasin specialise',\n",
       " \"Commerce de detail de maroquinerie et d'articles de voyage\",\n",
       " 'Commerce de detail de materiels audio et video en magasin specialise',\n",
       " 'Commerce de detail de materiels de telecommunication en magasin specialise',\n",
       " 'Commerce de detail de meubles',\n",
       " 'Commerce de detail de pain, patisserie et confiserie en magasin specialise',\n",
       " 'Commerce de detail de parfumerie et de produits de beaute en magasin specialise',\n",
       " 'Commerce de detail de poissons, crustaces et mollusques en magasin specialise',\n",
       " 'Commerce de detail de produits a base de tabac en magasin specialise',\n",
       " 'Commerce de detail de produits pharmaceutiques en magasin specialise',\n",
       " 'Commerce de detail de produits surgeles',\n",
       " 'Commerce de detail de quincaillerie, peintures et verres en grandes surfaces (400 m² et plus)',\n",
       " 'Commerce de detail de quincaillerie, peintures et verres en petites surfaces (moins de 400 m²)',\n",
       " 'Commerce de detail de tapis, moquettes et revetements de murs et de sols en magasin specialise',\n",
       " 'Commerce de detail de textiles en magasin specialise',\n",
       " \"Commerce de detail de textiles, d'habillement et de chaussures sur eventaires et marches\",\n",
       " 'Commerce de detail de viandes et de produits a base de viande en magasin specialise',\n",
       " 'Commerce de gros (commerce interentreprises) alimentaire non specialise',\n",
       " 'Commerce de gros (commerce interentreprises) alimentaire specialise divers',\n",
       " \"Commerce de gros (commerce interentreprises) d'appareils electromenagers\",\n",
       " \"Commerce de gros (commerce interentreprises) d'appareils sanitaires et de produits de decoration\",\n",
       " \"Commerce de gros (commerce interentreprises) d'articles d'horlogerie et de bijouterie\",\n",
       " \"Commerce de gros (commerce interentreprises) d'autres biens domestiques\",\n",
       " \"Commerce de gros (commerce interentreprises) d'autres machines et equipements de bureau\",\n",
       " \"Commerce de gros (commerce interentreprises) d'autres produits intermediaires\",\n",
       " \"Commerce de gros (commerce interentreprises) d'habillement et de chaussures\",\n",
       " \"Commerce de gros (commerce interentreprises) d'ordinateurs, d'equipements informatiques peripheriques et de logiciels\",\n",
       " 'Commerce de gros (commerce interentreprises) de bois et de materiaux de construction',\n",
       " 'Commerce de gros (commerce interentreprises) de boissons',\n",
       " 'Commerce de gros (commerce interentreprises) de cafe, the, cacao et epices',\n",
       " \"Commerce de gros (commerce interentreprises) de cereales, de tabac non manufacture, de semences et d'aliments pour le betail\",\n",
       " 'Commerce de gros (commerce interentreprises) de combustibles et de produits annexes',\n",
       " \"Commerce de gros (commerce interentreprises) de composants et d'equipements electroniques et de telecommunication\",\n",
       " 'Commerce de gros (commerce interentreprises) de dechets et debris',\n",
       " 'Commerce de gros (commerce interentreprises) de fleurs et plantes',\n",
       " 'Commerce de gros (commerce interentreprises) de fournitures et equipements divers pour le commerce et les services',\n",
       " 'Commerce de gros (commerce interentreprises) de fournitures et equipements industriels divers',\n",
       " 'Commerce de gros (commerce interentreprises) de fournitures pour la plomberie et le chauffage',\n",
       " 'Commerce de gros (commerce interentreprises) de fruits et legumes',\n",
       " \"Commerce de gros (commerce interentreprises) de machines pour l'extraction, la construction et le genie civil\",\n",
       " 'Commerce de gros (commerce interentreprises) de materiel agricole',\n",
       " 'Commerce de gros (commerce interentreprises) de materiel electrique',\n",
       " \"Commerce de gros (commerce interentreprises) de meubles, de tapis et d'appareils d'eclairage\",\n",
       " 'Commerce de gros (commerce interentreprises) de minerais et metaux',\n",
       " 'Commerce de gros (commerce interentreprises) de mobilier de bureau',\n",
       " 'Commerce de gros (commerce interentreprises) de parfumerie et de produits de beaute',\n",
       " 'Commerce de gros (commerce interentreprises) de poissons, crustaces et mollusques',\n",
       " 'Commerce de gros (commerce interentreprises) de produits laitiers, œufs, huiles et matieres grasses comestibles',\n",
       " 'Commerce de gros (commerce interentreprises) de produits pharmaceutiques',\n",
       " 'Commerce de gros (commerce interentreprises) de produits surgeles',\n",
       " 'Commerce de gros (commerce interentreprises) de quincaillerie',\n",
       " 'Commerce de gros (commerce interentreprises) de sucre, chocolat et confiserie',\n",
       " 'Commerce de gros (commerce interentreprises) de textiles',\n",
       " \"Commerce de gros (commerce interentreprises) de vaisselle, verrerie et produits d'entretien\",\n",
       " 'Commerce de gros (commerce interentreprises) de viandes de boucherie',\n",
       " 'Commerce de gros (commerce interentreprises) de volailles et gibier',\n",
       " 'Commerce de gros (commerce interentreprises) non specialise',\n",
       " \"Commerce de gros d'equipements automobiles\",\n",
       " 'Commerce de voitures et de vehicules automobiles legers',\n",
       " 'Commerce et reparation de motocycles',\n",
       " \"Commerces de detail d'optique\",\n",
       " 'Commerces de detail de charbons et combustibles',\n",
       " \"Conception d'ensemble et assemblage sur site industriel d'equipements de controle des processus industriels\",\n",
       " 'Conseil en relations publiques et communication',\n",
       " 'Conseil en systemes et logiciels informatiques',\n",
       " 'Conseil pour les affaires et autres conseils de gestion',\n",
       " \"Construction d'autres batiments\",\n",
       " \"Construction d'autres ouvrages de genie civil n.c.a.\",\n",
       " 'Construction de maisons individuelles',\n",
       " 'Construction de reseaux electriques et de telecommunications',\n",
       " 'Construction de reseaux pour fluides',\n",
       " 'Construction de routes et autoroutes',\n",
       " 'Controle technique automobile',\n",
       " 'Courtage de valeurs mobilieres et de marchandises',\n",
       " 'Creation artistique relevant des arts plastiques',\n",
       " 'Cuisson de produits de boulangerie',\n",
       " \"Culture d'agrumes\",\n",
       " \"Culture d'autres fruits d'arbres ou d'arbustes et de fruits a coque\",\n",
       " 'Culture de fruits oleagineux',\n",
       " 'Culture de la vigne',\n",
       " 'Culture de legumes, de melons, de racines et de tubercules',\n",
       " 'Debits de boissons',\n",
       " \"Demantelement d'epaves\",\n",
       " 'Depollution et autres services de gestion des dechets',\n",
       " 'Desinfection, desinsectisation, deratisation',\n",
       " 'Distribution de films cinematographiques',\n",
       " 'Edition de chaines thematiques',\n",
       " 'Edition de jeux electroniques',\n",
       " 'Edition de journaux',\n",
       " 'Edition de livres',\n",
       " 'Edition de logiciels applicatifs',\n",
       " 'Edition de logiciels outils de developpement et de langages',\n",
       " 'Edition de logiciels systeme et de reseau',\n",
       " 'Edition de revues et periodiques',\n",
       " 'Edition et diffusion de programmes radio',\n",
       " 'Edition et distribution video',\n",
       " \"Elevage d'autres animaux\",\n",
       " 'Elevage de volailles',\n",
       " 'Ennoblissement textile',\n",
       " 'Enregistrement sonore et edition musicale',\n",
       " 'Enseignement culturel',\n",
       " \"Enseignement de disciplines sportives et d'activites de loisirs\",\n",
       " 'Enseignement de la conduite',\n",
       " 'Enseignement post-secondaire non superieur',\n",
       " 'Enseignement primaire',\n",
       " 'Enseignement secondaire general',\n",
       " 'Enseignement secondaire technique ou professionnel',\n",
       " 'Enseignement superieur',\n",
       " 'Entreposage et stockage frigorifique',\n",
       " 'Entreposage et stockage non frigorifique',\n",
       " 'Entretien corporel',\n",
       " \"Entretien et reparation d'autres vehicules automobiles\",\n",
       " 'Entretien et reparation de vehicules automobiles legers',\n",
       " 'Etudes de marche et sondages',\n",
       " 'Evaluation des risques et dommages',\n",
       " \"Extraction de pierres ornementales et de construction, de calcaire industriel, de gypse, de craie et d'ardoise\",\n",
       " \"Fabrication d'aliments pour animaux de compagnie\",\n",
       " \"Fabrication d'appareils electromenagers\",\n",
       " \"Fabrication d'articles ceramiques a usage domestique ou ornemental\",\n",
       " \"Fabrication d'articles de bijouterie fantaisie et articles similaires\",\n",
       " \"Fabrication d'articles de joaillerie et bijouterie\",\n",
       " \"Fabrication d'articles de sport\",\n",
       " \"Fabrication d'articles de voyage, de maroquinerie et de sellerie\",\n",
       " \"Fabrication d'articles metalliques menagers\",\n",
       " \"Fabrication d'articles textiles, sauf habillement\",\n",
       " \"Fabrication d'autres articles en papier ou en carton\",\n",
       " \"Fabrication d'autres articles metalliques\",\n",
       " \"Fabrication d'autres machines d'usage general\",\n",
       " \"Fabrication d'autres materiels electriques\",\n",
       " \"Fabrication d'autres meubles et industries connexes de l'ameublement\",\n",
       " \"Fabrication d'autres ouvrages en beton, en ciment ou en platre\",\n",
       " \"Fabrication d'autres produits alimentaires n.c.a.\",\n",
       " \"Fabrication d'autres produits laitiers\",\n",
       " \"Fabrication d'autres textiles n.c.a.\",\n",
       " \"Fabrication d'autres vetements et accessoires\",\n",
       " \"Fabrication d'elements en matieres plastiques pour la construction\",\n",
       " \"Fabrication d'emballages en matieres plastiques\",\n",
       " \"Fabrication d'equipements aerauliques et frigorifiques industriels\",\n",
       " \"Fabrication d'equipements d'aide a la navigation\",\n",
       " \"Fabrication d'equipements d'emballage, de conditionnement et de pesage\",\n",
       " \"Fabrication d'etoffes a mailles\",\n",
       " \"Fabrication d'instrumentation scientifique et technique\",\n",
       " \"Fabrication d'instruments de musique\",\n",
       " \"Fabrication d'objets divers en bois ; fabrication d'objets en liege, vannerie et sparterie\",\n",
       " \"Fabrication d'ordinateurs et d'equipements peripheriques\",\n",
       " \"Fabrication de beton pret a l'emploi\",\n",
       " 'Fabrication de biere',\n",
       " 'Fabrication de biscuits, biscottes et patisseries de conservation',\n",
       " 'Fabrication de cacao, chocolat et de produits de confiserie',\n",
       " 'Fabrication de carrosseries et remorques',\n",
       " \"Fabrication de charpentes et d'autres menuiseries\",\n",
       " 'Fabrication de glaces et sorbets',\n",
       " 'Fabrication de jeux et jouets',\n",
       " 'Fabrication de machines agricoles et forestieres',\n",
       " \"Fabrication de machines pour l'extraction ou la construction\",\n",
       " 'Fabrication de materiel de levage et de manutention',\n",
       " 'Fabrication de materiel medico-chirurgical et dentaire',\n",
       " 'Fabrication de materiels optique et photographique',\n",
       " 'Fabrication de meubles de bureau et de magasin',\n",
       " 'Fabrication de meubles de cuisine',\n",
       " 'Fabrication de parfums et de produits pour la toilette',\n",
       " 'Fabrication de pates alimentaires',\n",
       " 'Fabrication de peintures, vernis, encres et mastics',\n",
       " 'Fabrication de pieces techniques a base de matieres plastiques',\n",
       " 'Fabrication de plaques, feuilles, tubes et profiles en matieres plastiques',\n",
       " 'Fabrication de plats prepares',\n",
       " 'Fabrication de portes et fenetres en metal',\n",
       " 'Fabrication de produits de consommation courante en matieres plastiques',\n",
       " 'Fabrication de produits electroniques grand public',\n",
       " \"Fabrication de savons, detergents et produits d'entretien\",\n",
       " 'Fabrication de serrures et de ferrures',\n",
       " 'Fabrication de structures metalliques et de parties de structures',\n",
       " 'Fabrication de tapis et moquettes',\n",
       " 'Fabrication de verre creux',\n",
       " 'Fabrication de vetements de dessus',\n",
       " 'Faconnage et transformation du verre plat',\n",
       " \"Fonderie d'autres metaux non ferreux\",\n",
       " 'Fonds de placement et entites financieres similaires',\n",
       " 'Forages et sondages',\n",
       " \"Formation continue d'adultes\",\n",
       " \"Gestion d'installations informatiques\",\n",
       " \"Gestion d'installations sportives\",\n",
       " 'Gestion de fonds',\n",
       " 'Gestion de salles de spectacles',\n",
       " 'Gestion des musees',\n",
       " 'Gestion des retraites complementaires',\n",
       " 'Gestion des sites et monuments historiques et des attractions touristiques similaires',\n",
       " 'Grands magasins',\n",
       " 'Hebergement medicalise pour personnes agees',\n",
       " 'Hebergement social pour personnes agees',\n",
       " 'Hebergement touristique et autre hebergement de courte duree',\n",
       " 'Hotels et hebergement similaire',\n",
       " 'Impregnation du bois',\n",
       " 'Ingenierie, etudes techniques',\n",
       " \"Installation d'equipements electriques, de materiels electroniques et optiques ou d'autres materiels\",\n",
       " 'Installation de machines et equipements mecaniques',\n",
       " 'Installation de structures metalliques, chaudronnees et de tuyauterie',\n",
       " 'Intermediaires du commerce en bois et materiaux de construction',\n",
       " 'Intermediaires du commerce en machines, equipements industriels, navires et avions',\n",
       " 'Intermediaires du commerce en meubles, articles de menage et quincaillerie',\n",
       " 'Intermediaires du commerce en textiles, habillement, fourrures, chaussures et articles en cuir',\n",
       " \"Intermediaires specialises dans le commerce d'autres produits specifiques\",\n",
       " \"Laboratoires d'analyses medicales\",\n",
       " 'Location avec operateur de materiel de construction',\n",
       " 'Location de camions avec chauffeur',\n",
       " 'Location de courte duree de voitures et de vehicules automobiles legers',\n",
       " 'Location de logements',\n",
       " 'Location de longue duree de voitures et de vehicules automobiles legers',\n",
       " \"Location de terrains et d'autres biens immobiliers\",\n",
       " 'Location de videocassettes et disques video',\n",
       " \"Location et location-bail d'articles de loisirs et de sport\",\n",
       " \"Location et location-bail d'autres biens personnels et domestiques\",\n",
       " \"Location et location-bail d'autres machines, equipements et biens materiels n.c.a.\",\n",
       " 'Location et location-bail de camions',\n",
       " 'Location et location-bail de machines de bureau et de materiel informatique',\n",
       " 'Location et location-bail de machines et equipements pour la construction',\n",
       " 'Location et location-bail de materiels de transport aerien',\n",
       " 'Location et location-bail de materiels de transport par eau',\n",
       " \"Location-bail de propriete intellectuelle et de produits similaires, a l'exception des œuvres soumises a copyright\",\n",
       " 'Manutention non portuaire',\n",
       " 'Mecanique industrielle',\n",
       " 'Messagerie, fret express',\n",
       " 'Metallurgie des autres metaux non ferreux',\n",
       " 'Nettoyage courant des batiments',\n",
       " 'Organisation de foires, salons professionnels et congres',\n",
       " \"Organisation de jeux de hasard et d'argent\",\n",
       " 'Patisserie',\n",
       " 'Peche en mer',\n",
       " 'Photocopie, preparation de documents et autres activites specialisees de soutien de bureau',\n",
       " 'Portails Internet',\n",
       " 'Post-production de films cinematographiques, de video et de programmes de television',\n",
       " 'Pratique dentaire',\n",
       " \"Production d'electricite\",\n",
       " 'Production de boissons rafraichissantes',\n",
       " 'Production de films et de programmes pour la television',\n",
       " 'Production de films institutionnels et publicitaires',\n",
       " 'Production de films pour le cinema',\n",
       " 'Production de metaux precieux',\n",
       " 'Programmation informatique',\n",
       " 'Projection de films cinematographiques',\n",
       " \"Promotion immobiliere d'autres batiments\",\n",
       " 'Promotion immobiliere de bureaux',\n",
       " 'Promotion immobiliere de logements',\n",
       " 'Recherche-developpement en autres sciences physiques et naturelles',\n",
       " 'Recherche-developpement en biotechnologie',\n",
       " 'Recherche-developpement en sciences humaines et sociales',\n",
       " 'Recuperation de dechets tries',\n",
       " 'Regie publicitaire de medias',\n",
       " 'Reliure et activites connexes',\n",
       " \"Reparation d'appareils electromenagers et d'equipements pour la maison et le jardin\",\n",
       " \"Reparation d'articles d'horlogerie et de bijouterie\",\n",
       " \"Reparation d'autres biens personnels et domestiques\",\n",
       " \"Reparation d'autres equipements\",\n",
       " \"Reparation d'equipements de communication\",\n",
       " \"Reparation d'equipements electriques\",\n",
       " \"Reparation d'ordinateurs et d'equipements peripheriques\",\n",
       " \"Reparation d'ouvrages en metaux\",\n",
       " \"Reparation de chaussures et d'articles en cuir\",\n",
       " 'Reparation de machines et equipements mecaniques',\n",
       " 'Reparation de materiels electroniques et optiques',\n",
       " \"Reparation de meubles et d'equipements du foyer\",\n",
       " 'Reparation de produits electroniques grand public',\n",
       " \"Reparation et maintenance d'aeronefs et d'engins spatiaux\",\n",
       " \"Reparation et maintenance d'autres equipements de transport\",\n",
       " 'Reparation et maintenance navale',\n",
       " \"Reproduction d'enregistrements\",\n",
       " 'Reproduction de plantes',\n",
       " 'Restauration collective sous contrat',\n",
       " 'Restauration de type rapide',\n",
       " 'Restauration traditionnelle',\n",
       " 'Sciage et rabotage du bois, hors impregnation',\n",
       " 'Services administratifs combines de bureau',\n",
       " 'Services auxiliaires des transports aeriens',\n",
       " 'Services auxiliaires des transports par eau',\n",
       " 'Services auxiliaires des transports terrestres',\n",
       " \"Services d'amenagement paysager\",\n",
       " 'Services de demenagement',\n",
       " \"Services de soutien a l'exploitation forestiere\",\n",
       " 'Services des traiteurs',\n",
       " 'Services du feu et de secours',\n",
       " 'Services funeraires',\n",
       " 'Soins de beaute',\n",
       " 'Superettes',\n",
       " 'Supermarches',\n",
       " 'Supports juridiques de gestion de patrimoine immobilier',\n",
       " 'Supports juridiques de gestion de patrimoine mobilier',\n",
       " 'Supports juridiques de programmes',\n",
       " 'Sylviculture et autres activites forestieres',\n",
       " 'Taille, faconnage et finissage de pierres',\n",
       " 'Telecommunications filaires',\n",
       " 'Telecommunications par satellite',\n",
       " 'Telecommunications sans fil',\n",
       " 'Telepheriques et remontees mecaniques',\n",
       " 'Terrains de camping et parcs pour caravanes ou vehicules de loisirs',\n",
       " \"Tierce maintenance de systemes et d'applications informatiques\",\n",
       " 'Traduction et interpretation',\n",
       " 'Traitement de donnees, hebergement et activites connexes',\n",
       " 'Traitement et elimination des dechets dangereux',\n",
       " 'Traitement et elimination des dechets non dangereux',\n",
       " 'Traitement et revetement des metaux',\n",
       " 'Transformation et conservation de fruits',\n",
       " \"Transport d'electricite\",\n",
       " 'Transport ferroviaire interurbain de voyageurs',\n",
       " 'Transports aeriens de passagers',\n",
       " 'Transports de voyageurs par taxis',\n",
       " 'Transports maritimes et cotiers de fret',\n",
       " 'Transports maritimes et cotiers de passagers',\n",
       " 'Transports par conduites',\n",
       " 'Transports routiers de fret de proximite',\n",
       " 'Transports routiers de fret interurbains',\n",
       " 'Transports routiers reguliers de voyageurs',\n",
       " 'Transports urbains et suburbains de voyageurs',\n",
       " \"Travaux d'etancheification\",\n",
       " \"Travaux d'installation d'eau et de gaz en tous locaux\",\n",
       " \"Travaux d'installation d'equipements thermiques et de climatisation\",\n",
       " \"Travaux d'installation electrique dans tous locaux\",\n",
       " \"Travaux d'installation electrique sur la voie publique\",\n",
       " \"Travaux d'isolation\",\n",
       " 'Travaux de charpente',\n",
       " 'Travaux de couverture par elements',\n",
       " 'Travaux de demolition',\n",
       " 'Travaux de maconnerie generale et gros œuvre de batiment',\n",
       " 'Travaux de menuiserie bois et PVC',\n",
       " 'Travaux de menuiserie metallique et serrurerie',\n",
       " 'Travaux de montage de structures metalliques',\n",
       " 'Travaux de peinture et vitrerie',\n",
       " 'Travaux de platrerie',\n",
       " 'Travaux de revetement des sols et des murs',\n",
       " 'Travaux de terrassement courants et travaux preparatoires',\n",
       " 'Travaux de terrassement specialises ou de grande masse',\n",
       " 'Vente a distance sur catalogue general',\n",
       " 'Vente a distance sur catalogue specialise',\n",
       " 'Vente a domicile',\n",
       " 'Vente par automates et autres commerces de detail hors magasin, eventaires ou marches n.c.a.']"
      ]
     },
     "execution_count": 41,
     "metadata": {},
     "output_type": "execute_result"
    }
   ],
   "source": [
    "list_X_encoder"
   ]
  },
  {
   "cell_type": "code",
   "execution_count": 42,
   "id": "e368e432",
   "metadata": {},
   "outputs": [
    {
     "data": {
      "text/plain": [
       "481"
      ]
     },
     "execution_count": 42,
     "metadata": {},
     "output_type": "execute_result"
    }
   ],
   "source": [
    "len(list_X_encoder)"
   ]
  },
  {
   "cell_type": "code",
   "execution_count": null,
   "id": "fb7bbeae",
   "metadata": {},
   "outputs": [],
   "source": []
  },
  {
   "cell_type": "code",
   "execution_count": null,
   "id": "7835393f",
   "metadata": {},
   "outputs": [],
   "source": []
  },
  {
   "cell_type": "code",
   "execution_count": null,
   "id": "5c03e61e",
   "metadata": {},
   "outputs": [],
   "source": []
  },
  {
   "cell_type": "code",
   "execution_count": null,
   "id": "0ceadce9",
   "metadata": {},
   "outputs": [],
   "source": []
  },
  {
   "cell_type": "markdown",
   "id": "d8ee9b72",
   "metadata": {},
   "source": [
    "### Encoder y"
   ]
  },
  {
   "cell_type": "code",
   "execution_count": 43,
   "id": "2058e276",
   "metadata": {},
   "outputs": [
    {
     "data": {
      "text/plain": [
       "array([[0.],\n",
       "       [0.],\n",
       "       [0.],\n",
       "       ...,\n",
       "       [1.],\n",
       "       [1.],\n",
       "       [0.]])"
      ]
     },
     "execution_count": 43,
     "metadata": {},
     "output_type": "execute_result"
    }
   ],
   "source": [
    "y_encoder"
   ]
  },
  {
   "cell_type": "code",
   "execution_count": 44,
   "id": "e7a2e22e",
   "metadata": {},
   "outputs": [
    {
     "data": {
      "text/plain": [
       "['non', 'oui']"
      ]
     },
     "execution_count": 44,
     "metadata": {},
     "output_type": "execute_result"
    }
   ],
   "source": [
    " list_y_encoder"
   ]
  },
  {
   "cell_type": "code",
   "execution_count": null,
   "id": "b4da01f0",
   "metadata": {},
   "outputs": [],
   "source": []
  },
  {
   "cell_type": "code",
   "execution_count": null,
   "id": "a7fb81a5",
   "metadata": {},
   "outputs": [],
   "source": []
  },
  {
   "cell_type": "markdown",
   "id": "8565ce2b",
   "metadata": {},
   "source": [
    "## Model baseline"
   ]
  },
  {
   "cell_type": "code",
   "execution_count": 45,
   "id": "1923968c",
   "metadata": {},
   "outputs": [
    {
     "data": {
      "text/plain": [
       "0.0    22619\n",
       "1.0    17664\n",
       "dtype: int64"
      ]
     },
     "execution_count": 45,
     "metadata": {},
     "output_type": "execute_result"
    }
   ],
   "source": [
    "valeur_proche_t1=pd.DataFrame(y_encoder).value_counts()\n",
    "valeur_proche_t1"
   ]
  },
  {
   "cell_type": "code",
   "execution_count": 46,
   "id": "643ffad0",
   "metadata": {},
   "outputs": [
    {
     "data": {
      "text/plain": [
       "0.43849762927289426"
      ]
     },
     "execution_count": 46,
     "metadata": {},
     "output_type": "execute_result"
    }
   ],
   "source": [
    "Model_baseline=valeur_proche_t1[1]/(valeur_proche_t1[0]+valeur_proche_t1[1])\n",
    "Model_baseline"
   ]
  },
  {
   "cell_type": "code",
   "execution_count": null,
   "id": "3a35d173",
   "metadata": {},
   "outputs": [],
   "source": []
  },
  {
   "cell_type": "markdown",
   "id": "87afc807",
   "metadata": {},
   "source": [
    "## Logistic regression"
   ]
  },
  {
   "cell_type": "code",
   "execution_count": null,
   "id": "b6d907ac",
   "metadata": {},
   "outputs": [],
   "source": []
  },
  {
   "cell_type": "code",
   "execution_count": 47,
   "id": "7c4d0516",
   "metadata": {},
   "outputs": [],
   "source": [
    "from sklearn.model_selection import train_test_split\n",
    "X_train, X_test, y_train, y_test = train_test_split(\n",
    "                    X_encoder, y_encoder, test_size=0.3)"
   ]
  },
  {
   "cell_type": "code",
   "execution_count": null,
   "id": "6dc7ba7a",
   "metadata": {},
   "outputs": [],
   "source": []
  },
  {
   "cell_type": "code",
   "execution_count": 48,
   "id": "60690544",
   "metadata": {},
   "outputs": [
    {
     "name": "stderr",
     "output_type": "stream",
     "text": [
      "/home/lewagon/.pyenv/versions/3.8.6/envs/trampact/lib/python3.8/site-packages/sklearn/utils/validation.py:63: DataConversionWarning: A column-vector y was passed when a 1d array was expected. Please change the shape of y to (n_samples, ), for example using ravel().\n",
      "  return f(*args, **kwargs)\n",
      "/home/lewagon/.pyenv/versions/3.8.6/envs/trampact/lib/python3.8/site-packages/sklearn/linear_model/_logistic.py:763: ConvergenceWarning: lbfgs failed to converge (status=1):\n",
      "STOP: TOTAL NO. of ITERATIONS REACHED LIMIT.\n",
      "\n",
      "Increase the number of iterations (max_iter) or scale the data as shown in:\n",
      "    https://scikit-learn.org/stable/modules/preprocessing.html\n",
      "Please also refer to the documentation for alternative solver options:\n",
      "    https://scikit-learn.org/stable/modules/linear_model.html#logistic-regression\n",
      "  n_iter_i = _check_optimize_result(\n"
     ]
    },
    {
     "data": {
      "text/plain": [
       "LogisticRegression()"
      ]
     },
     "execution_count": 48,
     "metadata": {},
     "output_type": "execute_result"
    }
   ],
   "source": [
    "from sklearn.linear_model import LogisticRegression\n",
    "# Instanciate the model\n",
    "model = LogisticRegression()\n",
    "# # Train the model on the Training data\n",
    "model.fit(X_train, y_train)"
   ]
  },
  {
   "cell_type": "code",
   "execution_count": null,
   "id": "e22965b5",
   "metadata": {},
   "outputs": [],
   "source": []
  },
  {
   "cell_type": "code",
   "execution_count": 49,
   "id": "408cdcc7",
   "metadata": {
    "scrolled": true
   },
   "outputs": [
    {
     "data": {
      "text/plain": [
       "array([[ 0.04051218,  0.17249342,  0.29526805,  0.60019633, -0.01603917,\n",
       "         0.10823863, -0.7258693 , -0.86698895,  0.04740364,  0.26045571,\n",
       "        -0.21170786, -0.05725275,  0.07166217,  0.38619631,  0.34138771,\n",
       "        -0.11487898, -0.44692016, -0.11929596, -0.11893543,  0.13989379,\n",
       "         0.22619372, -0.47853407, -0.27228715, -0.941566  ,  0.41598924,\n",
       "         0.37623029,  0.34350518, -0.69747765,  0.43014847,  0.        ,\n",
       "        -0.10039426,  0.07807023, -0.56513576,  0.04856455,  0.02068718,\n",
       "         1.38421504, -0.88830053,  0.59089607,  0.03627024,  0.27864217,\n",
       "         0.175393  , -0.08595531, -0.32369703,  0.        , -0.32369703,\n",
       "        -0.16375699,  0.11260572,  0.15840011,  0.11376912, -0.23293678,\n",
       "        -0.30440747,  1.18191004, -0.02226686, -0.47585726, -0.17305216,\n",
       "         1.09216484, -1.46210523,  0.02996474,  0.03793913, -0.37964778,\n",
       "        -0.78487727, -0.11677066, -0.59618241,  0.03406392, -0.62848384,\n",
       "         1.00149955, -0.40404724, -0.30166348, -0.08175622, -0.02586605,\n",
       "        -0.73410973, -0.73290906, -0.32369703,  0.55981382,  0.        ,\n",
       "         0.38073605, -0.05725275,  0.23999374,  0.01743187, -0.44400145,\n",
       "         0.17689277,  0.75393433,  0.06100244, -0.48279462,  0.66779669,\n",
       "        -0.22676985,  0.06289305,  0.05280923, -0.23358246, -0.08359235,\n",
       "        -0.26089508,  0.33826618,  0.15610034,  0.42695159,  0.66803006,\n",
       "         0.58053591,  0.35698583,  0.54818006,  0.04861883, -1.09070588,\n",
       "         0.13153621, -0.32369703,  0.        ,  0.70923941, -0.3933321 ,\n",
       "         1.17914117,  0.36611211, -0.71380958, -0.73000976, -0.54593014,\n",
       "        -0.18912331, -0.05918417, -0.16282228, -0.07341334,  0.13869755,\n",
       "         0.06436544,  0.09951469,  0.23640853, -0.57633896,  0.43406945,\n",
       "         0.43406945,  0.        ,  0.08557698,  0.26548366, -0.05725275,\n",
       "        -0.24689115,  0.13117708, -0.68875005, -0.57633896,  0.67771538,\n",
       "        -0.34709849,  1.09817404,  0.14827941,  0.58107745,  0.52171637,\n",
       "         1.02121632, -0.70436418,  1.10286266, -0.11141653,  0.56869224,\n",
       "         0.23537116, -0.51607259,  0.13798882, -0.27093708, -0.29317578,\n",
       "         0.44426741,  1.67005747,  0.55811442,  0.74134173,  1.02840172,\n",
       "         0.27924092,  0.30292342,  0.71338834,  0.37440035,  0.7757815 ,\n",
       "         0.18837093,  0.39664645,  0.39030677, -0.16375699, -0.15954418,\n",
       "         0.43406945,  0.4916881 , -0.09832141,  0.42146401, -0.68893119,\n",
       "        -0.31858647, -0.7776311 ,  0.43406945,  0.68165662,  0.12015872,\n",
       "        -0.7776311 , -0.38058755,  0.43698245, -0.18768621,  0.38486053,\n",
       "        -0.20481651,  0.09951469, -0.32369703, -0.32369703, -1.07786506,\n",
       "        -0.16375699, -0.81140669,  0.63122341,  0.05155006, -0.32369703,\n",
       "        -0.74723948,  0.76562736, -0.32369703,  0.33092245, -0.17899695,\n",
       "         0.41086219, -0.32369703,  0.06054376, -0.16375699,  0.43406945,\n",
       "         0.39897972, -0.32369703,  0.43406945, -0.32369703, -0.79206813,\n",
       "        -0.16375699,  0.15840011, -0.32369703,  0.35846023, -0.82679773,\n",
       "        -0.50275595, -0.11470093,  0.91191585,  0.42695159, -0.32369703,\n",
       "        -0.10862069, -0.44634826, -0.14504045, -0.01651357, -0.06494976,\n",
       "         0.51193447, -0.16375699,  0.        , -0.16375699, -0.34709849,\n",
       "         0.15149665,  0.33908104,  0.15840011,  0.        , -0.57633896,\n",
       "        -0.32369703, -0.46307098, -1.86571311,  1.22181341, -0.23358246,\n",
       "         0.        , -0.0459429 , -0.05725275, -0.32369703,  0.        ,\n",
       "         0.21261426,  0.19861689, -0.09932597,  0.42695159,  0.41086219,\n",
       "         0.34637505,  0.55657848,  0.39273828, -0.48279462,  0.        ,\n",
       "         0.43406945, -0.29876435,  0.15785788, -0.17878935,  0.91092682,\n",
       "         0.05780122, -0.16375699,  0.33092245,  0.38056961,  0.17520059,\n",
       "        -0.32369703,  0.15438097,  0.00407488, -0.16375699, -0.65251667,\n",
       "        -0.36625627,  0.06175276, -0.32369703, -0.32369703, -0.32369703,\n",
       "        -0.16375699, -0.49040774,  0.48223188,  0.        ,  0.45902146,\n",
       "         0.43406945, -0.23358246,  0.76562736, -0.32369703,  0.        ,\n",
       "         0.        , -0.34628453, -0.57633896, -0.57633896, -0.32369703,\n",
       "        -0.57633896, -0.23358246, -0.57633896,  0.        , -0.57633896,\n",
       "        -0.32369703,  0.43406945,  0.09951469,  0.        ,  0.43406945,\n",
       "         0.39273828, -0.32369703, -0.32369703,  0.        , -0.23358246,\n",
       "         0.74461398, -0.32369703, -0.97075155,  0.43406945,  0.43406945,\n",
       "        -0.32369703, -0.32369703,  0.        ,  0.18496142,  0.        ,\n",
       "        -0.32369703,  0.43406945,  0.15840011, -0.63859329,  0.        ,\n",
       "         0.        ,  0.76562736,  0.15840011, -0.57633896,  0.09951469,\n",
       "         0.40959173,  0.09951469,  0.76562736, -0.83216048,  0.        ,\n",
       "        -0.32369703,  0.52087987, -0.32369703, -0.32369703,  0.06603206,\n",
       "         0.09951469, -0.08851467,  0.76714591, -0.39886994,  0.21942831,\n",
       "         0.42695159, -0.32369703, -0.32369703,  0.10880141,  0.43406945,\n",
       "        -0.56694245, -0.20395589, -0.01539359,  0.72288537,  0.        ,\n",
       "        -0.45820243, -0.26316926, -0.9562438 , -0.70378585, -0.52668058,\n",
       "        -0.57633896,  0.76562736, -0.0255673 , -0.17342857,  0.63662195,\n",
       "        -0.32369703,  0.09951469, -0.21163502,  0.1666172 ,  0.        ,\n",
       "        -0.2644751 ,  0.        , -0.1926205 ,  0.2014848 ,  0.04856455,\n",
       "         0.64854444, -0.57633896, -0.16375699,  0.        , -0.57633896,\n",
       "         0.33361936,  0.37623029,  0.15840011,  0.08557698,  0.        ,\n",
       "        -0.1773738 ,  0.31027325, -0.7776311 ,  0.68566285,  0.43406945,\n",
       "        -0.08570498, -0.15973893, -0.44400145,  0.76971827, -1.24935195,\n",
       "         0.        ,  0.39424408,  0.74509899, -1.12854012,  0.43406945,\n",
       "        -0.02043919, -0.60568626, -0.16375699,  0.43406945, -0.77936903,\n",
       "         0.36838441,  1.02121632, -0.374262  , -0.26316926,  0.22779666,\n",
       "         0.        , -0.16375699,  1.20697735,  0.0115297 , -0.374262  ,\n",
       "        -0.39048727,  0.        , -0.14274055, -0.32369703,  1.71713671,\n",
       "         0.36290216,  0.68165662,  1.22228042, -0.54593014,  0.43406945,\n",
       "         0.        ,  0.73954756,  0.76562736, -0.56015369, -0.47585726,\n",
       "         0.57313769,  0.97520434, -0.32369703, -0.32150702,  0.41740467,\n",
       "        -0.38695597,  0.63260816, -0.43689817, -0.66601341, -0.32369703,\n",
       "         0.07049287, -0.32369703,  0.09812144,  0.17061321,  0.6671254 ,\n",
       "         0.43092775,  0.01027733, -0.03208392, -0.55934046,  0.        ,\n",
       "        -0.37351585, -0.57633896, -0.32369703, -0.941566  , -0.32369703,\n",
       "         0.        , -0.04170399, -0.08541593,  0.72173277,  0.43406945,\n",
       "        -0.36948471,  0.        , -0.32369703, -0.32369703,  0.76562736,\n",
       "         0.86894267, -0.46045349, -0.32369703, -0.05725275,  0.43406945,\n",
       "        -0.28901608, -0.09914847, -0.1785772 , -0.56015369, -0.5411428 ,\n",
       "        -0.01862037, -0.27251961, -0.21350271, -0.16375699, -1.07786506,\n",
       "        -0.06663426, -0.48029536,  1.00499227,  0.36374332, -0.14393305,\n",
       "        -0.36677561,  0.22521181,  0.04812995, -0.01046869, -0.14382333,\n",
       "        -0.37382484,  0.09951469,  0.01553693, -0.0562928 , -0.04090682,\n",
       "        -0.05277228]])"
      ]
     },
     "execution_count": 49,
     "metadata": {},
     "output_type": "execute_result"
    }
   ],
   "source": [
    "model.coef_"
   ]
  },
  {
   "cell_type": "code",
   "execution_count": null,
   "id": "ce8d0626",
   "metadata": {},
   "outputs": [],
   "source": []
  },
  {
   "cell_type": "code",
   "execution_count": 50,
   "id": "d15dd2fa",
   "metadata": {},
   "outputs": [
    {
     "data": {
      "text/plain": [
       "(1, 481)"
      ]
     },
     "execution_count": 50,
     "metadata": {},
     "output_type": "execute_result"
    }
   ],
   "source": [
    "model.coef_.shape"
   ]
  },
  {
   "cell_type": "code",
   "execution_count": null,
   "id": "3df27239",
   "metadata": {},
   "outputs": [],
   "source": []
  },
  {
   "cell_type": "code",
   "execution_count": 51,
   "id": "6e9abc97",
   "metadata": {},
   "outputs": [
    {
     "data": {
      "text/plain": [
       "0.5851055026892842"
      ]
     },
     "execution_count": 51,
     "metadata": {},
     "output_type": "execute_result"
    }
   ],
   "source": [
    "model.score(X_test, y_test)"
   ]
  },
  {
   "cell_type": "code",
   "execution_count": null,
   "id": "6eca0690",
   "metadata": {},
   "outputs": [],
   "source": []
  },
  {
   "cell_type": "code",
   "execution_count": null,
   "id": "d8561180",
   "metadata": {},
   "outputs": [],
   "source": []
  },
  {
   "cell_type": "code",
   "execution_count": 52,
   "id": "8572c343",
   "metadata": {},
   "outputs": [
    {
     "data": {
      "text/html": [
       "<div>\n",
       "<style scoped>\n",
       "    .dataframe tbody tr th:only-of-type {\n",
       "        vertical-align: middle;\n",
       "    }\n",
       "\n",
       "    .dataframe tbody tr th {\n",
       "        vertical-align: top;\n",
       "    }\n",
       "\n",
       "    .dataframe thead th {\n",
       "        text-align: right;\n",
       "    }\n",
       "</style>\n",
       "<table border=\"1\" class=\"dataframe\">\n",
       "  <thead>\n",
       "    <tr style=\"text-align: right;\">\n",
       "      <th></th>\n",
       "      <th>Reparation de chaussures et d'articles en cuir</th>\n",
       "      <th>Commerce de detail de la chaussure</th>\n",
       "      <th>Activites des agences de recouvrement de factures et des societes d'information financiere sur la clientele</th>\n",
       "      <th>Reparation de meubles et d'equipements du foyer</th>\n",
       "      <th>Debits de boissons</th>\n",
       "      <th>Reparation d'articles d'horlogerie et de bijouterie</th>\n",
       "      <th>Activites des syndicats de salaries</th>\n",
       "      <th>Autres intermediations monetaires</th>\n",
       "      <th>Commerce de detail d'habillement en magasin specialise</th>\n",
       "      <th>Commerce de detail d'articles d'horlogerie et de bijouterie en magasin specialise</th>\n",
       "      <th>...</th>\n",
       "      <th>Activites de conditionnement</th>\n",
       "      <th>Installation de machines et equipements mecaniques</th>\n",
       "      <th>Fabrication de charpentes et d'autres menuiseries</th>\n",
       "      <th>Commerce de gros (commerce interentreprises) de composants et d'equipements electroniques et de telecommunication</th>\n",
       "      <th>Travaux d'isolation</th>\n",
       "      <th>Autres cultures non permanentes</th>\n",
       "      <th>Production de films pour le cinema</th>\n",
       "      <th>Production d'electricite</th>\n",
       "      <th>Activites liees aux systemes de securite</th>\n",
       "      <th>Culture de legumes, de melons, de racines et de tubercules</th>\n",
       "    </tr>\n",
       "  </thead>\n",
       "  <tbody>\n",
       "    <tr>\n",
       "      <th>0</th>\n",
       "      <td>1.717137</td>\n",
       "      <td>1.670057</td>\n",
       "      <td>1.384215</td>\n",
       "      <td>1.22228</td>\n",
       "      <td>1.221813</td>\n",
       "      <td>1.206977</td>\n",
       "      <td>1.18191</td>\n",
       "      <td>1.179141</td>\n",
       "      <td>1.102863</td>\n",
       "      <td>1.098174</td>\n",
       "      <td>...</td>\n",
       "      <td>-0.941566</td>\n",
       "      <td>-0.956244</td>\n",
       "      <td>-0.970752</td>\n",
       "      <td>-1.077865</td>\n",
       "      <td>-1.077865</td>\n",
       "      <td>-1.090706</td>\n",
       "      <td>-1.12854</td>\n",
       "      <td>-1.249352</td>\n",
       "      <td>-1.462105</td>\n",
       "      <td>-1.865713</td>\n",
       "    </tr>\n",
       "  </tbody>\n",
       "</table>\n",
       "<p>1 rows × 481 columns</p>\n",
       "</div>"
      ],
      "text/plain": [
       "   Reparation de chaussures et d'articles en cuir  \\\n",
       "0                                        1.717137   \n",
       "\n",
       "   Commerce de detail de la chaussure  \\\n",
       "0                            1.670057   \n",
       "\n",
       "   Activites des agences de recouvrement de factures et des societes d'information financiere sur la clientele  \\\n",
       "0                                           1.384215                                                             \n",
       "\n",
       "   Reparation de meubles et d'equipements du foyer  Debits de boissons  \\\n",
       "0                                          1.22228            1.221813   \n",
       "\n",
       "   Reparation d'articles d'horlogerie et de bijouterie  \\\n",
       "0                                           1.206977     \n",
       "\n",
       "   Activites des syndicats de salaries  Autres intermediations monetaires  \\\n",
       "0                              1.18191                           1.179141   \n",
       "\n",
       "   Commerce de detail d'habillement en magasin specialise  \\\n",
       "0                                           1.102863        \n",
       "\n",
       "   Commerce de detail d'articles d'horlogerie et de bijouterie en magasin specialise  \\\n",
       "0                                           1.098174                                   \n",
       "\n",
       "   ...  Activites de conditionnement  \\\n",
       "0  ...                     -0.941566   \n",
       "\n",
       "   Installation de machines et equipements mecaniques  \\\n",
       "0                                          -0.956244    \n",
       "\n",
       "   Fabrication de charpentes et d'autres menuiseries  \\\n",
       "0                                          -0.970752   \n",
       "\n",
       "   Commerce de gros (commerce interentreprises) de composants et d'equipements electroniques et de telecommunication  \\\n",
       "0                                          -1.077865                                                                   \n",
       "\n",
       "   Travaux d'isolation  Autres cultures non permanentes  \\\n",
       "0            -1.077865                        -1.090706   \n",
       "\n",
       "   Production de films pour le cinema  Production d'electricite  \\\n",
       "0                            -1.12854                 -1.249352   \n",
       "\n",
       "   Activites liees aux systemes de securite  \\\n",
       "0                                 -1.462105   \n",
       "\n",
       "   Culture de legumes, de melons, de racines et de tubercules  \n",
       "0                                          -1.865713           \n",
       "\n",
       "[1 rows x 481 columns]"
      ]
     },
     "execution_count": 52,
     "metadata": {},
     "output_type": "execute_result"
    }
   ],
   "source": [
    "coef_2008=pd.DataFrame(model.coef_,columns=list_X_encoder).sort_values(by=0,axis=1, ascending=False)\n",
    "coef_2008"
   ]
  },
  {
   "cell_type": "code",
   "execution_count": null,
   "id": "ee4b0aa1",
   "metadata": {},
   "outputs": [],
   "source": []
  },
  {
   "cell_type": "code",
   "execution_count": 53,
   "id": "22b61ff5",
   "metadata": {},
   "outputs": [
    {
     "data": {
      "text/plain": [
       "Reparation de chaussures et d'articles en cuir                                                                 1.717137\n",
       "Commerce de detail de la chaussure                                                                             1.670057\n",
       "Activites des agences de recouvrement de factures et des societes d'information financiere sur la clientele    1.384215\n",
       "Reparation de meubles et d'equipements du foyer                                                                1.222280\n",
       "Debits de boissons                                                                                             1.221813\n",
       "Reparation d'articles d'horlogerie et de bijouterie                                                            1.206977\n",
       "Activites des syndicats de salaries                                                                            1.181910\n",
       "Autres intermediations monetaires                                                                              1.179141\n",
       "Commerce de detail d'habillement en magasin specialise                                                         1.102863\n",
       "Commerce de detail d'articles d'horlogerie et de bijouterie en magasin specialise                              1.098174\n",
       "Activites juridiques                                                                                           1.092165\n",
       "Commerce de detail de materiels audio et video en magasin specialise                                           1.028402\n",
       "Commerce de detail d'enregistrements musicaux et video en magasin specialise                                   1.021216\n",
       "Recherche-developpement en biotechnologie                                                                      1.021216\n",
       "Travaux de demolition                                                                                          1.004992\n",
       "Administration publique generale                                                                               1.001500\n",
       "Restauration traditionnelle                                                                                    0.975204\n",
       "Commerces de detail d'optique                                                                                  0.911916\n",
       "Enseignement de la conduite                                                                                    0.910927\n",
       "Transports aeriens de passagers                                                                                0.868943\n",
       "Name: 0, dtype: float64"
      ]
     },
     "execution_count": 53,
     "metadata": {},
     "output_type": "execute_result"
    }
   ],
   "source": [
    "coef_top=coef_2008.iloc[0,:20]\n",
    "coef_top\n"
   ]
  },
  {
   "cell_type": "code",
   "execution_count": 54,
   "id": "e275cb58",
   "metadata": {},
   "outputs": [
    {
     "data": {
      "text/plain": [
       "<AxesSubplot:>"
      ]
     },
     "execution_count": 54,
     "metadata": {},
     "output_type": "execute_result"
    },
    {
     "data": {
      "image/png": "[encoded data removed]",
      "text/plain": [
       "<Figure size 432x288 with 1 Axes>"
      ]
     },
     "metadata": {
      "needs_background": "light"
     },
     "output_type": "display_data"
    }
   ],
   "source": [
    "coef_top.plot.barh()"
   ]
  },
  {
   "cell_type": "code",
   "execution_count": null,
   "id": "e6abcab7",
   "metadata": {},
   "outputs": [],
   "source": []
  },
  {
   "cell_type": "code",
   "execution_count": null,
   "id": "129a45a4",
   "metadata": {},
   "outputs": [],
   "source": []
  },
  {
   "cell_type": "code",
   "execution_count": 55,
   "id": "9329db60",
   "metadata": {},
   "outputs": [],
   "source": [
    "# import matplotlib.pyplot as plt\n",
    "# # plot top\n",
    "# # plot param\n",
    "# nbr_value=len(coef_top.index.tolist())\n",
    "# plt.figure(figsize=(10, 5))\n",
    "# plt.ylabel(\"Coefficient magnitude\")\n",
    "# plt.xticks(np.arange(1,  1+ nbr_value),\n",
    "#             coef_top.index, rotation=60,\n",
    "#             ha=\"right\")\n",
    "# #plot\n",
    "# plt.bar(np.arange(1,1+ nbr_value), coef_top.values,color=\"blue\")"
   ]
  },
  {
   "cell_type": "code",
   "execution_count": 56,
   "id": "eac6683c",
   "metadata": {},
   "outputs": [
    {
     "data": {
      "text/plain": [
       "Commerce de gros (commerce interentreprises) de composants et d'equipements electroniques et de telecommunication   -1.077865\n",
       "Travaux d'isolation                                                                                                 -1.077865\n",
       "Autres cultures non permanentes                                                                                     -1.090706\n",
       "Production de films pour le cinema                                                                                  -1.128540\n",
       "Production d'electricite                                                                                            -1.249352\n",
       "Activites liees aux systemes de securite                                                                            -1.462105\n",
       "Culture de legumes, de melons, de racines et de tubercules                                                          -1.865713\n",
       "Name: 0, dtype: float64"
      ]
     },
     "execution_count": 56,
     "metadata": {},
     "output_type": "execute_result"
    }
   ],
   "source": [
    "coef_bad=coef_2008.iloc[0,-7:]\n",
    "coef_bad"
   ]
  },
  {
   "cell_type": "code",
   "execution_count": 57,
   "id": "abb21624",
   "metadata": {},
   "outputs": [
    {
     "data": {
      "text/plain": [
       "<AxesSubplot:>"
      ]
     },
     "execution_count": 57,
     "metadata": {},
     "output_type": "execute_result"
    },
    {
     "data": {
      "image/png": "[encoded data removed]",
      "text/plain": [
       "<Figure size 432x288 with 1 Axes>"
      ]
     },
     "metadata": {
      "needs_background": "light"
     },
     "output_type": "display_data"
    }
   ],
   "source": [
    "coef_bad.plot.barh()"
   ]
  },
  {
   "cell_type": "code",
   "execution_count": null,
   "id": "cd89cb63",
   "metadata": {},
   "outputs": [],
   "source": []
  },
  {
   "cell_type": "code",
   "execution_count": null,
   "id": "9ae18614",
   "metadata": {},
   "outputs": [],
   "source": []
  },
  {
   "cell_type": "code",
   "execution_count": 58,
   "id": "9d7bc2ce",
   "metadata": {},
   "outputs": [],
   "source": [
    "# # plot bad\n",
    "# # plot param\n",
    "# nbr_value=len(coef_bad.index.tolist())\n",
    "# plt.figure(figsize=(10, 5))\n",
    "# plt.ylabel(\"Coefficient magnitude\")\n",
    "# plt.xticks(np.arange(1,  1+ nbr_value),\n",
    "#             coef_bad.index, rotation=60,\n",
    "#             ha=\"right\")\n",
    "# #plot\n",
    "# plt.bar(np.arange(1,1+ nbr_value), coef_bad.values,color=\"red\")"
   ]
  },
  {
   "cell_type": "code",
   "execution_count": null,
   "id": "ecdf0d61",
   "metadata": {},
   "outputs": [],
   "source": []
  },
  {
   "cell_type": "markdown",
   "id": "9d45cfb5",
   "metadata": {},
   "source": [
    "### Selecting the Most Important Features"
   ]
  },
  {
   "cell_type": "code",
   "execution_count": null,
   "id": "8454ab22",
   "metadata": {},
   "outputs": [],
   "source": []
  },
  {
   "cell_type": "code",
   "execution_count": 59,
   "id": "786c715c",
   "metadata": {},
   "outputs": [],
   "source": [
    "# # Fit model\n",
    "# model = LogisticRegression()\n",
    "# model.fit(X_train, y_train) \n",
    "\n",
    "# # Perform Permutation\n",
    "# permutation_score = permutation_importance(model, X_train, y_train, n_repeats=15) \n"
   ]
  },
  {
   "cell_type": "code",
   "execution_count": null,
   "id": "8f3358f9",
   "metadata": {},
   "outputs": [],
   "source": []
  },
  {
   "cell_type": "code",
   "execution_count": 60,
   "id": "fa0ef958",
   "metadata": {},
   "outputs": [],
   "source": [
    "# # Unstack results\n",
    "# importance_df = pd.DataFrame(np.vstack((list_X_encoder,\n",
    "#                                         permutation_score.importances_mean)).T) \n",
    "# importance_df.columns=['feature','score decrease']\n",
    "\n",
    "\n",
    "# # # Order by importance\n",
    "# most_important_features = importance_df.sort_values(by=\"score decrease\", ascending = False)\n",
    "# most_important_features.head(10)"
   ]
  },
  {
   "cell_type": "code",
   "execution_count": null,
   "id": "3ed818fd",
   "metadata": {},
   "outputs": [],
   "source": []
  },
  {
   "cell_type": "code",
   "execution_count": null,
   "id": "df0de707",
   "metadata": {},
   "outputs": [],
   "source": []
  },
  {
   "cell_type": "code",
   "execution_count": null,
   "id": "6865305f",
   "metadata": {},
   "outputs": [],
   "source": []
  },
  {
   "cell_type": "code",
   "execution_count": null,
   "id": "672fb2c1",
   "metadata": {},
   "outputs": [],
   "source": []
  },
  {
   "cell_type": "code",
   "execution_count": null,
   "id": "c0f269f8",
   "metadata": {},
   "outputs": [],
   "source": []
  },
  {
   "cell_type": "code",
   "execution_count": null,
   "id": "dcb14da3",
   "metadata": {},
   "outputs": [],
   "source": []
  },
  {
   "cell_type": "code",
   "execution_count": null,
   "id": "8025039c",
   "metadata": {},
   "outputs": [],
   "source": []
  },
  {
   "cell_type": "code",
   "execution_count": null,
   "id": "52e4649f",
   "metadata": {},
   "outputs": [],
   "source": []
  }
 ],
 "metadata": {
  "kernelspec": {
   "display_name": "Python 3",
   "language": "python",
   "name": "python3"
  },
  "language_info": {
   "codemirror_mode": {
    "name": "ipython",
    "version": 3
   },
   "file_extension": ".py",
   "mimetype": "text/x-python",
   "name": "python",
   "nbconvert_exporter": "python",
   "pygments_lexer": "ipython3",
   "version": "3.8.6"
  },
  "toc": {
   "base_numbering": 1,
   "nav_menu": {},
   "number_sections": true,
   "sideBar": true,
   "skip_h1_title": false,
   "title_cell": "Table of Contents",
   "title_sidebar": "Contents",
   "toc_cell": false,
   "toc_position": {
    "height": "calc(100% - 180px)",
    "left": "10px",
    "top": "150px",
    "width": "217px"
   },
   "toc_section_display": true,
   "toc_window_display": true
  },
  "varInspector": {
   "cols": {
    "lenName": 16,
    "lenType": 16,
    "lenVar": 40
   },
   "kernels_config": {
    "python": {
     "delete_cmd_postfix": "",
     "delete_cmd_prefix": "del ",
     "library": "var_list.py",
     "varRefreshCmd": "print(var_dic_list())"
    },
    "r": {
     "delete_cmd_postfix": ") ",
     "delete_cmd_prefix": "rm(",
     "library": "var_list.r",
     "varRefreshCmd": "cat(var_dic_list()) "
    }
   },
   "types_to_exclude": [
    "module",
    "function",
    "builtin_function_or_method",
    "instance",
    "_Feature"
   ],
   "window_display": false
  }
 },
 "nbformat": 4,
 "nbformat_minor": 5
}
