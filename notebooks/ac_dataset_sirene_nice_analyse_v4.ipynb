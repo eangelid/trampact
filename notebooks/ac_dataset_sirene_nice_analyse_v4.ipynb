{
 "cells": [
  {
   "cell_type": "markdown",
   "id": "608e5a1c",
   "metadata": {},
   "source": [
    "# Analyse data based \"sirene_nice\""
   ]
  },
  {
   "cell_type": "code",
   "execution_count": 1,
   "id": "51361cb6",
   "metadata": {},
   "outputs": [],
   "source": [
    "%load_ext autoreload\n",
    "%autoreload 2"
   ]
  },
  {
   "cell_type": "code",
   "execution_count": 2,
   "id": "43535e26",
   "metadata": {},
   "outputs": [],
   "source": [
    "from trampact.analyse_ml_sirene import Machine_learning_sirene\n",
    "import pandas as pd"
   ]
  },
  {
   "cell_type": "markdown",
   "id": "fee72ca2",
   "metadata": {},
   "source": [
    "# import data clean"
   ]
  },
  {
   "cell_type": "code",
   "execution_count": 3,
   "id": "1d5e3165",
   "metadata": {
    "scrolled": true
   },
   "outputs": [],
   "source": [
    "# entreprise_df=Machine_learning_sirene.get_data_clean()"
   ]
  },
  {
   "cell_type": "code",
   "execution_count": 4,
   "id": "2b7bc384",
   "metadata": {},
   "outputs": [],
   "source": [
    "# entreprise_df.head(2)"
   ]
  },
  {
   "cell_type": "code",
   "execution_count": 5,
   "id": "9c7c1474",
   "metadata": {},
   "outputs": [],
   "source": [
    "# entreprise_df.dtypes.head(30)"
   ]
  },
  {
   "cell_type": "code",
   "execution_count": null,
   "id": "ff8f728f",
   "metadata": {},
   "outputs": [],
   "source": []
  },
  {
   "cell_type": "code",
   "execution_count": null,
   "id": "f0395d92",
   "metadata": {},
   "outputs": [],
   "source": []
  },
  {
   "cell_type": "code",
   "execution_count": null,
   "id": "f1c1e5e6",
   "metadata": {},
   "outputs": [],
   "source": []
  },
  {
   "cell_type": "markdown",
   "id": "6e133aec",
   "metadata": {},
   "source": [
    "# Onehot encoder Année 2005==>2007"
   ]
  },
  {
   "cell_type": "code",
   "execution_count": null,
   "id": "15bbc95f",
   "metadata": {},
   "outputs": [],
   "source": []
  },
  {
   "cell_type": "code",
   "execution_count": 6,
   "id": "11144bd4",
   "metadata": {},
   "outputs": [],
   "source": [
    "#liste feature pour l'encodage\n",
    "feature_ml=[\n",
    "            \"Date de création de l'unité légale\",\n",
    "            \"effectifs\",\n",
    "            \"Classe de l'établissement\",\n",
    "            #\"Nature juridique de l'unité légale\",\n",
    "            \"proche t1\"\n",
    "            ]\n",
    "\n"
   ]
  },
  {
   "cell_type": "code",
   "execution_count": 7,
   "id": "f29d9ca3",
   "metadata": {
    "scrolled": true
   },
   "outputs": [
    {
     "name": "stderr",
     "output_type": "stream",
     "text": [
      "/home/lewagon/.pyenv/versions/3.8.6/envs/trampact/lib/python3.8/site-packages/IPython/core/interactiveshell.py:3441: DtypeWarning: Columns (1,81) have mixed types.Specify dtype option on import or set low_memory=False.\n",
      "  exec(code_obj, self.user_global_ns, self.user_ns)\n",
      "/home/lewagon/code/eangelid/trampact/trampact/analyse_ml_sirene.py:73: SettingWithCopyWarning: \n",
      "A value is trying to be set on a copy of a slice from a DataFrame.\n",
      "Try using .loc[row_indexer,col_indexer] = value instead\n",
      "\n",
      "See the caveats in the documentation: https://pandas.pydata.org/pandas-docs/stable/user_guide/indexing.html#returning-a-view-versus-a-copy\n",
      "  entreprise_ml_df[\"Date de création de l'unité légale\"]=\\\n"
     ]
    }
   ],
   "source": [
    "#y=\"proche t1\"\n",
    "#X=le reste\n",
    "y_encoder, X_encoder, list_y_encoder, list_X_encoder=Machine_learning_sirene.encoder_feature(feature_ml,\\\n",
    "                                                                                             filtre_date=True,\\\n",
    "                                                                                             date_debut=2005,date_end=2007)\n"
   ]
  },
  {
   "cell_type": "code",
   "execution_count": null,
   "id": "f9434bf7",
   "metadata": {},
   "outputs": [],
   "source": []
  },
  {
   "cell_type": "code",
   "execution_count": null,
   "id": "96bbf7b9",
   "metadata": {},
   "outputs": [],
   "source": []
  },
  {
   "cell_type": "markdown",
   "id": "4e991da3",
   "metadata": {},
   "source": [
    "## Encoder X"
   ]
  },
  {
   "cell_type": "code",
   "execution_count": null,
   "id": "431583fd",
   "metadata": {},
   "outputs": [],
   "source": []
  },
  {
   "cell_type": "code",
   "execution_count": 8,
   "id": "80777317",
   "metadata": {},
   "outputs": [
    {
     "data": {
      "text/plain": [
       "array([[0., 0., 1., ..., 0., 0., 0.],\n",
       "       [0., 0., 1., ..., 0., 0., 0.],\n",
       "       [0., 0., 1., ..., 0., 0., 0.],\n",
       "       ...,\n",
       "       [0., 1., 0., ..., 0., 0., 0.],\n",
       "       [1., 0., 0., ..., 0., 0., 0.],\n",
       "       [0., 1., 0., ..., 0., 0., 0.]])"
      ]
     },
     "execution_count": 8,
     "metadata": {},
     "output_type": "execute_result"
    }
   ],
   "source": [
    "X_encoder"
   ]
  },
  {
   "cell_type": "code",
   "execution_count": 9,
   "id": "f970548d",
   "metadata": {},
   "outputs": [
    {
     "data": {
      "text/plain": [
       "(19040, 565)"
      ]
     },
     "execution_count": 9,
     "metadata": {},
     "output_type": "execute_result"
    }
   ],
   "source": [
    "X_encoder.shape"
   ]
  },
  {
   "cell_type": "code",
   "execution_count": 10,
   "id": "778b3780",
   "metadata": {
    "scrolled": true
   },
   "outputs": [
    {
     "data": {
      "text/plain": [
       "[2005,\n",
       " 2006,\n",
       " 2007,\n",
       " 1,\n",
       " 2,\n",
       " 4,\n",
       " 8,\n",
       " 15,\n",
       " 35,\n",
       " 75,\n",
       " 150,\n",
       " 225,\n",
       " 375,\n",
       " 750,\n",
       " 'Accueil de jeunes enfants',\n",
       " 'Accueil des personnes agees',\n",
       " 'Action sociale sans hebergement n.c.a.',\n",
       " 'Activite des economistes de la construction',\n",
       " 'Activite des geometres',\n",
       " 'Activite des medecins generalistes',\n",
       " 'Activites artistiques',\n",
       " 'Activites chirurgicales',\n",
       " 'Activites combinees de soutien lie aux batiments',\n",
       " 'Activites comptables',\n",
       " \"Activites d'architecture\",\n",
       " \"Activites d'enquete\",\n",
       " \"Activites de centres d'appels\",\n",
       " 'Activites de clubs de sports',\n",
       " 'Activites de conditionnement',\n",
       " 'Activites de nettoyage',\n",
       " 'Activites de pre-presse',\n",
       " 'Activites de radio',\n",
       " 'Activites de radiodiagnostic et de radiotherapie',\n",
       " 'Activites de sante humaine non classees ailleurs',\n",
       " 'Activites de securite privee',\n",
       " \"Activites de soutien a l'enseignement\",\n",
       " 'Activites de soutien a la production animale',\n",
       " 'Activites de soutien au spectacle vivant',\n",
       " 'Activites de soutien aux cultures',\n",
       " \"Activites des agences de placement de main-d'œuvre\",\n",
       " 'Activites des agences de presse',\n",
       " 'Activites des agences de publicite',\n",
       " \"Activites des agences de recouvrement de factures et des societes d'information financiere sur la clientele\",\n",
       " 'Activites des agences de travail temporaire',\n",
       " 'Activites des agences de voyage',\n",
       " \"Activites des agents et courtiers d'assurances\",\n",
       " 'Activites des auxiliaires medicaux',\n",
       " 'Activites des centres de culture physique',\n",
       " 'Activites des infirmiers et des sages-femmes',\n",
       " 'Activites des marchands de biens immobiliers',\n",
       " 'Activites des organisations et organismes extraterritoriaux',\n",
       " 'Activites des organisations patronales et consulaires',\n",
       " 'Activites des organisations professionnelles',\n",
       " 'Activites des organisations religieuses',\n",
       " \"Activites des parcs d'attractions et parcs a themes\",\n",
       " \"Activites des professionnels de la reeducation, de l'appareillage et des pedicures-podologues\",\n",
       " 'Activites des sieges sociaux',\n",
       " 'Activites des societes holding',\n",
       " 'Activites des syndicats de salaries',\n",
       " 'Activites des voyagistes',\n",
       " 'Activites generales de securite sociale',\n",
       " 'Activites hospitalieres',\n",
       " 'Activites juridiques',\n",
       " 'Activites liees aux systemes de securite',\n",
       " 'Activites photographiques',\n",
       " 'Activites specialisees de design',\n",
       " 'Activites specialisees, scientifiques et techniques diverses',\n",
       " 'Activites veterinaires',\n",
       " \"Administration d'autres biens immobiliers\",\n",
       " \"Administration d'entreprises\",\n",
       " \"Administration d'immeubles et autres biens immobiliers\",\n",
       " \"Administration d'immeubles residentiels\",\n",
       " 'Administration de marches financiers',\n",
       " 'Administration publique (tutelle) de la sante, de la formation, de la culture et des services sociaux, autre que securite sociale',\n",
       " 'Administration publique (tutelle) des activites economiques',\n",
       " 'Affretement et organisation des transports',\n",
       " 'Agencement de lieux de vente',\n",
       " 'Agences de presse',\n",
       " 'Agences de voyage',\n",
       " 'Agences immobilieres',\n",
       " 'Agences, conseil en publicite',\n",
       " 'Aide a domicile',\n",
       " 'Ambulances',\n",
       " 'Analyses, essais et inspections techniques',\n",
       " 'Arts du spectacle vivant',\n",
       " 'Assurance dommages',\n",
       " 'Assurance vie',\n",
       " \"Autre accueil ou accompagnement sans hebergement d'enfants et d'adolescents\",\n",
       " 'Autre creation artistique',\n",
       " 'Autre distribution de credit',\n",
       " 'Autre imprimerie (labeur)',\n",
       " 'Autre mise a disposition de ressources humaines',\n",
       " \"Autres activites auxiliaires d'assurance et de caisses de retraite\",\n",
       " 'Autres activites auxiliaires de services financiers, hors assurance et caisses de retraite, n.c.a.',\n",
       " \"Autres activites d'edition\",\n",
       " 'Autres activites de courrier',\n",
       " 'Autres activites de nettoyage des batiments et nettoyage industriel',\n",
       " 'Autres activites de nettoyage n.c.a.',\n",
       " 'Autres activites de poste et de courrier',\n",
       " 'Autres activites de soutien aux entreprises n.c.a.',\n",
       " 'Autres activites de telecommunication',\n",
       " 'Autres activites des medecins specialistes',\n",
       " 'Autres activites des services financiers, hors assurance et caisses de retraite, n.c.a.',\n",
       " 'Autres activites du travail des grains',\n",
       " 'Autres activites graphiques',\n",
       " 'Autres activites informatiques',\n",
       " 'Autres activites liees au sport',\n",
       " 'Autres activites manufacturieres n.c.a.',\n",
       " 'Autres activites recreatives',\n",
       " 'Autres activites recreatives et de loisirs',\n",
       " 'Autres activites sportives',\n",
       " 'Autres assurances',\n",
       " 'Autres auxiliaires financiers',\n",
       " 'Autres commerces de detail alimentaires en magasin specialise',\n",
       " 'Autres commerces de detail en magasin non specialise',\n",
       " 'Autres commerces de detail specialises divers',\n",
       " 'Autres commerces de detail sur eventaires et marches',\n",
       " 'Autres commerces de gros de biens de consommation',\n",
       " 'Autres cultures non permanentes',\n",
       " 'Autres enseignements',\n",
       " \"Autres formes d'action sociale\",\n",
       " 'Autres hebergements',\n",
       " 'Autres intermediaires du commerce en combustibles, metaux, mineraux et produits chimiques',\n",
       " 'Autres intermediaires du commerce en denrees, boissons et tabac',\n",
       " 'Autres intermediaires du commerce en produits divers',\n",
       " 'Autres intermediaires specialises du commerce',\n",
       " 'Autres intermediations monetaires',\n",
       " 'Autres organisations fonctionnant par adhesion volontaire',\n",
       " \"Autres services d'information n.c.a.\",\n",
       " 'Autres services de reservation et activites connexes',\n",
       " 'Autres services de restauration n.c.a.',\n",
       " 'Autres services personnels',\n",
       " 'Autres services personnels n.c.a.',\n",
       " 'Autres soins corporels',\n",
       " 'Autres transports routiers de voyageurs',\n",
       " \"Autres travaux d'installation\",\n",
       " \"Autres travaux d'installation n.c.a.\",\n",
       " 'Autres travaux de finition',\n",
       " 'Autres travaux specialises de construction',\n",
       " \"Auxiliaires d'assurance\",\n",
       " 'Blanchisserie - teinturerie de detail',\n",
       " 'Blanchisserie-teinturerie de detail',\n",
       " 'Blanchisserie-teinturerie de gros',\n",
       " 'Boulangerie et boulangerie-patisserie',\n",
       " 'Cafes tabacs',\n",
       " 'Cafeterias et autres libres-services',\n",
       " \"Centrales d'achat non alimentaires\",\n",
       " 'Charcuterie',\n",
       " 'Coiffure',\n",
       " 'Collecte des dechets dangereux',\n",
       " 'Collecte des dechets non dangereux',\n",
       " 'Collecte et traitement des eaux usees',\n",
       " \"Commerce d'alimentation generale\",\n",
       " \"Commerce d'autres vehicules automobiles\",\n",
       " 'Commerce de detail alimentaire sur eventaires et marches',\n",
       " \"Commerce de detail d'appareils electromenagers en magasin specialise\",\n",
       " \"Commerce de detail d'appareils electromenagers et de radio television\",\n",
       " \"Commerce de detail d'articles d'horlogerie et de bijouterie en magasin specialise\",\n",
       " \"Commerce de detail d'articles de sport en magasin specialise\",\n",
       " \"Commerce de detail d'articles de sport et de loisir\",\n",
       " \"Commerce de detail d'articles medicaux et orthopediques\",\n",
       " \"Commerce de detail d'articles medicaux et orthopediques en magasin specialise\",\n",
       " \"Commerce de detail d'autres equipements du foyer\",\n",
       " \"Commerce de detail d'enregistrements musicaux et video en magasin specialise\",\n",
       " \"Commerce de detail d'equipement du foyer\",\n",
       " \"Commerce de detail d'equipements automobiles\",\n",
       " \"Commerce de detail d'habillement\",\n",
       " \"Commerce de detail d'habillement en magasin specialise\",\n",
       " \"Commerce de detail d'ordinateurs, d'unites peripheriques et de logiciels en magasin specialise\",\n",
       " \"Commerce de detail de biens d'occasion\",\n",
       " \"Commerce de detail de biens d'occasion en magasin\",\n",
       " 'Commerce de detail de boissons',\n",
       " 'Commerce de detail de boissons en magasin specialise',\n",
       " 'Commerce de detail de bricolage',\n",
       " 'Commerce de detail de carburants',\n",
       " 'Commerce de detail de carburants en magasin specialise',\n",
       " 'Commerce de detail de fleurs',\n",
       " 'Commerce de detail de fleurs, plantes, graines, engrais, animaux de compagnie et aliments pour ces animaux en magasin specialise',\n",
       " 'Commerce de detail de fruits et legumes',\n",
       " 'Commerce de detail de fruits et legumes en magasin specialise',\n",
       " 'Commerce de detail de jeux et jouets en magasin specialise',\n",
       " 'Commerce de detail de journaux et papeterie en magasin specialise',\n",
       " 'Commerce de detail de la chaussure',\n",
       " 'Commerce de detail de livres en magasin specialise',\n",
       " 'Commerce de detail de livres, journaux et papeterie',\n",
       " \"Commerce de detail de maroquinerie et d'articles de voyage\",\n",
       " 'Commerce de detail de materiels audio et video en magasin specialise',\n",
       " 'Commerce de detail de materiels de telecommunication en magasin specialise',\n",
       " 'Commerce de detail de meubles',\n",
       " 'Commerce de detail de pain, patisserie et confiserie',\n",
       " 'Commerce de detail de pain, patisserie et confiserie en magasin specialise',\n",
       " 'Commerce de detail de parfumerie et de produits de beaute',\n",
       " 'Commerce de detail de parfumerie et de produits de beaute en magasin specialise',\n",
       " 'Commerce de detail de poissons, crustaces et mollusques en magasin specialise',\n",
       " 'Commerce de detail de produits a base de tabac en magasin specialise',\n",
       " 'Commerce de detail de produits laitiers',\n",
       " 'Commerce de detail de produits pharmaceutiques',\n",
       " 'Commerce de detail de produits pharmaceutiques en magasin specialise',\n",
       " 'Commerce de detail de quincaillerie',\n",
       " 'Commerce de detail de quincaillerie, peintures et verres en grandes surfaces (400 m² et plus)',\n",
       " 'Commerce de detail de quincaillerie, peintures et verres en petites surfaces (moins de 400 m²)',\n",
       " 'Commerce de detail de tapis, moquettes et revetements de murs et de sols en magasin specialise',\n",
       " 'Commerce de detail de textiles',\n",
       " 'Commerce de detail de textiles en magasin specialise',\n",
       " \"Commerce de detail de textiles, d'habillement et de chaussures sur eventaires et marches\",\n",
       " 'Commerce de detail de viandes et de produits a base de viande en magasin specialise',\n",
       " 'Commerce de detail de viandes et produits a base de viande',\n",
       " 'Commerce de detail non alimentaire sur eventaires et marches',\n",
       " 'Commerce de gros (commerce interentreprises) alimentaire non specialise',\n",
       " 'Commerce de gros (commerce interentreprises) alimentaire specialise divers',\n",
       " \"Commerce de gros (commerce interentreprises) d'animaux vivants\",\n",
       " \"Commerce de gros (commerce interentreprises) d'appareils electromenagers\",\n",
       " \"Commerce de gros (commerce interentreprises) d'appareils sanitaires et de produits de decoration\",\n",
       " \"Commerce de gros (commerce interentreprises) d'articles d'horlogerie et de bijouterie\",\n",
       " \"Commerce de gros (commerce interentreprises) d'autres biens domestiques\",\n",
       " \"Commerce de gros (commerce interentreprises) d'autres machines et equipements de bureau\",\n",
       " \"Commerce de gros (commerce interentreprises) d'autres produits intermediaires\",\n",
       " \"Commerce de gros (commerce interentreprises) d'habillement et de chaussures\",\n",
       " \"Commerce de gros (commerce interentreprises) d'ordinateurs, d'equipements informatiques peripheriques et de logiciels\",\n",
       " 'Commerce de gros (commerce interentreprises) de bois et de materiaux de construction',\n",
       " 'Commerce de gros (commerce interentreprises) de boissons',\n",
       " 'Commerce de gros (commerce interentreprises) de cafe, the, cacao et epices',\n",
       " 'Commerce de gros (commerce interentreprises) de combustibles et de produits annexes',\n",
       " \"Commerce de gros (commerce interentreprises) de composants et d'equipements electroniques et de telecommunication\",\n",
       " 'Commerce de gros (commerce interentreprises) de fleurs et plantes',\n",
       " 'Commerce de gros (commerce interentreprises) de fournitures et equipements divers pour le commerce et les services',\n",
       " 'Commerce de gros (commerce interentreprises) de fournitures et equipements industriels divers',\n",
       " 'Commerce de gros (commerce interentreprises) de fournitures pour la plomberie et le chauffage',\n",
       " 'Commerce de gros (commerce interentreprises) de fruits et legumes',\n",
       " \"Commerce de gros (commerce interentreprises) de machines pour l'extraction, la construction et le genie civil\",\n",
       " 'Commerce de gros (commerce interentreprises) de materiel electrique',\n",
       " \"Commerce de gros (commerce interentreprises) de meubles, de tapis et d'appareils d'eclairage\",\n",
       " 'Commerce de gros (commerce interentreprises) de minerais et metaux',\n",
       " 'Commerce de gros (commerce interentreprises) de parfumerie et de produits de beaute',\n",
       " 'Commerce de gros (commerce interentreprises) de poissons, crustaces et mollusques',\n",
       " 'Commerce de gros (commerce interentreprises) de produits a base de viande',\n",
       " 'Commerce de gros (commerce interentreprises) de produits chimiques',\n",
       " 'Commerce de gros (commerce interentreprises) de produits laitiers, œufs, huiles et matieres grasses comestibles',\n",
       " 'Commerce de gros (commerce interentreprises) de produits pharmaceutiques',\n",
       " 'Commerce de gros (commerce interentreprises) de quincaillerie',\n",
       " 'Commerce de gros (commerce interentreprises) de sucre, chocolat et confiserie',\n",
       " 'Commerce de gros (commerce interentreprises) de textiles',\n",
       " \"Commerce de gros (commerce interentreprises) de vaisselle, verrerie et produits d'entretien\",\n",
       " 'Commerce de gros (commerce interentreprises) non specialise',\n",
       " 'Commerce de gros alimentaire non specialise',\n",
       " \"Commerce de gros d'equipements automobiles\",\n",
       " \"Commerce de gros d'habillement\",\n",
       " 'Commerce de gros de bois et de produits derives',\n",
       " 'Commerce de gros de boissons',\n",
       " 'Commerce de gros de fleurs et plantes',\n",
       " 'Commerce de gros de fruits et legumes',\n",
       " 'Commerce de gros de parfumerie et de produits de beaute',\n",
       " 'Commerce de gros de quincaillerie',\n",
       " 'Commerce de gros de viandes de boucherie',\n",
       " 'Commerce de vehicules automobiles',\n",
       " 'Commerce de voitures et de vehicules automobiles legers',\n",
       " 'Commerce et reparation de motocycles',\n",
       " 'Commerce gros appareils electromenagers et radiotelevision',\n",
       " 'Commerces de detail alimentaires specialises divers',\n",
       " \"Commerces de detail d'optique\",\n",
       " 'Commerces de detail de charbons et combustibles',\n",
       " 'Commerces de detail divers en magasin specialise',\n",
       " 'Commerces de gros alimentaires specialises divers',\n",
       " 'Composition et photogravure',\n",
       " 'Conseil en relations publiques et communication',\n",
       " 'Conseil en systemes et logiciels informatiques',\n",
       " 'Conseil en systemes informatiques',\n",
       " 'Conseil pour les affaires et autres conseils de gestion',\n",
       " 'Conseil pour les affaires et la gestion',\n",
       " \"Construction d'autres batiments\",\n",
       " \"Construction d'autres ouvrages de genie civil n.c.a.\",\n",
       " 'Construction de bateaux de plaisance',\n",
       " 'Construction de batiments divers',\n",
       " 'Construction de chaussees routieres et de sols sportifs',\n",
       " 'Construction de maisons individuelles',\n",
       " 'Construction de navires et de structures flottantes',\n",
       " 'Construction de reseaux pour fluides',\n",
       " 'Construction de routes et autoroutes',\n",
       " 'Controle technique automobile',\n",
       " 'Courtage de valeurs mobilieres et de marchandises',\n",
       " 'Creation artistique relevant des arts plastiques',\n",
       " \"Creches et garderies d'enfants\",\n",
       " 'Cuisson de produits de boulangerie',\n",
       " 'Culture de cereales ; cultures industrielles',\n",
       " 'Culture de fruits oleagineux',\n",
       " 'Culture de la vigne',\n",
       " 'Culture de legumes ; maraichage',\n",
       " 'Culture de legumes, de melons, de racines et de tubercules',\n",
       " 'Culture et elevage associes',\n",
       " 'Debits de boissons',\n",
       " \"Demantelement d'epaves\",\n",
       " 'Desinfection, desinsectisation, deratisation',\n",
       " 'Distribution de films cinematographiques',\n",
       " \"Edition d'enregistrements sonores\",\n",
       " 'Edition de journaux',\n",
       " 'Edition de livres',\n",
       " 'Edition de logiciels applicatifs',\n",
       " 'Edition de revues et periodiques',\n",
       " 'Edition et diffusion de programmes radio',\n",
       " 'Edition et distribution video',\n",
       " \"Elevage d'autres animaux\",\n",
       " 'Ennoblissement textile',\n",
       " 'Enquetes et securite',\n",
       " 'Enregistrement sonore et edition musicale',\n",
       " 'Enseignement culturel',\n",
       " \"Enseignement de disciplines sportives et d'activites de loisirs\",\n",
       " 'Enseignement de la conduite',\n",
       " 'Enseignement post-secondaire non superieur',\n",
       " 'Enseignement secondaire general',\n",
       " 'Enseignement secondaire technique ou professionnel',\n",
       " 'Enseignement superieur',\n",
       " 'Entreposage et stockage frigorifique',\n",
       " 'Entreposage et stockage non frigorifique',\n",
       " 'Entretien corporel',\n",
       " \"Entretien et reparation d'autres vehicules automobiles\",\n",
       " 'Entretien et reparation de machines de bureau et de materiel informatique',\n",
       " 'Entretien et reparation de vehicules automobiles',\n",
       " 'Entretien et reparation de vehicules automobiles legers',\n",
       " 'Etudes de marche et sondages',\n",
       " 'Evaluation des risques et dommages',\n",
       " \"Extraction de pierres ornementales et de construction, de calcaire industriel, de gypse, de craie et d'ardoise\",\n",
       " 'Fabric. ascenseurs, monte-charges et escaliers mecaniques',\n",
       " \"Fabrication d'appareils medicochirurgicaux\",\n",
       " \"Fabrication d'articles ceramiques a usage domestique ou ornemental\",\n",
       " \"Fabrication d'articles de bijouterie fantaisie et articles similaires\",\n",
       " \"Fabrication d'articles de joaillerie et bijouterie\",\n",
       " \"Fabrication d'articles de voyage, de maroquinerie et de sellerie\",\n",
       " \"Fabrication d'articles textiles, sauf habillement\",\n",
       " \"Fabrication d'autres equipements automobiles\",\n",
       " \"Fabrication d'autres materiels electriques\",\n",
       " \"Fabrication d'autres meubles et industries connexes de l'ameublement\",\n",
       " \"Fabrication d'autres produits ceramiques\",\n",
       " \"Fabrication d'autres vetements et accessoires\",\n",
       " \"Fabrication d'elements en matieres plastiques pour la construction\",\n",
       " \"Fabrication d'equipements aerauliques et frigorifiques industriels\",\n",
       " \"Fabrication d'huiles essentielles\",\n",
       " \"Fabrication d'instrumentation scientifique et technique\",\n",
       " \"Fabrication d'instruments de musique\",\n",
       " \"Fabrication d'objets divers en bois\",\n",
       " \"Fabrication d'objets divers en bois ; fabrication d'objets en liege, vannerie et sparterie\",\n",
       " \"Fabrication de beton pret a l'emploi\",\n",
       " 'Fabrication de cacao, chocolat et de produits de confiserie',\n",
       " 'Fabrication de charpentes et de menuiseries',\n",
       " 'Fabrication de constructions metalliques',\n",
       " 'Fabrication de glaces et sorbets',\n",
       " 'Fabrication de machines agricoles et forestieres',\n",
       " 'Fabrication de materiel de levage et de manutention',\n",
       " 'Fabrication de materiel medico-chirurgical et dentaire',\n",
       " 'Fabrication de materiels optique et photographique',\n",
       " 'Fabrication de matieres plastiques de base',\n",
       " 'Fabrication de menuiseries et fermetures metalliques',\n",
       " 'Fabrication de meubles de cuisine',\n",
       " 'Fabrication de parfums et de produits pour la toilette',\n",
       " 'Fabrication de pates alimentaires',\n",
       " 'Fabrication de plats prepares',\n",
       " 'Fabrication de portes et fenetres en metal',\n",
       " 'Fabrication de preparations pharmaceutiques',\n",
       " 'Fabrication de structures metalliques et de parties de structures',\n",
       " 'Fabrication de vetements de dessous',\n",
       " 'Fabrication de vetements de dessus',\n",
       " 'Fabrication de vetements sur mesure',\n",
       " \"Fabrication et faconnage d'autres articles en verre, y compris verre technique\",\n",
       " 'Faconnage et transformation du verre plat',\n",
       " 'Fonds de placement et entites financieres similaires',\n",
       " 'Forages et sondages',\n",
       " 'Forge, estampage, matricage ; metallurgie des poudres',\n",
       " \"Formation continue d'adultes\",\n",
       " 'Formation des adultes et formation continue',\n",
       " \"Gestion d'installations informatiques\",\n",
       " \"Gestion d'installations sportives\",\n",
       " 'Gestion de fonds',\n",
       " 'Gestion de portefeuilles',\n",
       " 'Gestion de salles de spectacles',\n",
       " 'Gestion de supports de publicite',\n",
       " 'Gestion des sites et monuments historiques et des attractions touristiques similaires',\n",
       " 'Hebergement medicalise pour personnes agees',\n",
       " 'Hebergement social pour adultes et familles en difficultes et autre hebergement social',\n",
       " 'Hebergement social pour enfants en difficultes',\n",
       " 'Hebergement social pour personnes agees',\n",
       " 'Hebergement touristique et autre hebergement de courte duree',\n",
       " 'Hors nomenclature',\n",
       " 'Horticulture ; pepinieres',\n",
       " 'Hotels avec restaurant',\n",
       " 'Hotels de tourisme sans restaurant',\n",
       " 'Hotels et hebergement similaire',\n",
       " 'Hypermarches',\n",
       " \"Industries connexes de l'ameublement\",\n",
       " 'Ingenierie, etudes techniques',\n",
       " \"Installation d'eau et de gaz\",\n",
       " \"Installation d'equipements electriques, de materiels electroniques et optiques ou d'autres materiels\",\n",
       " \"Installation d'equipements thermiques et de climatisation\",\n",
       " 'Installation de machines et equipements mecaniques',\n",
       " 'Installation de structures metalliques, chaudronnees et de tuyauterie',\n",
       " 'Intermediaires du commerce en bois et materiaux de construction',\n",
       " 'Intermediaires du commerce en machines, equipements industriels, navires et avions',\n",
       " 'Intermediaires du commerce en matieres premieres agricoles, animaux vivants, matieres premieres textiles et produits semi-finis',\n",
       " 'Intermediaires du commerce en meubles, articles de menage et quincaillerie',\n",
       " 'Intermediaires du commerce en produits alimentaires',\n",
       " 'Intermediaires du commerce en textiles, habillement, chaussures et articles en cuir',\n",
       " 'Intermediaires du commerce en textiles, habillement, fourrures, chaussures et articles en cuir',\n",
       " 'Intermediaires non specialises du commerce',\n",
       " \"Intermediaires specialises dans le commerce d'autres produits specifiques\",\n",
       " \"Laboratoires d'analyses medicales\",\n",
       " 'Location avec operateur de materiel de construction',\n",
       " \"Location d'appareils de transport aerien\",\n",
       " \"Location d'autres biens immobiliers\",\n",
       " \"Location d'autres biens personnels et domestiques\",\n",
       " \"Location d'autres materiels de transport terrestre\",\n",
       " 'Location de camions avec chauffeur',\n",
       " 'Location de camions avec conducteur',\n",
       " 'Location de courte duree de voitures et de vehicules automobiles legers',\n",
       " 'Location de logements',\n",
       " 'Location de longue duree de voitures et de vehicules automobiles legers',\n",
       " 'Location de machines et equipements divers',\n",
       " 'Location de machines et equipements pour la construction',\n",
       " \"Location de terrains et d'autres biens immobiliers\",\n",
       " 'Location de videocassettes et disques video',\n",
       " \"Location et location-bail d'articles de loisirs et de sport\",\n",
       " \"Location et location-bail d'autres biens personnels et domestiques\",\n",
       " \"Location et location-bail d'autres machines, equipements et biens materiels n.c.a.\",\n",
       " 'Location et location-bail de camions',\n",
       " 'Location et location-bail de machines de bureau et de materiel informatique',\n",
       " 'Location et location-bail de machines et equipements pour la construction',\n",
       " 'Location et location-bail de materiels de transport aerien',\n",
       " \"Location-bail de propriete intellectuelle et de produits similaires, a l'exception des œuvres soumises a copyright\",\n",
       " 'Manutention non portuaire',\n",
       " 'Manutention portuaire',\n",
       " 'Marchands de biens immobiliers',\n",
       " 'Mecanique industrielle',\n",
       " 'Menuiserie bois et matieres plastiques',\n",
       " 'Menuiserie metallique ; serrurerie',\n",
       " 'Messagerie, fret express',\n",
       " 'Nettoyage courant des batiments',\n",
       " 'Organisation de foires et salons',\n",
       " 'Organisation de foires, salons professionnels et congres',\n",
       " \"Organisation de jeux de hasard et d'argent\",\n",
       " 'Organisations associatives n.c.a.',\n",
       " 'Organismes de placement en valeurs mobilieres',\n",
       " 'Patisserie',\n",
       " 'Peche en mer',\n",
       " 'Peinture',\n",
       " 'Photocopie, preparation de documents et autres activites specialisees de soutien de bureau',\n",
       " 'Platrerie',\n",
       " 'Pompes funebres',\n",
       " 'Portails Internet',\n",
       " 'Post-production de films cinematographiques, de video et de programmes de television',\n",
       " 'Pratique dentaire',\n",
       " 'Pratique medicale',\n",
       " 'Preparation industrielle de produits a base de viandes',\n",
       " \"Production d'electricite\",\n",
       " 'Production de films et de programmes pour la television',\n",
       " 'Production de films institutionnels et publicitaires',\n",
       " 'Production de films pour le cinema',\n",
       " \"Production et distribution de vapeur et d'air conditionne\",\n",
       " 'Programmation informatique',\n",
       " 'Projection de films cinematographiques',\n",
       " \"Promotion immobiliere d'autres batiments\",\n",
       " 'Promotion immobiliere de bureaux',\n",
       " 'Promotion immobiliere de logements',\n",
       " 'Realisation de couvertures par elements',\n",
       " 'Realisation et entretien de plantations ornementales',\n",
       " 'Recherche-developpement en autres sciences physiques et naturelles',\n",
       " 'Recherche-developpement en biotechnologie',\n",
       " 'Recherche-developpement en sciences humaines et sociales',\n",
       " 'Recuperation de dechets tries',\n",
       " 'Regie publicitaire de medias',\n",
       " 'Reliure et activites connexes',\n",
       " \"Reparation d'appareils electromenagers et d'equipements pour la maison et le jardin\",\n",
       " \"Reparation d'articles d'horlogerie et de bijouterie\",\n",
       " \"Reparation d'articles personnels et domestiques n.c.a.\",\n",
       " \"Reparation d'autres biens personnels et domestiques\",\n",
       " \"Reparation d'autres equipements\",\n",
       " \"Reparation d'ordinateurs et d'equipements peripheriques\",\n",
       " \"Reparation d'ouvrages en metaux\",\n",
       " \"Reparation de chaussures et d'articles en cuir\",\n",
       " 'Reparation de machines et equipements mecaniques',\n",
       " 'Reparation de materiels electroniques et optiques',\n",
       " \"Reparation de meubles et d'equipements du foyer\",\n",
       " 'Reparation de produits electroniques grand public',\n",
       " 'Reparation et maintenance navale',\n",
       " \"Reproduction d'enregistrements\",\n",
       " \"Reproduction d'enregistrements video\",\n",
       " 'Reproduction de plantes',\n",
       " 'Restauration collective sous contrat',\n",
       " 'Restauration de type rapide',\n",
       " 'Restauration de type traditionnel',\n",
       " 'Restauration traditionnelle',\n",
       " 'Revetement des sols et des murs',\n",
       " 'Secretariat et traduction',\n",
       " 'Selection et mise a disposition de personnel',\n",
       " 'Services administratifs combines de bureau',\n",
       " 'Services aeroportuaires',\n",
       " 'Services annexes a la production',\n",
       " 'Services annexes aux spectacles',\n",
       " 'Services auxiliaires des transports aeriens',\n",
       " 'Services auxiliaires des transports par eau',\n",
       " 'Services auxiliaires des transports terrestres',\n",
       " \"Services d'amenagement paysager\",\n",
       " 'Services de demenagement',\n",
       " \"Services de soutien a l'exploitation forestiere\",\n",
       " 'Services des traiteurs',\n",
       " 'Services forestiers',\n",
       " 'Services funeraires',\n",
       " 'Soins de beaute',\n",
       " \"Soins hors d'un cadre reglemente\",\n",
       " 'Studios et autres activites photographiques',\n",
       " 'Superettes',\n",
       " 'Supermarches',\n",
       " 'Supports juridiques de gestion de patrimoine',\n",
       " 'Supports juridiques de gestion de patrimoine immobilier',\n",
       " 'Supports juridiques de gestion de patrimoine mobilier',\n",
       " 'Supports juridiques de programme',\n",
       " 'Supports juridiques de programmes',\n",
       " 'Taille, faconnage et finissage de pierres',\n",
       " 'Telecommunications filaires',\n",
       " 'Telecommunications par satellite',\n",
       " 'Telecommunications sans fil',\n",
       " 'Terrassements divers, demolition',\n",
       " 'Terrassements en grande masse',\n",
       " \"Tierce maintenance de systemes et d'applications informatiques\",\n",
       " 'Traduction et interpretation',\n",
       " 'Traitement de donnees',\n",
       " 'Traitement de donnees, hebergement et activites connexes',\n",
       " 'Traiteurs, organisation de receptions',\n",
       " 'Transformation du the et du cafe',\n",
       " 'Transformation et conservation de la viande de boucherie',\n",
       " 'Transport de voyageurs par taxis',\n",
       " 'Transports aeriens de passagers',\n",
       " 'Transports de voyageurs par taxis',\n",
       " 'Transports fluviaux',\n",
       " 'Transports maritimes et cotiers de passagers',\n",
       " 'Transports routiers de fret de proximite',\n",
       " 'Transports routiers de fret interurbains',\n",
       " 'Transports routiers de marchandises de proximite',\n",
       " 'Transports routiers reguliers de voyageurs',\n",
       " 'Transports urbains et suburbains de voyageurs',\n",
       " 'Travail temporaire',\n",
       " \"Travaux d'etancheification\",\n",
       " \"Travaux d'installation d'eau et de gaz en tous locaux\",\n",
       " \"Travaux d'installation d'equipements thermiques et de climatisation\",\n",
       " \"Travaux d'installation electrique\",\n",
       " \"Travaux d'installation electrique dans tous locaux\",\n",
       " \"Travaux d'isolation\",\n",
       " 'Travaux de charpente',\n",
       " 'Travaux de couverture par elements',\n",
       " 'Travaux de demolition',\n",
       " 'Travaux de finition n.c.a.',\n",
       " 'Travaux de maconnerie generale',\n",
       " 'Travaux de maconnerie generale et gros œuvre de batiment',\n",
       " 'Travaux de menuiserie bois et PVC',\n",
       " 'Travaux de menuiserie metallique et serrurerie',\n",
       " 'Travaux de montage de structures metalliques',\n",
       " 'Travaux de peinture et vitrerie',\n",
       " 'Travaux de platrerie',\n",
       " 'Travaux de revetement des sols et des murs',\n",
       " 'Travaux de terrassement courants et travaux preparatoires',\n",
       " 'Travaux de terrassement specialises ou de grande masse',\n",
       " 'Travaux maritimes et fluviaux',\n",
       " 'Vente a distance sur catalogue general',\n",
       " 'Vente a distance sur catalogue specialise',\n",
       " 'Vente a domicile',\n",
       " 'Vente par automates et autres commerces de detail hors magasin, eventaires ou marches n.c.a.',\n",
       " 'Vente par correspondance specialisee',\n",
       " 'Vente par correspondance sur catalogue general',\n",
       " 'Viticulture']"
      ]
     },
     "execution_count": 10,
     "metadata": {},
     "output_type": "execute_result"
    }
   ],
   "source": [
    "list_X_encoder"
   ]
  },
  {
   "cell_type": "code",
   "execution_count": 11,
   "id": "aba4fb4f",
   "metadata": {},
   "outputs": [
    {
     "data": {
      "text/plain": [
       "565"
      ]
     },
     "execution_count": 11,
     "metadata": {},
     "output_type": "execute_result"
    }
   ],
   "source": [
    "len(list_X_encoder)"
   ]
  },
  {
   "cell_type": "code",
   "execution_count": null,
   "id": "b85fee82",
   "metadata": {},
   "outputs": [],
   "source": []
  },
  {
   "cell_type": "markdown",
   "id": "bfd5d8dd",
   "metadata": {},
   "source": [
    "## Encoder y"
   ]
  },
  {
   "cell_type": "code",
   "execution_count": null,
   "id": "5add73a9",
   "metadata": {},
   "outputs": [],
   "source": []
  },
  {
   "cell_type": "code",
   "execution_count": 12,
   "id": "8862edda",
   "metadata": {},
   "outputs": [
    {
     "data": {
      "text/plain": [
       "array([[1.],\n",
       "       [0.],\n",
       "       [1.],\n",
       "       ...,\n",
       "       [0.],\n",
       "       [0.],\n",
       "       [1.]])"
      ]
     },
     "execution_count": 12,
     "metadata": {},
     "output_type": "execute_result"
    }
   ],
   "source": [
    "y_encoder"
   ]
  },
  {
   "cell_type": "code",
   "execution_count": 13,
   "id": "502358ff",
   "metadata": {},
   "outputs": [
    {
     "data": {
      "text/plain": [
       "['non', 'oui']"
      ]
     },
     "execution_count": 13,
     "metadata": {},
     "output_type": "execute_result"
    }
   ],
   "source": [
    " list_y_encoder"
   ]
  },
  {
   "cell_type": "code",
   "execution_count": null,
   "id": "21f331a5",
   "metadata": {},
   "outputs": [],
   "source": []
  },
  {
   "cell_type": "code",
   "execution_count": null,
   "id": "0d292f46",
   "metadata": {},
   "outputs": [],
   "source": []
  },
  {
   "cell_type": "markdown",
   "id": "d52a8597",
   "metadata": {},
   "source": [
    "# Logistic regression"
   ]
  },
  {
   "cell_type": "code",
   "execution_count": null,
   "id": "be1c1071",
   "metadata": {},
   "outputs": [],
   "source": []
  },
  {
   "cell_type": "code",
   "execution_count": 14,
   "id": "9b5748a6",
   "metadata": {},
   "outputs": [],
   "source": [
    "from sklearn.model_selection import train_test_split\n",
    "X_train, X_test, y_train, y_test = train_test_split(\n",
    "                    X_encoder, y_encoder, test_size=0.3)"
   ]
  },
  {
   "cell_type": "code",
   "execution_count": null,
   "id": "8b23e4d0",
   "metadata": {},
   "outputs": [],
   "source": []
  },
  {
   "cell_type": "code",
   "execution_count": 15,
   "id": "9295d5f7",
   "metadata": {
    "scrolled": true
   },
   "outputs": [
    {
     "name": "stderr",
     "output_type": "stream",
     "text": [
      "/home/lewagon/.pyenv/versions/3.8.6/envs/trampact/lib/python3.8/site-packages/sklearn/utils/validation.py:63: DataConversionWarning: A column-vector y was passed when a 1d array was expected. Please change the shape of y to (n_samples, ), for example using ravel().\n",
      "  return f(*args, **kwargs)\n",
      "/home/lewagon/.pyenv/versions/3.8.6/envs/trampact/lib/python3.8/site-packages/sklearn/linear_model/_logistic.py:763: ConvergenceWarning: lbfgs failed to converge (status=1):\n",
      "STOP: TOTAL NO. of ITERATIONS REACHED LIMIT.\n",
      "\n",
      "Increase the number of iterations (max_iter) or scale the data as shown in:\n",
      "    https://scikit-learn.org/stable/modules/preprocessing.html\n",
      "Please also refer to the documentation for alternative solver options:\n",
      "    https://scikit-learn.org/stable/modules/linear_model.html#logistic-regression\n",
      "  n_iter_i = _check_optimize_result(\n"
     ]
    },
    {
     "data": {
      "text/plain": [
       "LogisticRegression()"
      ]
     },
     "execution_count": 15,
     "metadata": {},
     "output_type": "execute_result"
    }
   ],
   "source": [
    "from sklearn.linear_model import LogisticRegression\n",
    "# Instanciate the model\n",
    "model = LogisticRegression()\n",
    "# # Train the model on the Training data\n",
    "model.fit(X_train, y_train)"
   ]
  },
  {
   "cell_type": "code",
   "execution_count": 16,
   "id": "e12da37f",
   "metadata": {
    "scrolled": true
   },
   "outputs": [
    {
     "data": {
      "text/plain": [
       "array([[-0.06668296, -0.01148654, -0.02386599,  0.18940962,  0.35060254,\n",
       "         0.50034066,  0.36606053, -0.03339977, -0.33913413, -0.17427228,\n",
       "        -0.59549967, -0.21153251,  0.2323376 , -0.38694808,  0.14265444,\n",
       "         0.44160554,  0.10444475,  0.19504476,  0.06702261,  0.20944626,\n",
       "         0.26599651, -0.86977583, -0.43304511, -0.1146005 ,  0.06603248,\n",
       "         0.09185231,  0.76025727,  0.2088187 ,  0.44160554, -0.25306589,\n",
       "        -0.60680044,  0.        , -0.38253958,  0.23500665, -0.43085757,\n",
       "         0.44403105,  0.08975487, -0.41079594,  0.08765802, -0.78751103,\n",
       "         0.38576907,  0.42049136,  0.        , -1.19454564,  0.15790807,\n",
       "         0.19760799,  0.32612138,  0.41046171,  0.24063892,  0.08499435,\n",
       "         0.45250323,  0.        ,  0.4098632 ,  0.4098632 ,  0.44403105,\n",
       "         0.02611929,  0.15540146, -0.09191526,  0.16660839, -0.67783713,\n",
       "        -0.74776896, -0.59568739,  1.36842048, -0.67629143, -0.08408733,\n",
       "         0.26467835, -0.30887034,  0.38100931,  0.        ,  0.13378725,\n",
       "        -0.51611531,  0.44160554, -0.34215052, -0.83268986, -0.76969294,\n",
       "         0.17259008, -0.89154101, -0.33986758, -0.34215052,  0.2007171 ,\n",
       "         0.20510342,  0.11555372,  0.12548222, -0.3062541 ,  0.45017109,\n",
       "         0.        , -0.33192056, -0.34215052,  0.51577259, -0.54303837,\n",
       "         0.36304192,  0.4130529 , -0.08916984, -0.01152788, -0.53272955,\n",
       "        -0.35860375, -1.02722477, -0.50073418, -0.30051716,  0.24650628,\n",
       "         0.31073662, -0.13502393, -0.58543005, -0.33986758, -0.77672357,\n",
       "         0.71252406, -0.47291986, -0.1787653 , -0.1787653 , -0.45408059,\n",
       "        -0.99801332, -0.18125497, -0.57891986,  0.59178258,  0.53291185,\n",
       "         0.76094091, -0.01099749,  0.65880816, -0.34215052,  0.48257931,\n",
       "        -0.37730668,  0.        ,  0.        , -0.22565824, -0.06450718,\n",
       "        -0.36535896, -0.33986758,  0.18735388, -0.49227249, -0.37532869,\n",
       "        -0.33986758, -0.26582812, -0.01878549,  0.20510342, -0.04456848,\n",
       "         0.10627453, -0.41175731, -0.64482906, -0.02706065, -1.15944652,\n",
       "        -0.58732453,  0.06335446, -0.33986758, -0.00697493,  0.        ,\n",
       "         0.        ,  0.77849497, -0.34215052,  0.22119434,  0.10627453,\n",
       "        -0.33192056, -0.59380203,  0.37540799,  0.09185231,  0.44623494,\n",
       "         0.11637144, -0.53408109,  1.44819192,  0.07570331,  0.58755203,\n",
       "         0.77849497,  0.32046902,  0.69815764, -0.19074292,  0.58627211,\n",
       "         0.67424012,  0.76873526,  1.3894231 ,  0.30791367,  0.87445079,\n",
       "         0.53410493, -0.16910094, -0.25231027, -0.58732453, -0.35860375,\n",
       "         0.43626093,  0.45250323, -0.0170154 ,  0.14974659,  1.13760949,\n",
       "         0.7643489 ,  0.32202763,  1.64117452,  0.85869301,  0.42116459,\n",
       "         1.00807642,  0.73806477,  0.15387519,  0.00296599,  0.40493622,\n",
       "         0.56944926,  0.66580128,  0.50108746,  0.14103   , -0.1472609 ,\n",
       "         0.        ,  0.        ,  0.26999627, -0.1787653 , -0.37730668,\n",
       "        -0.39401786,  0.45250323, -0.33192056,  0.1748229 , -0.19349443,\n",
       "        -0.4549652 ,  0.844957  , -0.71352245,  0.34823539, -0.93617362,\n",
       "        -0.58543005,  0.40493622, -0.59380203,  0.37514678,  0.2053815 ,\n",
       "         0.        ,  0.77142952,  0.97623407,  0.18614428, -0.40383711,\n",
       "        -0.3143599 , -0.33192056,  0.        ,  0.00409201, -0.79757629,\n",
       "        -0.23114179, -0.28943255, -0.24207439, -0.77590356, -0.33986758,\n",
       "        -0.36902453,  0.7643489 , -0.33192056, -0.05691666, -0.57891986,\n",
       "        -0.39021253, -0.33986758,  0.44403105, -0.18670279, -0.61028707,\n",
       "        -0.59191468, -0.67510345,  0.31481189,  0.15672396,  0.44160554,\n",
       "        -0.33192056,  1.0122698 , -0.33192056,  0.09905933,  0.        ,\n",
       "        -0.58732453, -0.33986758, -0.34215052,  0.45250323,  0.09905933,\n",
       "        -0.52591416,  0.27349144, -0.33192056, -0.22820328,  0.2288376 ,\n",
       "         0.39211709, -0.12993045, -0.33192056, -0.3721237 ,  0.0074897 ,\n",
       "        -0.1045822 , -0.38186171, -0.24967246, -0.23643469,  0.26962345,\n",
       "        -0.94480823,  0.09905933, -0.16300826,  0.44403105, -0.05722302,\n",
       "        -0.33192056,  0.        ,  0.44403105,  0.17365758, -0.54034841,\n",
       "         0.18071816,  0.        , -0.79429179, -0.33192056, -0.16910094,\n",
       "        -0.78212819,  0.        , -0.98027559,  0.        ,  1.10994772,\n",
       "        -0.33986758, -0.69812089, -0.58732453,  0.42116459, -0.08615539,\n",
       "         0.72487223, -0.30631058,  0.36187005,  0.24453404, -0.50907945,\n",
       "         0.37591543, -0.78909503, -0.17847758,  0.34566512,  0.54477657,\n",
       "        -0.22285766, -0.3959233 ,  0.44403105,  1.21078346,  0.        ,\n",
       "         1.01645899, -0.33986758,  0.08975487,  0.16674972,  0.        ,\n",
       "         0.01572442, -0.3721237 , -0.45822885,  0.53679406, -0.16730356,\n",
       "         0.        ,  0.44160554, -0.36382072,  0.66040242,  0.14768983,\n",
       "         0.34357663,  0.54969543,  0.40677835, -0.33986758,  0.        ,\n",
       "         0.45211181, -0.34215052,  0.        ,  0.        , -0.58732453,\n",
       "         0.0395354 ,  0.44160554,  0.45250323, -0.33986758, -0.34215052,\n",
       "         0.09769692,  0.44160554,  0.44403105,  0.45250323,  0.63987166,\n",
       "        -0.34215052, -0.34215052, -0.30360842, -0.33986758,  0.        ,\n",
       "        -0.33192056,  0.        , -0.33192056,  0.44403105,  0.44403105,\n",
       "        -0.18848981, -0.1787653 ,  0.66739244,  0.45250323,  0.0204796 ,\n",
       "         0.45250323,  0.        ,  0.76230372, -0.73942437,  0.        ,\n",
       "         0.44160554, -0.36414623,  0.21500363,  0.        ,  0.44160554,\n",
       "        -0.39458841,  0.148121  ,  0.44160554, -0.06455877, -0.09952452,\n",
       "        -0.25687747, -0.34215052,  0.04670155, -0.59568739,  0.63587079,\n",
       "         0.28133266, -0.33192056,  0.10627453,  0.77142952,  0.94013153,\n",
       "         0.4765018 ,  0.44160554, -0.48967574, -0.17359724, -0.57891986,\n",
       "        -0.48786226, -0.34215052, -0.17697351,  0.        , -0.77672357,\n",
       "        -0.33192056, -0.57891986, -0.33192056, -0.16300826, -0.78909503,\n",
       "        -0.0726387 ,  0.74539088,  0.17667694,  0.40862018,  0.44403105,\n",
       "         0.06727602,  1.4731208 , -0.34215052, -0.7906773 , -0.34215052,\n",
       "        -0.55054927, -0.17101301,  0.44160554,  1.11836228, -0.33192056,\n",
       "        -0.36257461, -0.33986758, -0.2433395 ,  0.34049128,  1.66111542,\n",
       "         0.13881528, -0.59380203,  0.38916545,  0.09185231, -0.34215052,\n",
       "        -0.58732453, -0.33192056,  0.041527  ,  0.09695971, -0.49667214,\n",
       "        -0.26104161,  0.52686249,  0.06303093, -1.19825041,  0.14970465,\n",
       "         0.        ,  0.09733898,  0.09695971,  0.40794691,  0.08765802,\n",
       "        -0.13977522, -0.04436479,  0.4130529 , -0.33192056,  0.13556812,\n",
       "        -0.33192056,  0.51223844, -0.45597203,  0.45250323, -0.33192056,\n",
       "         0.65157373,  0.0442459 , -0.06312693,  0.        , -0.52894238,\n",
       "         0.        , -0.33192056, -0.34215052, -0.69061053,  0.        ,\n",
       "        -0.60797017, -0.01192881,  0.41046171,  0.        ,  0.97322922,\n",
       "         0.11794611,  0.42067905,  0.41673438,  0.        , -0.15509852,\n",
       "        -0.18146752,  0.44403105,  1.04150237,  0.44403105,  0.08975487,\n",
       "        -0.59191468,  0.        , -0.67236432,  0.82293856,  0.04197241,\n",
       "         0.45250323,  0.        , -0.59380203, -0.27976034,  0.555918  ,\n",
       "         0.82230445,  0.79576616, -0.13318744,  0.21601898,  0.44160554,\n",
       "         0.31085411,  0.        , -0.28856927,  0.        ,  1.58970859,\n",
       "         0.44160554,  0.76938877, -0.41903337, -1.17797293, -0.58732453,\n",
       "         0.09172914,  0.44160554, -0.47095968, -0.45367639,  0.14590402,\n",
       "         0.76230372,  1.17262199,  0.5542753 ,  0.16231904,  0.34398169,\n",
       "        -0.3637683 , -0.67355454, -0.72026379, -0.33986758,  0.71285751,\n",
       "        -0.33986758,  0.09185231,  0.45250323, -0.33192056, -0.33986758,\n",
       "        -0.25241659, -0.58543005,  0.05633434,  0.09695971,  0.44160554,\n",
       "         0.42067905, -0.78212819,  0.08975487, -0.41563895, -0.34215052,\n",
       "         0.        , -0.53698337, -0.09781984,  0.98570313, -0.33192056,\n",
       "        -0.1787653 ,  0.44160554, -0.1284111 , -0.59160103,  0.13689551,\n",
       "        -0.135449  , -0.19730956,  0.4148938 , -0.64477277,  0.14974659,\n",
       "        -0.33986758,  0.58198532, -0.28394272,  0.0247244 , -0.61429313,\n",
       "        -1.00689816, -0.99759365, -0.02687163, -0.67323304, -0.14290941,\n",
       "        -0.23558447,  0.09695971, -0.34215052, -0.2047547 , -0.47860807,\n",
       "        -0.39263736, -0.30867295,  0.17222149, -0.05213265, -0.33192056]])"
      ]
     },
     "execution_count": 16,
     "metadata": {},
     "output_type": "execute_result"
    }
   ],
   "source": [
    "model.coef_"
   ]
  },
  {
   "cell_type": "code",
   "execution_count": 17,
   "id": "eaf26b4a",
   "metadata": {},
   "outputs": [
    {
     "data": {
      "text/plain": [
       "(1, 565)"
      ]
     },
     "execution_count": 17,
     "metadata": {},
     "output_type": "execute_result"
    }
   ],
   "source": [
    "model.coef_.shape"
   ]
  },
  {
   "cell_type": "code",
   "execution_count": 18,
   "id": "ad225772",
   "metadata": {},
   "outputs": [
    {
     "data": {
      "text/plain": [
       "0.5969887955182073"
      ]
     },
     "execution_count": 18,
     "metadata": {},
     "output_type": "execute_result"
    }
   ],
   "source": [
    "model.score(X_test, y_test)"
   ]
  },
  {
   "cell_type": "code",
   "execution_count": null,
   "id": "7c782ead",
   "metadata": {},
   "outputs": [],
   "source": []
  },
  {
   "cell_type": "code",
   "execution_count": 19,
   "id": "8b3ff52d",
   "metadata": {
    "scrolled": true
   },
   "outputs": [
    {
     "data": {
      "text/html": [
       "<div>\n",
       "<style scoped>\n",
       "    .dataframe tbody tr th:only-of-type {\n",
       "        vertical-align: middle;\n",
       "    }\n",
       "\n",
       "    .dataframe tbody tr th {\n",
       "        vertical-align: top;\n",
       "    }\n",
       "\n",
       "    .dataframe thead th {\n",
       "        text-align: right;\n",
       "    }\n",
       "</style>\n",
       "<table border=\"1\" class=\"dataframe\">\n",
       "  <thead>\n",
       "    <tr style=\"text-align: right;\">\n",
       "      <th></th>\n",
       "      <th>Location et location-bail d'autres machines, equipements et biens materiels n.c.a.</th>\n",
       "      <th>Commerce de detail de la chaussure</th>\n",
       "      <th>Services auxiliaires des transports aeriens</th>\n",
       "      <th>Location d'autres biens personnels et domestiques</th>\n",
       "      <th>Commerce de detail d'articles d'horlogerie et de bijouterie en magasin specialise</th>\n",
       "      <th>Commerce de detail d'habillement en magasin specialise</th>\n",
       "      <th>Activites juridiques</th>\n",
       "      <th>Enseignement secondaire general</th>\n",
       "      <th>Superettes</th>\n",
       "      <th>Commerce de detail de fruits et legumes en magasin specialise</th>\n",
       "      <th>...</th>\n",
       "      <th>Construction d'autres ouvrages de genie civil n.c.a.</th>\n",
       "      <th>Culture de legumes, de melons, de racines et de tubercules</th>\n",
       "      <th>Travaux de montage de structures metalliques</th>\n",
       "      <th>Autres activites sportives</th>\n",
       "      <th>Travaux de menuiserie metallique et serrurerie</th>\n",
       "      <th>Autres activites de nettoyage des batiments et nettoyage industriel</th>\n",
       "      <th>Auxiliaires d'assurance</th>\n",
       "      <th>Services de demenagement</th>\n",
       "      <th>Activites des agences de travail temporaire</th>\n",
       "      <th>Organisation de foires et salons</th>\n",
       "    </tr>\n",
       "  </thead>\n",
       "  <tbody>\n",
       "    <tr>\n",
       "      <th>0</th>\n",
       "      <td>1.661115</td>\n",
       "      <td>1.641175</td>\n",
       "      <td>1.589709</td>\n",
       "      <td>1.473121</td>\n",
       "      <td>1.448192</td>\n",
       "      <td>1.389423</td>\n",
       "      <td>1.36842</td>\n",
       "      <td>1.210783</td>\n",
       "      <td>1.172622</td>\n",
       "      <td>1.137609</td>\n",
       "      <td>...</td>\n",
       "      <td>-0.944808</td>\n",
       "      <td>-0.980276</td>\n",
       "      <td>-0.997594</td>\n",
       "      <td>-0.998013</td>\n",
       "      <td>-1.006898</td>\n",
       "      <td>-1.027225</td>\n",
       "      <td>-1.159447</td>\n",
       "      <td>-1.177973</td>\n",
       "      <td>-1.194546</td>\n",
       "      <td>-1.19825</td>\n",
       "    </tr>\n",
       "  </tbody>\n",
       "</table>\n",
       "<p>1 rows × 565 columns</p>\n",
       "</div>"
      ],
      "text/plain": [
       "   Location et location-bail d'autres machines, equipements et biens materiels n.c.a.  \\\n",
       "0                                           1.661115                                    \n",
       "\n",
       "   Commerce de detail de la chaussure  \\\n",
       "0                            1.641175   \n",
       "\n",
       "   Services auxiliaires des transports aeriens  \\\n",
       "0                                     1.589709   \n",
       "\n",
       "   Location d'autres biens personnels et domestiques  \\\n",
       "0                                           1.473121   \n",
       "\n",
       "   Commerce de detail d'articles d'horlogerie et de bijouterie en magasin specialise  \\\n",
       "0                                           1.448192                                   \n",
       "\n",
       "   Commerce de detail d'habillement en magasin specialise  \\\n",
       "0                                           1.389423        \n",
       "\n",
       "   Activites juridiques  Enseignement secondaire general  Superettes  \\\n",
       "0               1.36842                         1.210783    1.172622   \n",
       "\n",
       "   Commerce de detail de fruits et legumes en magasin specialise  ...  \\\n",
       "0                                           1.137609              ...   \n",
       "\n",
       "   Construction d'autres ouvrages de genie civil n.c.a.  \\\n",
       "0                                          -0.944808      \n",
       "\n",
       "   Culture de legumes, de melons, de racines et de tubercules  \\\n",
       "0                                          -0.980276            \n",
       "\n",
       "   Travaux de montage de structures metalliques  Autres activites sportives  \\\n",
       "0                                     -0.997594                   -0.998013   \n",
       "\n",
       "   Travaux de menuiserie metallique et serrurerie  \\\n",
       "0                                       -1.006898   \n",
       "\n",
       "   Autres activites de nettoyage des batiments et nettoyage industriel  \\\n",
       "0                                          -1.027225                     \n",
       "\n",
       "   Auxiliaires d'assurance  Services de demenagement  \\\n",
       "0                -1.159447                 -1.177973   \n",
       "\n",
       "   Activites des agences de travail temporaire  \\\n",
       "0                                    -1.194546   \n",
       "\n",
       "   Organisation de foires et salons  \n",
       "0                          -1.19825  \n",
       "\n",
       "[1 rows x 565 columns]"
      ]
     },
     "execution_count": 19,
     "metadata": {},
     "output_type": "execute_result"
    }
   ],
   "source": [
    "coef=pd.DataFrame(model.coef_,columns=list_X_encoder).sort_values(by=0,axis=1, ascending=False)\n",
    "coef"
   ]
  },
  {
   "cell_type": "code",
   "execution_count": null,
   "id": "89016efa",
   "metadata": {},
   "outputs": [],
   "source": []
  },
  {
   "cell_type": "code",
   "execution_count": 20,
   "id": "59b89861",
   "metadata": {},
   "outputs": [],
   "source": [
    "coef_top=coef.iloc[0,:10]\n",
    "coef_bad=coef.iloc[0,-10:]"
   ]
  },
  {
   "cell_type": "code",
   "execution_count": null,
   "id": "6f571571",
   "metadata": {},
   "outputs": [],
   "source": []
  },
  {
   "cell_type": "code",
   "execution_count": 21,
   "id": "230458e0",
   "metadata": {},
   "outputs": [
    {
     "data": {
      "text/plain": [
       "<BarContainer object of 10 artists>"
      ]
     },
     "execution_count": 21,
     "metadata": {},
     "output_type": "execute_result"
    },
    {
     "data": {
      "image/png": "[encoded data removed]",
      "text/plain": [
       "<Figure size 720x360 with 1 Axes>"
      ]
     },
     "metadata": {
      "needs_background": "light"
     },
     "output_type": "display_data"
    }
   ],
   "source": [
    "import matplotlib.pyplot as plt\n",
    "# plot top\n",
    "# plot param\n",
    "nbr_value=len(coef_top.index.tolist())\n",
    "plt.figure(figsize=(10, 5))\n",
    "plt.ylabel(\"Coefficient magnitude\")\n",
    "plt.xticks(np.arange(1,  1+ nbr_value),\n",
    "            coef_top.index, rotation=60,\n",
    "            ha=\"right\")\n",
    "#plot\n",
    "plt.bar(np.arange(1,1+ nbr_value), coef_top.values,color=\"blue\")"
   ]
  },
  {
   "cell_type": "code",
   "execution_count": null,
   "id": "8ccc90c6",
   "metadata": {},
   "outputs": [],
   "source": []
  },
  {
   "cell_type": "code",
   "execution_count": 22,
   "id": "8ff6c134",
   "metadata": {},
   "outputs": [
    {
     "data": {
      "text/plain": [
       "<BarContainer object of 10 artists>"
      ]
     },
     "execution_count": 22,
     "metadata": {},
     "output_type": "execute_result"
    },
    {
     "data": {
      "image/png": "[encoded data removed]",
      "text/plain": [
       "<Figure size 720x360 with 1 Axes>"
      ]
     },
     "metadata": {
      "needs_background": "light"
     },
     "output_type": "display_data"
    }
   ],
   "source": [
    "# plot bad\n",
    "# plot param\n",
    "nbr_value=len(coef_bad.index.tolist())\n",
    "plt.figure(figsize=(10, 5))\n",
    "plt.ylabel(\"Coefficient magnitude\")\n",
    "plt.xticks(np.arange(1,  1+ nbr_value),\n",
    "            coef_bad.index, rotation=60,\n",
    "            ha=\"right\")\n",
    "#plot\n",
    "plt.bar(np.arange(1,1+ nbr_value), coef_bad.values,color=\"red\")"
   ]
  },
  {
   "cell_type": "code",
   "execution_count": null,
   "id": "a375f59a",
   "metadata": {},
   "outputs": [],
   "source": []
  },
  {
   "cell_type": "code",
   "execution_count": 23,
   "id": "3deba63e",
   "metadata": {
    "scrolled": true
   },
   "outputs": [],
   "source": [
    "# #Méthode direct pour trajet le plot\n",
    "# coef.iloc[0,:10].plot.bar()"
   ]
  },
  {
   "cell_type": "code",
   "execution_count": null,
   "id": "af3325d4",
   "metadata": {},
   "outputs": [],
   "source": []
  },
  {
   "cell_type": "markdown",
   "id": "2618c7d3",
   "metadata": {},
   "source": [
    "## Learning curve"
   ]
  },
  {
   "cell_type": "code",
   "execution_count": null,
   "id": "0c3c6d63",
   "metadata": {},
   "outputs": [],
   "source": []
  },
  {
   "cell_type": "code",
   "execution_count": 24,
   "id": "5a4040df",
   "metadata": {},
   "outputs": [],
   "source": [
    "# train_sizes=[]\n",
    "# nbre_cv=5\n",
    "# nbre_data=round(len(X_encoder)*1/nbre_cv)\n",
    "# subdivision=round(nbre_data/10)\n",
    "# test=0\n",
    "# for i in range(1, 10):\n",
    "#     test=i*subdivision\n",
    "#     train_sizes.append(test)\n",
    "# train_sizes.append(nbre_data)\n",
    "# train_sizes[::1]"
   ]
  },
  {
   "cell_type": "code",
   "execution_count": null,
   "id": "8ad0c829",
   "metadata": {},
   "outputs": [],
   "source": []
  },
  {
   "cell_type": "code",
   "execution_count": 25,
   "id": "afa65421",
   "metadata": {},
   "outputs": [],
   "source": [
    "# from sklearn.model_selection import learning_curve\n",
    "\n",
    "\n",
    "# # Get train scores (accurance), train sizes, and validation scores using `learning_curve`\n",
    "# train_sizes, train_scores, test_scores = learning_curve(\n",
    "#     estimator=LogisticRegression(), X=X_encoder, y=y_encoder, train_sizes=train_sizes, cv=nbre_cv)"
   ]
  },
  {
   "cell_type": "code",
   "execution_count": 26,
   "id": "95b7fc52",
   "metadata": {},
   "outputs": [],
   "source": [
    "# train_scores_mean = np.mean(train_scores, axis=1)\n",
    "# train_scores_mean"
   ]
  },
  {
   "cell_type": "code",
   "execution_count": 27,
   "id": "4d5ebbfd",
   "metadata": {},
   "outputs": [],
   "source": [
    "# test_scores_mean = np.mean(test_scores, axis=1)\n",
    "# test_scores_mean"
   ]
  },
  {
   "cell_type": "code",
   "execution_count": 28,
   "id": "44e1251a",
   "metadata": {},
   "outputs": [],
   "source": [
    "# plt.plot(train_sizes, train_scores_mean, label = 'Training score')\n",
    "# plt.plot(train_sizes, test_scores_mean, label = 'Test score')\n",
    "# plt.ylabel('accurance', fontsize = 14)\n",
    "# plt.xlabel('Training set size', fontsize = 14)\n",
    "# plt.title('Learning curves', fontsize = 18, y = 1.03)\n",
    "# plt.legend()"
   ]
  },
  {
   "cell_type": "code",
   "execution_count": null,
   "id": "69c0961c",
   "metadata": {},
   "outputs": [],
   "source": []
  },
  {
   "cell_type": "code",
   "execution_count": null,
   "id": "b2dbc43e",
   "metadata": {},
   "outputs": [],
   "source": []
  },
  {
   "cell_type": "code",
   "execution_count": null,
   "id": "93de781c",
   "metadata": {},
   "outputs": [],
   "source": []
  },
  {
   "cell_type": "code",
   "execution_count": null,
   "id": "7b4fe6ee",
   "metadata": {},
   "outputs": [],
   "source": []
  },
  {
   "cell_type": "code",
   "execution_count": null,
   "id": "7b775f6e",
   "metadata": {},
   "outputs": [],
   "source": []
  },
  {
   "cell_type": "code",
   "execution_count": null,
   "id": "b069191c",
   "metadata": {},
   "outputs": [],
   "source": []
  },
  {
   "cell_type": "markdown",
   "id": "e68a7125",
   "metadata": {},
   "source": [
    "## Selecting the Most Important Features"
   ]
  },
  {
   "cell_type": "code",
   "execution_count": 29,
   "id": "b541bc0c",
   "metadata": {},
   "outputs": [],
   "source": [
    "# Permutation Importance\n",
    "from sklearn.inspection import permutation_importance"
   ]
  },
  {
   "cell_type": "code",
   "execution_count": null,
   "id": "8cd19893",
   "metadata": {},
   "outputs": [],
   "source": []
  },
  {
   "cell_type": "code",
   "execution_count": 30,
   "id": "1f5fb1f9",
   "metadata": {},
   "outputs": [],
   "source": [
    "# n_repeats=5"
   ]
  },
  {
   "cell_type": "code",
   "execution_count": 31,
   "id": "2d2a341e",
   "metadata": {},
   "outputs": [
    {
     "name": "stderr",
     "output_type": "stream",
     "text": [
      "/home/lewagon/.pyenv/versions/3.8.6/envs/trampact/lib/python3.8/site-packages/sklearn/utils/validation.py:63: DataConversionWarning: A column-vector y was passed when a 1d array was expected. Please change the shape of y to (n_samples, ), for example using ravel().\n",
      "  return f(*args, **kwargs)\n",
      "/home/lewagon/.pyenv/versions/3.8.6/envs/trampact/lib/python3.8/site-packages/sklearn/linear_model/_logistic.py:763: ConvergenceWarning: lbfgs failed to converge (status=1):\n",
      "STOP: TOTAL NO. of ITERATIONS REACHED LIMIT.\n",
      "\n",
      "Increase the number of iterations (max_iter) or scale the data as shown in:\n",
      "    https://scikit-learn.org/stable/modules/preprocessing.html\n",
      "Please also refer to the documentation for alternative solver options:\n",
      "    https://scikit-learn.org/stable/modules/linear_model.html#logistic-regression\n",
      "  n_iter_i = _check_optimize_result(\n"
     ]
    }
   ],
   "source": [
    "# Fit model\n",
    "model = LogisticRegression()\n",
    "model.fit(X_train, y_train) \n",
    "\n",
    "# Perform Permutation\n",
    "permutation_score = permutation_importance(model, X_train, y_train, n_repeats=5) \n",
    "\n"
   ]
  },
  {
   "cell_type": "code",
   "execution_count": null,
   "id": "9c6e7609",
   "metadata": {},
   "outputs": [],
   "source": []
  },
  {
   "cell_type": "code",
   "execution_count": null,
   "id": "abaffbb5",
   "metadata": {},
   "outputs": [],
   "source": []
  },
  {
   "cell_type": "code",
   "execution_count": 33,
   "id": "7605a48d",
   "metadata": {},
   "outputs": [
    {
     "data": {
      "text/html": [
       "<div>\n",
       "<style scoped>\n",
       "    .dataframe tbody tr th:only-of-type {\n",
       "        vertical-align: middle;\n",
       "    }\n",
       "\n",
       "    .dataframe tbody tr th {\n",
       "        vertical-align: top;\n",
       "    }\n",
       "\n",
       "    .dataframe thead th {\n",
       "        text-align: right;\n",
       "    }\n",
       "</style>\n",
       "<table border=\"1\" class=\"dataframe\">\n",
       "  <thead>\n",
       "    <tr style=\"text-align: right;\">\n",
       "      <th></th>\n",
       "      <th>feature</th>\n",
       "      <th>score decrease</th>\n",
       "    </tr>\n",
       "  </thead>\n",
       "  <tbody>\n",
       "    <tr>\n",
       "      <th>531</th>\n",
       "      <td>Transports routiers de fret de proximite</td>\n",
       "      <td>9.003601440582543e-05</td>\n",
       "    </tr>\n",
       "    <tr>\n",
       "      <th>541</th>\n",
       "      <td>Travaux d'installation electrique dans tous lo...</td>\n",
       "      <td>9.003601440582543e-05</td>\n",
       "    </tr>\n",
       "    <tr>\n",
       "      <th>313</th>\n",
       "      <td>Entretien corporel</td>\n",
       "      <td>9.003601440580323e-05</td>\n",
       "    </tr>\n",
       "    <tr>\n",
       "      <th>442</th>\n",
       "      <td>Platrerie</td>\n",
       "      <td>9.003601440580323e-05</td>\n",
       "    </tr>\n",
       "    <tr>\n",
       "      <th>410</th>\n",
       "      <td>Location de courte duree de voitures et de veh...</td>\n",
       "      <td>9.003601440580323e-05</td>\n",
       "    </tr>\n",
       "    <tr>\n",
       "      <th>367</th>\n",
       "      <td>Formation des adultes et formation continue</td>\n",
       "      <td>9.003601440580323e-05</td>\n",
       "    </tr>\n",
       "    <tr>\n",
       "      <th>181</th>\n",
       "      <td>Commerce de detail de journaux et papeterie en...</td>\n",
       "      <td>9.003601440580323e-05</td>\n",
       "    </tr>\n",
       "    <tr>\n",
       "      <th>325</th>\n",
       "      <td>Fabrication d'articles de joaillerie et bijout...</td>\n",
       "      <td>9.003601440580323e-05</td>\n",
       "    </tr>\n",
       "    <tr>\n",
       "      <th>353</th>\n",
       "      <td>Fabrication de pates alimentaires</td>\n",
       "      <td>9.003601440578101e-05</td>\n",
       "    </tr>\n",
       "    <tr>\n",
       "      <th>50</th>\n",
       "      <td>Activites des organisations et organismes extr...</td>\n",
       "      <td>9.003601440578101e-05</td>\n",
       "    </tr>\n",
       "  </tbody>\n",
       "</table>\n",
       "</div>"
      ],
      "text/plain": [
       "                                               feature         score decrease\n",
       "531           Transports routiers de fret de proximite  9.003601440582543e-05\n",
       "541  Travaux d'installation electrique dans tous lo...  9.003601440582543e-05\n",
       "313                                 Entretien corporel  9.003601440580323e-05\n",
       "442                                          Platrerie  9.003601440580323e-05\n",
       "410  Location de courte duree de voitures et de veh...  9.003601440580323e-05\n",
       "367        Formation des adultes et formation continue  9.003601440580323e-05\n",
       "181  Commerce de detail de journaux et papeterie en...  9.003601440580323e-05\n",
       "325  Fabrication d'articles de joaillerie et bijout...  9.003601440580323e-05\n",
       "353                  Fabrication de pates alimentaires  9.003601440578101e-05\n",
       "50   Activites des organisations et organismes extr...  9.003601440578101e-05"
      ]
     },
     "execution_count": 33,
     "metadata": {},
     "output_type": "execute_result"
    }
   ],
   "source": [
    "# Unstack results\n",
    "importance_df = pd.DataFrame(np.vstack((list_X_encoder,\n",
    "                                        permutation_score.importances_mean)).T) \n",
    "importance_df.columns=['feature','score decrease']\n",
    "\n",
    "\n",
    "# # Order by importance\n",
    "most_important_features = importance_df.sort_values(by=\"score decrease\", ascending = False)\n",
    "most_important_features.head(10)"
   ]
  },
  {
   "cell_type": "code",
   "execution_count": null,
   "id": "1d5461f5",
   "metadata": {},
   "outputs": [],
   "source": []
  },
  {
   "cell_type": "code",
   "execution_count": null,
   "id": "c4a4b18d",
   "metadata": {},
   "outputs": [],
   "source": []
  },
  {
   "cell_type": "code",
   "execution_count": null,
   "id": "4886b41b",
   "metadata": {},
   "outputs": [],
   "source": []
  },
  {
   "cell_type": "code",
   "execution_count": null,
   "id": "4d98556f",
   "metadata": {},
   "outputs": [],
   "source": []
  },
  {
   "cell_type": "code",
   "execution_count": null,
   "id": "1f8de5b4",
   "metadata": {},
   "outputs": [],
   "source": []
  },
  {
   "cell_type": "code",
   "execution_count": null,
   "id": "97f62e3e",
   "metadata": {},
   "outputs": [],
   "source": []
  },
  {
   "cell_type": "code",
   "execution_count": null,
   "id": "6f960293",
   "metadata": {},
   "outputs": [],
   "source": []
  },
  {
   "cell_type": "code",
   "execution_count": null,
   "id": "eaac6e65",
   "metadata": {},
   "outputs": [],
   "source": []
  },
  {
   "cell_type": "code",
   "execution_count": null,
   "id": "24c2ddd4",
   "metadata": {},
   "outputs": [],
   "source": []
  },
  {
   "cell_type": "code",
   "execution_count": null,
   "id": "71289fc8",
   "metadata": {},
   "outputs": [],
   "source": []
  },
  {
   "cell_type": "code",
   "execution_count": null,
   "id": "bd245288",
   "metadata": {},
   "outputs": [],
   "source": []
  },
  {
   "cell_type": "code",
   "execution_count": null,
   "id": "a5d49c00",
   "metadata": {},
   "outputs": [],
   "source": []
  },
  {
   "cell_type": "code",
   "execution_count": null,
   "id": "e4d58141",
   "metadata": {},
   "outputs": [],
   "source": []
  },
  {
   "cell_type": "code",
   "execution_count": null,
   "id": "ee92fda7",
   "metadata": {},
   "outputs": [],
   "source": []
  },
  {
   "cell_type": "code",
   "execution_count": null,
   "id": "9a0f3c21",
   "metadata": {},
   "outputs": [],
   "source": []
  },
  {
   "cell_type": "code",
   "execution_count": null,
   "id": "e368e432",
   "metadata": {},
   "outputs": [],
   "source": []
  },
  {
   "cell_type": "code",
   "execution_count": null,
   "id": "0ac7c567",
   "metadata": {},
   "outputs": [],
   "source": []
  },
  {
   "cell_type": "code",
   "execution_count": null,
   "id": "2058e276",
   "metadata": {},
   "outputs": [],
   "source": []
  },
  {
   "cell_type": "code",
   "execution_count": null,
   "id": "e7a2e22e",
   "metadata": {},
   "outputs": [],
   "source": []
  },
  {
   "cell_type": "code",
   "execution_count": null,
   "id": "b4da01f0",
   "metadata": {},
   "outputs": [],
   "source": []
  },
  {
   "cell_type": "code",
   "execution_count": null,
   "id": "a7fb81a5",
   "metadata": {},
   "outputs": [],
   "source": []
  },
  {
   "cell_type": "code",
   "execution_count": null,
   "id": "7e76d5a7",
   "metadata": {},
   "outputs": [],
   "source": []
  },
  {
   "cell_type": "code",
   "execution_count": null,
   "id": "1923968c",
   "metadata": {},
   "outputs": [],
   "source": []
  },
  {
   "cell_type": "code",
   "execution_count": null,
   "id": "643ffad0",
   "metadata": {},
   "outputs": [],
   "source": []
  },
  {
   "cell_type": "code",
   "execution_count": null,
   "id": "3a35d173",
   "metadata": {},
   "outputs": [],
   "source": []
  },
  {
   "cell_type": "code",
   "execution_count": null,
   "id": "6e887d26",
   "metadata": {},
   "outputs": [],
   "source": []
  },
  {
   "cell_type": "code",
   "execution_count": null,
   "id": "b6d907ac",
   "metadata": {},
   "outputs": [],
   "source": []
  },
  {
   "cell_type": "code",
   "execution_count": null,
   "id": "7c4d0516",
   "metadata": {},
   "outputs": [],
   "source": []
  },
  {
   "cell_type": "code",
   "execution_count": null,
   "id": "6dc7ba7a",
   "metadata": {},
   "outputs": [],
   "source": []
  },
  {
   "cell_type": "code",
   "execution_count": null,
   "id": "60690544",
   "metadata": {},
   "outputs": [],
   "source": []
  },
  {
   "cell_type": "code",
   "execution_count": null,
   "id": "e22965b5",
   "metadata": {},
   "outputs": [],
   "source": []
  },
  {
   "cell_type": "code",
   "execution_count": null,
   "id": "408cdcc7",
   "metadata": {},
   "outputs": [],
   "source": []
  },
  {
   "cell_type": "code",
   "execution_count": null,
   "id": "ce8d0626",
   "metadata": {},
   "outputs": [],
   "source": []
  },
  {
   "cell_type": "code",
   "execution_count": null,
   "id": "d15dd2fa",
   "metadata": {},
   "outputs": [],
   "source": []
  },
  {
   "cell_type": "code",
   "execution_count": null,
   "id": "3df27239",
   "metadata": {},
   "outputs": [],
   "source": []
  },
  {
   "cell_type": "code",
   "execution_count": null,
   "id": "6e9abc97",
   "metadata": {},
   "outputs": [],
   "source": []
  },
  {
   "cell_type": "code",
   "execution_count": null,
   "id": "6eca0690",
   "metadata": {},
   "outputs": [],
   "source": []
  },
  {
   "cell_type": "code",
   "execution_count": null,
   "id": "d8561180",
   "metadata": {},
   "outputs": [],
   "source": []
  },
  {
   "cell_type": "code",
   "execution_count": null,
   "id": "8572c343",
   "metadata": {},
   "outputs": [],
   "source": []
  },
  {
   "cell_type": "code",
   "execution_count": null,
   "id": "ee4b0aa1",
   "metadata": {},
   "outputs": [],
   "source": []
  },
  {
   "cell_type": "code",
   "execution_count": null,
   "id": "22b61ff5",
   "metadata": {},
   "outputs": [],
   "source": []
  },
  {
   "cell_type": "code",
   "execution_count": null,
   "id": "11c084e3",
   "metadata": {},
   "outputs": [],
   "source": []
  },
  {
   "cell_type": "code",
   "execution_count": null,
   "id": "9329db60",
   "metadata": {},
   "outputs": [],
   "source": []
  },
  {
   "cell_type": "code",
   "execution_count": null,
   "id": "12e96b6f",
   "metadata": {},
   "outputs": [],
   "source": []
  },
  {
   "cell_type": "code",
   "execution_count": null,
   "id": "eac6683c",
   "metadata": {},
   "outputs": [],
   "source": []
  },
  {
   "cell_type": "code",
   "execution_count": null,
   "id": "9b980ecd",
   "metadata": {},
   "outputs": [],
   "source": []
  },
  {
   "cell_type": "code",
   "execution_count": null,
   "id": "9d7bc2ce",
   "metadata": {},
   "outputs": [],
   "source": []
  },
  {
   "cell_type": "code",
   "execution_count": null,
   "id": "ecdf0d61",
   "metadata": {},
   "outputs": [],
   "source": []
  },
  {
   "cell_type": "code",
   "execution_count": null,
   "id": "f8363c45",
   "metadata": {},
   "outputs": [],
   "source": []
  },
  {
   "cell_type": "code",
   "execution_count": null,
   "id": "8454ab22",
   "metadata": {},
   "outputs": [],
   "source": []
  },
  {
   "cell_type": "code",
   "execution_count": null,
   "id": "786c715c",
   "metadata": {},
   "outputs": [],
   "source": []
  },
  {
   "cell_type": "code",
   "execution_count": null,
   "id": "8f3358f9",
   "metadata": {},
   "outputs": [],
   "source": []
  },
  {
   "cell_type": "code",
   "execution_count": null,
   "id": "fa0ef958",
   "metadata": {},
   "outputs": [],
   "source": []
  },
  {
   "cell_type": "code",
   "execution_count": null,
   "id": "3ed818fd",
   "metadata": {},
   "outputs": [],
   "source": []
  },
  {
   "cell_type": "code",
   "execution_count": null,
   "id": "df0de707",
   "metadata": {},
   "outputs": [],
   "source": []
  },
  {
   "cell_type": "code",
   "execution_count": null,
   "id": "6865305f",
   "metadata": {},
   "outputs": [],
   "source": []
  },
  {
   "cell_type": "code",
   "execution_count": null,
   "id": "672fb2c1",
   "metadata": {},
   "outputs": [],
   "source": []
  },
  {
   "cell_type": "code",
   "execution_count": null,
   "id": "c0f269f8",
   "metadata": {},
   "outputs": [],
   "source": []
  },
  {
   "cell_type": "code",
   "execution_count": null,
   "id": "dcb14da3",
   "metadata": {},
   "outputs": [],
   "source": []
  },
  {
   "cell_type": "code",
   "execution_count": null,
   "id": "8025039c",
   "metadata": {},
   "outputs": [],
   "source": []
  },
  {
   "cell_type": "code",
   "execution_count": null,
   "id": "52e4649f",
   "metadata": {},
   "outputs": [],
   "source": []
  }
 ],
 "metadata": {
  "kernelspec": {
   "display_name": "Python 3",
   "language": "python",
   "name": "python3"
  },
  "language_info": {
   "codemirror_mode": {
    "name": "ipython",
    "version": 3
   },
   "file_extension": ".py",
   "mimetype": "text/x-python",
   "name": "python",
   "nbconvert_exporter": "python",
   "pygments_lexer": "ipython3",
   "version": "3.8.6"
  },
  "toc": {
   "base_numbering": 1,
   "nav_menu": {},
   "number_sections": true,
   "sideBar": true,
   "skip_h1_title": false,
   "title_cell": "Table of Contents",
   "title_sidebar": "Contents",
   "toc_cell": false,
   "toc_position": {
    "height": "calc(100% - 180px)",
    "left": "10px",
    "top": "150px",
    "width": "165px"
   },
   "toc_section_display": true,
   "toc_window_display": true
  },
  "varInspector": {
   "cols": {
    "lenName": 16,
    "lenType": 16,
    "lenVar": 40
   },
   "kernels_config": {
    "python": {
     "delete_cmd_postfix": "",
     "delete_cmd_prefix": "del ",
     "library": "var_list.py",
     "varRefreshCmd": "print(var_dic_list())"
    },
    "r": {
     "delete_cmd_postfix": ") ",
     "delete_cmd_prefix": "rm(",
     "library": "var_list.r",
     "varRefreshCmd": "cat(var_dic_list()) "
    }
   },
   "types_to_exclude": [
    "module",
    "function",
    "builtin_function_or_method",
    "instance",
    "_Feature"
   ],
   "window_display": false
  }
 },
 "nbformat": 4,
 "nbformat_minor": 5
}
