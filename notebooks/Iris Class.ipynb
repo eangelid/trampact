{
 "cells": [
  {
   "cell_type": "code",
   "execution_count": 34,
   "id": "5a935cc3",
   "metadata": {},
   "outputs": [],
   "source": [
    "import shapefile as sp\n",
    "from dbfread import DBF\n"
   ]
  },
  {
   "cell_type": "code",
   "execution_count": 2,
   "id": "27cfb050",
   "metadata": {},
   "outputs": [
    {
     "name": "stdout",
     "output_type": "stream",
     "text": [
      "/home/mchistya/code/eangelid/trampact/notebooks\r\n"
     ]
    }
   ],
   "source": [
    "!pwd"
   ]
  },
  {
   "cell_type": "code",
   "execution_count": 80,
   "id": "91247240",
   "metadata": {},
   "outputs": [],
   "source": [
    "class Iris():\n",
    "    \n",
    "    def __init__(self):\n",
    "        self.get_files()\n",
    "        self.get_records()\n",
    "        self.get_iris_id()\n",
    "    \n",
    "    def get_files(self):\n",
    "        #client = storage.Client().bucket('trampact_storage')\n",
    "\n",
    "        #path_dbf = \"gs://{}/{}/{}\".format(bucket_name, path,'IRIS_GEO_2018_FRTOT.dbf')\n",
    "        #path_shp = 'gs://{}/{}/{}'.format(bucket_name, path,'IRIS_GEO_2018_FRTOT.shp')\n",
    "        \n",
    "        path_dbf ='../raw_data/iris_geo/IRIS_GEO_2018_FRTOT.dbf'\n",
    "        path_shp ='../raw_data/iris_geo/IRIS_GEO_2018_FRTOT.shp'\n",
    "\n",
    "        self.dbf=DBF(path_dbf)\n",
    "        self.shp = sp.Reader(path_shp)\n",
    "\n",
    "\n",
    "    def get_records(self):\n",
    "        records = []\n",
    "        for record in self.dbf:\n",
    "            records.append(dict(record))\n",
    "        self.records = records\n",
    "\n",
    "    def get_iris_id(self):\n",
    "        iris_id = []\n",
    "        for i in range(len(self.records)):\n",
    "            r = self.records[i]['CODE_IRIS']\n",
    "            iris_id.append(r)\n",
    "        self.iris_id = iris_id\n",
    "        \n",
    "    def get_iris_type(self, iris_id):\n",
    "        iris_type = {}\n",
    "        for i in range(len(self.records)):\n",
    "            iris_type[self.iris_id[i]]= self.records[i]['TYP_IRIS']\n",
    "        self.iris_type = iris_type\n",
    "        return iris_type[str(iris_id)]\n",
    "\n",
    "    def get_box_coord(self, iris_id):\n",
    "        shapes = self.shp.shapes()\n",
    "        box_coord = {}\n",
    "        for i in range(len(shapes)):\n",
    "            box_coord[self.iris_id[i]] = shapes[i].bbox\n",
    "        return box_coord[str(iris_id)]\n",
    "\n",
    "    def get_poly_coord(self, iris_id):\n",
    "        shapes = self.shp.shapes()\n",
    "        poly_coord = {}\n",
    "        for i in range(len(shapes)):\n",
    "            poly_coord[self.iris_id[i]] = shapes[i].__geo_interface__['coordinates'][0]\n",
    "        return poly_coord[str(iris_id)]\n",
    "    \n",
    "    def get_iris(self, longitude, latitude):\n",
    "        pass\n",
    "    \n"
   ]
  },
  {
   "cell_type": "code",
   "execution_count": 81,
   "id": "ab410419",
   "metadata": {},
   "outputs": [],
   "source": [
    "iris = Iris()"
   ]
  },
  {
   "cell_type": "code",
   "execution_count": 82,
   "id": "6415186e",
   "metadata": {},
   "outputs": [
    {
     "data": {
      "text/plain": [
       "'Z'"
      ]
     },
     "execution_count": 82,
     "metadata": {},
     "output_type": "execute_result"
    }
   ],
   "source": [
    "iris.get_iris_type('010270000')"
   ]
  },
  {
   "cell_type": "code",
   "execution_count": 84,
   "id": "eef8a29a",
   "metadata": {},
   "outputs": [],
   "source": [
    "path_dbf ='../raw_data/iris_geo/IRIS_GEO_2018_FRTOT.dbf'\n",
    "path_shp ='../raw_data/iris_geo/IRIS_GEO_2018_FRTOT.shp'\n",
    "\n",
    "dbf=DBF(path_dbf)\n",
    "shp = sp.Reader(path_shp)\n",
    "\n",
    "records = []\n",
    "for record in DBF(path_dbf):\n",
    "    records.append(dict(record))\n",
    "    \n",
    "iris_type = {}\n",
    "for i in range(len(records)):\n",
    "    iris_type[iris_id[i]] = records[i]['TYP_IRIS']\n"
   ]
  },
  {
   "cell_type": "code",
   "execution_count": 85,
   "id": "62c79052",
   "metadata": {},
   "outputs": [
    {
     "data": {
      "text/plain": [
       "True"
      ]
     },
     "execution_count": 85,
     "metadata": {},
     "output_type": "execute_result"
    }
   ],
   "source": [
    "'010270000' in iris_id"
   ]
  },
  {
   "cell_type": "code",
   "execution_count": 86,
   "id": "8f8d35cd",
   "metadata": {},
   "outputs": [
    {
     "data": {
      "text/plain": [
       "12"
      ]
     },
     "execution_count": 86,
     "metadata": {},
     "output_type": "execute_result"
    }
   ],
   "source": [
    "iris_id.index('010270000')"
   ]
  },
  {
   "cell_type": "code",
   "execution_count": 87,
   "id": "2c41c39a",
   "metadata": {},
   "outputs": [
    {
     "data": {
      "text/plain": [
       "[5.074076567058182, 45.797890833135114, 5.141096735822965, 45.8552780627737]"
      ]
     },
     "execution_count": 87,
     "metadata": {},
     "output_type": "execute_result"
    }
   ],
   "source": [
    "iris.get_box_coord('010270000')"
   ]
  },
  {
   "cell_type": "code",
   "execution_count": 6,
   "id": "7e683a40",
   "metadata": {},
   "outputs": [
    {
     "name": "stdout",
     "output_type": "stream",
     "text": [
      "Requirement already satisfied: shapely in /home/mchistya/.pyenv/versions/3.8.6/envs/lewagon/lib/python3.8/site-packages (1.7.1)\r\n"
     ]
    }
   ],
   "source": [
    "!pip install shapely"
   ]
  },
  {
   "cell_type": "code",
   "execution_count": 7,
   "id": "335dd887",
   "metadata": {},
   "outputs": [
    {
     "name": "stdout",
     "output_type": "stream",
     "text": [
      "True\n"
     ]
    }
   ],
   "source": [
    "from shapely.geometry import Point\n",
    "from shapely.geometry.polygon import Polygon\n",
    "\n",
    "point = Point(0.5, 0.5)\n",
    "polygon = Polygon([(0, 0), (0, 1), (1, 1), (1, 0)])\n",
    "print(polygon.contains(point))"
   ]
  },
  {
   "cell_type": "code",
   "execution_count": 8,
   "id": "36a17346",
   "metadata": {},
   "outputs": [
    {
     "name": "stdout",
     "output_type": "stream",
     "text": [
      "           Credentialed Accounts\r\n",
      "ACTIVE  ACCOUNT\r\n",
      "*       mallliya.chistyakova@googlemail.com\r\n",
      "\r\n",
      "To set the active account, run:\r\n",
      "    $ gcloud config set account `ACCOUNT`\r\n",
      "\r\n"
     ]
    }
   ],
   "source": [
    "!gcloud auth list"
   ]
  },
  {
   "cell_type": "code",
   "execution_count": 9,
   "id": "dac44792",
   "metadata": {},
   "outputs": [
    {
     "name": "stdout",
     "output_type": "stream",
     "text": [
      "DISPLAY NAME                            EMAIL                                                   DISABLED\r\n",
      "trampact                                trampact@wagon-bootcamp-610.iam.gserviceaccount.com     False\r\n",
      "Compute Engine default service account  74114217063-compute@developer.gserviceaccount.com       False\r\n",
      "arnaud_czls                             arnaud-czls@wagon-bootcamp-610.iam.gserviceaccount.com  False\r\n"
     ]
    }
   ],
   "source": [
    "!gcloud iam service-accounts list\n",
    "\n"
   ]
  },
  {
   "cell_type": "code",
   "execution_count": 26,
   "id": "cbc758ed",
   "metadata": {},
   "outputs": [
    {
     "data": {
      "text/html": [
       "<div>\n",
       "<style scoped>\n",
       "    .dataframe tbody tr th:only-of-type {\n",
       "        vertical-align: middle;\n",
       "    }\n",
       "\n",
       "    .dataframe tbody tr th {\n",
       "        vertical-align: top;\n",
       "    }\n",
       "\n",
       "    .dataframe thead th {\n",
       "        text-align: right;\n",
       "    }\n",
       "</style>\n",
       "<table border=\"1\" class=\"dataframe\">\n",
       "  <thead>\n",
       "    <tr style=\"text-align: right;\">\n",
       "      <th></th>\n",
       "      <th>Unnamed: 0</th>\n",
       "      <th>Unnamed: 0.1</th>\n",
       "      <th>iris</th>\n",
       "      <th>iris_with_t1</th>\n",
       "      <th>AN</th>\n",
       "      <th>longitude</th>\n",
       "      <th>latitude</th>\n",
       "      <th>('LAB', 'is_sport')</th>\n",
       "      <th>('LAB', 'is_leasure')</th>\n",
       "      <th>('LAB', 'is_medical')</th>\n",
       "      <th>...</th>\n",
       "      <th>('LAB', 'is_high_educ')</th>\n",
       "      <th>('LAB', 'is_schools')</th>\n",
       "      <th>('LAB', 'is_transport')</th>\n",
       "      <th>Q_XY_acceptable</th>\n",
       "      <th>Q_XY_bonne</th>\n",
       "      <th>Q_XY_mauvaise</th>\n",
       "      <th>LAB</th>\n",
       "      <th>CLASSE</th>\n",
       "      <th>distance tram t1</th>\n",
       "      <th>proche tram t1</th>\n",
       "    </tr>\n",
       "  </thead>\n",
       "  <tbody>\n",
       "    <tr>\n",
       "      <th>0</th>\n",
       "      <td>0</td>\n",
       "      <td>4384</td>\n",
       "      <td>60881201</td>\n",
       "      <td>1</td>\n",
       "      <td>2018</td>\n",
       "      <td>7.256436</td>\n",
       "      <td>43.72625</td>\n",
       "      <td>0</td>\n",
       "      <td>0</td>\n",
       "      <td>0</td>\n",
       "      <td>...</td>\n",
       "      <td>0</td>\n",
       "      <td>0</td>\n",
       "      <td>0</td>\n",
       "      <td>0.0</td>\n",
       "      <td>1.0</td>\n",
       "      <td>0.0</td>\n",
       "      <td>Banque, Caisse d'épargne</td>\n",
       "      <td>Services a</td>\n",
       "      <td>86.91</td>\n",
       "      <td>oui</td>\n",
       "    </tr>\n",
       "  </tbody>\n",
       "</table>\n",
       "<p>1 rows × 26 columns</p>\n",
       "</div>"
      ],
      "text/plain": [
       "   Unnamed: 0  Unnamed: 0.1      iris  iris_with_t1    AN  longitude  \\\n",
       "0           0          4384  60881201             1  2018   7.256436   \n",
       "\n",
       "   latitude  ('LAB', 'is_sport')  ('LAB', 'is_leasure')  \\\n",
       "0  43.72625                    0                      0   \n",
       "\n",
       "   ('LAB', 'is_medical')  ...  ('LAB', 'is_high_educ')  ('LAB', 'is_schools')  \\\n",
       "0                      0  ...                        0                      0   \n",
       "\n",
       "   ('LAB', 'is_transport')  Q_XY_acceptable  Q_XY_bonne  Q_XY_mauvaise  \\\n",
       "0                        0              0.0         1.0            0.0   \n",
       "\n",
       "                        LAB      CLASSE  distance tram t1  proche tram t1  \n",
       "0  Banque, Caisse d'épargne  Services a             86.91             oui  \n",
       "\n",
       "[1 rows x 26 columns]"
      ]
     },
     "execution_count": 26,
     "metadata": {},
     "output_type": "execute_result"
    }
   ],
   "source": [
    "import pandas as pd\n",
    "df=pd.read_csv(\"gs://trampact_storage/data/BPE_T1_v1.csv\")\n",
    "df.head(1)"
   ]
  },
  {
   "cell_type": "code",
   "execution_count": 11,
   "id": "48b207be",
   "metadata": {},
   "outputs": [
    {
     "name": "stdout",
     "output_type": "stream",
     "text": [
      "False\n"
     ]
    }
   ],
   "source": [
    "point = Point(45.829124, 5.102229)\n",
    "polygon = Polygon([(0, 0), (0, 1), (1, 1), (1, 0)])\n",
    "print(polygon.contains(point))"
   ]
  },
  {
   "cell_type": "code",
   "execution_count": 31,
   "id": "82f736e1",
   "metadata": {},
   "outputs": [],
   "source": [
    "bucket_name = 'trampact_storage'\n",
    "path = 'data/iris_geo'\n",
    "    \n",
    "    \n",
    "class Iris():\n",
    "    \n",
    "    \n",
    "    def __init__(self):\n",
    "        self.get_files(bucket_name, path)\n",
    "        self.get_records()\n",
    "        self.get_iris_id()\n",
    "    \n",
    "    def get_files(self,bucket_name, path):\n",
    "        #client = storage.Client().bucket('trampact_storage')\n",
    "\n",
    "        #path_dbf = \"gs://{}/{}/{}\".format(bucket_name, path,'IRIS_GEO_2018_FRTOT.dbf')\n",
    "        #path_shp = 'gs://{}/{}/{}'.format(bucket_name, path,'IRIS_GEO_2018_FRTOT.shp')\n",
    "        path_dbf = 'gs://{}/{}/{}'.format(bucket_name, path,'IRIS_GEO_2018_FRTOT.dbf')\n",
    "        path_shp = 'gs://{}/{}/{}'.format(bucket_name, path,'IRIS_GEO_2018_FRTOT.shp')\n",
    "        #path_dbf ='../raw_data/iris_geo/IRIS_GEO_2018_FRTOT.dbf'\n",
    "        #path_shp ='../raw_data/iris_geo/IRIS_GEO_2018_FRTOT.shp'\n",
    "\n",
    "        self.dbf=DBF(path_dbf)\n",
    "        self.shp = sp.Reader(path_shp)\n",
    "        \n",
    "    def get_records(self):\n",
    "        records = []\n",
    "        for record in self.dbf:\n",
    "            records.append(dict(record))\n",
    "        self.records = records\n",
    "\n",
    "    def get_iris_id(self):\n",
    "        iris_id = []\n",
    "        for i in range(len(self.records)):\n",
    "            r = self.records[i]['CODE_IRIS']\n",
    "            iris_id.append(r)\n",
    "        self.iris_id = iris_id\n",
    "\n",
    "    def get_box_coord(self, iris_id):\n",
    "        shapes = self.shp.shapes()\n",
    "        box_coord = {}\n",
    "        for i in range(len(shapes)):\n",
    "            box_coord[self.iris_id[i]] = shapes[i].bbox\n",
    "        return box_coord[str(iris_id)]\n",
    "\n",
    "    def get_poly_coord(self, iris_id):\n",
    "        shapes = self.shp.shapes()\n",
    "        poly_coord = {}\n",
    "        for i in range(len(shapes)):\n",
    "            poly_coord[self.iris_id[i]] = shapes[i].__geo_interface__['coordinates'][0]\n",
    "        return poly_coord[str(iris_id)]"
   ]
  },
  {
   "cell_type": "code",
   "execution_count": 32,
   "id": "03aa5c1d",
   "metadata": {},
   "outputs": [
    {
     "ename": "DBFNotFound",
     "evalue": "could not find file 'gs://trampact_storage/data/iris_geo/IRIS_GEO_2018_FRTOT.dbf'",
     "output_type": "error",
     "traceback": [
      "\u001b[0;31m---------------------------------------------------------------------------\u001b[0m",
      "\u001b[0;31mDBFNotFound\u001b[0m                               Traceback (most recent call last)",
      "\u001b[0;32m<ipython-input-32-e97a4a6a0ce4>\u001b[0m in \u001b[0;36m<module>\u001b[0;34m\u001b[0m\n\u001b[0;32m----> 1\u001b[0;31m \u001b[0miris\u001b[0m \u001b[0;34m=\u001b[0m \u001b[0mIris\u001b[0m\u001b[0;34m(\u001b[0m\u001b[0;34m)\u001b[0m\u001b[0;34m\u001b[0m\u001b[0;34m\u001b[0m\u001b[0m\n\u001b[0m",
      "\u001b[0;32m<ipython-input-31-6831d1c58235>\u001b[0m in \u001b[0;36m__init__\u001b[0;34m(self)\u001b[0m\n\u001b[1;32m      7\u001b[0m \u001b[0;34m\u001b[0m\u001b[0m\n\u001b[1;32m      8\u001b[0m     \u001b[0;32mdef\u001b[0m \u001b[0m__init__\u001b[0m\u001b[0;34m(\u001b[0m\u001b[0mself\u001b[0m\u001b[0;34m)\u001b[0m\u001b[0;34m:\u001b[0m\u001b[0;34m\u001b[0m\u001b[0;34m\u001b[0m\u001b[0m\n\u001b[0;32m----> 9\u001b[0;31m         \u001b[0mself\u001b[0m\u001b[0;34m.\u001b[0m\u001b[0mget_files\u001b[0m\u001b[0;34m(\u001b[0m\u001b[0mbucket_name\u001b[0m\u001b[0;34m,\u001b[0m \u001b[0mpath\u001b[0m\u001b[0;34m)\u001b[0m\u001b[0;34m\u001b[0m\u001b[0;34m\u001b[0m\u001b[0m\n\u001b[0m\u001b[1;32m     10\u001b[0m         \u001b[0mself\u001b[0m\u001b[0;34m.\u001b[0m\u001b[0mget_records\u001b[0m\u001b[0;34m(\u001b[0m\u001b[0;34m)\u001b[0m\u001b[0;34m\u001b[0m\u001b[0;34m\u001b[0m\u001b[0m\n\u001b[1;32m     11\u001b[0m         \u001b[0mself\u001b[0m\u001b[0;34m.\u001b[0m\u001b[0mget_iris_id\u001b[0m\u001b[0;34m(\u001b[0m\u001b[0;34m)\u001b[0m\u001b[0;34m\u001b[0m\u001b[0;34m\u001b[0m\u001b[0m\n",
      "\u001b[0;32m<ipython-input-31-6831d1c58235>\u001b[0m in \u001b[0;36mget_files\u001b[0;34m(self, bucket_name, path)\u001b[0m\n\u001b[1;32m     21\u001b[0m         \u001b[0;31m#path_shp ='../raw_data/iris_geo/IRIS_GEO_2018_FRTOT.shp'\u001b[0m\u001b[0;34m\u001b[0m\u001b[0;34m\u001b[0m\u001b[0;34m\u001b[0m\u001b[0m\n\u001b[1;32m     22\u001b[0m \u001b[0;34m\u001b[0m\u001b[0m\n\u001b[0;32m---> 23\u001b[0;31m         \u001b[0mself\u001b[0m\u001b[0;34m.\u001b[0m\u001b[0mdbf\u001b[0m\u001b[0;34m=\u001b[0m\u001b[0mDBF\u001b[0m\u001b[0;34m(\u001b[0m\u001b[0mpath_dbf\u001b[0m\u001b[0;34m)\u001b[0m\u001b[0;34m\u001b[0m\u001b[0;34m\u001b[0m\u001b[0m\n\u001b[0m\u001b[1;32m     24\u001b[0m         \u001b[0mself\u001b[0m\u001b[0;34m.\u001b[0m\u001b[0mshp\u001b[0m \u001b[0;34m=\u001b[0m \u001b[0msp\u001b[0m\u001b[0;34m.\u001b[0m\u001b[0mReader\u001b[0m\u001b[0;34m(\u001b[0m\u001b[0mpath_shp\u001b[0m\u001b[0;34m)\u001b[0m\u001b[0;34m\u001b[0m\u001b[0;34m\u001b[0m\u001b[0m\n\u001b[1;32m     25\u001b[0m \u001b[0;34m\u001b[0m\u001b[0m\n",
      "\u001b[0;32m~/.pyenv/versions/3.8.6/envs/lewagon/lib/python3.8/site-packages/dbfread/dbf.py\u001b[0m in \u001b[0;36m__init__\u001b[0;34m(self, filename, encoding, ignorecase, lowernames, parserclass, recfactory, load, raw, ignore_missing_memofile, char_decode_errors)\u001b[0m\n\u001b[1;32m    108\u001b[0m             \u001b[0mself\u001b[0m\u001b[0;34m.\u001b[0m\u001b[0mfilename\u001b[0m \u001b[0;34m=\u001b[0m \u001b[0mifind\u001b[0m\u001b[0;34m(\u001b[0m\u001b[0mfilename\u001b[0m\u001b[0;34m)\u001b[0m\u001b[0;34m\u001b[0m\u001b[0;34m\u001b[0m\u001b[0m\n\u001b[1;32m    109\u001b[0m             \u001b[0;32mif\u001b[0m \u001b[0;32mnot\u001b[0m \u001b[0mself\u001b[0m\u001b[0;34m.\u001b[0m\u001b[0mfilename\u001b[0m\u001b[0;34m:\u001b[0m\u001b[0;34m\u001b[0m\u001b[0;34m\u001b[0m\u001b[0m\n\u001b[0;32m--> 110\u001b[0;31m                 \u001b[0;32mraise\u001b[0m \u001b[0mDBFNotFound\u001b[0m\u001b[0;34m(\u001b[0m\u001b[0;34m'could not find file {!r}'\u001b[0m\u001b[0;34m.\u001b[0m\u001b[0mformat\u001b[0m\u001b[0;34m(\u001b[0m\u001b[0mfilename\u001b[0m\u001b[0;34m)\u001b[0m\u001b[0;34m)\u001b[0m\u001b[0;34m\u001b[0m\u001b[0;34m\u001b[0m\u001b[0m\n\u001b[0m\u001b[1;32m    111\u001b[0m         \u001b[0;32melse\u001b[0m\u001b[0;34m:\u001b[0m\u001b[0;34m\u001b[0m\u001b[0;34m\u001b[0m\u001b[0m\n\u001b[1;32m    112\u001b[0m             \u001b[0mself\u001b[0m\u001b[0;34m.\u001b[0m\u001b[0mfilename\u001b[0m \u001b[0;34m=\u001b[0m \u001b[0mfilename\u001b[0m\u001b[0;34m\u001b[0m\u001b[0;34m\u001b[0m\u001b[0m\n",
      "\u001b[0;31mDBFNotFound\u001b[0m: could not find file 'gs://trampact_storage/data/iris_geo/IRIS_GEO_2018_FRTOT.dbf'"
     ]
    }
   ],
   "source": [
    "iris = Iris()"
   ]
  },
  {
   "cell_type": "code",
   "execution_count": 33,
   "id": "0b06e91a",
   "metadata": {},
   "outputs": [
    {
     "ename": "NameError",
     "evalue": "name 'get_files' is not defined",
     "output_type": "error",
     "traceback": [
      "\u001b[0;31m---------------------------------------------------------------------------\u001b[0m",
      "\u001b[0;31mNameError\u001b[0m                                 Traceback (most recent call last)",
      "\u001b[0;32m<ipython-input-33-cf958af7b41c>\u001b[0m in \u001b[0;36m<module>\u001b[0;34m\u001b[0m\n\u001b[0;32m----> 1\u001b[0;31m \u001b[0mget_files\u001b[0m\u001b[0;34m(\u001b[0m\u001b[0mbucket_name\u001b[0m\u001b[0;34m,\u001b[0m\u001b[0mpath\u001b[0m\u001b[0;34m)\u001b[0m\u001b[0;34m\u001b[0m\u001b[0;34m\u001b[0m\u001b[0m\n\u001b[0m",
      "\u001b[0;31mNameError\u001b[0m: name 'get_files' is not defined"
     ]
    }
   ],
   "source": [
    "get_files(bucket_name,path)"
   ]
  },
  {
   "cell_type": "code",
   "execution_count": null,
   "id": "4e5707ef",
   "metadata": {},
   "outputs": [],
   "source": []
  }
 ],
 "metadata": {
  "kernelspec": {
   "display_name": "Python 3",
   "language": "python",
   "name": "python3"
  },
  "language_info": {
   "codemirror_mode": {
    "name": "ipython",
    "version": 3
   },
   "file_extension": ".py",
   "mimetype": "text/x-python",
   "name": "python",
   "nbconvert_exporter": "python",
   "pygments_lexer": "ipython3",
   "version": "3.8.6"
  },
  "toc": {
   "base_numbering": 1,
   "nav_menu": {},
   "number_sections": true,
   "sideBar": true,
   "skip_h1_title": false,
   "title_cell": "Table of Contents",
   "title_sidebar": "Contents",
   "toc_cell": false,
   "toc_position": {},
   "toc_section_display": true,
   "toc_window_display": false
  }
 },
 "nbformat": 4,
 "nbformat_minor": 5
}
