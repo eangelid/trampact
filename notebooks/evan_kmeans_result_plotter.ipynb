{
 "cells": [
  {
   "cell_type": "code",
   "execution_count": 1,
   "metadata": {},
   "outputs": [],
   "source": [
    "import os\n",
    "import pandas as pd\n",
    "import geopandas as gpd\n",
    "import json\n",
    "from ipyleaflet import Map, Choropleth, Polyline #, GeoData, basemaps, LayersControl,\n",
    "from branca.colormap import linear"
   ]
  },
  {
   "cell_type": "code",
   "execution_count": 2,
   "metadata": {},
   "outputs": [],
   "source": [
    "kmeans_results = pd.read_csv(os.path.join('..', 'trampact', 'data', 'bd_gent_2006_no_tx_kmeans=5.csv'))"
   ]
  },
  {
   "cell_type": "code",
   "execution_count": 3,
   "metadata": {},
   "outputs": [],
   "source": [
    "kmeans_results['iris_id'] = kmeans_results.iris_id.map(lambda x: str(0) + str(x))"
   ]
  },
  {
   "cell_type": "code",
   "execution_count": 4,
   "metadata": {},
   "outputs": [],
   "source": [
    "iris_clusters = dict(\n",
    "    zip(\n",
    "        kmeans_results['iris_id'].tolist(), kmeans_results['pca_labels'].tolist()\n",
    "        )\n",
    "    )"
   ]
  },
  {
   "cell_type": "code",
   "execution_count": 5,
   "metadata": {},
   "outputs": [],
   "source": [
    "# Load coordinates of tramway line\n",
    "line_t1 = pd.read_csv('gs://trampact_storage/data/coord_T1.csv')\n",
    "line_t1.drop(columns='Unnamed: 0',inplace=True)\n",
    "line_t2 = pd.read_csv('gs://trampact_storage/data/lignt_t2_coord.csv')\n",
    "\n",
    "points_t1 =[]\n",
    "for i in range(len(line_t1)):\n",
    "    t=[line_t1.loc[i,'y'],line_t1.loc[i,'x']]\n",
    "    points_t1.append(t)\n",
    "    \n",
    "\n",
    "points_t2 =[]\n",
    "for i in range(len(line_t2)):\n",
    "    t=[line_t2.loc[i,'lat'],line_t2.loc[i,'lon']]\n",
    "    points_t2.append(t)# Load geograpy data\n",
    "\n",
    "zipfile = \"../raw_data/iris_geo/iris-geo-2018-frtot.zip\"\n",
    "gdf = gpd.read_file(zipfile) # geopandas.dataframe\n",
    "gdf.drop(columns=['INSEE_COM','NOM_COM','IRIS','NOM_IRIS'],inplace=True)\n",
    "# gdf.drop(columns=['INSEE_COM','IRIS','NOM_IRIS'],inplace=True)\n",
    "\n",
    "# Filter data for Nice region\n",
    "mask = gdf[['CODE_IRIS']].apply(lambda x: x.str.startswith('06')).any(axis=1)\n",
    "# mask = gdf[['NOM_COM']].apply(lambda x: str(x) == 'Nice').any(axis=1)\n",
    "gdf=gdf[mask]\n",
    "\n",
    "# Convert geopandas.dataframe to json format in the form of a string\n",
    "gdf_json=gdf.to_json()\n",
    "\n",
    "# Convert json string object to json dictionary\n",
    "dict_json = json.loads(gdf_json)\n",
    "\n",
    "# Assign id the value of iris_id, since matching of geo and feature dictionary is made on id in dict_json\n",
    "for feature in dict_json['features']:\n",
    "    feature['id']=feature['properties']['CODE_IRIS']# Load csv data\n",
    "feature_df_csv = pd.read_csv('../trampact/data/BD_GENT_2006.csv')\n",
    "\n",
    "# Correction for zero in the beginning of iris_id\n",
    "feature_df_csv.iris_id=feature_df_csv.iris_id.map(lambda x: str(0)+str(x))\n",
    "\n",
    "# transform dataframe into dictionary with iris_id as keys and the feature of interest as value\n",
    "# ftr = dict(zip(feature_df_csv['iris_id'].tolist(), feature_df_csv['actifs_2006'].tolist()))\n",
    "\n",
    "center=(43.723348,7.285484)\n",
    "zoom = 10"
   ]
  },
  {
   "cell_type": "code",
   "execution_count": 6,
   "metadata": {},
   "outputs": [
    {
     "output_type": "execute_result",
     "data": {
      "text/plain": [
       "(500, 3)"
      ]
     },
     "metadata": {},
     "execution_count": 6
    }
   ],
   "source": [
    "# gdf.shape"
   ]
  },
  {
   "cell_type": "code",
   "execution_count": 7,
   "metadata": {},
   "outputs": [],
   "source": [
    "m = Map(center = center, zoom = zoom)\n",
    "\n",
    "'''geo_data = GeoData(geo_dataframe = join_evan_df,\n",
    "                   style={'color': 'black', 'fillColor': '#3366CC\n",
    "', 'opacity':0.05, 'weight':1.9, 'dashArray':'2', 'fillOpacity':0.6},\n",
    "                   hover_style={'fillColor': 'red' , 'fillOpacity': 0.2},\n",
    "                   name = 'iris_id')\n",
    "                   '''\n",
    "line = Polyline(\n",
    "    locations=points_t1,\n",
    "    style={'color': 'black', 'fillColor': '#3366CC', 'opacity':0.5, 'weight':9, 'dashArray':'2', 'fillOpacity':0.6},\n",
    "    color=\"green\" ,\n",
    "    fill=False)\n",
    "\n",
    "line2 = Polyline(\n",
    "    locations=points_t2,\n",
    "    style={'color': 'black', 'fillColor': '#3366CC', 'opacity':0.5, 'weight':9, 'dashArray':'2', 'fillOpacity':0.6},\n",
    "    color=\"black\" ,\n",
    "    fill=False)\n",
    "\n",
    "layer = Choropleth(\n",
    "    geo_data=dict_json,\n",
    "    choro_data=iris_clusters,\n",
    "    colormap=linear.YlOrRd_04,\n",
    "    border_color='black',\n",
    "    style={'fillOpacity': 0.8, 'dashArray': '5, 5'})\n",
    "\n",
    "m.add_layer(layer)\n",
    "m.add_layer(line)\n",
    "# m.add_layer(line2)\n",
    "\n",
    "#m.add_layer(geo_data)\n",
    "#m.add_control(LayersControl())"
   ]
  },
  {
   "cell_type": "code",
   "execution_count": 8,
   "metadata": {},
   "outputs": [
    {
     "output_type": "display_data",
     "data": {
      "text/plain": "Map(center=[43.723348, 7.285484], controls=(ZoomControl(options=['position', 'zoom_in_text', 'zoom_in_title', …",
      "application/vnd.jupyter.widget-view+json": {
       "version_major": 2,
       "version_minor": 0,
       "model_id": "f14a4d36ffde46f98bd67157356a3394"
      }
     },
     "metadata": {}
    }
   ],
   "source": [
    "m"
   ]
  },
  {
   "cell_type": "code",
   "execution_count": null,
   "metadata": {},
   "outputs": [],
   "source": []
  }
 ],
 "metadata": {
  "interpreter": {
   "hash": "06a90510172326fbbffec9b48f3801d94e53116406f365a5608c3c2a18acae9f"
  },
  "kernelspec": {
   "name": "python3",
   "display_name": "Python 3.8.6 64-bit ('lewagon': pyenv)"
  },
  "language_info": {
   "codemirror_mode": {
    "name": "ipython",
    "version": 3
   },
   "file_extension": ".py",
   "mimetype": "text/x-python",
   "name": "python",
   "nbconvert_exporter": "python",
   "pygments_lexer": "ipython3",
   "version": "3.8.6"
  },
  "toc": {
   "base_numbering": 1,
   "nav_menu": {},
   "number_sections": true,
   "sideBar": true,
   "skip_h1_title": false,
   "title_cell": "Table of Contents",
   "title_sidebar": "Contents",
   "toc_cell": false,
   "toc_position": {},
   "toc_section_display": true,
   "toc_window_display": false
  }
 },
 "nbformat": 4,
 "nbformat_minor": 2
}