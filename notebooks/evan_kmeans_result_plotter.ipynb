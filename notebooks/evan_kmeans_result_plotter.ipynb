{
 "cells": [
  {
   "cell_type": "code",
   "execution_count": 18,
   "metadata": {},
   "outputs": [],
   "source": [
    "import os\n",
    "import pandas as pd\n",
    "import geopandas as gpd\n",
    "import json\n",
    "from ipyleaflet import Map, Choropleth, Polyline #, GeoData, basemaps, LayersControl,\n",
    "from branca.colormap import linear"
   ]
  },
  {
   "cell_type": "code",
   "execution_count": 19,
   "metadata": {},
   "outputs": [],
   "source": [
    "kmeans_results = pd.read_csv(os.path.join('..', 'trampact', 'data', 'pca_kmeans_results', 'census_2006_nice_tx_kmeans=5.csv'))"
   ]
  },
  {
   "cell_type": "code",
   "execution_count": 20,
   "metadata": {},
   "outputs": [],
   "source": [
    "kmeans_results['iris_id'] = kmeans_results.iris_id.map(lambda x: str(0) + str(x))"
   ]
  },
  {
   "cell_type": "code",
   "execution_count": 21,
   "metadata": {},
   "outputs": [],
   "source": [
    "iris_clusters = dict(\n",
    "    zip(\n",
    "        kmeans_results['iris_id'].tolist(), kmeans_results['pca_labels'].tolist()\n",
    "        )\n",
    "    )"
   ]
  },
  {
   "cell_type": "code",
   "execution_count": 22,
   "metadata": {},
   "outputs": [],
   "source": [
    "# Load coordinates of tramway line\n",
    "line_t1 = pd.read_csv('gs://trampact_storage/data/coord_T1.csv')\n",
    "line_t1.drop(columns='Unnamed: 0',inplace=True)\n",
    "line_t2 = pd.read_csv('gs://trampact_storage/data/lignt_t2_coord.csv')\n",
    "\n",
    "points_t1 =[]\n",
    "for i in range(len(line_t1)):\n",
    "    t=[line_t1.loc[i,'y'],line_t1.loc[i,'x']]\n",
    "    points_t1.append(t)\n",
    "    \n",
    "\n",
    "points_t2 =[]\n",
    "for i in range(len(line_t2)):\n",
    "    t=[line_t2.loc[i,'lat'],line_t2.loc[i,'lon']]\n",
    "    points_t2.append(t)# Load geograpy data\n",
    "\n",
    "zipfile = \"../raw_data/iris_geo/iris-geo-2018-frtot.zip\""
   ]
  },
  {
   "cell_type": "code",
   "execution_count": 23,
   "metadata": {},
   "outputs": [],
   "source": [
    "gdf = gpd.read_file(zipfile) # geopandas.dataframe\n",
    "\n",
    "# gdf.drop(columns=['INSEE_COM','NOM_COM','IRIS','NOM_IRIS'],inplace=True)\n",
    "gdf.drop(columns=['INSEE_COM','IRIS','NOM_IRIS'],inplace=True)\n",
    "\n",
    "# Filter data for Nice region\n",
    "gdf = gdf[gdf['NOM_COM'] == 'Nice'].reset_index().drop(columns=['index'])"
   ]
  },
  {
   "cell_type": "code",
   "execution_count": 24,
   "metadata": {},
   "outputs": [],
   "source": [
    "# Convert geopandas.dataframe to json format in the form of a string\n",
    "gdf_json=gdf.to_json()\n",
    "\n",
    "# Convert json string object to json dictionary\n",
    "dict_json = json.loads(gdf_json)\n",
    "\n",
    "# Assign id the value of iris_id, since matching of geo and feature dictionary is made on id in dict_json\n",
    "for feature in dict_json['features']:\n",
    "    feature['id']=feature['properties']['CODE_IRIS']# Load csv data\n",
    "feature_df_csv = pd.read_csv('../trampact/data/BD_GENT_2006.csv')\n",
    "\n",
    "# Correction for zero in the beginning of iris_id\n",
    "feature_df_csv.iris_id=feature_df_csv.iris_id.map(lambda x: str(0)+str(x))\n",
    "\n",
    "# transform dataframe into dictionary with iris_id as keys and the feature of interest as value\n",
    "# ftr = dict(zip(feature_df_csv['iris_id'].tolist(), feature_df_csv['actifs_2006'].tolist()))"
   ]
  },
  {
   "cell_type": "code",
   "execution_count": 25,
   "metadata": {},
   "outputs": [],
   "source": [
    "center=(43.723348,7.285484)\n",
    "zoom = 12\n",
    "m = Map(center = center, zoom = zoom)\n",
    "\n",
    "'''geo_data = GeoData(geo_dataframe = join_evan_df,\n",
    "                   style={'color': 'black', 'fillColor': '#3366CC\n",
    "', 'opacity':0.05, 'weight':1.9, 'dashArray':'2', 'fillOpacity':0.6},\n",
    "                   hover_style={'fillColor': 'red' , 'fillOpacity': 0.2},\n",
    "                   name = 'iris_id')\n",
    "                   '''\n",
    "line = Polyline(\n",
    "    locations=points_t1,\n",
    "    style={'color': 'black', 'fillColor': '#3366CC', 'opacity':0.5, 'weight':9, 'dashArray':'2', 'fillOpacity':0.6},\n",
    "    color=\"green\" ,\n",
    "    fill=False)\n",
    "\n",
    "line2 = Polyline(\n",
    "    locations=points_t2,\n",
    "    style={'color': 'black', 'fillColor': '#3366CC', 'opacity':0.5, 'weight':9, 'dashArray':'2', 'fillOpacity':0.6},\n",
    "    color=\"blue\" ,\n",
    "    fill=False)\n",
    "\n",
    "layer = Choropleth(\n",
    "    geo_data=dict_json,\n",
    "    choro_data=iris_clusters,\n",
    "    colormap=linear.YlOrRd_04,\n",
    "    border_color='black',\n",
    "    style={'fillOpacity': 0.7, 'dashArray': '5, 5'})\n",
    "\n",
    "m.add_layer(layer)\n",
    "m.add_layer(line)\n",
    "# m.add_layer(line2)\n",
    "\n",
    "#m.add_layer(geo_data)\n",
    "#m.add_control(LayersControl())"
   ]
  },
  {
   "cell_type": "code",
   "execution_count": 26,
   "metadata": {},
   "outputs": [
    {
     "data": {
      "application/vnd.jupyter.widget-view+json": {
       "model_id": "4e14f0aa7a874e28b6d5f256bbdc62a3",
       "version_major": 2,
       "version_minor": 0
      },
      "text/plain": [
       "Map(center=[43.723348, 7.285484], controls=(ZoomControl(options=['position', 'zoom_in_text', 'zoom_in_title', …"
      ]
     },
     "metadata": {},
     "output_type": "display_data"
    }
   ],
   "source": [
    "m"
   ]
  },
  {
   "cell_type": "code",
   "execution_count": null,
   "metadata": {},
   "outputs": [],
   "source": []
  }
 ],
 "metadata": {
  "interpreter": {
   "hash": "06a90510172326fbbffec9b48f3801d94e53116406f365a5608c3c2a18acae9f"
  },
  "kernelspec": {
   "display_name": "Python 3",
   "language": "python",
   "name": "python3"
  },
  "language_info": {
   "codemirror_mode": {
    "name": "ipython",
    "version": 3
   },
   "file_extension": ".py",
   "mimetype": "text/x-python",
   "name": "python",
   "nbconvert_exporter": "python",
   "pygments_lexer": "ipython3",
   "version": "3.8.6"
  },
  "toc": {
   "base_numbering": 1,
   "nav_menu": {},
   "number_sections": true,
   "sideBar": true,
   "skip_h1_title": false,
   "title_cell": "Table of Contents",
   "title_sidebar": "Contents",
   "toc_cell": false,
   "toc_position": {},
   "toc_section_display": true,
   "toc_window_display": false
  }
 },
 "nbformat": 4,
 "nbformat_minor": 2
}
