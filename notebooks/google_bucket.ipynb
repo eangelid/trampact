{
 "metadata": {
  "language_info": {
   "codemirror_mode": {
    "name": "ipython",
    "version": 3
   },
   "file_extension": ".py",
   "mimetype": "text/x-python",
   "name": "python",
   "nbconvert_exporter": "python",
   "pygments_lexer": "ipython3",
   "version": "3.8.6"
  },
  "orig_nbformat": 2,
  "kernelspec": {
   "name": "python386jvsc74a57bd006a90510172326fbbffec9b48f3801d94e53116406f365a5608c3c2a18acae9f",
   "display_name": "Python 3.8.6 64-bit ('lewagon': pyenv)"
  }
 },
 "nbformat": 4,
 "nbformat_minor": 2,
 "cells": [
  {
   "cell_type": "code",
   "execution_count": 4,
   "metadata": {},
   "outputs": [],
   "source": [
    "import pandas as pd"
   ]
  },
  {
   "cell_type": "code",
   "execution_count": 6,
   "metadata": {},
   "outputs": [
    {
     "output_type": "stream",
     "name": "stderr",
     "text": [
      "/home/primitive/.pyenv/versions/3.8.6/envs/lewagon/lib/python3.8/site-packages/IPython/core/interactiveshell.py:3165: DtypeWarning: Columns (1,81) have mixed types.Specify dtype option on import or set low_memory=False.\n  has_raised = await self.run_ast_nodes(code_ast.body, cell_name,\n"
     ]
    }
   ],
   "source": [
    "df = pd.read_csv('gs://trampact_storage/data/sirene_nice_clean.csv')"
   ]
  },
  {
   "cell_type": "code",
   "execution_count": 7,
   "metadata": {},
   "outputs": [
    {
     "output_type": "execute_result",
     "data": {
      "text/plain": [
       "   Unnamed: 0      SIREN  NIC           siret  \\\n",
       "0           0  337723027   13  33772302700013   \n",
       "1           1  353509078   13  35350907800013   \n",
       "2           2  353509078   21  35350907800021   \n",
       "3           3  353509086   24  35350908600024   \n",
       "4           4  393719638   16  39371963800016   \n",
       "\n",
       "  Statut de diffusion de l'établissement Date de création de l'établissement  \\\n",
       "0                                      O                                       \n",
       "1                                      O                          1990-01-15   \n",
       "2                                      O                          1991-10-01   \n",
       "3                                      O                          1991-01-03   \n",
       "4                                      O                                       \n",
       "\n",
       "   effectifs Année de la tranche d'effectif de l'établissement  \\\n",
       "0          1                                                     \n",
       "1          1                                                     \n",
       "2          1                                                     \n",
       "3          1                                                     \n",
       "4          1                                                     \n",
       "\n",
       "  Activité principale de l'établissement  \\\n",
       "0                                  67.04   \n",
       "1                                  70.2C   \n",
       "2                                  51.3A   \n",
       "3                                  70.2A   \n",
       "4                                  93.0E   \n",
       "\n",
       "  Date de la dernière mise à jour de l'établissement  ...  \\\n",
       "0                                                     ...   \n",
       "1                                                     ...   \n",
       "2                                                     ...   \n",
       "3                                                     ...   \n",
       "4                                                     ...   \n",
       "\n",
       "                          Division de l'unité légale  \\\n",
       "0                         Hotels, cafes, restaurants   \n",
       "1     Commerce de gros et intermediaires du commerce   \n",
       "2     Commerce de gros et intermediaires du commerce   \n",
       "3  Location et exploitation de biens immobiliers ...   \n",
       "4                                Services personnels   \n",
       "\n",
       "                            Groupe de l'unité légale  \\\n",
       "0                                                      \n",
       "1          Commerce de gros de produits alimentaires   \n",
       "2          Commerce de gros de produits alimentaires   \n",
       "3  Location et exploitation de biens immobiliers ...   \n",
       "4                                Services personnels   \n",
       "\n",
       "                Classe de l'unité légale SIRET du siège de l'unité légale  \\\n",
       "0    Debits de boissons (sans spectacle)                   33772302700013   \n",
       "1  Commerce de gros de fruits et legumes                   35350907800013   \n",
       "2  Commerce de gros de fruits et legumes                   35350907800013   \n",
       "3                  Location de logements                   35350908600040   \n",
       "4                        Soins de beaute                   39371963800016   \n",
       "\n",
       "                  Nature juridique de l'unité légale  \\\n",
       "0                            Entrepreneur individuel   \n",
       "1  Société à responsabilité limitée (sans autre i...   \n",
       "2  Société à responsabilité limitée (sans autre i...   \n",
       "3                           Société en nom collectif   \n",
       "4                            Entrepreneur individuel   \n",
       "\n",
       "  Première ligne de l'adressage Date de fermeture de l'unité légale  \\\n",
       "0         Monsieur MAX CHARASSE                          1988-09-20   \n",
       "1                     BANAFRUIT                                       \n",
       "2                     BANAFRUIT                                       \n",
       "3                    SNC L'ORME                                       \n",
       "4          Madame MYRIAM LAMBIC                          1995-12-31   \n",
       "\n",
       "       Filename          y         x  \n",
       "0  sirene_v3_42  43.700752  7.274309  \n",
       "1  sirene_v3_61  43.668033  7.208477  \n",
       "2  sirene_v3_61  43.668033  7.208477  \n",
       "3  sirene_v3_61  43.702428  7.271502  \n",
       "4  sirene_v3_83  43.709118  7.258244  \n",
       "\n",
       "[5 rows x 110 columns]"
      ],
      "text/html": "<div>\n<style scoped>\n    .dataframe tbody tr th:only-of-type {\n        vertical-align: middle;\n    }\n\n    .dataframe tbody tr th {\n        vertical-align: top;\n    }\n\n    .dataframe thead th {\n        text-align: right;\n    }\n</style>\n<table border=\"1\" class=\"dataframe\">\n  <thead>\n    <tr style=\"text-align: right;\">\n      <th></th>\n      <th>Unnamed: 0</th>\n      <th>SIREN</th>\n      <th>NIC</th>\n      <th>siret</th>\n      <th>Statut de diffusion de l'établissement</th>\n      <th>Date de création de l'établissement</th>\n      <th>effectifs</th>\n      <th>Année de la tranche d'effectif de l'établissement</th>\n      <th>Activité principale de l'établissement</th>\n      <th>Date de la dernière mise à jour de l'établissement</th>\n      <th>...</th>\n      <th>Division de l'unité légale</th>\n      <th>Groupe de l'unité légale</th>\n      <th>Classe de l'unité légale</th>\n      <th>SIRET du siège de l'unité légale</th>\n      <th>Nature juridique de l'unité légale</th>\n      <th>Première ligne de l'adressage</th>\n      <th>Date de fermeture de l'unité légale</th>\n      <th>Filename</th>\n      <th>y</th>\n      <th>x</th>\n    </tr>\n  </thead>\n  <tbody>\n    <tr>\n      <th>0</th>\n      <td>0</td>\n      <td>337723027</td>\n      <td>13</td>\n      <td>33772302700013</td>\n      <td>O</td>\n      <td></td>\n      <td>1</td>\n      <td></td>\n      <td>67.04</td>\n      <td></td>\n      <td>...</td>\n      <td>Hotels, cafes, restaurants</td>\n      <td></td>\n      <td>Debits de boissons (sans spectacle)</td>\n      <td>33772302700013</td>\n      <td>Entrepreneur individuel</td>\n      <td>Monsieur MAX CHARASSE</td>\n      <td>1988-09-20</td>\n      <td>sirene_v3_42</td>\n      <td>43.700752</td>\n      <td>7.274309</td>\n    </tr>\n    <tr>\n      <th>1</th>\n      <td>1</td>\n      <td>353509078</td>\n      <td>13</td>\n      <td>35350907800013</td>\n      <td>O</td>\n      <td>1990-01-15</td>\n      <td>1</td>\n      <td></td>\n      <td>70.2C</td>\n      <td></td>\n      <td>...</td>\n      <td>Commerce de gros et intermediaires du commerce</td>\n      <td>Commerce de gros de produits alimentaires</td>\n      <td>Commerce de gros de fruits et legumes</td>\n      <td>35350907800013</td>\n      <td>Société à responsabilité limitée (sans autre i...</td>\n      <td>BANAFRUIT</td>\n      <td></td>\n      <td>sirene_v3_61</td>\n      <td>43.668033</td>\n      <td>7.208477</td>\n    </tr>\n    <tr>\n      <th>2</th>\n      <td>2</td>\n      <td>353509078</td>\n      <td>21</td>\n      <td>35350907800021</td>\n      <td>O</td>\n      <td>1991-10-01</td>\n      <td>1</td>\n      <td></td>\n      <td>51.3A</td>\n      <td></td>\n      <td>...</td>\n      <td>Commerce de gros et intermediaires du commerce</td>\n      <td>Commerce de gros de produits alimentaires</td>\n      <td>Commerce de gros de fruits et legumes</td>\n      <td>35350907800013</td>\n      <td>Société à responsabilité limitée (sans autre i...</td>\n      <td>BANAFRUIT</td>\n      <td></td>\n      <td>sirene_v3_61</td>\n      <td>43.668033</td>\n      <td>7.208477</td>\n    </tr>\n    <tr>\n      <th>3</th>\n      <td>3</td>\n      <td>353509086</td>\n      <td>24</td>\n      <td>35350908600024</td>\n      <td>O</td>\n      <td>1991-01-03</td>\n      <td>1</td>\n      <td></td>\n      <td>70.2A</td>\n      <td></td>\n      <td>...</td>\n      <td>Location et exploitation de biens immobiliers ...</td>\n      <td>Location et exploitation de biens immobiliers ...</td>\n      <td>Location de logements</td>\n      <td>35350908600040</td>\n      <td>Société en nom collectif</td>\n      <td>SNC L'ORME</td>\n      <td></td>\n      <td>sirene_v3_61</td>\n      <td>43.702428</td>\n      <td>7.271502</td>\n    </tr>\n    <tr>\n      <th>4</th>\n      <td>4</td>\n      <td>393719638</td>\n      <td>16</td>\n      <td>39371963800016</td>\n      <td>O</td>\n      <td></td>\n      <td>1</td>\n      <td></td>\n      <td>93.0E</td>\n      <td></td>\n      <td>...</td>\n      <td>Services personnels</td>\n      <td>Services personnels</td>\n      <td>Soins de beaute</td>\n      <td>39371963800016</td>\n      <td>Entrepreneur individuel</td>\n      <td>Madame MYRIAM LAMBIC</td>\n      <td>1995-12-31</td>\n      <td>sirene_v3_83</td>\n      <td>43.709118</td>\n      <td>7.258244</td>\n    </tr>\n  </tbody>\n</table>\n<p>5 rows × 110 columns</p>\n</div>"
     },
     "metadata": {},
     "execution_count": 7
    }
   ],
   "source": [
    "df.head()"
   ]
  },
  {
   "cell_type": "code",
   "execution_count": null,
   "metadata": {},
   "outputs": [],
   "source": []
  }
 ]
}