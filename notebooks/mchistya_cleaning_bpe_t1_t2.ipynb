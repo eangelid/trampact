{
 "cells": [
  {
   "cell_type": "code",
   "execution_count": 1,
   "id": "c1754048",
   "metadata": {},
   "outputs": [
    {
     "name": "stdout",
     "output_type": "stream",
     "text": [
      "/home/mchistya/code/eangelid/trampact/notebooks\r\n"
     ]
    }
   ],
   "source": [
    "!pwd"
   ]
  },
  {
   "cell_type": "code",
   "execution_count": 2,
   "id": "20b6353a",
   "metadata": {},
   "outputs": [
    {
     "name": "stdout",
     "output_type": "stream",
     "text": [
      "Requirement already satisfied: lambert in /home/mchistya/.pyenv/versions/3.8.6/envs/trampact/lib/python3.8/site-packages (1.0.0)\r\n"
     ]
    }
   ],
   "source": [
    "!pip install lambert"
   ]
  },
  {
   "cell_type": "code",
   "execution_count": 3,
   "id": "97a33ee0",
   "metadata": {},
   "outputs": [],
   "source": [
    "import numpy as np\n",
    "import pandas as pd\n",
    "from sklearn.preprocessing import OneHotEncoder\n",
    "from lambert import Lambert93, convertToWGS84Deg\n",
    "\n",
    "# from iris import get_iris_type\n",
    "# add iris type to data on T1\n",
    "# add t2 on data 2008 ?"
   ]
  },
  {
   "cell_type": "code",
   "execution_count": 4,
   "id": "3ffd883b",
   "metadata": {},
   "outputs": [
    {
     "name": "stdout",
     "output_type": "stream",
     "text": [
      "/home/mchistya/code/eangelid/trampact/notebooks\n",
      "/home/mchistya/code/mchistya/data-challenges/04-Decision-Science\n",
      "/home/mchistya/code/eangelid/trampact/notebooks\n",
      "/home/mchistya/.pyenv/versions/3.8.6/lib/python38.zip\n",
      "/home/mchistya/.pyenv/versions/3.8.6/lib/python3.8\n",
      "/home/mchistya/.pyenv/versions/3.8.6/lib/python3.8/lib-dynload\n",
      "\n",
      "/home/mchistya/.pyenv/versions/3.8.6/envs/trampact/lib/python3.8/site-packages\n",
      "/home/mchistya/.pyenv/versions/3.8.6/envs/trampact/lib/python3.8/site-packages/IPython/extensions\n",
      "/home/mchistya/.ipython\n"
     ]
    }
   ],
   "source": [
    "import sys\n",
    "for iris in sys.path:\n",
    "    print(iris)"
   ]
  },
  {
   "cell_type": "markdown",
   "id": "cb5828b5",
   "metadata": {},
   "source": [
    "# first dataset T1"
   ]
  },
  {
   "cell_type": "code",
   "execution_count": 5,
   "id": "f36adfd5",
   "metadata": {},
   "outputs": [],
   "source": [
    "data = pd.read_csv('../raw_data/BPE_T1.csv')\n"
   ]
  },
  {
   "cell_type": "markdown",
   "id": "41b76cf2",
   "metadata": {},
   "source": [
    "## Dataset properties\n",
    "\n",
    "Note sur Lambert\n",
    "L'expression des coordonnées dans ce système est tridimensionnelle sous forme de longitudes, latitudes et hauteurs ellipsoïdales. "
   ]
  },
  {
   "cell_type": "code",
   "execution_count": 6,
   "id": "96c21db6",
   "metadata": {},
   "outputs": [
    {
     "data": {
      "text/html": [
       "<div>\n",
       "<style scoped>\n",
       "    .dataframe tbody tr th:only-of-type {\n",
       "        vertical-align: middle;\n",
       "    }\n",
       "\n",
       "    .dataframe tbody tr th {\n",
       "        vertical-align: top;\n",
       "    }\n",
       "\n",
       "    .dataframe thead th {\n",
       "        text-align: right;\n",
       "    }\n",
       "</style>\n",
       "<table border=\"1\" class=\"dataframe\">\n",
       "  <thead>\n",
       "    <tr style=\"text-align: right;\">\n",
       "      <th></th>\n",
       "      <th>REG</th>\n",
       "      <th>DEP</th>\n",
       "      <th>DEPCOM</th>\n",
       "      <th>DCIRIS</th>\n",
       "      <th>AN</th>\n",
       "      <th>TYPEQU</th>\n",
       "      <th>LAMBERT_X</th>\n",
       "      <th>LAMBERT_Y</th>\n",
       "      <th>QUALITE_XY</th>\n",
       "      <th>LAB</th>\n",
       "      <th>CLASSE</th>\n",
       "    </tr>\n",
       "  </thead>\n",
       "  <tbody>\n",
       "    <tr>\n",
       "      <th>0</th>\n",
       "      <td>93</td>\n",
       "      <td>6</td>\n",
       "      <td>6088</td>\n",
       "      <td>06088_0801</td>\n",
       "      <td>2018</td>\n",
       "      <td>F106</td>\n",
       "      <td>1.048111e+06</td>\n",
       "      <td>6301117.467</td>\n",
       "      <td>Bonne</td>\n",
       "      <td>Centre équestre</td>\n",
       "      <td>Sport</td>\n",
       "    </tr>\n",
       "    <tr>\n",
       "      <th>1</th>\n",
       "      <td>93</td>\n",
       "      <td>6</td>\n",
       "      <td>6088</td>\n",
       "      <td>06088_1005</td>\n",
       "      <td>2018</td>\n",
       "      <td>D233</td>\n",
       "      <td>1.044554e+06</td>\n",
       "      <td>6302719.450</td>\n",
       "      <td>Bonne</td>\n",
       "      <td>Masseur kinésithérapeute D235</td>\n",
       "      <td>Santé</td>\n",
       "    </tr>\n",
       "    <tr>\n",
       "      <th>2</th>\n",
       "      <td>93</td>\n",
       "      <td>6</td>\n",
       "      <td>6088</td>\n",
       "      <td>06088_1005</td>\n",
       "      <td>2018</td>\n",
       "      <td>G104</td>\n",
       "      <td>1.044550e+06</td>\n",
       "      <td>6302750.000</td>\n",
       "      <td>Bonne</td>\n",
       "      <td>Information touristique</td>\n",
       "      <td>Tourisme</td>\n",
       "    </tr>\n",
       "    <tr>\n",
       "      <th>3</th>\n",
       "      <td>93</td>\n",
       "      <td>6</td>\n",
       "      <td>6088</td>\n",
       "      <td>06088_3801</td>\n",
       "      <td>2018</td>\n",
       "      <td>A505</td>\n",
       "      <td>1.043816e+06</td>\n",
       "      <td>6302952.090</td>\n",
       "      <td>Bonne</td>\n",
       "      <td>Agence immobilière</td>\n",
       "      <td>Services a</td>\n",
       "    </tr>\n",
       "    <tr>\n",
       "      <th>4</th>\n",
       "      <td>93</td>\n",
       "      <td>6</td>\n",
       "      <td>6088</td>\n",
       "      <td>06088_3801</td>\n",
       "      <td>2018</td>\n",
       "      <td>A505</td>\n",
       "      <td>1.042950e+06</td>\n",
       "      <td>6302950.000</td>\n",
       "      <td>Mauvaise</td>\n",
       "      <td>Agence immobilière</td>\n",
       "      <td>Services a</td>\n",
       "    </tr>\n",
       "  </tbody>\n",
       "</table>\n",
       "</div>"
      ],
      "text/plain": [
       "   REG  DEP  DEPCOM      DCIRIS    AN TYPEQU     LAMBERT_X    LAMBERT_Y  \\\n",
       "0   93    6    6088  06088_0801  2018   F106  1.048111e+06  6301117.467   \n",
       "1   93    6    6088  06088_1005  2018   D233  1.044554e+06  6302719.450   \n",
       "2   93    6    6088  06088_1005  2018   G104  1.044550e+06  6302750.000   \n",
       "3   93    6    6088  06088_3801  2018   A505  1.043816e+06  6302952.090   \n",
       "4   93    6    6088  06088_3801  2018   A505  1.042950e+06  6302950.000   \n",
       "\n",
       "  QUALITE_XY                              LAB      CLASSE  \n",
       "0      Bonne                 Centre équestre       Sport  \n",
       "1      Bonne  Masseur kinésithérapeute D235       Santé  \n",
       "2      Bonne          Information touristique    Tourisme  \n",
       "3      Bonne              Agence immobilière  Services a  \n",
       "4   Mauvaise              Agence immobilière  Services a  "
      ]
     },
     "execution_count": 6,
     "metadata": {},
     "output_type": "execute_result"
    }
   ],
   "source": [
    "data.head(5)"
   ]
  },
  {
   "cell_type": "code",
   "execution_count": 7,
   "id": "df6bde15",
   "metadata": {},
   "outputs": [
    {
     "data": {
      "text/plain": [
       "array([6088, 6159])"
      ]
     },
     "execution_count": 7,
     "metadata": {},
     "output_type": "execute_result"
    }
   ],
   "source": [
    "pd.unique(data['DEPCOM'])"
   ]
  },
  {
   "cell_type": "code",
   "execution_count": 8,
   "id": "a183d72f",
   "metadata": {},
   "outputs": [
    {
     "data": {
      "text/plain": [
       "(11857, 11)"
      ]
     },
     "execution_count": 8,
     "metadata": {},
     "output_type": "execute_result"
    }
   ],
   "source": [
    "data.shape"
   ]
  },
  {
   "cell_type": "code",
   "execution_count": 9,
   "id": "88bbfc4e",
   "metadata": {},
   "outputs": [
    {
     "name": "stdout",
     "output_type": "stream",
     "text": [
      "<class 'pandas.core.frame.DataFrame'>\n",
      "RangeIndex: 11857 entries, 0 to 11856\n",
      "Data columns (total 11 columns):\n",
      " #   Column      Non-Null Count  Dtype  \n",
      "---  ------      --------------  -----  \n",
      " 0   REG         11857 non-null  int64  \n",
      " 1   DEP         11857 non-null  int64  \n",
      " 2   DEPCOM      11857 non-null  int64  \n",
      " 3   DCIRIS      11857 non-null  object \n",
      " 4   AN          11857 non-null  int64  \n",
      " 5   TYPEQU      11857 non-null  object \n",
      " 6   LAMBERT_X   11857 non-null  float64\n",
      " 7   LAMBERT_Y   11857 non-null  float64\n",
      " 8   QUALITE_XY  11857 non-null  object \n",
      " 9   LAB         11857 non-null  object \n",
      " 10  CLASSE      11857 non-null  object \n",
      "dtypes: float64(2), int64(4), object(5)\n",
      "memory usage: 1019.1+ KB\n"
     ]
    }
   ],
   "source": [
    "data.info()"
   ]
  },
  {
   "cell_type": "code",
   "execution_count": 10,
   "id": "7fa58118",
   "metadata": {},
   "outputs": [],
   "source": [
    "features = list(data.columns)\n",
    "features;"
   ]
  },
  {
   "cell_type": "markdown",
   "id": "8b099082",
   "metadata": {},
   "source": [
    "## Transform iris code to integer value"
   ]
  },
  {
   "cell_type": "code",
   "execution_count": 11,
   "id": "ed66b25f",
   "metadata": {},
   "outputs": [
    {
     "data": {
      "text/html": [
       "<div>\n",
       "<style scoped>\n",
       "    .dataframe tbody tr th:only-of-type {\n",
       "        vertical-align: middle;\n",
       "    }\n",
       "\n",
       "    .dataframe tbody tr th {\n",
       "        vertical-align: top;\n",
       "    }\n",
       "\n",
       "    .dataframe thead th {\n",
       "        text-align: right;\n",
       "    }\n",
       "</style>\n",
       "<table border=\"1\" class=\"dataframe\">\n",
       "  <thead>\n",
       "    <tr style=\"text-align: right;\">\n",
       "      <th></th>\n",
       "      <th>REG</th>\n",
       "      <th>DEP</th>\n",
       "      <th>DEPCOM</th>\n",
       "      <th>DCIRIS</th>\n",
       "      <th>AN</th>\n",
       "      <th>TYPEQU</th>\n",
       "      <th>LAMBERT_X</th>\n",
       "      <th>LAMBERT_Y</th>\n",
       "      <th>QUALITE_XY</th>\n",
       "      <th>LAB</th>\n",
       "      <th>CLASSE</th>\n",
       "    </tr>\n",
       "  </thead>\n",
       "  <tbody>\n",
       "    <tr>\n",
       "      <th>0</th>\n",
       "      <td>93</td>\n",
       "      <td>6</td>\n",
       "      <td>6088</td>\n",
       "      <td>06088_0801</td>\n",
       "      <td>2018</td>\n",
       "      <td>F106</td>\n",
       "      <td>1.048111e+06</td>\n",
       "      <td>6301117.467</td>\n",
       "      <td>Bonne</td>\n",
       "      <td>Centre équestre</td>\n",
       "      <td>Sport</td>\n",
       "    </tr>\n",
       "  </tbody>\n",
       "</table>\n",
       "</div>"
      ],
      "text/plain": [
       "   REG  DEP  DEPCOM      DCIRIS    AN TYPEQU     LAMBERT_X    LAMBERT_Y  \\\n",
       "0   93    6    6088  06088_0801  2018   F106  1.048111e+06  6301117.467   \n",
       "\n",
       "  QUALITE_XY               LAB CLASSE  \n",
       "0      Bonne  Centre équestre  Sport  "
      ]
     },
     "execution_count": 11,
     "metadata": {},
     "output_type": "execute_result"
    }
   ],
   "source": [
    "data.head(1)"
   ]
  },
  {
   "cell_type": "code",
   "execution_count": 12,
   "id": "ccb90817",
   "metadata": {},
   "outputs": [],
   "source": [
    "data['iris_id']=data['DCIRIS'].map(lambda x: x[0:5]+x[6:])"
   ]
  },
  {
   "cell_type": "code",
   "execution_count": 13,
   "id": "d990aaf7",
   "metadata": {},
   "outputs": [],
   "source": [
    "data['iris_id'];"
   ]
  },
  {
   "cell_type": "code",
   "execution_count": 14,
   "id": "f095224a",
   "metadata": {},
   "outputs": [
    {
     "name": "stdout",
     "output_type": "stream",
     "text": [
      "<class 'pandas.core.frame.DataFrame'>\n",
      "RangeIndex: 11857 entries, 0 to 11856\n",
      "Data columns (total 8 columns):\n",
      " #   Column      Non-Null Count  Dtype  \n",
      "---  ------      --------------  -----  \n",
      " 0   AN          11857 non-null  int64  \n",
      " 1   TYPEQU      11857 non-null  object \n",
      " 2   LAMBERT_X   11857 non-null  float64\n",
      " 3   LAMBERT_Y   11857 non-null  float64\n",
      " 4   QUALITE_XY  11857 non-null  object \n",
      " 5   LAB         11857 non-null  object \n",
      " 6   CLASSE      11857 non-null  object \n",
      " 7   iris_id     11857 non-null  object \n",
      "dtypes: float64(2), int64(1), object(5)\n",
      "memory usage: 741.2+ KB\n"
     ]
    }
   ],
   "source": [
    "# drop  inconveniant iris code\n",
    "\n",
    "data.drop(columns=['DCIRIS','REG','DEP','DEPCOM'],inplace=True)\n",
    "data.info()"
   ]
  },
  {
   "cell_type": "code",
   "execution_count": 15,
   "id": "7e7594b9",
   "metadata": {},
   "outputs": [
    {
     "data": {
      "text/plain": [
       "array([2018])"
      ]
     },
     "execution_count": 15,
     "metadata": {},
     "output_type": "execute_result"
    }
   ],
   "source": [
    "pd.unique(data['AN']) # observations only for 2008"
   ]
  },
  {
   "cell_type": "code",
   "execution_count": 16,
   "id": "8b7df020",
   "metadata": {},
   "outputs": [
    {
     "data": {
      "text/plain": [
       "array(['Bonne', 'Mauvaise', 'Acceptable'], dtype=object)"
      ]
     },
     "execution_count": 16,
     "metadata": {},
     "output_type": "execute_result"
    }
   ],
   "source": [
    "pd.unique(data['QUALITE_XY']) # coordinates quality of X and Y"
   ]
  },
  {
   "cell_type": "code",
   "execution_count": 17,
   "id": "26b6197c",
   "metadata": {},
   "outputs": [
    {
     "data": {
      "text/plain": [
       "Bonne         11598\n",
       "Mauvaise        157\n",
       "Acceptable      102\n",
       "Name: QUALITE_XY, dtype: int64"
      ]
     },
     "execution_count": 17,
     "metadata": {},
     "output_type": "execute_result"
    }
   ],
   "source": [
    "data['QUALITE_XY'].value_counts()"
   ]
  },
  {
   "cell_type": "markdown",
   "id": "dec95fcb",
   "metadata": {},
   "source": [
    "## Geographic to cartesian transformation"
   ]
  },
  {
   "cell_type": "markdown",
   "id": "a1091d1e",
   "metadata": {},
   "source": [
    "The goal is to convert RGF93 Lambert 93 into WGS84 (world geographic system 1984), - to get the longitude and the latitude"
   ]
  },
  {
   "cell_type": "markdown",
   "id": "793cd498",
   "metadata": {},
   "source": [
    "Documentation sur le package\n",
    "\n",
    "https://pypi.org/project/lambert/"
   ]
  },
  {
   "cell_type": "code",
   "execution_count": 18,
   "id": "6583c692",
   "metadata": {},
   "outputs": [
    {
     "data": {
      "text/html": [
       "<div>\n",
       "<style scoped>\n",
       "    .dataframe tbody tr th:only-of-type {\n",
       "        vertical-align: middle;\n",
       "    }\n",
       "\n",
       "    .dataframe tbody tr th {\n",
       "        vertical-align: top;\n",
       "    }\n",
       "\n",
       "    .dataframe thead th {\n",
       "        text-align: right;\n",
       "    }\n",
       "</style>\n",
       "<table border=\"1\" class=\"dataframe\">\n",
       "  <thead>\n",
       "    <tr style=\"text-align: right;\">\n",
       "      <th></th>\n",
       "      <th>AN</th>\n",
       "      <th>TYPEQU</th>\n",
       "      <th>LAMBERT_X</th>\n",
       "      <th>LAMBERT_Y</th>\n",
       "      <th>QUALITE_XY</th>\n",
       "      <th>LAB</th>\n",
       "      <th>CLASSE</th>\n",
       "      <th>iris_id</th>\n",
       "    </tr>\n",
       "  </thead>\n",
       "  <tbody>\n",
       "    <tr>\n",
       "      <th>0</th>\n",
       "      <td>2018</td>\n",
       "      <td>F106</td>\n",
       "      <td>1.048111e+06</td>\n",
       "      <td>6301117.467</td>\n",
       "      <td>Bonne</td>\n",
       "      <td>Centre équestre</td>\n",
       "      <td>Sport</td>\n",
       "      <td>060880801</td>\n",
       "    </tr>\n",
       "    <tr>\n",
       "      <th>1</th>\n",
       "      <td>2018</td>\n",
       "      <td>D233</td>\n",
       "      <td>1.044554e+06</td>\n",
       "      <td>6302719.450</td>\n",
       "      <td>Bonne</td>\n",
       "      <td>Masseur kinésithérapeute D235</td>\n",
       "      <td>Santé</td>\n",
       "      <td>060881005</td>\n",
       "    </tr>\n",
       "    <tr>\n",
       "      <th>2</th>\n",
       "      <td>2018</td>\n",
       "      <td>G104</td>\n",
       "      <td>1.044550e+06</td>\n",
       "      <td>6302750.000</td>\n",
       "      <td>Bonne</td>\n",
       "      <td>Information touristique</td>\n",
       "      <td>Tourisme</td>\n",
       "      <td>060881005</td>\n",
       "    </tr>\n",
       "    <tr>\n",
       "      <th>3</th>\n",
       "      <td>2018</td>\n",
       "      <td>A505</td>\n",
       "      <td>1.043816e+06</td>\n",
       "      <td>6302952.090</td>\n",
       "      <td>Bonne</td>\n",
       "      <td>Agence immobilière</td>\n",
       "      <td>Services a</td>\n",
       "      <td>060883801</td>\n",
       "    </tr>\n",
       "    <tr>\n",
       "      <th>4</th>\n",
       "      <td>2018</td>\n",
       "      <td>A505</td>\n",
       "      <td>1.042950e+06</td>\n",
       "      <td>6302950.000</td>\n",
       "      <td>Mauvaise</td>\n",
       "      <td>Agence immobilière</td>\n",
       "      <td>Services a</td>\n",
       "      <td>060883801</td>\n",
       "    </tr>\n",
       "  </tbody>\n",
       "</table>\n",
       "</div>"
      ],
      "text/plain": [
       "     AN TYPEQU     LAMBERT_X    LAMBERT_Y QUALITE_XY  \\\n",
       "0  2018   F106  1.048111e+06  6301117.467      Bonne   \n",
       "1  2018   D233  1.044554e+06  6302719.450      Bonne   \n",
       "2  2018   G104  1.044550e+06  6302750.000      Bonne   \n",
       "3  2018   A505  1.043816e+06  6302952.090      Bonne   \n",
       "4  2018   A505  1.042950e+06  6302950.000   Mauvaise   \n",
       "\n",
       "                               LAB      CLASSE    iris_id  \n",
       "0                 Centre équestre       Sport  060880801  \n",
       "1  Masseur kinésithérapeute D235       Santé  060881005  \n",
       "2          Information touristique    Tourisme  060881005  \n",
       "3              Agence immobilière  Services a  060883801  \n",
       "4              Agence immobilière  Services a  060883801  "
      ]
     },
     "execution_count": 18,
     "metadata": {},
     "output_type": "execute_result"
    }
   ],
   "source": [
    "data.head()"
   ]
  },
  {
   "cell_type": "code",
   "execution_count": 19,
   "id": "8aca4a2d",
   "metadata": {},
   "outputs": [],
   "source": [
    "# create coordinates input list\n",
    "\n",
    "lambert_x = list(data['LAMBERT_X'])\n",
    "lamber_y = list(data['LAMBERT_Y'])\n",
    "coord = zip(lambert_x,lamber_y)"
   ]
  },
  {
   "cell_type": "code",
   "execution_count": 20,
   "id": "af0e7c08",
   "metadata": {},
   "outputs": [],
   "source": [
    "longitude = []\n",
    "latitude = []\n",
    "for x, y in coord:\n",
    "    pt = convertToWGS84Deg(x, y, Lambert93)\n",
    "    longitude.append(pt.getX())\n",
    "    latitude.append(pt.getY())"
   ]
  },
  {
   "cell_type": "code",
   "execution_count": 21,
   "id": "99513980",
   "metadata": {},
   "outputs": [],
   "source": [
    "data['longitude']=longitude"
   ]
  },
  {
   "cell_type": "code",
   "execution_count": 22,
   "id": "b5a75328",
   "metadata": {},
   "outputs": [],
   "source": [
    "data['latitude']=latitude"
   ]
  },
  {
   "cell_type": "code",
   "execution_count": 23,
   "id": "ea6b45a0",
   "metadata": {},
   "outputs": [
    {
     "data": {
      "text/html": [
       "<div>\n",
       "<style scoped>\n",
       "    .dataframe tbody tr th:only-of-type {\n",
       "        vertical-align: middle;\n",
       "    }\n",
       "\n",
       "    .dataframe tbody tr th {\n",
       "        vertical-align: top;\n",
       "    }\n",
       "\n",
       "    .dataframe thead th {\n",
       "        text-align: right;\n",
       "    }\n",
       "</style>\n",
       "<table border=\"1\" class=\"dataframe\">\n",
       "  <thead>\n",
       "    <tr style=\"text-align: right;\">\n",
       "      <th></th>\n",
       "      <th>AN</th>\n",
       "      <th>TYPEQU</th>\n",
       "      <th>LAMBERT_X</th>\n",
       "      <th>LAMBERT_Y</th>\n",
       "      <th>QUALITE_XY</th>\n",
       "      <th>LAB</th>\n",
       "      <th>CLASSE</th>\n",
       "      <th>iris_id</th>\n",
       "      <th>longitude</th>\n",
       "      <th>latitude</th>\n",
       "    </tr>\n",
       "  </thead>\n",
       "  <tbody>\n",
       "    <tr>\n",
       "      <th>0</th>\n",
       "      <td>2018</td>\n",
       "      <td>F106</td>\n",
       "      <td>1.048111e+06</td>\n",
       "      <td>6301117.467</td>\n",
       "      <td>Bonne</td>\n",
       "      <td>Centre équestre</td>\n",
       "      <td>Sport</td>\n",
       "      <td>060880801</td>\n",
       "      <td>7.321389</td>\n",
       "      <td>43.723333</td>\n",
       "    </tr>\n",
       "    <tr>\n",
       "      <th>1</th>\n",
       "      <td>2018</td>\n",
       "      <td>D233</td>\n",
       "      <td>1.044554e+06</td>\n",
       "      <td>6302719.450</td>\n",
       "      <td>Bonne</td>\n",
       "      <td>Masseur kinésithérapeute D235</td>\n",
       "      <td>Santé</td>\n",
       "      <td>060881005</td>\n",
       "      <td>7.278395</td>\n",
       "      <td>43.739469</td>\n",
       "    </tr>\n",
       "    <tr>\n",
       "      <th>2</th>\n",
       "      <td>2018</td>\n",
       "      <td>G104</td>\n",
       "      <td>1.044550e+06</td>\n",
       "      <td>6302750.000</td>\n",
       "      <td>Bonne</td>\n",
       "      <td>Information touristique</td>\n",
       "      <td>Tourisme</td>\n",
       "      <td>060881005</td>\n",
       "      <td>7.278369</td>\n",
       "      <td>43.739746</td>\n",
       "    </tr>\n",
       "    <tr>\n",
       "      <th>3</th>\n",
       "      <td>2018</td>\n",
       "      <td>A505</td>\n",
       "      <td>1.043816e+06</td>\n",
       "      <td>6302952.090</td>\n",
       "      <td>Bonne</td>\n",
       "      <td>Agence immobilière</td>\n",
       "      <td>Services a</td>\n",
       "      <td>060883801</td>\n",
       "      <td>7.269413</td>\n",
       "      <td>43.741919</td>\n",
       "    </tr>\n",
       "    <tr>\n",
       "      <th>4</th>\n",
       "      <td>2018</td>\n",
       "      <td>A505</td>\n",
       "      <td>1.042950e+06</td>\n",
       "      <td>6302950.000</td>\n",
       "      <td>Mauvaise</td>\n",
       "      <td>Agence immobilière</td>\n",
       "      <td>Services a</td>\n",
       "      <td>060883801</td>\n",
       "      <td>7.258674</td>\n",
       "      <td>43.742321</td>\n",
       "    </tr>\n",
       "  </tbody>\n",
       "</table>\n",
       "</div>"
      ],
      "text/plain": [
       "     AN TYPEQU     LAMBERT_X    LAMBERT_Y QUALITE_XY  \\\n",
       "0  2018   F106  1.048111e+06  6301117.467      Bonne   \n",
       "1  2018   D233  1.044554e+06  6302719.450      Bonne   \n",
       "2  2018   G104  1.044550e+06  6302750.000      Bonne   \n",
       "3  2018   A505  1.043816e+06  6302952.090      Bonne   \n",
       "4  2018   A505  1.042950e+06  6302950.000   Mauvaise   \n",
       "\n",
       "                               LAB      CLASSE    iris_id  longitude  \\\n",
       "0                 Centre équestre       Sport  060880801   7.321389   \n",
       "1  Masseur kinésithérapeute D235       Santé  060881005   7.278395   \n",
       "2          Information touristique    Tourisme  060881005   7.278369   \n",
       "3              Agence immobilière  Services a  060883801   7.269413   \n",
       "4              Agence immobilière  Services a  060883801   7.258674   \n",
       "\n",
       "    latitude  \n",
       "0  43.723333  \n",
       "1  43.739469  \n",
       "2  43.739746  \n",
       "3  43.741919  \n",
       "4  43.742321  "
      ]
     },
     "execution_count": 23,
     "metadata": {},
     "output_type": "execute_result"
    }
   ],
   "source": [
    "data.head()"
   ]
  },
  {
   "cell_type": "code",
   "execution_count": 24,
   "id": "89960b7a",
   "metadata": {},
   "outputs": [],
   "source": [
    "data.to_csv('../raw_data/data_provis.csv')"
   ]
  },
  {
   "cell_type": "markdown",
   "id": "bd9952d7",
   "metadata": {
    "heading_collapsed": true
   },
   "source": [
    "### Encode Quality_XY"
   ]
  },
  {
   "cell_type": "code",
   "execution_count": 25,
   "id": "41b8f8c1",
   "metadata": {
    "hidden": true
   },
   "outputs": [],
   "source": [
    "enc = OneHotEncoder(sparse=False)"
   ]
  },
  {
   "cell_type": "code",
   "execution_count": 26,
   "id": "948f8a96",
   "metadata": {
    "hidden": true
   },
   "outputs": [
    {
     "data": {
      "text/plain": [
       "OneHotEncoder(sparse=False)"
      ]
     },
     "execution_count": 26,
     "metadata": {},
     "output_type": "execute_result"
    }
   ],
   "source": [
    "enc.fit(data[['QUALITE_XY']])"
   ]
  },
  {
   "cell_type": "code",
   "execution_count": 27,
   "id": "6a6d1cfc",
   "metadata": {
    "hidden": true
   },
   "outputs": [
    {
     "data": {
      "text/plain": [
       "array(['Bonne', 'Mauvaise', 'Acceptable'], dtype=object)"
      ]
     },
     "execution_count": 27,
     "metadata": {},
     "output_type": "execute_result"
    }
   ],
   "source": [
    "pd.unique(data['QUALITE_XY'])"
   ]
  },
  {
   "cell_type": "code",
   "execution_count": 28,
   "id": "36d8f155",
   "metadata": {
    "hidden": true
   },
   "outputs": [
    {
     "data": {
      "text/plain": [
       "array([[0., 1., 0.],\n",
       "       [0., 1., 0.],\n",
       "       [0., 1., 0.],\n",
       "       ...,\n",
       "       [0., 1., 0.],\n",
       "       [0., 1., 0.],\n",
       "       [0., 1., 0.]])"
      ]
     },
     "execution_count": 28,
     "metadata": {},
     "output_type": "execute_result"
    }
   ],
   "source": [
    "quality_xy_encoded = enc.transform(data[['QUALITE_XY']])\n",
    "quality_xy_encoded"
   ]
  },
  {
   "cell_type": "code",
   "execution_count": 29,
   "id": "527cf58f",
   "metadata": {
    "hidden": true
   },
   "outputs": [],
   "source": [
    "data[\"Q_XY_acceptable\"],data[\"Q_XY_bonne\"],data['Q_XY_mauvaise']=quality_xy_encoded.T"
   ]
  },
  {
   "cell_type": "code",
   "execution_count": 30,
   "id": "b93fb9d6",
   "metadata": {
    "hidden": true
   },
   "outputs": [
    {
     "data": {
      "text/plain": [
       "1.0    11598\n",
       "0.0      259\n",
       "Name: Q_XY_bonne, dtype: int64"
      ]
     },
     "execution_count": 30,
     "metadata": {},
     "output_type": "execute_result"
    }
   ],
   "source": [
    "data['Q_XY_bonne'].value_counts()"
   ]
  },
  {
   "cell_type": "code",
   "execution_count": 31,
   "id": "b7504ed9",
   "metadata": {
    "hidden": true
   },
   "outputs": [
    {
     "data": {
      "text/plain": [
       "0.0    11700\n",
       "1.0      157\n",
       "Name: Q_XY_mauvaise, dtype: int64"
      ]
     },
     "execution_count": 31,
     "metadata": {},
     "output_type": "execute_result"
    }
   ],
   "source": [
    "data['Q_XY_mauvaise'].value_counts()"
   ]
  },
  {
   "cell_type": "code",
   "execution_count": 32,
   "id": "c2ace2f8",
   "metadata": {
    "hidden": true
   },
   "outputs": [
    {
     "data": {
      "text/html": [
       "<div>\n",
       "<style scoped>\n",
       "    .dataframe tbody tr th:only-of-type {\n",
       "        vertical-align: middle;\n",
       "    }\n",
       "\n",
       "    .dataframe tbody tr th {\n",
       "        vertical-align: top;\n",
       "    }\n",
       "\n",
       "    .dataframe thead th {\n",
       "        text-align: right;\n",
       "    }\n",
       "</style>\n",
       "<table border=\"1\" class=\"dataframe\">\n",
       "  <thead>\n",
       "    <tr style=\"text-align: right;\">\n",
       "      <th></th>\n",
       "      <th>AN</th>\n",
       "      <th>TYPEQU</th>\n",
       "      <th>LAMBERT_X</th>\n",
       "      <th>LAMBERT_Y</th>\n",
       "      <th>QUALITE_XY</th>\n",
       "      <th>LAB</th>\n",
       "      <th>CLASSE</th>\n",
       "      <th>iris_id</th>\n",
       "      <th>longitude</th>\n",
       "      <th>latitude</th>\n",
       "      <th>Q_XY_acceptable</th>\n",
       "      <th>Q_XY_bonne</th>\n",
       "      <th>Q_XY_mauvaise</th>\n",
       "    </tr>\n",
       "  </thead>\n",
       "  <tbody>\n",
       "    <tr>\n",
       "      <th>0</th>\n",
       "      <td>2018</td>\n",
       "      <td>F106</td>\n",
       "      <td>1.048111e+06</td>\n",
       "      <td>6301117.467</td>\n",
       "      <td>Bonne</td>\n",
       "      <td>Centre équestre</td>\n",
       "      <td>Sport</td>\n",
       "      <td>060880801</td>\n",
       "      <td>7.321389</td>\n",
       "      <td>43.723333</td>\n",
       "      <td>0.0</td>\n",
       "      <td>1.0</td>\n",
       "      <td>0.0</td>\n",
       "    </tr>\n",
       "    <tr>\n",
       "      <th>1</th>\n",
       "      <td>2018</td>\n",
       "      <td>D233</td>\n",
       "      <td>1.044554e+06</td>\n",
       "      <td>6302719.450</td>\n",
       "      <td>Bonne</td>\n",
       "      <td>Masseur kinésithérapeute D235</td>\n",
       "      <td>Santé</td>\n",
       "      <td>060881005</td>\n",
       "      <td>7.278395</td>\n",
       "      <td>43.739469</td>\n",
       "      <td>0.0</td>\n",
       "      <td>1.0</td>\n",
       "      <td>0.0</td>\n",
       "    </tr>\n",
       "    <tr>\n",
       "      <th>2</th>\n",
       "      <td>2018</td>\n",
       "      <td>G104</td>\n",
       "      <td>1.044550e+06</td>\n",
       "      <td>6302750.000</td>\n",
       "      <td>Bonne</td>\n",
       "      <td>Information touristique</td>\n",
       "      <td>Tourisme</td>\n",
       "      <td>060881005</td>\n",
       "      <td>7.278369</td>\n",
       "      <td>43.739746</td>\n",
       "      <td>0.0</td>\n",
       "      <td>1.0</td>\n",
       "      <td>0.0</td>\n",
       "    </tr>\n",
       "    <tr>\n",
       "      <th>3</th>\n",
       "      <td>2018</td>\n",
       "      <td>A505</td>\n",
       "      <td>1.043816e+06</td>\n",
       "      <td>6302952.090</td>\n",
       "      <td>Bonne</td>\n",
       "      <td>Agence immobilière</td>\n",
       "      <td>Services a</td>\n",
       "      <td>060883801</td>\n",
       "      <td>7.269413</td>\n",
       "      <td>43.741919</td>\n",
       "      <td>0.0</td>\n",
       "      <td>1.0</td>\n",
       "      <td>0.0</td>\n",
       "    </tr>\n",
       "    <tr>\n",
       "      <th>4</th>\n",
       "      <td>2018</td>\n",
       "      <td>A505</td>\n",
       "      <td>1.042950e+06</td>\n",
       "      <td>6302950.000</td>\n",
       "      <td>Mauvaise</td>\n",
       "      <td>Agence immobilière</td>\n",
       "      <td>Services a</td>\n",
       "      <td>060883801</td>\n",
       "      <td>7.258674</td>\n",
       "      <td>43.742321</td>\n",
       "      <td>0.0</td>\n",
       "      <td>0.0</td>\n",
       "      <td>1.0</td>\n",
       "    </tr>\n",
       "  </tbody>\n",
       "</table>\n",
       "</div>"
      ],
      "text/plain": [
       "     AN TYPEQU     LAMBERT_X    LAMBERT_Y QUALITE_XY  \\\n",
       "0  2018   F106  1.048111e+06  6301117.467      Bonne   \n",
       "1  2018   D233  1.044554e+06  6302719.450      Bonne   \n",
       "2  2018   G104  1.044550e+06  6302750.000      Bonne   \n",
       "3  2018   A505  1.043816e+06  6302952.090      Bonne   \n",
       "4  2018   A505  1.042950e+06  6302950.000   Mauvaise   \n",
       "\n",
       "                               LAB      CLASSE    iris_id  longitude  \\\n",
       "0                 Centre équestre       Sport  060880801   7.321389   \n",
       "1  Masseur kinésithérapeute D235       Santé  060881005   7.278395   \n",
       "2          Information touristique    Tourisme  060881005   7.278369   \n",
       "3              Agence immobilière  Services a  060883801   7.269413   \n",
       "4              Agence immobilière  Services a  060883801   7.258674   \n",
       "\n",
       "    latitude  Q_XY_acceptable  Q_XY_bonne  Q_XY_mauvaise  \n",
       "0  43.723333              0.0         1.0            0.0  \n",
       "1  43.739469              0.0         1.0            0.0  \n",
       "2  43.739746              0.0         1.0            0.0  \n",
       "3  43.741919              0.0         1.0            0.0  \n",
       "4  43.742321              0.0         0.0            1.0  "
      ]
     },
     "execution_count": 32,
     "metadata": {},
     "output_type": "execute_result"
    }
   ],
   "source": [
    "data.head()"
   ]
  },
  {
   "cell_type": "markdown",
   "id": "77cef4c9",
   "metadata": {
    "heading_collapsed": true
   },
   "source": [
    "### Numerical features"
   ]
  },
  {
   "cell_type": "code",
   "execution_count": 33,
   "id": "dbc492e4",
   "metadata": {
    "hidden": true
   },
   "outputs": [],
   "source": [
    "features_num = ['REG',\n",
    " 'DEP',\n",
    " 'DEPCOM',\n",
    " 'iris',\n",
    " 'AN','LAMBERT_X',\n",
    " 'LAMBERT_Y']"
   ]
  },
  {
   "cell_type": "code",
   "execution_count": 34,
   "id": "3407e66b",
   "metadata": {
    "hidden": true
   },
   "outputs": [
    {
     "data": {
      "text/plain": [
       "0        F106\n",
       "1        D233\n",
       "2        G104\n",
       "3        A505\n",
       "4        A505\n",
       "         ... \n",
       "11852    D237\n",
       "11853    D242\n",
       "11854    D301\n",
       "11855    E101\n",
       "11856    E101\n",
       "Name: TYPEQU, Length: 11857, dtype: object"
      ]
     },
     "execution_count": 34,
     "metadata": {},
     "output_type": "execute_result"
    }
   ],
   "source": [
    "data['TYPEQU']"
   ]
  },
  {
   "cell_type": "code",
   "execution_count": 35,
   "id": "4b35fbde",
   "metadata": {
    "hidden": true
   },
   "outputs": [
    {
     "data": {
      "text/plain": [
       "110"
      ]
     },
     "execution_count": 35,
     "metadata": {},
     "output_type": "execute_result"
    }
   ],
   "source": [
    "# number of different iris => not only irises with the tramway line\n",
    "len(pd.unique(data['iris_id']))"
   ]
  },
  {
   "cell_type": "markdown",
   "id": "58f30bb5",
   "metadata": {
    "heading_collapsed": true
   },
   "source": [
    "### Categorical features"
   ]
  },
  {
   "cell_type": "code",
   "execution_count": 36,
   "id": "1d15463c",
   "metadata": {
    "hidden": true
   },
   "outputs": [
    {
     "data": {
      "text/plain": [
       "['LAB', 'CLASSE', 'QUALITE_XY', 'TYPEQU']"
      ]
     },
     "execution_count": 36,
     "metadata": {},
     "output_type": "execute_result"
    }
   ],
   "source": [
    "features_cat = ['LAB','CLASSE','QUALITE_XY','TYPEQU']\n",
    "features_cat"
   ]
  },
  {
   "cell_type": "code",
   "execution_count": 37,
   "id": "59636bf8",
   "metadata": {
    "hidden": true
   },
   "outputs": [
    {
     "data": {
      "text/plain": [
       "060882203    873\n",
       "060882201    725\n",
       "060882202    435\n",
       "060882401    414\n",
       "060882402    336\n",
       "            ... \n",
       "060882805      1\n",
       "060882703      1\n",
       "060880903      1\n",
       "060882704      1\n",
       "060882902      1\n",
       "Name: iris_id, Length: 110, dtype: int64"
      ]
     },
     "execution_count": 37,
     "metadata": {},
     "output_type": "execute_result"
    }
   ],
   "source": [
    "data['iris_id'].value_counts()"
   ]
  },
  {
   "cell_type": "code",
   "execution_count": 38,
   "id": "90b8d077",
   "metadata": {
    "hidden": true
   },
   "outputs": [
    {
     "data": {
      "text/plain": [
       "4915"
      ]
     },
     "execution_count": 38,
     "metadata": {},
     "output_type": "execute_result"
    }
   ],
   "source": [
    "len(pd.unique(data['LAMBERT_X']))"
   ]
  },
  {
   "cell_type": "code",
   "execution_count": 39,
   "id": "37b93414",
   "metadata": {
    "hidden": true
   },
   "outputs": [
    {
     "data": {
      "text/plain": [
       "4866"
      ]
     },
     "execution_count": 39,
     "metadata": {},
     "output_type": "execute_result"
    }
   ],
   "source": [
    "len(pd.unique(data['LAMBERT_Y']))"
   ]
  },
  {
   "cell_type": "code",
   "execution_count": 40,
   "id": "d519771a",
   "metadata": {
    "hidden": true
   },
   "outputs": [
    {
     "data": {
      "text/html": [
       "<div>\n",
       "<style scoped>\n",
       "    .dataframe tbody tr th:only-of-type {\n",
       "        vertical-align: middle;\n",
       "    }\n",
       "\n",
       "    .dataframe tbody tr th {\n",
       "        vertical-align: top;\n",
       "    }\n",
       "\n",
       "    .dataframe thead th {\n",
       "        text-align: right;\n",
       "    }\n",
       "</style>\n",
       "<table border=\"1\" class=\"dataframe\">\n",
       "  <thead>\n",
       "    <tr style=\"text-align: right;\">\n",
       "      <th></th>\n",
       "      <th>LAB</th>\n",
       "      <th>CLASSE</th>\n",
       "      <th>QUALITE_XY</th>\n",
       "      <th>TYPEQU</th>\n",
       "    </tr>\n",
       "  </thead>\n",
       "  <tbody>\n",
       "    <tr>\n",
       "      <th>0</th>\n",
       "      <td>Centre équestre</td>\n",
       "      <td>Sport</td>\n",
       "      <td>Bonne</td>\n",
       "      <td>F106</td>\n",
       "    </tr>\n",
       "    <tr>\n",
       "      <th>1</th>\n",
       "      <td>Masseur kinésithérapeute D235</td>\n",
       "      <td>Santé</td>\n",
       "      <td>Bonne</td>\n",
       "      <td>D233</td>\n",
       "    </tr>\n",
       "    <tr>\n",
       "      <th>2</th>\n",
       "      <td>Information touristique</td>\n",
       "      <td>Tourisme</td>\n",
       "      <td>Bonne</td>\n",
       "      <td>G104</td>\n",
       "    </tr>\n",
       "    <tr>\n",
       "      <th>3</th>\n",
       "      <td>Agence immobilière</td>\n",
       "      <td>Services a</td>\n",
       "      <td>Bonne</td>\n",
       "      <td>A505</td>\n",
       "    </tr>\n",
       "    <tr>\n",
       "      <th>4</th>\n",
       "      <td>Agence immobilière</td>\n",
       "      <td>Services a</td>\n",
       "      <td>Mauvaise</td>\n",
       "      <td>A505</td>\n",
       "    </tr>\n",
       "    <tr>\n",
       "      <th>...</th>\n",
       "      <td>...</td>\n",
       "      <td>...</td>\n",
       "      <td>...</td>\n",
       "      <td>...</td>\n",
       "    </tr>\n",
       "    <tr>\n",
       "      <th>11852</th>\n",
       "      <td>Pédicure</td>\n",
       "      <td>Santé</td>\n",
       "      <td>Bonne</td>\n",
       "      <td>D237</td>\n",
       "    </tr>\n",
       "    <tr>\n",
       "      <th>11853</th>\n",
       "      <td>Diététicien</td>\n",
       "      <td>Santé</td>\n",
       "      <td>Bonne</td>\n",
       "      <td>D242</td>\n",
       "    </tr>\n",
       "    <tr>\n",
       "      <th>11854</th>\n",
       "      <td>Pharmacie</td>\n",
       "      <td>Santé</td>\n",
       "      <td>Bonne</td>\n",
       "      <td>D301</td>\n",
       "    </tr>\n",
       "    <tr>\n",
       "      <th>11855</th>\n",
       "      <td>Taxi</td>\n",
       "      <td>Transport</td>\n",
       "      <td>Bonne</td>\n",
       "      <td>E101</td>\n",
       "    </tr>\n",
       "    <tr>\n",
       "      <th>11856</th>\n",
       "      <td>Taxi</td>\n",
       "      <td>Transport</td>\n",
       "      <td>Bonne</td>\n",
       "      <td>E101</td>\n",
       "    </tr>\n",
       "  </tbody>\n",
       "</table>\n",
       "<p>11857 rows × 4 columns</p>\n",
       "</div>"
      ],
      "text/plain": [
       "                                   LAB      CLASSE QUALITE_XY TYPEQU\n",
       "0                     Centre équestre       Sport      Bonne   F106\n",
       "1      Masseur kinésithérapeute D235       Santé      Bonne   D233\n",
       "2              Information touristique    Tourisme      Bonne   G104\n",
       "3                  Agence immobilière  Services a      Bonne   A505\n",
       "4                  Agence immobilière  Services a   Mauvaise   A505\n",
       "...                                ...         ...        ...    ...\n",
       "11852                        Pédicure       Santé      Bonne   D237\n",
       "11853                    Diététicien       Santé      Bonne   D242\n",
       "11854                        Pharmacie       Santé      Bonne   D301\n",
       "11855                             Taxi   Transport      Bonne   E101\n",
       "11856                             Taxi   Transport      Bonne   E101\n",
       "\n",
       "[11857 rows x 4 columns]"
      ]
     },
     "execution_count": 40,
     "metadata": {},
     "output_type": "execute_result"
    }
   ],
   "source": [
    "data[features_cat]"
   ]
  },
  {
   "cell_type": "code",
   "execution_count": 41,
   "id": "9a974988",
   "metadata": {
    "hidden": true
   },
   "outputs": [
    {
     "data": {
      "text/plain": [
       "array(['Centre équestre', 'Masseur kinésithérapeute D235',\n",
       "       'Information touristique', 'Agence immobilière',\n",
       "       'Magasin de vêtements', 'Établissement santé court séjour',\n",
       "       'Établissement santé moyen séjour',\n",
       "       'Établissement santé long séjour', 'Psychologue', 'Pharmacie',\n",
       "       'Hôtel', \"Banque, Caisse d'épargne\", 'Pompes funèbres',\n",
       "       'Bureau de poste', 'Réparation auto et de matériel agicole',\n",
       "       'Contrôle technique automobile', 'École de conduite',\n",
       "       'Électricien', 'Entreprise générale du bâtiment', 'Coiffure',\n",
       "       'Vétérinaire', 'Restaurant', 'Pressing', 'Institut de beauté',\n",
       "       'Supermarché', 'Grande surface de bricolage', 'Supérette',\n",
       "       'Épicerie', 'Boulangerie', 'Boucherie charcuterie',\n",
       "       'Librairie papeterie journaux', \"Magasin d'équipements du foyer\",\n",
       "       'Magasin de chaussures',\n",
       "       \"Magasin d'électroménager, audio vidéo B306\",\n",
       "       'Magasin de meubles',\n",
       "       \"Magasin d'art. de sports et de loisirs B308\",\n",
       "       'Droguerie, quincaillerie - bricolage', 'Parfumerie',\n",
       "       'Horlogerie Bijouterie', 'Fleuriste', 'Magasin d’optique',\n",
       "       'École élémentaire', 'Collège',\n",
       "       \"Lycée d'enseignement professionnel\", 'Centre de santé',\n",
       "       'Dialyse', 'Médecin généraliste', 'Spécialiste en cardiologie',\n",
       "       'Spécialiste en dermatologie vénéréologie D206',\n",
       "       'Spécialiste en psychiatrie', 'Spécialiste en ophtalmologie',\n",
       "       'Spécialiste en oto',\n",
       "       'Spéc. en radiodiagnostic et imagerie médicale D213',\n",
       "       'Spécialiste en gynécologie (médicale et/ou obstétrique)',\n",
       "       'Chirurgien dentiste', 'Sage', 'Infirmier', 'Orthophoniste',\n",
       "       'Orthoptiste', 'Pédicure', 'Diététicien',\n",
       "       'Enfants handicapés.: soins à domicile',\n",
       "       'Adultes handicapés : services d’aide', 'Taxi', 'Athlétisme',\n",
       "       'Salles de remise en forme', 'Salles multisports (gymnase)',\n",
       "       'Agence de voyages', 'Location auto-utilitaire légers',\n",
       "       'Magasin de matériel médical et orthopédique',\n",
       "       \"Lycée d'enseignement général et/ou techno.\",\n",
       "       'Spécialiste en pédiatrie', 'Audio prothésiste',\n",
       "       \"Laboratoire d'analyses et de biologie médicales\", 'Ambulance',\n",
       "       'Personnes âgées : hébergement',\n",
       "       'Autres établissements pour adultes et familles en difficulté',\n",
       "       'Salles spécialisées', 'Salles de combat', 'Théâtre',\n",
       "       'Poissonnerie', 'Station service', 'Ergothérapeute',\n",
       "       \"Aide sociale à l'enfance : action éduc.\",\n",
       "       \"CHRS Centre d'héberg. et de réadapt. sociale\",\n",
       "       'Personnes âgées : foyers restaurants',\n",
       "       \"Aide sociale à l'enfance : hébergement\", 'Bassin de natation',\n",
       "       'École maternelle',\n",
       "       'Établissement psychiatrique avec hébergement D105',\n",
       "       'Structures psychiatriques en ambulatoire D110', 'Crèche',\n",
       "       'Plateaux et terrains de jeux extérieurs F112',\n",
       "       'Terrain de grands jeux',\n",
       "       'Autre formation post bac non universitaire', 'Sports nautiques',\n",
       "       'Port de plaisance', 'Réseau partenarial pôle emploi',\n",
       "       'Produits surgelés', 'Magasin de revêtements murs et sols',\n",
       "       'Formation santé', 'Formation commerce',\n",
       "       'Spécialiste en gastro-entérologie', 'Spécialiste en pneumologie',\n",
       "       'Spécialiste en stomatologie',\n",
       "       \"Personnes âgées : services d'aide\", 'Musée',\n",
       "       'Direction Régionale des Finances Publiques (DRFIP)',\n",
       "       'Direction Départementale des Finances Publiques (DDFIP)',\n",
       "       'Enseignement général supérieur privé',\n",
       "       'Agence de travail temporaire', 'Réseau spécialisé Pôle emploi',\n",
       "       'Réseau de proximité Pôle Emploi',\n",
       "       'Personnes âgées : soins à domicile',\n",
       "       'Gare de voyageurs d’intérêt national E108', 'Psychomotricien',\n",
       "       'Adultes handicapés : hébergement',\n",
       "       'Gare de voyageurs d’intérêt local', 'Hypermarché', 'Tennis',\n",
       "       'Roller', 'Police', 'Tribunal de grande instance (TGI)',\n",
       "       \"Tribunal d'instance (TI)\",\n",
       "       \"Conseil départemental d'accès au droit (CDAD)\", 'STS CPGE',\n",
       "       'Centre médecine préventive', 'UFR', 'Institut universitaire',\n",
       "       \"Centre de formation d'apprentis (hors agriculture)\",\n",
       "       'Centre lutte cancer', 'Urgences',\n",
       "       'Enfants handicapés : hébergement', 'Gendarmerie',\n",
       "       'Travail protégé', 'Salles non spécialisées',\n",
       "       'Autre enseignement supérieur', 'Résidence universitaire',\n",
       "       'Restaurant universitaire',\n",
       "       'Gare de voyageurs d’intérêt régional',\n",
       "       \"Conseil des prud'hommes (CPH)\", 'Relais poste', 'Cinéma',\n",
       "       'Maternité', 'Sports de glace', 'Bowling',\n",
       "       \"Centre accueil demandeur d'asile\", 'Hospitalisation à domicile',\n",
       "       'Adultes handicapés : services de soins à domicile',\n",
       "       'SEP : Section enseignement professionnel',\n",
       "       'Tribunal de commerce (TCO)', 'Boulodrome'], dtype=object)"
      ]
     },
     "execution_count": 41,
     "metadata": {},
     "output_type": "execute_result"
    }
   ],
   "source": [
    "pd.unique(data['LAB'])"
   ]
  },
  {
   "cell_type": "code",
   "execution_count": 42,
   "id": "ca7576b4",
   "metadata": {
    "hidden": true
   },
   "outputs": [],
   "source": [
    "data['LAB'].value_counts(ascending=True);"
   ]
  },
  {
   "cell_type": "code",
   "execution_count": 43,
   "id": "f857c718",
   "metadata": {
    "hidden": true
   },
   "outputs": [
    {
     "data": {
      "text/plain": [
       "152"
      ]
     },
     "execution_count": 43,
     "metadata": {},
     "output_type": "execute_result"
    }
   ],
   "source": [
    "len(pd.unique(data['TYPEQU'])) # unique values of equipement type"
   ]
  },
  {
   "cell_type": "code",
   "execution_count": 44,
   "id": "3c391465",
   "metadata": {
    "hidden": true
   },
   "outputs": [],
   "source": [
    "data['TYPEQU'].value_counts(); # for meaning refer to 'LAB'"
   ]
  },
  {
   "cell_type": "code",
   "execution_count": 45,
   "id": "0d763bd5",
   "metadata": {
    "hidden": true
   },
   "outputs": [
    {
     "data": {
      "text/plain": [
       "152"
      ]
     },
     "execution_count": 45,
     "metadata": {},
     "output_type": "execute_result"
    }
   ],
   "source": [
    "len(pd.unique(data['LAB'])) # Equipement label"
   ]
  },
  {
   "cell_type": "code",
   "execution_count": 46,
   "id": "3427a5bd",
   "metadata": {
    "hidden": true
   },
   "outputs": [
    {
     "data": {
      "text/plain": [
       "7"
      ]
     },
     "execution_count": 46,
     "metadata": {},
     "output_type": "execute_result"
    }
   ],
   "source": [
    "len(pd.unique(data['CLASSE']))"
   ]
  },
  {
   "cell_type": "code",
   "execution_count": 47,
   "id": "cee78e5d",
   "metadata": {
    "hidden": true
   },
   "outputs": [
    {
     "data": {
      "text/html": [
       "<div>\n",
       "<style scoped>\n",
       "    .dataframe tbody tr th:only-of-type {\n",
       "        vertical-align: middle;\n",
       "    }\n",
       "\n",
       "    .dataframe tbody tr th {\n",
       "        vertical-align: top;\n",
       "    }\n",
       "\n",
       "    .dataframe thead th {\n",
       "        text-align: right;\n",
       "    }\n",
       "</style>\n",
       "<table border=\"1\" class=\"dataframe\">\n",
       "  <thead>\n",
       "    <tr style=\"text-align: right;\">\n",
       "      <th></th>\n",
       "      <th>AN</th>\n",
       "      <th>TYPEQU</th>\n",
       "      <th>LAMBERT_X</th>\n",
       "      <th>LAMBERT_Y</th>\n",
       "      <th>QUALITE_XY</th>\n",
       "      <th>LAB</th>\n",
       "      <th>CLASSE</th>\n",
       "      <th>iris_id</th>\n",
       "      <th>longitude</th>\n",
       "      <th>latitude</th>\n",
       "      <th>Q_XY_acceptable</th>\n",
       "      <th>Q_XY_bonne</th>\n",
       "      <th>Q_XY_mauvaise</th>\n",
       "    </tr>\n",
       "  </thead>\n",
       "  <tbody>\n",
       "    <tr>\n",
       "      <th>0</th>\n",
       "      <td>2018</td>\n",
       "      <td>F106</td>\n",
       "      <td>1.048111e+06</td>\n",
       "      <td>6301117.467</td>\n",
       "      <td>Bonne</td>\n",
       "      <td>Centre équestre</td>\n",
       "      <td>Sport</td>\n",
       "      <td>060880801</td>\n",
       "      <td>7.321389</td>\n",
       "      <td>43.723333</td>\n",
       "      <td>0.0</td>\n",
       "      <td>1.0</td>\n",
       "      <td>0.0</td>\n",
       "    </tr>\n",
       "    <tr>\n",
       "      <th>1</th>\n",
       "      <td>2018</td>\n",
       "      <td>D233</td>\n",
       "      <td>1.044554e+06</td>\n",
       "      <td>6302719.450</td>\n",
       "      <td>Bonne</td>\n",
       "      <td>Masseur kinésithérapeute D235</td>\n",
       "      <td>Santé</td>\n",
       "      <td>060881005</td>\n",
       "      <td>7.278395</td>\n",
       "      <td>43.739469</td>\n",
       "      <td>0.0</td>\n",
       "      <td>1.0</td>\n",
       "      <td>0.0</td>\n",
       "    </tr>\n",
       "    <tr>\n",
       "      <th>2</th>\n",
       "      <td>2018</td>\n",
       "      <td>G104</td>\n",
       "      <td>1.044550e+06</td>\n",
       "      <td>6302750.000</td>\n",
       "      <td>Bonne</td>\n",
       "      <td>Information touristique</td>\n",
       "      <td>Tourisme</td>\n",
       "      <td>060881005</td>\n",
       "      <td>7.278369</td>\n",
       "      <td>43.739746</td>\n",
       "      <td>0.0</td>\n",
       "      <td>1.0</td>\n",
       "      <td>0.0</td>\n",
       "    </tr>\n",
       "    <tr>\n",
       "      <th>3</th>\n",
       "      <td>2018</td>\n",
       "      <td>A505</td>\n",
       "      <td>1.043816e+06</td>\n",
       "      <td>6302952.090</td>\n",
       "      <td>Bonne</td>\n",
       "      <td>Agence immobilière</td>\n",
       "      <td>Services a</td>\n",
       "      <td>060883801</td>\n",
       "      <td>7.269413</td>\n",
       "      <td>43.741919</td>\n",
       "      <td>0.0</td>\n",
       "      <td>1.0</td>\n",
       "      <td>0.0</td>\n",
       "    </tr>\n",
       "    <tr>\n",
       "      <th>4</th>\n",
       "      <td>2018</td>\n",
       "      <td>A505</td>\n",
       "      <td>1.042950e+06</td>\n",
       "      <td>6302950.000</td>\n",
       "      <td>Mauvaise</td>\n",
       "      <td>Agence immobilière</td>\n",
       "      <td>Services a</td>\n",
       "      <td>060883801</td>\n",
       "      <td>7.258674</td>\n",
       "      <td>43.742321</td>\n",
       "      <td>0.0</td>\n",
       "      <td>0.0</td>\n",
       "      <td>1.0</td>\n",
       "    </tr>\n",
       "  </tbody>\n",
       "</table>\n",
       "</div>"
      ],
      "text/plain": [
       "     AN TYPEQU     LAMBERT_X    LAMBERT_Y QUALITE_XY  \\\n",
       "0  2018   F106  1.048111e+06  6301117.467      Bonne   \n",
       "1  2018   D233  1.044554e+06  6302719.450      Bonne   \n",
       "2  2018   G104  1.044550e+06  6302750.000      Bonne   \n",
       "3  2018   A505  1.043816e+06  6302952.090      Bonne   \n",
       "4  2018   A505  1.042950e+06  6302950.000   Mauvaise   \n",
       "\n",
       "                               LAB      CLASSE    iris_id  longitude  \\\n",
       "0                 Centre équestre       Sport  060880801   7.321389   \n",
       "1  Masseur kinésithérapeute D235       Santé  060881005   7.278395   \n",
       "2          Information touristique    Tourisme  060881005   7.278369   \n",
       "3              Agence immobilière  Services a  060883801   7.269413   \n",
       "4              Agence immobilière  Services a  060883801   7.258674   \n",
       "\n",
       "    latitude  Q_XY_acceptable  Q_XY_bonne  Q_XY_mauvaise  \n",
       "0  43.723333              0.0         1.0            0.0  \n",
       "1  43.739469              0.0         1.0            0.0  \n",
       "2  43.739746              0.0         1.0            0.0  \n",
       "3  43.741919              0.0         1.0            0.0  \n",
       "4  43.742321              0.0         0.0            1.0  "
      ]
     },
     "execution_count": 47,
     "metadata": {},
     "output_type": "execute_result"
    }
   ],
   "source": [
    "data.head()"
   ]
  },
  {
   "cell_type": "markdown",
   "id": "0cf6fe95",
   "metadata": {
    "heading_collapsed": true
   },
   "source": [
    "### Devision of LAB in categories\n",
    "\n",
    "Produce a modification of CLASSE variable to improve grouping and compare with ML clustering"
   ]
  },
  {
   "cell_type": "code",
   "execution_count": 48,
   "id": "1302114b",
   "metadata": {
    "hidden": true
   },
   "outputs": [
    {
     "data": {
      "text/plain": [
       "Services a    5263\n",
       "Santé         3125\n",
       "Commerces     2403\n",
       "Transport      443\n",
       "Tourisme       310\n",
       "Enseigneme     200\n",
       "Sport          113\n",
       "Name: CLASSE, dtype: int64"
      ]
     },
     "execution_count": 48,
     "metadata": {},
     "output_type": "execute_result"
    }
   ],
   "source": [
    "# Size of categories\n",
    "\n",
    "data['CLASSE'].value_counts() # pb of imbalance"
   ]
  },
  {
   "cell_type": "code",
   "execution_count": 49,
   "id": "11c5d996",
   "metadata": {
    "hidden": true
   },
   "outputs": [],
   "source": [
    "pd.unique(data['LAB'][data['CLASSE']=='Sport']);"
   ]
  },
  {
   "cell_type": "code",
   "execution_count": 50,
   "id": "105ee2a0",
   "metadata": {
    "hidden": true
   },
   "outputs": [],
   "source": [
    "cat_sport =['Athlétisme', 'Salles de remise en forme',\n",
    "       'Salles multisports (gymnase)', 'Salles spécialisées',\n",
    "       'Salles de combat', 'Bassin de natation',\n",
    "       'Plateaux et terrains de jeux extérieurs F112',\n",
    "       'Terrain de grands jeux', 'Sports nautiques', 'Tennis', 'Roller', 'Salles non spécialisées',\n",
    "       'Sports de glace', 'Boulodrome']\n",
    "cat_leasure = ['Centre équestre', 'Théâtre', 'Port de plaisance', 'Musée', 'Cinéma', 'Bowling']"
   ]
  },
  {
   "cell_type": "code",
   "execution_count": 51,
   "id": "5a2e45d6",
   "metadata": {
    "hidden": true
   },
   "outputs": [],
   "source": [
    "pd.unique(data['LAB'][data['CLASSE']=='Santé']);"
   ]
  },
  {
   "cell_type": "code",
   "execution_count": 52,
   "id": "dfb6d011",
   "metadata": {
    "hidden": true
   },
   "outputs": [],
   "source": [
    "cat_medical = ['Masseur kinésithérapeute D235',\n",
    "       'Établissement santé court séjour',\n",
    "       'Établissement santé moyen séjour',\n",
    "       'Établissement santé long séjour', 'Psychologue', 'Pharmacie',\n",
    "       'Centre de santé', 'Dialyse', 'Médecin généraliste',\n",
    "       'Spécialiste en cardiologie',\n",
    "       'Spécialiste en dermatologie vénéréologie D206',\n",
    "       'Spécialiste en psychiatrie', 'Spécialiste en ophtalmologie',\n",
    "       'Spécialiste en oto',\n",
    "       'Spéc. en radiodiagnostic et imagerie médicale D213',\n",
    "       'Spécialiste en gynécologie (médicale et/ou obstétrique)',\n",
    "       'Chirurgien dentiste', 'Sage', 'Infirmier', 'Orthophoniste',\n",
    "       'Orthoptiste', 'Diététicien',\n",
    "       'Enfants handicapés.: soins à domicile',\n",
    "       'Adultes handicapés : services d’aide',\n",
    "       'Spécialiste en pédiatrie', 'Audio prothésiste',\n",
    "       \"Laboratoire d'analyses et de biologie médicales\", 'Ambulance',\n",
    "       'Ergothérapeute', \n",
    "       'Établissement psychiatrique avec hébergement D105',\n",
    "       'Structures psychiatriques en ambulatoire D110', 'Crèche',\n",
    "       'Spécialiste en gastro-entérologie', 'Spécialiste en pneumologie',\n",
    "       'Spécialiste en stomatologie',\n",
    "       \"Personnes âgées : services d'aide\",\n",
    "       'Personnes âgées : soins à domicile', 'Psychomotricien',\n",
    "       'Adultes handicapés : hébergement', 'Centre médecine préventive',\n",
    "       'Centre lutte cancer', 'Urgences',\n",
    "       'Enfants handicapés : hébergement', 'Travail protégé',\n",
    "       'Maternité',\n",
    "       'Hospitalisation à domicile',\n",
    "       'Adultes handicapés : services de soins à domicile']\n",
    "\n",
    "cat_socio_med = ['Personnes âgées : hébergement',\n",
    "                 'Autres établissements pour adultes et familles en difficulté',\n",
    "                 \"Aide sociale à l'enfance : action éduc.\",\n",
    "                 \"CHRS Centre d'héberg. et de réadapt. sociale\",\n",
    "                 'Personnes âgées : foyers restaurants',\n",
    "                 \"Aide sociale à l'enfance : hébergement\",\n",
    "                  \"Centre accueil demandeur d'asile\"]"
   ]
  },
  {
   "cell_type": "code",
   "execution_count": 53,
   "id": "b076fe28",
   "metadata": {
    "hidden": true
   },
   "outputs": [],
   "source": [
    "pd.unique(data['LAB'][data['CLASSE']=='Tourisme']);"
   ]
  },
  {
   "cell_type": "code",
   "execution_count": 54,
   "id": "c1508aab",
   "metadata": {
    "hidden": true
   },
   "outputs": [],
   "source": [
    "cat_tourist = ['Information touristique', 'Hôtel', 'Agence de voyages']"
   ]
  },
  {
   "cell_type": "code",
   "execution_count": 55,
   "id": "26d7b081",
   "metadata": {
    "hidden": true
   },
   "outputs": [],
   "source": [
    "pd.unique(data['LAB'][data['CLASSE']=='Services a']);"
   ]
  },
  {
   "cell_type": "code",
   "execution_count": 56,
   "id": "b1746593",
   "metadata": {
    "hidden": true
   },
   "outputs": [],
   "source": [
    "cat_general_service = ['Bureau de poste',                   \n",
    "       'Réseau partenarial pôle emploi',\n",
    "       'Direction Régionale des Finances Publiques (DRFIP)',\n",
    "       'Direction Départementale des Finances Publiques (DDFIP)',\n",
    "       'Agence de travail temporaire', 'Réseau spécialisé Pôle emploi',\n",
    "       'Réseau de proximité Pôle Emploi', 'Police',\n",
    "       'Tribunal de grande instance (TGI)', \"Tribunal d'instance (TI)\",\n",
    "       \"Conseil départemental d'accès au droit (CDAD)\", 'Gendarmerie',\n",
    "       \"Conseil des prud'hommes (CPH)\", 'Relais poste',\n",
    "       'Tribunal de commerce (TCO)']"
   ]
  },
  {
   "cell_type": "code",
   "execution_count": 57,
   "id": "d1095ddb",
   "metadata": {
    "hidden": true
   },
   "outputs": [],
   "source": [
    "pd.unique(data['LAB'][data['CLASSE']=='Commerces']);"
   ]
  },
  {
   "cell_type": "code",
   "execution_count": 58,
   "id": "f060f256",
   "metadata": {
    "hidden": true
   },
   "outputs": [],
   "source": [
    "cat_commerce = ['Supermarché', 'Supérette', 'Épicerie',\n",
    "       'Boulangerie', 'Boucherie charcuterie',\n",
    "       'Librairie papeterie journaux', \"Magasin d'équipements du foyer\",\n",
    "       \n",
    "       \"Magasin d'électroménager, audio vidéo B306\",      \n",
    "       \"Magasin d'art. de sports et de loisirs B308\",\n",
    "       'Droguerie, quincaillerie - bricolage', \n",
    "       'Magasin de matériel médical et orthopédique', 'Poissonnerie',\n",
    "       'Produits surgelés',\n",
    "               'Pompes funèbres',\n",
    "               'Électricien', 'Vétérinaire', 'Pressing']\n",
    "\n",
    "cat_commertce_x = ['Agence immobilière', \"Banque, Caisse d'épargne\", 'Coiffure', 'Restaurant',\n",
    "                  'Institut de beauté', 'Pédicure',\n",
    "                  'Magasin de vêtements', 'Magasin de chaussures',\n",
    "                  'Parfumerie', 'Horlogerie Bijouterie', \n",
    "                   'Fleuriste', 'Magasin d’optique',]\n",
    "\n",
    "cat_grande_surface = ['Grande surface de bricolage', 'Magasin de meubles', \n",
    "                      'Station service', 'Magasin de revêtements murs et sols', 'Hypermarché',\n",
    "                     'Réparation auto et de matériel agicole', 'Contrôle technique automobile',\n",
    "                     'Entreprise générale du bâtiment']"
   ]
  },
  {
   "cell_type": "code",
   "execution_count": 59,
   "id": "48e980e0",
   "metadata": {
    "hidden": true
   },
   "outputs": [],
   "source": [
    "pd.unique(data['LAB'][data['CLASSE']=='Enseigneme']);"
   ]
  },
  {
   "cell_type": "code",
   "execution_count": 60,
   "id": "e65375c2",
   "metadata": {
    "hidden": true
   },
   "outputs": [],
   "source": [
    "cat_high_educ = [ 'Autre formation post bac non universitaire',\n",
    "                 'Formation commerce',\n",
    "                 'Enseignement général supérieur privé', 'STS CPGE', 'UFR',\n",
    "                 'Institut universitaire',\n",
    "                 'Enseignement général supérieur privé', 'UFR',\n",
    "                 'Institut universitaire',\n",
    "                 'Autre enseignement supérieur', 'Résidence universitaire',\n",
    "                 'Restaurant universitaire']\n",
    "\n",
    "cat_schools = ['École élémentaire', 'Collège',\n",
    "       \"Lycée d'enseignement professionnel\",\n",
    "       \"Lycée d'enseignement général et/ou techno.\",\n",
    "       'École maternelle',\n",
    "       'Formation santé', 'Formation commerce',\n",
    "       'STS CPGE', \n",
    "       \"Centre de formation d'apprentis (hors agriculture)\",\n",
    "       'SEP : Section enseignement professionnel',\n",
    "              'École de conduite',]"
   ]
  },
  {
   "cell_type": "code",
   "execution_count": 61,
   "id": "53efe7eb",
   "metadata": {
    "hidden": true
   },
   "outputs": [],
   "source": [
    "pd.unique(data['LAB'][data['CLASSE']=='Transport']);"
   ]
  },
  {
   "cell_type": "code",
   "execution_count": 62,
   "id": "86c20942",
   "metadata": {
    "hidden": true
   },
   "outputs": [],
   "source": [
    "cat_transport = ['Taxi', 'Gare de voyageurs d’intérêt national E108',\n",
    "       'Gare de voyageurs d’intérêt local',\n",
    "       'Gare de voyageurs d’intérêt régional',\n",
    "                'Location auto-utilitaire légers',]"
   ]
  },
  {
   "cell_type": "markdown",
   "id": "73f3f610",
   "metadata": {
    "heading_collapsed": true
   },
   "source": [
    "### Create columns for each category"
   ]
  },
  {
   "cell_type": "code",
   "execution_count": 63,
   "id": "7d51abb8",
   "metadata": {
    "hidden": true
   },
   "outputs": [],
   "source": [
    "def is_sport(cat):\n",
    "    return cat.map(lambda x: 1 if x in  cat_sport else 0)\n",
    "\n",
    "def is_leasure(cat):\n",
    "    return cat.map(lambda x: 1 if x in  cat_leasure else 0)\n",
    "\n",
    "def is_medical(cat):\n",
    "    return cat.map(lambda x: 1 if x in  cat_medical else 0)\n",
    "\n",
    "def is_socio_med(cat):\n",
    "    return cat.map(lambda x: 1 if x in  cat_socio_med else 0)\n",
    "\n",
    "def is_tourist(cat):\n",
    "    return cat.map(lambda x: 1 if x in  cat_tourist else 0)\n",
    "\n",
    "def is_general_service(cat):\n",
    "    return cat.map(lambda x: 1 if x in  cat_general_service else 0)\n",
    "\n",
    "def is_commerce(cat):\n",
    "    return cat.map(lambda x: 1 if x in  cat_commerce else 0)\n",
    "\n",
    "def is_commerce_spec(cat):\n",
    "    return cat.map(lambda x: 1 if x in  cat_commertce_x else 0)\n",
    "\n",
    "def is_grande_surface(cat):\n",
    "    return cat.map(lambda x: 1 if x in  cat_grande_surface else 0)\n",
    "\n",
    "def is_high_educ(cat):\n",
    "    return cat.map(lambda x: 1 if x in  cat_high_educ else 0)\n",
    "\n",
    "def is_schools(cat):\n",
    "    return cat.map(lambda x: 1 if x in  cat_schools else 0)\n",
    "\n",
    "def is_transport(cat):\n",
    "    return cat.map(lambda x: 1 if x in  cat_transport else 0)"
   ]
  },
  {
   "cell_type": "code",
   "execution_count": 64,
   "id": "497b4c7a",
   "metadata": {
    "hidden": true
   },
   "outputs": [],
   "source": [
    "data_cat = data.agg({\n",
    "    'LAB':[is_sport, is_leasure, is_medical, is_socio_med, \n",
    "           is_tourist,is_general_service,is_commerce,is_commerce_spec,\n",
    "           is_grande_surface,is_high_educ,is_schools,is_transport]\n",
    "})"
   ]
  },
  {
   "cell_type": "code",
   "execution_count": 65,
   "id": "7691b633",
   "metadata": {
    "hidden": true
   },
   "outputs": [
    {
     "data": {
      "text/html": [
       "<div>\n",
       "<style scoped>\n",
       "    .dataframe tbody tr th:only-of-type {\n",
       "        vertical-align: middle;\n",
       "    }\n",
       "\n",
       "    .dataframe tbody tr th {\n",
       "        vertical-align: top;\n",
       "    }\n",
       "\n",
       "    .dataframe thead tr th {\n",
       "        text-align: left;\n",
       "    }\n",
       "</style>\n",
       "<table border=\"1\" class=\"dataframe\">\n",
       "  <thead>\n",
       "    <tr>\n",
       "      <th></th>\n",
       "      <th colspan=\"12\" halign=\"left\">LAB</th>\n",
       "    </tr>\n",
       "    <tr>\n",
       "      <th></th>\n",
       "      <th>is_sport</th>\n",
       "      <th>is_leasure</th>\n",
       "      <th>is_medical</th>\n",
       "      <th>is_socio_med</th>\n",
       "      <th>is_tourist</th>\n",
       "      <th>is_general_service</th>\n",
       "      <th>is_commerce</th>\n",
       "      <th>is_commerce_spec</th>\n",
       "      <th>is_grande_surface</th>\n",
       "      <th>is_high_educ</th>\n",
       "      <th>is_schools</th>\n",
       "      <th>is_transport</th>\n",
       "    </tr>\n",
       "  </thead>\n",
       "  <tbody>\n",
       "    <tr>\n",
       "      <th>0</th>\n",
       "      <td>0</td>\n",
       "      <td>1</td>\n",
       "      <td>0</td>\n",
       "      <td>0</td>\n",
       "      <td>0</td>\n",
       "      <td>0</td>\n",
       "      <td>0</td>\n",
       "      <td>0</td>\n",
       "      <td>0</td>\n",
       "      <td>0</td>\n",
       "      <td>0</td>\n",
       "      <td>0</td>\n",
       "    </tr>\n",
       "    <tr>\n",
       "      <th>1</th>\n",
       "      <td>0</td>\n",
       "      <td>0</td>\n",
       "      <td>1</td>\n",
       "      <td>0</td>\n",
       "      <td>0</td>\n",
       "      <td>0</td>\n",
       "      <td>0</td>\n",
       "      <td>0</td>\n",
       "      <td>0</td>\n",
       "      <td>0</td>\n",
       "      <td>0</td>\n",
       "      <td>0</td>\n",
       "    </tr>\n",
       "    <tr>\n",
       "      <th>2</th>\n",
       "      <td>0</td>\n",
       "      <td>0</td>\n",
       "      <td>0</td>\n",
       "      <td>0</td>\n",
       "      <td>1</td>\n",
       "      <td>0</td>\n",
       "      <td>0</td>\n",
       "      <td>0</td>\n",
       "      <td>0</td>\n",
       "      <td>0</td>\n",
       "      <td>0</td>\n",
       "      <td>0</td>\n",
       "    </tr>\n",
       "    <tr>\n",
       "      <th>3</th>\n",
       "      <td>0</td>\n",
       "      <td>0</td>\n",
       "      <td>0</td>\n",
       "      <td>0</td>\n",
       "      <td>0</td>\n",
       "      <td>0</td>\n",
       "      <td>0</td>\n",
       "      <td>1</td>\n",
       "      <td>0</td>\n",
       "      <td>0</td>\n",
       "      <td>0</td>\n",
       "      <td>0</td>\n",
       "    </tr>\n",
       "    <tr>\n",
       "      <th>4</th>\n",
       "      <td>0</td>\n",
       "      <td>0</td>\n",
       "      <td>0</td>\n",
       "      <td>0</td>\n",
       "      <td>0</td>\n",
       "      <td>0</td>\n",
       "      <td>0</td>\n",
       "      <td>1</td>\n",
       "      <td>0</td>\n",
       "      <td>0</td>\n",
       "      <td>0</td>\n",
       "      <td>0</td>\n",
       "    </tr>\n",
       "  </tbody>\n",
       "</table>\n",
       "</div>"
      ],
      "text/plain": [
       "       LAB                                                                   \\\n",
       "  is_sport is_leasure is_medical is_socio_med is_tourist is_general_service   \n",
       "0        0          1          0            0          0                  0   \n",
       "1        0          0          1            0          0                  0   \n",
       "2        0          0          0            0          1                  0   \n",
       "3        0          0          0            0          0                  0   \n",
       "4        0          0          0            0          0                  0   \n",
       "\n",
       "                                                                          \\\n",
       "  is_commerce is_commerce_spec is_grande_surface is_high_educ is_schools   \n",
       "0           0                0                 0            0          0   \n",
       "1           0                0                 0            0          0   \n",
       "2           0                0                 0            0          0   \n",
       "3           0                1                 0            0          0   \n",
       "4           0                1                 0            0          0   \n",
       "\n",
       "                \n",
       "  is_transport  \n",
       "0            0  \n",
       "1            0  \n",
       "2            0  \n",
       "3            0  \n",
       "4            0  "
      ]
     },
     "execution_count": 65,
     "metadata": {},
     "output_type": "execute_result"
    }
   ],
   "source": [
    "data_cat.head()"
   ]
  },
  {
   "cell_type": "markdown",
   "id": "514b946d",
   "metadata": {
    "heading_collapsed": true
   },
   "source": [
    "### Merge the data"
   ]
  },
  {
   "cell_type": "code",
   "execution_count": 66,
   "id": "e44f8ba5",
   "metadata": {
    "hidden": true
   },
   "outputs": [
    {
     "name": "stderr",
     "output_type": "stream",
     "text": [
      "/home/mchistya/.pyenv/versions/3.8.6/envs/trampact/lib/python3.8/site-packages/pandas/core/reshape/merge.py:648: UserWarning: merging between different levels can give an unintended result (1 levels on the left,2 on the right)\n",
      "  warnings.warn(msg, UserWarning)\n"
     ]
    }
   ],
   "source": [
    "df = data.merge(data_cat,how='left',left_index=True, right_index=True)"
   ]
  },
  {
   "cell_type": "code",
   "execution_count": 67,
   "id": "d9e642a6",
   "metadata": {
    "hidden": true
   },
   "outputs": [
    {
     "data": {
      "text/html": [
       "<div>\n",
       "<style scoped>\n",
       "    .dataframe tbody tr th:only-of-type {\n",
       "        vertical-align: middle;\n",
       "    }\n",
       "\n",
       "    .dataframe tbody tr th {\n",
       "        vertical-align: top;\n",
       "    }\n",
       "\n",
       "    .dataframe thead th {\n",
       "        text-align: right;\n",
       "    }\n",
       "</style>\n",
       "<table border=\"1\" class=\"dataframe\">\n",
       "  <thead>\n",
       "    <tr style=\"text-align: right;\">\n",
       "      <th></th>\n",
       "      <th>AN</th>\n",
       "      <th>TYPEQU</th>\n",
       "      <th>LAMBERT_X</th>\n",
       "      <th>LAMBERT_Y</th>\n",
       "      <th>QUALITE_XY</th>\n",
       "      <th>LAB</th>\n",
       "      <th>CLASSE</th>\n",
       "      <th>iris_id</th>\n",
       "      <th>longitude</th>\n",
       "      <th>latitude</th>\n",
       "      <th>...</th>\n",
       "      <th>(LAB, is_medical)</th>\n",
       "      <th>(LAB, is_socio_med)</th>\n",
       "      <th>(LAB, is_tourist)</th>\n",
       "      <th>(LAB, is_general_service)</th>\n",
       "      <th>(LAB, is_commerce)</th>\n",
       "      <th>(LAB, is_commerce_spec)</th>\n",
       "      <th>(LAB, is_grande_surface)</th>\n",
       "      <th>(LAB, is_high_educ)</th>\n",
       "      <th>(LAB, is_schools)</th>\n",
       "      <th>(LAB, is_transport)</th>\n",
       "    </tr>\n",
       "  </thead>\n",
       "  <tbody>\n",
       "    <tr>\n",
       "      <th>0</th>\n",
       "      <td>2018</td>\n",
       "      <td>F106</td>\n",
       "      <td>1.048111e+06</td>\n",
       "      <td>6301117.467</td>\n",
       "      <td>Bonne</td>\n",
       "      <td>Centre équestre</td>\n",
       "      <td>Sport</td>\n",
       "      <td>060880801</td>\n",
       "      <td>7.321389</td>\n",
       "      <td>43.723333</td>\n",
       "      <td>...</td>\n",
       "      <td>0</td>\n",
       "      <td>0</td>\n",
       "      <td>0</td>\n",
       "      <td>0</td>\n",
       "      <td>0</td>\n",
       "      <td>0</td>\n",
       "      <td>0</td>\n",
       "      <td>0</td>\n",
       "      <td>0</td>\n",
       "      <td>0</td>\n",
       "    </tr>\n",
       "    <tr>\n",
       "      <th>1</th>\n",
       "      <td>2018</td>\n",
       "      <td>D233</td>\n",
       "      <td>1.044554e+06</td>\n",
       "      <td>6302719.450</td>\n",
       "      <td>Bonne</td>\n",
       "      <td>Masseur kinésithérapeute D235</td>\n",
       "      <td>Santé</td>\n",
       "      <td>060881005</td>\n",
       "      <td>7.278395</td>\n",
       "      <td>43.739469</td>\n",
       "      <td>...</td>\n",
       "      <td>1</td>\n",
       "      <td>0</td>\n",
       "      <td>0</td>\n",
       "      <td>0</td>\n",
       "      <td>0</td>\n",
       "      <td>0</td>\n",
       "      <td>0</td>\n",
       "      <td>0</td>\n",
       "      <td>0</td>\n",
       "      <td>0</td>\n",
       "    </tr>\n",
       "    <tr>\n",
       "      <th>2</th>\n",
       "      <td>2018</td>\n",
       "      <td>G104</td>\n",
       "      <td>1.044550e+06</td>\n",
       "      <td>6302750.000</td>\n",
       "      <td>Bonne</td>\n",
       "      <td>Information touristique</td>\n",
       "      <td>Tourisme</td>\n",
       "      <td>060881005</td>\n",
       "      <td>7.278369</td>\n",
       "      <td>43.739746</td>\n",
       "      <td>...</td>\n",
       "      <td>0</td>\n",
       "      <td>0</td>\n",
       "      <td>1</td>\n",
       "      <td>0</td>\n",
       "      <td>0</td>\n",
       "      <td>0</td>\n",
       "      <td>0</td>\n",
       "      <td>0</td>\n",
       "      <td>0</td>\n",
       "      <td>0</td>\n",
       "    </tr>\n",
       "    <tr>\n",
       "      <th>3</th>\n",
       "      <td>2018</td>\n",
       "      <td>A505</td>\n",
       "      <td>1.043816e+06</td>\n",
       "      <td>6302952.090</td>\n",
       "      <td>Bonne</td>\n",
       "      <td>Agence immobilière</td>\n",
       "      <td>Services a</td>\n",
       "      <td>060883801</td>\n",
       "      <td>7.269413</td>\n",
       "      <td>43.741919</td>\n",
       "      <td>...</td>\n",
       "      <td>0</td>\n",
       "      <td>0</td>\n",
       "      <td>0</td>\n",
       "      <td>0</td>\n",
       "      <td>0</td>\n",
       "      <td>1</td>\n",
       "      <td>0</td>\n",
       "      <td>0</td>\n",
       "      <td>0</td>\n",
       "      <td>0</td>\n",
       "    </tr>\n",
       "    <tr>\n",
       "      <th>4</th>\n",
       "      <td>2018</td>\n",
       "      <td>A505</td>\n",
       "      <td>1.042950e+06</td>\n",
       "      <td>6302950.000</td>\n",
       "      <td>Mauvaise</td>\n",
       "      <td>Agence immobilière</td>\n",
       "      <td>Services a</td>\n",
       "      <td>060883801</td>\n",
       "      <td>7.258674</td>\n",
       "      <td>43.742321</td>\n",
       "      <td>...</td>\n",
       "      <td>0</td>\n",
       "      <td>0</td>\n",
       "      <td>0</td>\n",
       "      <td>0</td>\n",
       "      <td>0</td>\n",
       "      <td>1</td>\n",
       "      <td>0</td>\n",
       "      <td>0</td>\n",
       "      <td>0</td>\n",
       "      <td>0</td>\n",
       "    </tr>\n",
       "  </tbody>\n",
       "</table>\n",
       "<p>5 rows × 25 columns</p>\n",
       "</div>"
      ],
      "text/plain": [
       "     AN TYPEQU     LAMBERT_X    LAMBERT_Y QUALITE_XY  \\\n",
       "0  2018   F106  1.048111e+06  6301117.467      Bonne   \n",
       "1  2018   D233  1.044554e+06  6302719.450      Bonne   \n",
       "2  2018   G104  1.044550e+06  6302750.000      Bonne   \n",
       "3  2018   A505  1.043816e+06  6302952.090      Bonne   \n",
       "4  2018   A505  1.042950e+06  6302950.000   Mauvaise   \n",
       "\n",
       "                               LAB      CLASSE    iris_id  longitude  \\\n",
       "0                 Centre équestre       Sport  060880801   7.321389   \n",
       "1  Masseur kinésithérapeute D235       Santé  060881005   7.278395   \n",
       "2          Information touristique    Tourisme  060881005   7.278369   \n",
       "3              Agence immobilière  Services a  060883801   7.269413   \n",
       "4              Agence immobilière  Services a  060883801   7.258674   \n",
       "\n",
       "    latitude  ...  (LAB, is_medical)  (LAB, is_socio_med)  (LAB, is_tourist)  \\\n",
       "0  43.723333  ...                  0                    0                  0   \n",
       "1  43.739469  ...                  1                    0                  0   \n",
       "2  43.739746  ...                  0                    0                  1   \n",
       "3  43.741919  ...                  0                    0                  0   \n",
       "4  43.742321  ...                  0                    0                  0   \n",
       "\n",
       "   (LAB, is_general_service)  (LAB, is_commerce)  (LAB, is_commerce_spec)  \\\n",
       "0                          0                   0                        0   \n",
       "1                          0                   0                        0   \n",
       "2                          0                   0                        0   \n",
       "3                          0                   0                        1   \n",
       "4                          0                   0                        1   \n",
       "\n",
       "   (LAB, is_grande_surface)  (LAB, is_high_educ)  (LAB, is_schools)  \\\n",
       "0                         0                    0                  0   \n",
       "1                         0                    0                  0   \n",
       "2                         0                    0                  0   \n",
       "3                         0                    0                  0   \n",
       "4                         0                    0                  0   \n",
       "\n",
       "   (LAB, is_transport)  \n",
       "0                    0  \n",
       "1                    0  \n",
       "2                    0  \n",
       "3                    0  \n",
       "4                    0  \n",
       "\n",
       "[5 rows x 25 columns]"
      ]
     },
     "execution_count": 67,
     "metadata": {},
     "output_type": "execute_result"
    }
   ],
   "source": [
    "df.head()"
   ]
  },
  {
   "cell_type": "markdown",
   "id": "8b9586ce",
   "metadata": {},
   "source": [
    "### Label iris with tramway line"
   ]
  },
  {
   "cell_type": "code",
   "execution_count": 68,
   "id": "c08c917b",
   "metadata": {},
   "outputs": [],
   "source": [
    "iris_t1 = pd.read_excel('../raw_data/iris_T1.xlsx')"
   ]
  },
  {
   "cell_type": "code",
   "execution_count": 69,
   "id": "6c48a6f1",
   "metadata": {},
   "outputs": [
    {
     "data": {
      "text/html": [
       "<div>\n",
       "<style scoped>\n",
       "    .dataframe tbody tr th:only-of-type {\n",
       "        vertical-align: middle;\n",
       "    }\n",
       "\n",
       "    .dataframe tbody tr th {\n",
       "        vertical-align: top;\n",
       "    }\n",
       "\n",
       "    .dataframe thead th {\n",
       "        text-align: right;\n",
       "    }\n",
       "</style>\n",
       "<table border=\"1\" class=\"dataframe\">\n",
       "  <thead>\n",
       "    <tr style=\"text-align: right;\">\n",
       "      <th></th>\n",
       "      <th>iris_id</th>\n",
       "      <th>NOM_IRIS</th>\n",
       "    </tr>\n",
       "  </thead>\n",
       "  <tbody>\n",
       "    <tr>\n",
       "      <th>0</th>\n",
       "      <td>60881304</td>\n",
       "      <td>Saint-Sylvestre</td>\n",
       "    </tr>\n",
       "    <tr>\n",
       "      <th>1</th>\n",
       "      <td>60881503</td>\n",
       "      <td>Jeanne d'Arc-Fuon-Cauda</td>\n",
       "    </tr>\n",
       "    <tr>\n",
       "      <th>2</th>\n",
       "      <td>60881303</td>\n",
       "      <td>Gorbella</td>\n",
       "    </tr>\n",
       "  </tbody>\n",
       "</table>\n",
       "</div>"
      ],
      "text/plain": [
       "    iris_id                 NOM_IRIS\n",
       "0  60881304          Saint-Sylvestre\n",
       "1  60881503  Jeanne d'Arc-Fuon-Cauda\n",
       "2  60881303                 Gorbella"
      ]
     },
     "execution_count": 69,
     "metadata": {},
     "output_type": "execute_result"
    }
   ],
   "source": [
    "iris_t1.head(3)"
   ]
  },
  {
   "cell_type": "code",
   "execution_count": 70,
   "id": "2ecf0027",
   "metadata": {},
   "outputs": [],
   "source": [
    "iris_t1['iris_id']=iris_t1['iris_id'].map(lambda x: str(0)+str(x))"
   ]
  },
  {
   "cell_type": "code",
   "execution_count": 71,
   "id": "79dc9734",
   "metadata": {},
   "outputs": [
    {
     "data": {
      "text/plain": [
       "['060880102', '060880507', '060882201', '060880503']"
      ]
     },
     "execution_count": 71,
     "metadata": {},
     "output_type": "execute_result"
    }
   ],
   "source": [
    "list_irist1 = list(iris_t1['iris_id'])\n",
    "list_irist1[20:24]"
   ]
  },
  {
   "cell_type": "code",
   "execution_count": 72,
   "id": "8596f784",
   "metadata": {},
   "outputs": [
    {
     "data": {
      "text/plain": [
       "35"
      ]
     },
     "execution_count": 72,
     "metadata": {},
     "output_type": "execute_result"
    }
   ],
   "source": [
    "len(list_irist1)"
   ]
  },
  {
   "cell_type": "code",
   "execution_count": 73,
   "id": "941ec5dd",
   "metadata": {},
   "outputs": [
    {
     "data": {
      "text/plain": [
       "array([0, 1])"
      ]
     },
     "execution_count": 73,
     "metadata": {},
     "output_type": "execute_result"
    }
   ],
   "source": [
    "df['iris_with_t1']=df['iris_id'].map(lambda x: 1 if x in list_irist1 else 0)\n",
    "pd.unique(df['iris_with_t1'])"
   ]
  },
  {
   "cell_type": "code",
   "execution_count": 74,
   "id": "c2717a65",
   "metadata": {},
   "outputs": [
    {
     "data": {
      "text/plain": [
       "0    6143\n",
       "1    5714\n",
       "Name: iris_with_t1, dtype: int64"
      ]
     },
     "execution_count": 74,
     "metadata": {},
     "output_type": "execute_result"
    }
   ],
   "source": [
    "df.iris_with_t1.value_counts()"
   ]
  },
  {
   "cell_type": "code",
   "execution_count": 75,
   "id": "e52d1917",
   "metadata": {
    "scrolled": true
   },
   "outputs": [
    {
     "data": {
      "text/html": [
       "<div>\n",
       "<style scoped>\n",
       "    .dataframe tbody tr th:only-of-type {\n",
       "        vertical-align: middle;\n",
       "    }\n",
       "\n",
       "    .dataframe tbody tr th {\n",
       "        vertical-align: top;\n",
       "    }\n",
       "\n",
       "    .dataframe thead th {\n",
       "        text-align: right;\n",
       "    }\n",
       "</style>\n",
       "<table border=\"1\" class=\"dataframe\">\n",
       "  <thead>\n",
       "    <tr style=\"text-align: right;\">\n",
       "      <th></th>\n",
       "      <th>AN</th>\n",
       "      <th>TYPEQU</th>\n",
       "      <th>LAMBERT_X</th>\n",
       "      <th>LAMBERT_Y</th>\n",
       "      <th>QUALITE_XY</th>\n",
       "      <th>LAB</th>\n",
       "      <th>CLASSE</th>\n",
       "      <th>iris_id</th>\n",
       "      <th>longitude</th>\n",
       "      <th>latitude</th>\n",
       "      <th>...</th>\n",
       "      <th>(LAB, is_socio_med)</th>\n",
       "      <th>(LAB, is_tourist)</th>\n",
       "      <th>(LAB, is_general_service)</th>\n",
       "      <th>(LAB, is_commerce)</th>\n",
       "      <th>(LAB, is_commerce_spec)</th>\n",
       "      <th>(LAB, is_grande_surface)</th>\n",
       "      <th>(LAB, is_high_educ)</th>\n",
       "      <th>(LAB, is_schools)</th>\n",
       "      <th>(LAB, is_transport)</th>\n",
       "      <th>iris_with_t1</th>\n",
       "    </tr>\n",
       "  </thead>\n",
       "  <tbody>\n",
       "    <tr>\n",
       "      <th>0</th>\n",
       "      <td>2018</td>\n",
       "      <td>F106</td>\n",
       "      <td>1.048111e+06</td>\n",
       "      <td>6301117.467</td>\n",
       "      <td>Bonne</td>\n",
       "      <td>Centre équestre</td>\n",
       "      <td>Sport</td>\n",
       "      <td>060880801</td>\n",
       "      <td>7.321389</td>\n",
       "      <td>43.723333</td>\n",
       "      <td>...</td>\n",
       "      <td>0</td>\n",
       "      <td>0</td>\n",
       "      <td>0</td>\n",
       "      <td>0</td>\n",
       "      <td>0</td>\n",
       "      <td>0</td>\n",
       "      <td>0</td>\n",
       "      <td>0</td>\n",
       "      <td>0</td>\n",
       "      <td>0</td>\n",
       "    </tr>\n",
       "    <tr>\n",
       "      <th>1</th>\n",
       "      <td>2018</td>\n",
       "      <td>D233</td>\n",
       "      <td>1.044554e+06</td>\n",
       "      <td>6302719.450</td>\n",
       "      <td>Bonne</td>\n",
       "      <td>Masseur kinésithérapeute D235</td>\n",
       "      <td>Santé</td>\n",
       "      <td>060881005</td>\n",
       "      <td>7.278395</td>\n",
       "      <td>43.739469</td>\n",
       "      <td>...</td>\n",
       "      <td>0</td>\n",
       "      <td>0</td>\n",
       "      <td>0</td>\n",
       "      <td>0</td>\n",
       "      <td>0</td>\n",
       "      <td>0</td>\n",
       "      <td>0</td>\n",
       "      <td>0</td>\n",
       "      <td>0</td>\n",
       "      <td>0</td>\n",
       "    </tr>\n",
       "    <tr>\n",
       "      <th>2</th>\n",
       "      <td>2018</td>\n",
       "      <td>G104</td>\n",
       "      <td>1.044550e+06</td>\n",
       "      <td>6302750.000</td>\n",
       "      <td>Bonne</td>\n",
       "      <td>Information touristique</td>\n",
       "      <td>Tourisme</td>\n",
       "      <td>060881005</td>\n",
       "      <td>7.278369</td>\n",
       "      <td>43.739746</td>\n",
       "      <td>...</td>\n",
       "      <td>0</td>\n",
       "      <td>1</td>\n",
       "      <td>0</td>\n",
       "      <td>0</td>\n",
       "      <td>0</td>\n",
       "      <td>0</td>\n",
       "      <td>0</td>\n",
       "      <td>0</td>\n",
       "      <td>0</td>\n",
       "      <td>0</td>\n",
       "    </tr>\n",
       "    <tr>\n",
       "      <th>3</th>\n",
       "      <td>2018</td>\n",
       "      <td>A505</td>\n",
       "      <td>1.043816e+06</td>\n",
       "      <td>6302952.090</td>\n",
       "      <td>Bonne</td>\n",
       "      <td>Agence immobilière</td>\n",
       "      <td>Services a</td>\n",
       "      <td>060883801</td>\n",
       "      <td>7.269413</td>\n",
       "      <td>43.741919</td>\n",
       "      <td>...</td>\n",
       "      <td>0</td>\n",
       "      <td>0</td>\n",
       "      <td>0</td>\n",
       "      <td>0</td>\n",
       "      <td>1</td>\n",
       "      <td>0</td>\n",
       "      <td>0</td>\n",
       "      <td>0</td>\n",
       "      <td>0</td>\n",
       "      <td>0</td>\n",
       "    </tr>\n",
       "    <tr>\n",
       "      <th>4</th>\n",
       "      <td>2018</td>\n",
       "      <td>A505</td>\n",
       "      <td>1.042950e+06</td>\n",
       "      <td>6302950.000</td>\n",
       "      <td>Mauvaise</td>\n",
       "      <td>Agence immobilière</td>\n",
       "      <td>Services a</td>\n",
       "      <td>060883801</td>\n",
       "      <td>7.258674</td>\n",
       "      <td>43.742321</td>\n",
       "      <td>...</td>\n",
       "      <td>0</td>\n",
       "      <td>0</td>\n",
       "      <td>0</td>\n",
       "      <td>0</td>\n",
       "      <td>1</td>\n",
       "      <td>0</td>\n",
       "      <td>0</td>\n",
       "      <td>0</td>\n",
       "      <td>0</td>\n",
       "      <td>0</td>\n",
       "    </tr>\n",
       "  </tbody>\n",
       "</table>\n",
       "<p>5 rows × 26 columns</p>\n",
       "</div>"
      ],
      "text/plain": [
       "     AN TYPEQU     LAMBERT_X    LAMBERT_Y QUALITE_XY  \\\n",
       "0  2018   F106  1.048111e+06  6301117.467      Bonne   \n",
       "1  2018   D233  1.044554e+06  6302719.450      Bonne   \n",
       "2  2018   G104  1.044550e+06  6302750.000      Bonne   \n",
       "3  2018   A505  1.043816e+06  6302952.090      Bonne   \n",
       "4  2018   A505  1.042950e+06  6302950.000   Mauvaise   \n",
       "\n",
       "                               LAB      CLASSE    iris_id  longitude  \\\n",
       "0                 Centre équestre       Sport  060880801   7.321389   \n",
       "1  Masseur kinésithérapeute D235       Santé  060881005   7.278395   \n",
       "2          Information touristique    Tourisme  060881005   7.278369   \n",
       "3              Agence immobilière  Services a  060883801   7.269413   \n",
       "4              Agence immobilière  Services a  060883801   7.258674   \n",
       "\n",
       "    latitude  ...  (LAB, is_socio_med)  (LAB, is_tourist)  \\\n",
       "0  43.723333  ...                    0                  0   \n",
       "1  43.739469  ...                    0                  0   \n",
       "2  43.739746  ...                    0                  1   \n",
       "3  43.741919  ...                    0                  0   \n",
       "4  43.742321  ...                    0                  0   \n",
       "\n",
       "   (LAB, is_general_service)  (LAB, is_commerce)  (LAB, is_commerce_spec)  \\\n",
       "0                          0                   0                        0   \n",
       "1                          0                   0                        0   \n",
       "2                          0                   0                        0   \n",
       "3                          0                   0                        1   \n",
       "4                          0                   0                        1   \n",
       "\n",
       "   (LAB, is_grande_surface)  (LAB, is_high_educ)  (LAB, is_schools)  \\\n",
       "0                         0                    0                  0   \n",
       "1                         0                    0                  0   \n",
       "2                         0                    0                  0   \n",
       "3                         0                    0                  0   \n",
       "4                         0                    0                  0   \n",
       "\n",
       "   (LAB, is_transport)  iris_with_t1  \n",
       "0                    0             0  \n",
       "1                    0             0  \n",
       "2                    0             0  \n",
       "3                    0             0  \n",
       "4                    0             0  \n",
       "\n",
       "[5 rows x 26 columns]"
      ]
     },
     "execution_count": 75,
     "metadata": {},
     "output_type": "execute_result"
    }
   ],
   "source": [
    "df.head()"
   ]
  },
  {
   "cell_type": "markdown",
   "id": "ae2f2c90",
   "metadata": {},
   "source": [
    "## Dataset with important features"
   ]
  },
  {
   "cell_type": "code",
   "execution_count": 76,
   "id": "c01449e4",
   "metadata": {},
   "outputs": [],
   "source": [
    "list(df.columns);"
   ]
  },
  {
   "cell_type": "code",
   "execution_count": 77,
   "id": "565e627f",
   "metadata": {},
   "outputs": [],
   "source": [
    "imp_feat = [ 'iris_id','iris_with_t1','AN', 'longitude', 'latitude',\n",
    "            ('LAB', 'is_sport'), ('LAB', 'is_leasure'), ('LAB', 'is_medical'), ('LAB', 'is_socio_med'),\n",
    "            ('LAB', 'is_tourist'), ('LAB', 'is_general_service'), ('LAB', 'is_commerce'), ('LAB', 'is_commerce_spec'),\n",
    "            ('LAB', 'is_grande_surface'), ('LAB', 'is_high_educ'), ('LAB', 'is_schools'), ('LAB', 'is_transport'),\n",
    "            'Q_XY_acceptable', 'Q_XY_bonne', 'Q_XY_mauvaise', 'LAB', 'CLASSE']"
   ]
  },
  {
   "cell_type": "code",
   "execution_count": 78,
   "id": "4cc2f1f0",
   "metadata": {},
   "outputs": [
    {
     "name": "stderr",
     "output_type": "stream",
     "text": [
      "/home/mchistya/.pyenv/versions/3.8.6/envs/trampact/lib/python3.8/site-packages/numpy/core/_asarray.py:102: VisibleDeprecationWarning: Creating an ndarray from ragged nested sequences (which is a list-or-tuple of lists-or-tuples-or ndarrays with different lengths or shapes) is deprecated. If you meant to do this, you must specify 'dtype=object' when creating the ndarray.\n",
      "  return array(a, dtype, copy=False, order=order)\n"
     ]
    }
   ],
   "source": [
    "df_main = df[imp_feat]"
   ]
  },
  {
   "cell_type": "markdown",
   "id": "7874916d",
   "metadata": {},
   "source": [
    "## Main datasert"
   ]
  },
  {
   "cell_type": "code",
   "execution_count": 79,
   "id": "3ba77ac0",
   "metadata": {},
   "outputs": [
    {
     "data": {
      "text/html": [
       "<div>\n",
       "<style scoped>\n",
       "    .dataframe tbody tr th:only-of-type {\n",
       "        vertical-align: middle;\n",
       "    }\n",
       "\n",
       "    .dataframe tbody tr th {\n",
       "        vertical-align: top;\n",
       "    }\n",
       "\n",
       "    .dataframe thead th {\n",
       "        text-align: right;\n",
       "    }\n",
       "</style>\n",
       "<table border=\"1\" class=\"dataframe\">\n",
       "  <thead>\n",
       "    <tr style=\"text-align: right;\">\n",
       "      <th></th>\n",
       "      <th>iris_id</th>\n",
       "      <th>iris_with_t1</th>\n",
       "      <th>AN</th>\n",
       "      <th>longitude</th>\n",
       "      <th>latitude</th>\n",
       "      <th>(LAB, is_sport)</th>\n",
       "      <th>(LAB, is_leasure)</th>\n",
       "      <th>(LAB, is_medical)</th>\n",
       "      <th>(LAB, is_socio_med)</th>\n",
       "      <th>(LAB, is_tourist)</th>\n",
       "      <th>...</th>\n",
       "      <th>(LAB, is_commerce_spec)</th>\n",
       "      <th>(LAB, is_grande_surface)</th>\n",
       "      <th>(LAB, is_high_educ)</th>\n",
       "      <th>(LAB, is_schools)</th>\n",
       "      <th>(LAB, is_transport)</th>\n",
       "      <th>Q_XY_acceptable</th>\n",
       "      <th>Q_XY_bonne</th>\n",
       "      <th>Q_XY_mauvaise</th>\n",
       "      <th>LAB</th>\n",
       "      <th>CLASSE</th>\n",
       "    </tr>\n",
       "  </thead>\n",
       "  <tbody>\n",
       "    <tr>\n",
       "      <th>0</th>\n",
       "      <td>060880801</td>\n",
       "      <td>0</td>\n",
       "      <td>2018</td>\n",
       "      <td>7.321389</td>\n",
       "      <td>43.723333</td>\n",
       "      <td>0</td>\n",
       "      <td>1</td>\n",
       "      <td>0</td>\n",
       "      <td>0</td>\n",
       "      <td>0</td>\n",
       "      <td>...</td>\n",
       "      <td>0</td>\n",
       "      <td>0</td>\n",
       "      <td>0</td>\n",
       "      <td>0</td>\n",
       "      <td>0</td>\n",
       "      <td>0.0</td>\n",
       "      <td>1.0</td>\n",
       "      <td>0.0</td>\n",
       "      <td>Centre équestre</td>\n",
       "      <td>Sport</td>\n",
       "    </tr>\n",
       "    <tr>\n",
       "      <th>1</th>\n",
       "      <td>060881005</td>\n",
       "      <td>0</td>\n",
       "      <td>2018</td>\n",
       "      <td>7.278395</td>\n",
       "      <td>43.739469</td>\n",
       "      <td>0</td>\n",
       "      <td>0</td>\n",
       "      <td>1</td>\n",
       "      <td>0</td>\n",
       "      <td>0</td>\n",
       "      <td>...</td>\n",
       "      <td>0</td>\n",
       "      <td>0</td>\n",
       "      <td>0</td>\n",
       "      <td>0</td>\n",
       "      <td>0</td>\n",
       "      <td>0.0</td>\n",
       "      <td>1.0</td>\n",
       "      <td>0.0</td>\n",
       "      <td>Masseur kinésithérapeute D235</td>\n",
       "      <td>Santé</td>\n",
       "    </tr>\n",
       "    <tr>\n",
       "      <th>2</th>\n",
       "      <td>060881005</td>\n",
       "      <td>0</td>\n",
       "      <td>2018</td>\n",
       "      <td>7.278369</td>\n",
       "      <td>43.739746</td>\n",
       "      <td>0</td>\n",
       "      <td>0</td>\n",
       "      <td>0</td>\n",
       "      <td>0</td>\n",
       "      <td>1</td>\n",
       "      <td>...</td>\n",
       "      <td>0</td>\n",
       "      <td>0</td>\n",
       "      <td>0</td>\n",
       "      <td>0</td>\n",
       "      <td>0</td>\n",
       "      <td>0.0</td>\n",
       "      <td>1.0</td>\n",
       "      <td>0.0</td>\n",
       "      <td>Information touristique</td>\n",
       "      <td>Tourisme</td>\n",
       "    </tr>\n",
       "    <tr>\n",
       "      <th>3</th>\n",
       "      <td>060883801</td>\n",
       "      <td>0</td>\n",
       "      <td>2018</td>\n",
       "      <td>7.269413</td>\n",
       "      <td>43.741919</td>\n",
       "      <td>0</td>\n",
       "      <td>0</td>\n",
       "      <td>0</td>\n",
       "      <td>0</td>\n",
       "      <td>0</td>\n",
       "      <td>...</td>\n",
       "      <td>1</td>\n",
       "      <td>0</td>\n",
       "      <td>0</td>\n",
       "      <td>0</td>\n",
       "      <td>0</td>\n",
       "      <td>0.0</td>\n",
       "      <td>1.0</td>\n",
       "      <td>0.0</td>\n",
       "      <td>Agence immobilière</td>\n",
       "      <td>Services a</td>\n",
       "    </tr>\n",
       "    <tr>\n",
       "      <th>4</th>\n",
       "      <td>060883801</td>\n",
       "      <td>0</td>\n",
       "      <td>2018</td>\n",
       "      <td>7.258674</td>\n",
       "      <td>43.742321</td>\n",
       "      <td>0</td>\n",
       "      <td>0</td>\n",
       "      <td>0</td>\n",
       "      <td>0</td>\n",
       "      <td>0</td>\n",
       "      <td>...</td>\n",
       "      <td>1</td>\n",
       "      <td>0</td>\n",
       "      <td>0</td>\n",
       "      <td>0</td>\n",
       "      <td>0</td>\n",
       "      <td>0.0</td>\n",
       "      <td>0.0</td>\n",
       "      <td>1.0</td>\n",
       "      <td>Agence immobilière</td>\n",
       "      <td>Services a</td>\n",
       "    </tr>\n",
       "  </tbody>\n",
       "</table>\n",
       "<p>5 rows × 22 columns</p>\n",
       "</div>"
      ],
      "text/plain": [
       "     iris_id  iris_with_t1    AN  longitude   latitude  (LAB, is_sport)  \\\n",
       "0  060880801             0  2018   7.321389  43.723333                0   \n",
       "1  060881005             0  2018   7.278395  43.739469                0   \n",
       "2  060881005             0  2018   7.278369  43.739746                0   \n",
       "3  060883801             0  2018   7.269413  43.741919                0   \n",
       "4  060883801             0  2018   7.258674  43.742321                0   \n",
       "\n",
       "   (LAB, is_leasure)  (LAB, is_medical)  (LAB, is_socio_med)  \\\n",
       "0                  1                  0                    0   \n",
       "1                  0                  1                    0   \n",
       "2                  0                  0                    0   \n",
       "3                  0                  0                    0   \n",
       "4                  0                  0                    0   \n",
       "\n",
       "   (LAB, is_tourist)  ...  (LAB, is_commerce_spec)  (LAB, is_grande_surface)  \\\n",
       "0                  0  ...                        0                         0   \n",
       "1                  0  ...                        0                         0   \n",
       "2                  1  ...                        0                         0   \n",
       "3                  0  ...                        1                         0   \n",
       "4                  0  ...                        1                         0   \n",
       "\n",
       "   (LAB, is_high_educ)  (LAB, is_schools)  (LAB, is_transport)  \\\n",
       "0                    0                  0                    0   \n",
       "1                    0                  0                    0   \n",
       "2                    0                  0                    0   \n",
       "3                    0                  0                    0   \n",
       "4                    0                  0                    0   \n",
       "\n",
       "   Q_XY_acceptable  Q_XY_bonne  Q_XY_mauvaise  \\\n",
       "0              0.0         1.0            0.0   \n",
       "1              0.0         1.0            0.0   \n",
       "2              0.0         1.0            0.0   \n",
       "3              0.0         1.0            0.0   \n",
       "4              0.0         0.0            1.0   \n",
       "\n",
       "                               LAB      CLASSE  \n",
       "0                 Centre équestre       Sport  \n",
       "1  Masseur kinésithérapeute D235       Santé  \n",
       "2          Information touristique    Tourisme  \n",
       "3              Agence immobilière  Services a  \n",
       "4              Agence immobilière  Services a  \n",
       "\n",
       "[5 rows x 22 columns]"
      ]
     },
     "execution_count": 79,
     "metadata": {},
     "output_type": "execute_result"
    }
   ],
   "source": [
    "df_main.head()"
   ]
  },
  {
   "cell_type": "code",
   "execution_count": 80,
   "id": "8e53e010",
   "metadata": {},
   "outputs": [
    {
     "data": {
      "text/plain": [
       "(11857, 22)"
      ]
     },
     "execution_count": 80,
     "metadata": {},
     "output_type": "execute_result"
    }
   ],
   "source": [
    "df_main.shape"
   ]
  },
  {
   "cell_type": "code",
   "execution_count": 81,
   "id": "f63484b6",
   "metadata": {},
   "outputs": [],
   "source": [
    "df_main.to_csv('../raw_data/bpe_t1_clean.csv')"
   ]
  },
  {
   "cell_type": "markdown",
   "id": "39275c5c",
   "metadata": {},
   "source": [
    "### Import dataset"
   ]
  },
  {
   "cell_type": "code",
   "execution_count": 82,
   "id": "b1e41de6",
   "metadata": {},
   "outputs": [],
   "source": [
    "df_main.to_csv('../raw_data/bpe_t1_clean.csv')"
   ]
  },
  {
   "cell_type": "markdown",
   "id": "a00d058d",
   "metadata": {},
   "source": [
    "### Aggregation par iris de different services a la population"
   ]
  },
  {
   "cell_type": "code",
   "execution_count": 83,
   "id": "300c54e2",
   "metadata": {},
   "outputs": [],
   "source": [
    "def count_sport(cat):\n",
    "    return cat.map(lambda x: 1 if x in  cat_sport else 0).sum()\n",
    "\n",
    "def count_leasure(cat):\n",
    "    return cat.map(lambda x: 1 if x in  cat_leasure else 0).sum()\n",
    "\n",
    "def count_medical(cat):\n",
    "    return cat.map(lambda x: 1 if x in  cat_medical else 0).sum()\n",
    "\n",
    "def count_socio_med(cat):\n",
    "    return cat.map(lambda x: 1 if x in  cat_socio_med else 0).sum()\n",
    "\n",
    "def count_tourist(cat):\n",
    "    return cat.map(lambda x: 1 if x in  cat_tourist else 0).sum()\n",
    "\n",
    "def count_general_service(cat):\n",
    "    return cat.map(lambda x: 1 if x in  cat_general_service else 0).sum()\n",
    "\n",
    "def count_commerce(cat):\n",
    "    return cat.map(lambda x: 1 if x in  cat_commerce else 0).sum()\n",
    "\n",
    "def count_commerce_spec(cat):\n",
    "    return cat.map(lambda x: 1 if x in  cat_commertce_x else 0).sum()\n",
    "\n",
    "def count_grande_surface(cat):\n",
    "    return cat.map(lambda x: 1 if x in  cat_grande_surface else 0).sum()\n",
    "\n",
    "def count_high_educ(cat):\n",
    "    return cat.map(lambda x: 1 if x in  cat_high_educ else 0).sum()\n",
    "\n",
    "def count_schools(cat):\n",
    "    return cat.map(lambda x: 1 if x in  cat_schools else 0).sum()\n",
    "\n",
    "def count_transport(cat):\n",
    "    return cat.map(lambda x: 1 if x in  cat_transport else 0).sum()\n",
    "#def count_iris_t1(cat):\n",
    "#    return cat.map(lambda x: 1 if x in list_irist1 esle 0).mean()"
   ]
  },
  {
   "cell_type": "code",
   "execution_count": 84,
   "id": "40675822",
   "metadata": {},
   "outputs": [
    {
     "data": {
      "text/html": [
       "<div>\n",
       "<style scoped>\n",
       "    .dataframe tbody tr th:only-of-type {\n",
       "        vertical-align: middle;\n",
       "    }\n",
       "\n",
       "    .dataframe tbody tr th {\n",
       "        vertical-align: top;\n",
       "    }\n",
       "\n",
       "    .dataframe thead tr th {\n",
       "        text-align: left;\n",
       "    }\n",
       "\n",
       "    .dataframe thead tr:last-of-type th {\n",
       "        text-align: right;\n",
       "    }\n",
       "</style>\n",
       "<table border=\"1\" class=\"dataframe\">\n",
       "  <thead>\n",
       "    <tr>\n",
       "      <th></th>\n",
       "      <th colspan=\"12\" halign=\"left\">LAB</th>\n",
       "    </tr>\n",
       "    <tr>\n",
       "      <th></th>\n",
       "      <th>count_sport</th>\n",
       "      <th>count_leasure</th>\n",
       "      <th>count_medical</th>\n",
       "      <th>count_socio_med</th>\n",
       "      <th>count_tourist</th>\n",
       "      <th>count_general_service</th>\n",
       "      <th>count_commerce</th>\n",
       "      <th>count_commerce_spec</th>\n",
       "      <th>count_grande_surface</th>\n",
       "      <th>count_high_educ</th>\n",
       "      <th>count_schools</th>\n",
       "      <th>count_transport</th>\n",
       "    </tr>\n",
       "    <tr>\n",
       "      <th>iris_id</th>\n",
       "      <th></th>\n",
       "      <th></th>\n",
       "      <th></th>\n",
       "      <th></th>\n",
       "      <th></th>\n",
       "      <th></th>\n",
       "      <th></th>\n",
       "      <th></th>\n",
       "      <th></th>\n",
       "      <th></th>\n",
       "      <th></th>\n",
       "      <th></th>\n",
       "    </tr>\n",
       "  </thead>\n",
       "  <tbody>\n",
       "    <tr>\n",
       "      <th>060880101</th>\n",
       "      <td>0</td>\n",
       "      <td>1</td>\n",
       "      <td>27</td>\n",
       "      <td>1</td>\n",
       "      <td>7</td>\n",
       "      <td>2</td>\n",
       "      <td>35</td>\n",
       "      <td>190</td>\n",
       "      <td>6</td>\n",
       "      <td>2</td>\n",
       "      <td>4</td>\n",
       "      <td>1</td>\n",
       "    </tr>\n",
       "    <tr>\n",
       "      <th>060880102</th>\n",
       "      <td>0</td>\n",
       "      <td>1</td>\n",
       "      <td>17</td>\n",
       "      <td>0</td>\n",
       "      <td>2</td>\n",
       "      <td>0</td>\n",
       "      <td>40</td>\n",
       "      <td>226</td>\n",
       "      <td>2</td>\n",
       "      <td>0</td>\n",
       "      <td>0</td>\n",
       "      <td>1</td>\n",
       "    </tr>\n",
       "    <tr>\n",
       "      <th>060880103</th>\n",
       "      <td>7</td>\n",
       "      <td>0</td>\n",
       "      <td>17</td>\n",
       "      <td>1</td>\n",
       "      <td>3</td>\n",
       "      <td>0</td>\n",
       "      <td>37</td>\n",
       "      <td>115</td>\n",
       "      <td>3</td>\n",
       "      <td>0</td>\n",
       "      <td>2</td>\n",
       "      <td>2</td>\n",
       "    </tr>\n",
       "    <tr>\n",
       "      <th>060880201</th>\n",
       "      <td>2</td>\n",
       "      <td>2</td>\n",
       "      <td>68</td>\n",
       "      <td>1</td>\n",
       "      <td>4</td>\n",
       "      <td>1</td>\n",
       "      <td>50</td>\n",
       "      <td>121</td>\n",
       "      <td>11</td>\n",
       "      <td>0</td>\n",
       "      <td>6</td>\n",
       "      <td>7</td>\n",
       "    </tr>\n",
       "    <tr>\n",
       "      <th>060880202</th>\n",
       "      <td>1</td>\n",
       "      <td>0</td>\n",
       "      <td>21</td>\n",
       "      <td>0</td>\n",
       "      <td>8</td>\n",
       "      <td>1</td>\n",
       "      <td>20</td>\n",
       "      <td>82</td>\n",
       "      <td>10</td>\n",
       "      <td>2</td>\n",
       "      <td>3</td>\n",
       "      <td>7</td>\n",
       "    </tr>\n",
       "    <tr>\n",
       "      <th>...</th>\n",
       "      <td>...</td>\n",
       "      <td>...</td>\n",
       "      <td>...</td>\n",
       "      <td>...</td>\n",
       "      <td>...</td>\n",
       "      <td>...</td>\n",
       "      <td>...</td>\n",
       "      <td>...</td>\n",
       "      <td>...</td>\n",
       "      <td>...</td>\n",
       "      <td>...</td>\n",
       "      <td>...</td>\n",
       "    </tr>\n",
       "    <tr>\n",
       "      <th>060883301</th>\n",
       "      <td>0</td>\n",
       "      <td>0</td>\n",
       "      <td>0</td>\n",
       "      <td>0</td>\n",
       "      <td>0</td>\n",
       "      <td>0</td>\n",
       "      <td>0</td>\n",
       "      <td>0</td>\n",
       "      <td>0</td>\n",
       "      <td>0</td>\n",
       "      <td>1</td>\n",
       "      <td>0</td>\n",
       "    </tr>\n",
       "    <tr>\n",
       "      <th>060883501</th>\n",
       "      <td>0</td>\n",
       "      <td>0</td>\n",
       "      <td>0</td>\n",
       "      <td>0</td>\n",
       "      <td>0</td>\n",
       "      <td>0</td>\n",
       "      <td>0</td>\n",
       "      <td>0</td>\n",
       "      <td>0</td>\n",
       "      <td>0</td>\n",
       "      <td>1</td>\n",
       "      <td>0</td>\n",
       "    </tr>\n",
       "    <tr>\n",
       "      <th>060883701</th>\n",
       "      <td>0</td>\n",
       "      <td>0</td>\n",
       "      <td>1</td>\n",
       "      <td>1</td>\n",
       "      <td>0</td>\n",
       "      <td>0</td>\n",
       "      <td>0</td>\n",
       "      <td>0</td>\n",
       "      <td>0</td>\n",
       "      <td>0</td>\n",
       "      <td>2</td>\n",
       "      <td>0</td>\n",
       "    </tr>\n",
       "    <tr>\n",
       "      <th>060883801</th>\n",
       "      <td>0</td>\n",
       "      <td>1</td>\n",
       "      <td>16</td>\n",
       "      <td>1</td>\n",
       "      <td>2</td>\n",
       "      <td>0</td>\n",
       "      <td>3</td>\n",
       "      <td>31</td>\n",
       "      <td>1</td>\n",
       "      <td>0</td>\n",
       "      <td>7</td>\n",
       "      <td>6</td>\n",
       "    </tr>\n",
       "    <tr>\n",
       "      <th>061590101</th>\n",
       "      <td>1</td>\n",
       "      <td>0</td>\n",
       "      <td>0</td>\n",
       "      <td>0</td>\n",
       "      <td>0</td>\n",
       "      <td>0</td>\n",
       "      <td>0</td>\n",
       "      <td>0</td>\n",
       "      <td>1</td>\n",
       "      <td>0</td>\n",
       "      <td>0</td>\n",
       "      <td>0</td>\n",
       "    </tr>\n",
       "  </tbody>\n",
       "</table>\n",
       "<p>110 rows × 12 columns</p>\n",
       "</div>"
      ],
      "text/plain": [
       "                  LAB                                              \\\n",
       "          count_sport count_leasure count_medical count_socio_med   \n",
       "iris_id                                                             \n",
       "060880101           0             1            27               1   \n",
       "060880102           0             1            17               0   \n",
       "060880103           7             0            17               1   \n",
       "060880201           2             2            68               1   \n",
       "060880202           1             0            21               0   \n",
       "...               ...           ...           ...             ...   \n",
       "060883301           0             0             0               0   \n",
       "060883501           0             0             0               0   \n",
       "060883701           0             0             1               1   \n",
       "060883801           0             1            16               1   \n",
       "061590101           1             0             0               0   \n",
       "\n",
       "                                                              \\\n",
       "          count_tourist count_general_service count_commerce   \n",
       "iris_id                                                        \n",
       "060880101             7                     2             35   \n",
       "060880102             2                     0             40   \n",
       "060880103             3                     0             37   \n",
       "060880201             4                     1             50   \n",
       "060880202             8                     1             20   \n",
       "...                 ...                   ...            ...   \n",
       "060883301             0                     0              0   \n",
       "060883501             0                     0              0   \n",
       "060883701             0                     0              0   \n",
       "060883801             2                     0              3   \n",
       "061590101             0                     0              0   \n",
       "\n",
       "                                                                    \\\n",
       "          count_commerce_spec count_grande_surface count_high_educ   \n",
       "iris_id                                                              \n",
       "060880101                 190                    6               2   \n",
       "060880102                 226                    2               0   \n",
       "060880103                 115                    3               0   \n",
       "060880201                 121                   11               0   \n",
       "060880202                  82                   10               2   \n",
       "...                       ...                  ...             ...   \n",
       "060883301                   0                    0               0   \n",
       "060883501                   0                    0               0   \n",
       "060883701                   0                    0               0   \n",
       "060883801                  31                    1               0   \n",
       "061590101                   0                    1               0   \n",
       "\n",
       "                                         \n",
       "          count_schools count_transport  \n",
       "iris_id                                  \n",
       "060880101             4               1  \n",
       "060880102             0               1  \n",
       "060880103             2               2  \n",
       "060880201             6               7  \n",
       "060880202             3               7  \n",
       "...                 ...             ...  \n",
       "060883301             1               0  \n",
       "060883501             1               0  \n",
       "060883701             2               0  \n",
       "060883801             7               6  \n",
       "061590101             0               0  \n",
       "\n",
       "[110 rows x 12 columns]"
      ]
     },
     "execution_count": 84,
     "metadata": {},
     "output_type": "execute_result"
    }
   ],
   "source": [
    "df_main_agg = df_main.groupby('iris_id').agg({\n",
    "    'LAB':[count_sport, count_leasure, count_medical, count_socio_med, \n",
    "           count_tourist,count_general_service,count_commerce,count_commerce_spec,\n",
    "           count_grande_surface,count_high_educ,count_schools,count_transport]\n",
    "})\n",
    "df_main_agg"
   ]
  },
  {
   "cell_type": "code",
   "execution_count": 85,
   "id": "3f143007",
   "metadata": {},
   "outputs": [
    {
     "data": {
      "text/plain": [
       "Index(['060880101', '060880102', '060880103', '060880201', '060880202',\n",
       "       '060880203', '060880204', '060880205', '060880206', '060880301',\n",
       "       ...\n",
       "       '060882805', '060882902', '060883002', '060883101', '060883102',\n",
       "       '060883301', '060883501', '060883701', '060883801', '061590101'],\n",
       "      dtype='object', name='iris_id', length=110)"
      ]
     },
     "execution_count": 85,
     "metadata": {},
     "output_type": "execute_result"
    }
   ],
   "source": [
    "df_main_agg.index"
   ]
  },
  {
   "cell_type": "code",
   "execution_count": 86,
   "id": "00c1cadb",
   "metadata": {},
   "outputs": [],
   "source": [
    "#df_main_agg['iris_with_t1']=\n",
    "df_main_agg['iris_with_t1']=df_main_agg.index.map(lambda x: 1 if x in list_irist1 else 0)"
   ]
  },
  {
   "cell_type": "markdown",
   "id": "0f9bc100",
   "metadata": {},
   "source": [
    "### Aggregated main dataset "
   ]
  },
  {
   "cell_type": "code",
   "execution_count": 87,
   "id": "ecac2177",
   "metadata": {},
   "outputs": [
    {
     "data": {
      "text/html": [
       "<div>\n",
       "<style scoped>\n",
       "    .dataframe tbody tr th:only-of-type {\n",
       "        vertical-align: middle;\n",
       "    }\n",
       "\n",
       "    .dataframe tbody tr th {\n",
       "        vertical-align: top;\n",
       "    }\n",
       "\n",
       "    .dataframe thead tr th {\n",
       "        text-align: left;\n",
       "    }\n",
       "\n",
       "    .dataframe thead tr:last-of-type th {\n",
       "        text-align: right;\n",
       "    }\n",
       "</style>\n",
       "<table border=\"1\" class=\"dataframe\">\n",
       "  <thead>\n",
       "    <tr>\n",
       "      <th></th>\n",
       "      <th colspan=\"12\" halign=\"left\">LAB</th>\n",
       "      <th>iris_with_t1</th>\n",
       "    </tr>\n",
       "    <tr>\n",
       "      <th></th>\n",
       "      <th>count_sport</th>\n",
       "      <th>count_leasure</th>\n",
       "      <th>count_medical</th>\n",
       "      <th>count_socio_med</th>\n",
       "      <th>count_tourist</th>\n",
       "      <th>count_general_service</th>\n",
       "      <th>count_commerce</th>\n",
       "      <th>count_commerce_spec</th>\n",
       "      <th>count_grande_surface</th>\n",
       "      <th>count_high_educ</th>\n",
       "      <th>count_schools</th>\n",
       "      <th>count_transport</th>\n",
       "      <th></th>\n",
       "    </tr>\n",
       "    <tr>\n",
       "      <th>iris_id</th>\n",
       "      <th></th>\n",
       "      <th></th>\n",
       "      <th></th>\n",
       "      <th></th>\n",
       "      <th></th>\n",
       "      <th></th>\n",
       "      <th></th>\n",
       "      <th></th>\n",
       "      <th></th>\n",
       "      <th></th>\n",
       "      <th></th>\n",
       "      <th></th>\n",
       "      <th></th>\n",
       "    </tr>\n",
       "  </thead>\n",
       "  <tbody>\n",
       "    <tr>\n",
       "      <th>060880101</th>\n",
       "      <td>0</td>\n",
       "      <td>1</td>\n",
       "      <td>27</td>\n",
       "      <td>1</td>\n",
       "      <td>7</td>\n",
       "      <td>2</td>\n",
       "      <td>35</td>\n",
       "      <td>190</td>\n",
       "      <td>6</td>\n",
       "      <td>2</td>\n",
       "      <td>4</td>\n",
       "      <td>1</td>\n",
       "      <td>0</td>\n",
       "    </tr>\n",
       "    <tr>\n",
       "      <th>060880102</th>\n",
       "      <td>0</td>\n",
       "      <td>1</td>\n",
       "      <td>17</td>\n",
       "      <td>0</td>\n",
       "      <td>2</td>\n",
       "      <td>0</td>\n",
       "      <td>40</td>\n",
       "      <td>226</td>\n",
       "      <td>2</td>\n",
       "      <td>0</td>\n",
       "      <td>0</td>\n",
       "      <td>1</td>\n",
       "      <td>1</td>\n",
       "    </tr>\n",
       "    <tr>\n",
       "      <th>060880103</th>\n",
       "      <td>7</td>\n",
       "      <td>0</td>\n",
       "      <td>17</td>\n",
       "      <td>1</td>\n",
       "      <td>3</td>\n",
       "      <td>0</td>\n",
       "      <td>37</td>\n",
       "      <td>115</td>\n",
       "      <td>3</td>\n",
       "      <td>0</td>\n",
       "      <td>2</td>\n",
       "      <td>2</td>\n",
       "      <td>1</td>\n",
       "    </tr>\n",
       "    <tr>\n",
       "      <th>060880201</th>\n",
       "      <td>2</td>\n",
       "      <td>2</td>\n",
       "      <td>68</td>\n",
       "      <td>1</td>\n",
       "      <td>4</td>\n",
       "      <td>1</td>\n",
       "      <td>50</td>\n",
       "      <td>121</td>\n",
       "      <td>11</td>\n",
       "      <td>0</td>\n",
       "      <td>6</td>\n",
       "      <td>7</td>\n",
       "      <td>1</td>\n",
       "    </tr>\n",
       "    <tr>\n",
       "      <th>060880202</th>\n",
       "      <td>1</td>\n",
       "      <td>0</td>\n",
       "      <td>21</td>\n",
       "      <td>0</td>\n",
       "      <td>8</td>\n",
       "      <td>1</td>\n",
       "      <td>20</td>\n",
       "      <td>82</td>\n",
       "      <td>10</td>\n",
       "      <td>2</td>\n",
       "      <td>3</td>\n",
       "      <td>7</td>\n",
       "      <td>0</td>\n",
       "    </tr>\n",
       "    <tr>\n",
       "      <th>060880203</th>\n",
       "      <td>0</td>\n",
       "      <td>0</td>\n",
       "      <td>33</td>\n",
       "      <td>0</td>\n",
       "      <td>4</td>\n",
       "      <td>0</td>\n",
       "      <td>20</td>\n",
       "      <td>116</td>\n",
       "      <td>9</td>\n",
       "      <td>1</td>\n",
       "      <td>11</td>\n",
       "      <td>2</td>\n",
       "      <td>0</td>\n",
       "    </tr>\n",
       "  </tbody>\n",
       "</table>\n",
       "</div>"
      ],
      "text/plain": [
       "                  LAB                                              \\\n",
       "          count_sport count_leasure count_medical count_socio_med   \n",
       "iris_id                                                             \n",
       "060880101           0             1            27               1   \n",
       "060880102           0             1            17               0   \n",
       "060880103           7             0            17               1   \n",
       "060880201           2             2            68               1   \n",
       "060880202           1             0            21               0   \n",
       "060880203           0             0            33               0   \n",
       "\n",
       "                                                              \\\n",
       "          count_tourist count_general_service count_commerce   \n",
       "iris_id                                                        \n",
       "060880101             7                     2             35   \n",
       "060880102             2                     0             40   \n",
       "060880103             3                     0             37   \n",
       "060880201             4                     1             50   \n",
       "060880202             8                     1             20   \n",
       "060880203             4                     0             20   \n",
       "\n",
       "                                                                    \\\n",
       "          count_commerce_spec count_grande_surface count_high_educ   \n",
       "iris_id                                                              \n",
       "060880101                 190                    6               2   \n",
       "060880102                 226                    2               0   \n",
       "060880103                 115                    3               0   \n",
       "060880201                 121                   11               0   \n",
       "060880202                  82                   10               2   \n",
       "060880203                 116                    9               1   \n",
       "\n",
       "                                        iris_with_t1  \n",
       "          count_schools count_transport               \n",
       "iris_id                                               \n",
       "060880101             4               1            0  \n",
       "060880102             0               1            1  \n",
       "060880103             2               2            1  \n",
       "060880201             6               7            1  \n",
       "060880202             3               7            0  \n",
       "060880203            11               2            0  "
      ]
     },
     "execution_count": 87,
     "metadata": {},
     "output_type": "execute_result"
    }
   ],
   "source": [
    "df_main_agg.head(6)"
   ]
  },
  {
   "cell_type": "code",
   "execution_count": 88,
   "id": "2290050b",
   "metadata": {},
   "outputs": [
    {
     "data": {
      "text/plain": [
       "(110, 13)"
      ]
     },
     "execution_count": 88,
     "metadata": {},
     "output_type": "execute_result"
    }
   ],
   "source": [
    "df_main_agg.shape"
   ]
  },
  {
   "cell_type": "code",
   "execution_count": 89,
   "id": "09aa74c1",
   "metadata": {},
   "outputs": [],
   "source": [
    "df_main_agg.to_csv('../raw_data/bpe_t1_agg_iris_clean.csv')"
   ]
  },
  {
   "cell_type": "markdown",
   "id": "1213e006",
   "metadata": {},
   "source": [
    "# second dataset T2"
   ]
  },
  {
   "cell_type": "code",
   "execution_count": 90,
   "id": "14de548c",
   "metadata": {},
   "outputs": [],
   "source": [
    "data2 = pd.read_csv('../raw_data/BPE_T2.csv')"
   ]
  },
  {
   "cell_type": "code",
   "execution_count": 91,
   "id": "3ba89cd2",
   "metadata": {},
   "outputs": [
    {
     "data": {
      "text/html": [
       "<div>\n",
       "<style scoped>\n",
       "    .dataframe tbody tr th:only-of-type {\n",
       "        vertical-align: middle;\n",
       "    }\n",
       "\n",
       "    .dataframe tbody tr th {\n",
       "        vertical-align: top;\n",
       "    }\n",
       "\n",
       "    .dataframe thead th {\n",
       "        text-align: right;\n",
       "    }\n",
       "</style>\n",
       "<table border=\"1\" class=\"dataframe\">\n",
       "  <thead>\n",
       "    <tr style=\"text-align: right;\">\n",
       "      <th></th>\n",
       "      <th>fid</th>\n",
       "      <th>REG</th>\n",
       "      <th>DEP</th>\n",
       "      <th>DEPCOM</th>\n",
       "      <th>DCIRIS</th>\n",
       "      <th>AN</th>\n",
       "      <th>TYPEQU</th>\n",
       "      <th>LAMBERT_X</th>\n",
       "      <th>LAMBERT_Y</th>\n",
       "      <th>QUALITE_XY</th>\n",
       "      <th>...</th>\n",
       "      <th>TC_2017</th>\n",
       "      <th>cadr_2015</th>\n",
       "      <th>cadr_2016</th>\n",
       "      <th>cadr_2017</th>\n",
       "      <th>cdi_2015</th>\n",
       "      <th>cdi_2016</th>\n",
       "      <th>cdi_2017</th>\n",
       "      <th>ipondi_crs</th>\n",
       "      <th>CL</th>\n",
       "      <th>SC</th>\n",
       "    </tr>\n",
       "  </thead>\n",
       "  <tbody>\n",
       "    <tr>\n",
       "      <th>0</th>\n",
       "      <td>1</td>\n",
       "      <td>93</td>\n",
       "      <td>6</td>\n",
       "      <td>6123</td>\n",
       "      <td>06123_0102</td>\n",
       "      <td>2018</td>\n",
       "      <td>A405</td>\n",
       "      <td>1036999.8</td>\n",
       "      <td>6293318.37</td>\n",
       "      <td>Bonne</td>\n",
       "      <td>...</td>\n",
       "      <td>10.064</td>\n",
       "      <td>-3.189</td>\n",
       "      <td>0.0</td>\n",
       "      <td>1.035</td>\n",
       "      <td>2.498</td>\n",
       "      <td>9.619</td>\n",
       "      <td>0.796</td>\n",
       "      <td>36.487</td>\n",
       "      <td>2</td>\n",
       "      <td>0</td>\n",
       "    </tr>\n",
       "    <tr>\n",
       "      <th>1</th>\n",
       "      <td>2</td>\n",
       "      <td>93</td>\n",
       "      <td>6</td>\n",
       "      <td>6123</td>\n",
       "      <td>06123_0102</td>\n",
       "      <td>2018</td>\n",
       "      <td>A505</td>\n",
       "      <td>1036999.8</td>\n",
       "      <td>6293318.37</td>\n",
       "      <td>Bonne</td>\n",
       "      <td>...</td>\n",
       "      <td>10.064</td>\n",
       "      <td>-3.189</td>\n",
       "      <td>0.0</td>\n",
       "      <td>1.035</td>\n",
       "      <td>2.498</td>\n",
       "      <td>9.619</td>\n",
       "      <td>0.796</td>\n",
       "      <td>36.487</td>\n",
       "      <td>2</td>\n",
       "      <td>0</td>\n",
       "    </tr>\n",
       "    <tr>\n",
       "      <th>2</th>\n",
       "      <td>3</td>\n",
       "      <td>93</td>\n",
       "      <td>6</td>\n",
       "      <td>6123</td>\n",
       "      <td>06123_0102</td>\n",
       "      <td>2018</td>\n",
       "      <td>E101</td>\n",
       "      <td>1036999.8</td>\n",
       "      <td>6293318.37</td>\n",
       "      <td>Bonne</td>\n",
       "      <td>...</td>\n",
       "      <td>10.064</td>\n",
       "      <td>-3.189</td>\n",
       "      <td>0.0</td>\n",
       "      <td>1.035</td>\n",
       "      <td>2.498</td>\n",
       "      <td>9.619</td>\n",
       "      <td>0.796</td>\n",
       "      <td>36.487</td>\n",
       "      <td>2</td>\n",
       "      <td>0</td>\n",
       "    </tr>\n",
       "    <tr>\n",
       "      <th>3</th>\n",
       "      <td>4</td>\n",
       "      <td>93</td>\n",
       "      <td>6</td>\n",
       "      <td>6123</td>\n",
       "      <td>06123_0102</td>\n",
       "      <td>2018</td>\n",
       "      <td>E101</td>\n",
       "      <td>1036999.8</td>\n",
       "      <td>6293318.37</td>\n",
       "      <td>Bonne</td>\n",
       "      <td>...</td>\n",
       "      <td>10.064</td>\n",
       "      <td>-3.189</td>\n",
       "      <td>0.0</td>\n",
       "      <td>1.035</td>\n",
       "      <td>2.498</td>\n",
       "      <td>9.619</td>\n",
       "      <td>0.796</td>\n",
       "      <td>36.487</td>\n",
       "      <td>2</td>\n",
       "      <td>0</td>\n",
       "    </tr>\n",
       "    <tr>\n",
       "      <th>4</th>\n",
       "      <td>5</td>\n",
       "      <td>93</td>\n",
       "      <td>6</td>\n",
       "      <td>6088</td>\n",
       "      <td>06088_0301</td>\n",
       "      <td>2018</td>\n",
       "      <td>A203</td>\n",
       "      <td>1045176.2</td>\n",
       "      <td>6299125.70</td>\n",
       "      <td>Bonne</td>\n",
       "      <td>...</td>\n",
       "      <td>6.962</td>\n",
       "      <td>13.958</td>\n",
       "      <td>-8.0</td>\n",
       "      <td>-12.207</td>\n",
       "      <td>1.366</td>\n",
       "      <td>-2.400</td>\n",
       "      <td>7.657</td>\n",
       "      <td>15.211</td>\n",
       "      <td>3</td>\n",
       "      <td>5</td>\n",
       "    </tr>\n",
       "  </tbody>\n",
       "</table>\n",
       "<p>5 rows × 40 columns</p>\n",
       "</div>"
      ],
      "text/plain": [
       "   fid  REG  DEP  DEPCOM      DCIRIS    AN TYPEQU  LAMBERT_X   LAMBERT_Y  \\\n",
       "0    1   93    6    6123  06123_0102  2018   A405  1036999.8  6293318.37   \n",
       "1    2   93    6    6123  06123_0102  2018   A505  1036999.8  6293318.37   \n",
       "2    3   93    6    6123  06123_0102  2018   E101  1036999.8  6293318.37   \n",
       "3    4   93    6    6123  06123_0102  2018   E101  1036999.8  6293318.37   \n",
       "4    5   93    6    6088  06088_0301  2018   A203  1045176.2  6299125.70   \n",
       "\n",
       "  QUALITE_XY  ... TC_2017 cadr_2015  cadr_2016 cadr_2017  cdi_2015  cdi_2016  \\\n",
       "0      Bonne  ...  10.064    -3.189        0.0     1.035     2.498     9.619   \n",
       "1      Bonne  ...  10.064    -3.189        0.0     1.035     2.498     9.619   \n",
       "2      Bonne  ...  10.064    -3.189        0.0     1.035     2.498     9.619   \n",
       "3      Bonne  ...  10.064    -3.189        0.0     1.035     2.498     9.619   \n",
       "4      Bonne  ...   6.962    13.958       -8.0   -12.207     1.366    -2.400   \n",
       "\n",
       "  cdi_2017 ipondi_crs  CL  SC  \n",
       "0    0.796     36.487   2   0  \n",
       "1    0.796     36.487   2   0  \n",
       "2    0.796     36.487   2   0  \n",
       "3    0.796     36.487   2   0  \n",
       "4    7.657     15.211   3   5  \n",
       "\n",
       "[5 rows x 40 columns]"
      ]
     },
     "execution_count": 91,
     "metadata": {},
     "output_type": "execute_result"
    }
   ],
   "source": [
    "data2.head()"
   ]
  },
  {
   "cell_type": "markdown",
   "id": "790243e4",
   "metadata": {},
   "source": [
    "## Descriptive statistics"
   ]
  },
  {
   "cell_type": "code",
   "execution_count": 92,
   "id": "56d1e69a",
   "metadata": {},
   "outputs": [
    {
     "data": {
      "text/plain": [
       "(11419, 40)"
      ]
     },
     "execution_count": 92,
     "metadata": {},
     "output_type": "execute_result"
    }
   ],
   "source": [
    "data2.shape"
   ]
  },
  {
   "cell_type": "code",
   "execution_count": 93,
   "id": "23db5eb5",
   "metadata": {},
   "outputs": [
    {
     "name": "stdout",
     "output_type": "stream",
     "text": [
      "<class 'pandas.core.frame.DataFrame'>\n",
      "RangeIndex: 11419 entries, 0 to 11418\n",
      "Data columns (total 40 columns):\n",
      " #   Column      Non-Null Count  Dtype  \n",
      "---  ------      --------------  -----  \n",
      " 0   fid         11419 non-null  int64  \n",
      " 1   REG         11419 non-null  int64  \n",
      " 2   DEP         11419 non-null  int64  \n",
      " 3   DEPCOM      11419 non-null  int64  \n",
      " 4   DCIRIS      11419 non-null  object \n",
      " 5   AN          11419 non-null  int64  \n",
      " 6   TYPEQU      11419 non-null  object \n",
      " 7   LAMBERT_X   11419 non-null  float64\n",
      " 8   LAMBERT_Y   11419 non-null  float64\n",
      " 9   QUALITE_XY  11419 non-null  object \n",
      " 10  LAB         11419 non-null  object \n",
      " 11  CLASSE      11419 non-null  object \n",
      " 12  DEPCOM_2    11419 non-null  int64  \n",
      " 13  NOM_COM     11419 non-null  object \n",
      " 14  IRIS        11419 non-null  int64  \n",
      " 15  iris_id     11419 non-null  int64  \n",
      " 16  NOM_IRIS    11419 non-null  object \n",
      " 17  TYP_IRIS    11419 non-null  object \n",
      " 18  supkm2      11419 non-null  float64\n",
      " 19  denskm2     11419 non-null  float64\n",
      " 20  pop_2016    11419 non-null  int64  \n",
      " 21  ds_btp      10346 non-null  float64\n",
      " 22  Agglo       11419 non-null  object \n",
      " 23  revenus     11419 non-null  int64  \n",
      " 24  bpe_index   11419 non-null  int64  \n",
      " 25  evol_15_24  11201 non-null  float64\n",
      " 26  15_24_2016  11201 non-null  float64\n",
      " 27  15_24_2017  11201 non-null  float64\n",
      " 28  TC_2015     11223 non-null  float64\n",
      " 29  TC_2016     11223 non-null  float64\n",
      " 30  TC_2017     11223 non-null  float64\n",
      " 31  cadr_2015   11223 non-null  float64\n",
      " 32  cadr_2016   11223 non-null  float64\n",
      " 33  cadr_2017   11419 non-null  float64\n",
      " 34  cdi_2015    11223 non-null  float64\n",
      " 35  cdi_2016    11419 non-null  float64\n",
      " 36  cdi_2017    11419 non-null  float64\n",
      " 37  ipondi_crs  9841 non-null   float64\n",
      " 38  CL          11419 non-null  int64  \n",
      " 39  SC          11419 non-null  int64  \n",
      "dtypes: float64(18), int64(13), object(9)\n",
      "memory usage: 3.5+ MB\n"
     ]
    }
   ],
   "source": [
    "data2.info()"
   ]
  },
  {
   "cell_type": "code",
   "execution_count": 94,
   "id": "bac6b78d",
   "metadata": {},
   "outputs": [
    {
     "data": {
      "text/plain": [
       "11415    061230101\n",
       "11416    061230101\n",
       "11417    061230101\n",
       "11418    061230101\n",
       "Name: iris_id, dtype: object"
      ]
     },
     "execution_count": 94,
     "metadata": {},
     "output_type": "execute_result"
    }
   ],
   "source": [
    "data2['iris_id']=data2['DCIRIS'].map(lambda x: x[0:5]+x[6:])\n",
    "data2['iris_id'].tail(4)"
   ]
  },
  {
   "cell_type": "code",
   "execution_count": 95,
   "id": "a6881b9b",
   "metadata": {},
   "outputs": [
    {
     "data": {
      "text/plain": [
       "['fid',\n",
       " 'REG',\n",
       " 'DEP',\n",
       " 'DEPCOM',\n",
       " 'DCIRIS',\n",
       " 'AN',\n",
       " 'TYPEQU',\n",
       " 'LAMBERT_X',\n",
       " 'LAMBERT_Y',\n",
       " 'QUALITE_XY',\n",
       " 'LAB',\n",
       " 'CLASSE',\n",
       " 'DEPCOM_2',\n",
       " 'NOM_COM',\n",
       " 'IRIS',\n",
       " 'iris_id',\n",
       " 'NOM_IRIS',\n",
       " 'TYP_IRIS',\n",
       " 'supkm2',\n",
       " 'denskm2',\n",
       " 'pop_2016',\n",
       " 'ds_btp',\n",
       " 'Agglo',\n",
       " 'revenus',\n",
       " 'bpe_index',\n",
       " 'evol_15_24',\n",
       " '15_24_2016',\n",
       " '15_24_2017',\n",
       " 'TC_2015',\n",
       " 'TC_2016',\n",
       " 'TC_2017',\n",
       " 'cadr_2015',\n",
       " 'cadr_2016',\n",
       " 'cadr_2017',\n",
       " 'cdi_2015',\n",
       " 'cdi_2016',\n",
       " 'cdi_2017',\n",
       " 'ipondi_crs',\n",
       " 'CL',\n",
       " 'SC']"
      ]
     },
     "execution_count": 95,
     "metadata": {},
     "output_type": "execute_result"
    }
   ],
   "source": [
    "list(data2.columns)"
   ]
  },
  {
   "cell_type": "code",
   "execution_count": 96,
   "id": "3a1bdde3",
   "metadata": {},
   "outputs": [
    {
     "data": {
      "text/plain": [
       "148"
      ]
     },
     "execution_count": 96,
     "metadata": {},
     "output_type": "execute_result"
    }
   ],
   "source": [
    "len(pd.unique(data2['TYPEQU']))"
   ]
  },
  {
   "cell_type": "code",
   "execution_count": 97,
   "id": "db59fa09",
   "metadata": {},
   "outputs": [
    {
     "data": {
      "text/plain": [
       "array([6123, 6088])"
      ]
     },
     "execution_count": 97,
     "metadata": {},
     "output_type": "execute_result"
    }
   ],
   "source": [
    "pd.unique(data2['DEPCOM'])"
   ]
  },
  {
   "cell_type": "code",
   "execution_count": 98,
   "id": "453cd9bf",
   "metadata": {},
   "outputs": [
    {
     "data": {
      "text/plain": [
       "array([1057.143, 2307.692, 1087.5  , 1554.348, 1157.303,      nan,\n",
       "        229.299,  663.507,  375.   ,  308.333,  846.442, 1939.394,\n",
       "       1233.333, 2357.143, 1869.565, 1076.596,  790.285, 1101.796,\n",
       "       4217.391, 1253.676, 1978.102, 1046.025, 2470.588, 1705.882,\n",
       "       1813.008, 1500.   , 1126.582,  852.861,  675.258, 1198.732,\n",
       "        871.122,  980.769,  642.738,  766.355, 1596.154, 2142.857,\n",
       "       1986.667, 1450.549, 1063.725, 1718.75 , 1485.437, 1807.339,\n",
       "       1833.333,   93.525, 1906.977, 1450.   , 1440.789, 1527.473,\n",
       "       1029.316, 1010.695, 1921.875, 1644.068, 1360.   , 1147.541,\n",
       "        932.432,  739.91 ,  585.499, 1238.806, 1336.735, 1295.   ,\n",
       "       1593.333,  280.569, 1493.151, 1541.502,  866.995])"
      ]
     },
     "execution_count": 98,
     "metadata": {},
     "output_type": "execute_result"
    }
   ],
   "source": [
    "pd.unique(data2['ds_btp'])"
   ]
  },
  {
   "cell_type": "code",
   "execution_count": 99,
   "id": "d47355c1",
   "metadata": {},
   "outputs": [],
   "source": [
    "data2['iris_type']=data2['TYP_IRIS'].map(lambda x: 1 if x =='A' else 0)"
   ]
  },
  {
   "cell_type": "code",
   "execution_count": 100,
   "id": "ebf3370a",
   "metadata": {},
   "outputs": [
    {
     "data": {
      "text/plain": [
       "array(['H', 'A'], dtype=object)"
      ]
     },
     "execution_count": 100,
     "metadata": {},
     "output_type": "execute_result"
    }
   ],
   "source": [
    "pd.unique(data2['TYP_IRIS'])"
   ]
  },
  {
   "cell_type": "code",
   "execution_count": 101,
   "id": "c26bbd1e",
   "metadata": {},
   "outputs": [
    {
     "data": {
      "text/html": [
       "<div>\n",
       "<style scoped>\n",
       "    .dataframe tbody tr th:only-of-type {\n",
       "        vertical-align: middle;\n",
       "    }\n",
       "\n",
       "    .dataframe tbody tr th {\n",
       "        vertical-align: top;\n",
       "    }\n",
       "\n",
       "    .dataframe thead th {\n",
       "        text-align: right;\n",
       "    }\n",
       "</style>\n",
       "<table border=\"1\" class=\"dataframe\">\n",
       "  <thead>\n",
       "    <tr style=\"text-align: right;\">\n",
       "      <th></th>\n",
       "      <th>fid</th>\n",
       "      <th>REG</th>\n",
       "      <th>DEP</th>\n",
       "      <th>DEPCOM</th>\n",
       "      <th>DCIRIS</th>\n",
       "      <th>AN</th>\n",
       "      <th>TYPEQU</th>\n",
       "      <th>LAMBERT_X</th>\n",
       "      <th>LAMBERT_Y</th>\n",
       "      <th>QUALITE_XY</th>\n",
       "      <th>...</th>\n",
       "      <th>cadr_2015</th>\n",
       "      <th>cadr_2016</th>\n",
       "      <th>cadr_2017</th>\n",
       "      <th>cdi_2015</th>\n",
       "      <th>cdi_2016</th>\n",
       "      <th>cdi_2017</th>\n",
       "      <th>ipondi_crs</th>\n",
       "      <th>CL</th>\n",
       "      <th>SC</th>\n",
       "      <th>iris_type</th>\n",
       "    </tr>\n",
       "  </thead>\n",
       "  <tbody>\n",
       "    <tr>\n",
       "      <th>0</th>\n",
       "      <td>1</td>\n",
       "      <td>93</td>\n",
       "      <td>6</td>\n",
       "      <td>6123</td>\n",
       "      <td>06123_0102</td>\n",
       "      <td>2018</td>\n",
       "      <td>A405</td>\n",
       "      <td>1036999.8</td>\n",
       "      <td>6293318.37</td>\n",
       "      <td>Bonne</td>\n",
       "      <td>...</td>\n",
       "      <td>-3.189</td>\n",
       "      <td>0.0</td>\n",
       "      <td>1.035</td>\n",
       "      <td>2.498</td>\n",
       "      <td>9.619</td>\n",
       "      <td>0.796</td>\n",
       "      <td>36.487</td>\n",
       "      <td>2</td>\n",
       "      <td>0</td>\n",
       "      <td>0</td>\n",
       "    </tr>\n",
       "    <tr>\n",
       "      <th>1</th>\n",
       "      <td>2</td>\n",
       "      <td>93</td>\n",
       "      <td>6</td>\n",
       "      <td>6123</td>\n",
       "      <td>06123_0102</td>\n",
       "      <td>2018</td>\n",
       "      <td>A505</td>\n",
       "      <td>1036999.8</td>\n",
       "      <td>6293318.37</td>\n",
       "      <td>Bonne</td>\n",
       "      <td>...</td>\n",
       "      <td>-3.189</td>\n",
       "      <td>0.0</td>\n",
       "      <td>1.035</td>\n",
       "      <td>2.498</td>\n",
       "      <td>9.619</td>\n",
       "      <td>0.796</td>\n",
       "      <td>36.487</td>\n",
       "      <td>2</td>\n",
       "      <td>0</td>\n",
       "      <td>0</td>\n",
       "    </tr>\n",
       "    <tr>\n",
       "      <th>2</th>\n",
       "      <td>3</td>\n",
       "      <td>93</td>\n",
       "      <td>6</td>\n",
       "      <td>6123</td>\n",
       "      <td>06123_0102</td>\n",
       "      <td>2018</td>\n",
       "      <td>E101</td>\n",
       "      <td>1036999.8</td>\n",
       "      <td>6293318.37</td>\n",
       "      <td>Bonne</td>\n",
       "      <td>...</td>\n",
       "      <td>-3.189</td>\n",
       "      <td>0.0</td>\n",
       "      <td>1.035</td>\n",
       "      <td>2.498</td>\n",
       "      <td>9.619</td>\n",
       "      <td>0.796</td>\n",
       "      <td>36.487</td>\n",
       "      <td>2</td>\n",
       "      <td>0</td>\n",
       "      <td>0</td>\n",
       "    </tr>\n",
       "  </tbody>\n",
       "</table>\n",
       "<p>3 rows × 41 columns</p>\n",
       "</div>"
      ],
      "text/plain": [
       "   fid  REG  DEP  DEPCOM      DCIRIS    AN TYPEQU  LAMBERT_X   LAMBERT_Y  \\\n",
       "0    1   93    6    6123  06123_0102  2018   A405  1036999.8  6293318.37   \n",
       "1    2   93    6    6123  06123_0102  2018   A505  1036999.8  6293318.37   \n",
       "2    3   93    6    6123  06123_0102  2018   E101  1036999.8  6293318.37   \n",
       "\n",
       "  QUALITE_XY  ... cadr_2015 cadr_2016  cadr_2017 cdi_2015  cdi_2016 cdi_2017  \\\n",
       "0      Bonne  ...    -3.189       0.0      1.035    2.498     9.619    0.796   \n",
       "1      Bonne  ...    -3.189       0.0      1.035    2.498     9.619    0.796   \n",
       "2      Bonne  ...    -3.189       0.0      1.035    2.498     9.619    0.796   \n",
       "\n",
       "  ipondi_crs CL  SC  iris_type  \n",
       "0     36.487  2   0          0  \n",
       "1     36.487  2   0          0  \n",
       "2     36.487  2   0          0  \n",
       "\n",
       "[3 rows x 41 columns]"
      ]
     },
     "execution_count": 101,
     "metadata": {},
     "output_type": "execute_result"
    }
   ],
   "source": [
    "data2.head(3)"
   ]
  },
  {
   "cell_type": "markdown",
   "id": "7660f6d3",
   "metadata": {
    "heading_collapsed": true
   },
   "source": [
    "## Coordinates conversion"
   ]
  },
  {
   "cell_type": "code",
   "execution_count": 102,
   "id": "873f6222",
   "metadata": {
    "hidden": true
   },
   "outputs": [],
   "source": [
    "# create coordinates input list\n",
    "\n",
    "lambert2_x = list(data2['LAMBERT_X'])\n",
    "lamber2_y = list(data2['LAMBERT_Y'])\n",
    "coord2 = zip(lambert2_x,lamber2_y)"
   ]
  },
  {
   "cell_type": "code",
   "execution_count": 103,
   "id": "29d395e0",
   "metadata": {
    "hidden": true
   },
   "outputs": [],
   "source": [
    "longitude = []\n",
    "latitude = []\n",
    "for x, y in coord2:\n",
    "    pt = convertToWGS84Deg(x, y, Lambert93)\n",
    "    longitude.append(pt.getX())\n",
    "    latitude.append(pt.getY())"
   ]
  },
  {
   "cell_type": "code",
   "execution_count": 104,
   "id": "b5479bde",
   "metadata": {
    "hidden": true
   },
   "outputs": [],
   "source": [
    "data2['longitude']=longitude\n",
    "data2['latitude']=latitude"
   ]
  },
  {
   "cell_type": "code",
   "execution_count": 105,
   "id": "aca1e7d9",
   "metadata": {
    "hidden": true
   },
   "outputs": [
    {
     "data": {
      "text/html": [
       "<div>\n",
       "<style scoped>\n",
       "    .dataframe tbody tr th:only-of-type {\n",
       "        vertical-align: middle;\n",
       "    }\n",
       "\n",
       "    .dataframe tbody tr th {\n",
       "        vertical-align: top;\n",
       "    }\n",
       "\n",
       "    .dataframe thead th {\n",
       "        text-align: right;\n",
       "    }\n",
       "</style>\n",
       "<table border=\"1\" class=\"dataframe\">\n",
       "  <thead>\n",
       "    <tr style=\"text-align: right;\">\n",
       "      <th></th>\n",
       "      <th>fid</th>\n",
       "      <th>REG</th>\n",
       "      <th>DEP</th>\n",
       "      <th>DEPCOM</th>\n",
       "      <th>DCIRIS</th>\n",
       "      <th>AN</th>\n",
       "      <th>TYPEQU</th>\n",
       "      <th>LAMBERT_X</th>\n",
       "      <th>LAMBERT_Y</th>\n",
       "      <th>QUALITE_XY</th>\n",
       "      <th>...</th>\n",
       "      <th>cadr_2017</th>\n",
       "      <th>cdi_2015</th>\n",
       "      <th>cdi_2016</th>\n",
       "      <th>cdi_2017</th>\n",
       "      <th>ipondi_crs</th>\n",
       "      <th>CL</th>\n",
       "      <th>SC</th>\n",
       "      <th>iris_type</th>\n",
       "      <th>longitude</th>\n",
       "      <th>latitude</th>\n",
       "    </tr>\n",
       "  </thead>\n",
       "  <tbody>\n",
       "    <tr>\n",
       "      <th>0</th>\n",
       "      <td>1</td>\n",
       "      <td>93</td>\n",
       "      <td>6</td>\n",
       "      <td>6123</td>\n",
       "      <td>06123_0102</td>\n",
       "      <td>2018</td>\n",
       "      <td>A405</td>\n",
       "      <td>1036999.8</td>\n",
       "      <td>6293318.37</td>\n",
       "      <td>Bonne</td>\n",
       "      <td>...</td>\n",
       "      <td>1.035</td>\n",
       "      <td>2.498</td>\n",
       "      <td>9.619</td>\n",
       "      <td>0.796</td>\n",
       "      <td>36.487</td>\n",
       "      <td>2</td>\n",
       "      <td>0</td>\n",
       "      <td>0</td>\n",
       "      <td>7.178602</td>\n",
       "      <td>43.658636</td>\n",
       "    </tr>\n",
       "    <tr>\n",
       "      <th>1</th>\n",
       "      <td>2</td>\n",
       "      <td>93</td>\n",
       "      <td>6</td>\n",
       "      <td>6123</td>\n",
       "      <td>06123_0102</td>\n",
       "      <td>2018</td>\n",
       "      <td>A505</td>\n",
       "      <td>1036999.8</td>\n",
       "      <td>6293318.37</td>\n",
       "      <td>Bonne</td>\n",
       "      <td>...</td>\n",
       "      <td>1.035</td>\n",
       "      <td>2.498</td>\n",
       "      <td>9.619</td>\n",
       "      <td>0.796</td>\n",
       "      <td>36.487</td>\n",
       "      <td>2</td>\n",
       "      <td>0</td>\n",
       "      <td>0</td>\n",
       "      <td>7.178602</td>\n",
       "      <td>43.658636</td>\n",
       "    </tr>\n",
       "    <tr>\n",
       "      <th>2</th>\n",
       "      <td>3</td>\n",
       "      <td>93</td>\n",
       "      <td>6</td>\n",
       "      <td>6123</td>\n",
       "      <td>06123_0102</td>\n",
       "      <td>2018</td>\n",
       "      <td>E101</td>\n",
       "      <td>1036999.8</td>\n",
       "      <td>6293318.37</td>\n",
       "      <td>Bonne</td>\n",
       "      <td>...</td>\n",
       "      <td>1.035</td>\n",
       "      <td>2.498</td>\n",
       "      <td>9.619</td>\n",
       "      <td>0.796</td>\n",
       "      <td>36.487</td>\n",
       "      <td>2</td>\n",
       "      <td>0</td>\n",
       "      <td>0</td>\n",
       "      <td>7.178602</td>\n",
       "      <td>43.658636</td>\n",
       "    </tr>\n",
       "  </tbody>\n",
       "</table>\n",
       "<p>3 rows × 43 columns</p>\n",
       "</div>"
      ],
      "text/plain": [
       "   fid  REG  DEP  DEPCOM      DCIRIS    AN TYPEQU  LAMBERT_X   LAMBERT_Y  \\\n",
       "0    1   93    6    6123  06123_0102  2018   A405  1036999.8  6293318.37   \n",
       "1    2   93    6    6123  06123_0102  2018   A505  1036999.8  6293318.37   \n",
       "2    3   93    6    6123  06123_0102  2018   E101  1036999.8  6293318.37   \n",
       "\n",
       "  QUALITE_XY  ... cadr_2017 cdi_2015  cdi_2016 cdi_2017  ipondi_crs CL SC  \\\n",
       "0      Bonne  ...     1.035    2.498     9.619    0.796      36.487  2  0   \n",
       "1      Bonne  ...     1.035    2.498     9.619    0.796      36.487  2  0   \n",
       "2      Bonne  ...     1.035    2.498     9.619    0.796      36.487  2  0   \n",
       "\n",
       "  iris_type  longitude   latitude  \n",
       "0         0   7.178602  43.658636  \n",
       "1         0   7.178602  43.658636  \n",
       "2         0   7.178602  43.658636  \n",
       "\n",
       "[3 rows x 43 columns]"
      ]
     },
     "execution_count": 105,
     "metadata": {},
     "output_type": "execute_result"
    }
   ],
   "source": [
    "data2.head(3)"
   ]
  },
  {
   "cell_type": "markdown",
   "id": "31e3c1e9",
   "metadata": {
    "heading_collapsed": true
   },
   "source": [
    "## Encoding"
   ]
  },
  {
   "cell_type": "code",
   "execution_count": 106,
   "id": "83551ab9",
   "metadata": {
    "hidden": true
   },
   "outputs": [
    {
     "data": {
      "text/plain": [
       "array(['Bonne', 'Acceptable', 'Mauvaise'], dtype=object)"
      ]
     },
     "execution_count": 106,
     "metadata": {},
     "output_type": "execute_result"
    }
   ],
   "source": [
    "pd.unique(data2['QUALITE_XY'])"
   ]
  },
  {
   "cell_type": "code",
   "execution_count": 107,
   "id": "aeae07db",
   "metadata": {
    "hidden": true
   },
   "outputs": [
    {
     "data": {
      "text/plain": [
       "Bonne         11162\n",
       "Mauvaise        161\n",
       "Acceptable       96\n",
       "Name: QUALITE_XY, dtype: int64"
      ]
     },
     "execution_count": 107,
     "metadata": {},
     "output_type": "execute_result"
    }
   ],
   "source": [
    "data2['QUALITE_XY'].value_counts()"
   ]
  },
  {
   "cell_type": "code",
   "execution_count": 108,
   "id": "5e12fe11",
   "metadata": {
    "hidden": true
   },
   "outputs": [],
   "source": [
    "quality_xy_enc = enc.transform(data2[['QUALITE_XY']])\n"
   ]
  },
  {
   "cell_type": "code",
   "execution_count": 109,
   "id": "c720b562",
   "metadata": {
    "hidden": true
   },
   "outputs": [
    {
     "data": {
      "text/plain": [
       "array([[0., 1., 0.],\n",
       "       [0., 1., 0.],\n",
       "       [0., 1., 0.],\n",
       "       ...,\n",
       "       [1., 0., 0.],\n",
       "       [0., 1., 0.],\n",
       "       [1., 0., 0.]])"
      ]
     },
     "execution_count": 109,
     "metadata": {},
     "output_type": "execute_result"
    }
   ],
   "source": [
    "quality_xy_enc"
   ]
  },
  {
   "cell_type": "code",
   "execution_count": 110,
   "id": "60c7ee64",
   "metadata": {
    "hidden": true
   },
   "outputs": [],
   "source": [
    "data2[\"Q_XY_acceptable\"], data2[\"Q_XY_bonne\"], data2['Q_XY_mauvaise']=quality_xy_enc.T"
   ]
  },
  {
   "cell_type": "code",
   "execution_count": 111,
   "id": "931bdda4",
   "metadata": {
    "hidden": true
   },
   "outputs": [
    {
     "data": {
      "text/html": [
       "<div>\n",
       "<style scoped>\n",
       "    .dataframe tbody tr th:only-of-type {\n",
       "        vertical-align: middle;\n",
       "    }\n",
       "\n",
       "    .dataframe tbody tr th {\n",
       "        vertical-align: top;\n",
       "    }\n",
       "\n",
       "    .dataframe thead th {\n",
       "        text-align: right;\n",
       "    }\n",
       "</style>\n",
       "<table border=\"1\" class=\"dataframe\">\n",
       "  <thead>\n",
       "    <tr style=\"text-align: right;\">\n",
       "      <th></th>\n",
       "      <th>fid</th>\n",
       "      <th>REG</th>\n",
       "      <th>DEP</th>\n",
       "      <th>DEPCOM</th>\n",
       "      <th>DCIRIS</th>\n",
       "      <th>AN</th>\n",
       "      <th>TYPEQU</th>\n",
       "      <th>LAMBERT_X</th>\n",
       "      <th>LAMBERT_Y</th>\n",
       "      <th>QUALITE_XY</th>\n",
       "      <th>...</th>\n",
       "      <th>cdi_2017</th>\n",
       "      <th>ipondi_crs</th>\n",
       "      <th>CL</th>\n",
       "      <th>SC</th>\n",
       "      <th>iris_type</th>\n",
       "      <th>longitude</th>\n",
       "      <th>latitude</th>\n",
       "      <th>Q_XY_acceptable</th>\n",
       "      <th>Q_XY_bonne</th>\n",
       "      <th>Q_XY_mauvaise</th>\n",
       "    </tr>\n",
       "  </thead>\n",
       "  <tbody>\n",
       "    <tr>\n",
       "      <th>0</th>\n",
       "      <td>1</td>\n",
       "      <td>93</td>\n",
       "      <td>6</td>\n",
       "      <td>6123</td>\n",
       "      <td>06123_0102</td>\n",
       "      <td>2018</td>\n",
       "      <td>A405</td>\n",
       "      <td>1036999.8</td>\n",
       "      <td>6293318.37</td>\n",
       "      <td>Bonne</td>\n",
       "      <td>...</td>\n",
       "      <td>0.796</td>\n",
       "      <td>36.487</td>\n",
       "      <td>2</td>\n",
       "      <td>0</td>\n",
       "      <td>0</td>\n",
       "      <td>7.178602</td>\n",
       "      <td>43.658636</td>\n",
       "      <td>0.0</td>\n",
       "      <td>1.0</td>\n",
       "      <td>0.0</td>\n",
       "    </tr>\n",
       "    <tr>\n",
       "      <th>1</th>\n",
       "      <td>2</td>\n",
       "      <td>93</td>\n",
       "      <td>6</td>\n",
       "      <td>6123</td>\n",
       "      <td>06123_0102</td>\n",
       "      <td>2018</td>\n",
       "      <td>A505</td>\n",
       "      <td>1036999.8</td>\n",
       "      <td>6293318.37</td>\n",
       "      <td>Bonne</td>\n",
       "      <td>...</td>\n",
       "      <td>0.796</td>\n",
       "      <td>36.487</td>\n",
       "      <td>2</td>\n",
       "      <td>0</td>\n",
       "      <td>0</td>\n",
       "      <td>7.178602</td>\n",
       "      <td>43.658636</td>\n",
       "      <td>0.0</td>\n",
       "      <td>1.0</td>\n",
       "      <td>0.0</td>\n",
       "    </tr>\n",
       "    <tr>\n",
       "      <th>2</th>\n",
       "      <td>3</td>\n",
       "      <td>93</td>\n",
       "      <td>6</td>\n",
       "      <td>6123</td>\n",
       "      <td>06123_0102</td>\n",
       "      <td>2018</td>\n",
       "      <td>E101</td>\n",
       "      <td>1036999.8</td>\n",
       "      <td>6293318.37</td>\n",
       "      <td>Bonne</td>\n",
       "      <td>...</td>\n",
       "      <td>0.796</td>\n",
       "      <td>36.487</td>\n",
       "      <td>2</td>\n",
       "      <td>0</td>\n",
       "      <td>0</td>\n",
       "      <td>7.178602</td>\n",
       "      <td>43.658636</td>\n",
       "      <td>0.0</td>\n",
       "      <td>1.0</td>\n",
       "      <td>0.0</td>\n",
       "    </tr>\n",
       "  </tbody>\n",
       "</table>\n",
       "<p>3 rows × 46 columns</p>\n",
       "</div>"
      ],
      "text/plain": [
       "   fid  REG  DEP  DEPCOM      DCIRIS    AN TYPEQU  LAMBERT_X   LAMBERT_Y  \\\n",
       "0    1   93    6    6123  06123_0102  2018   A405  1036999.8  6293318.37   \n",
       "1    2   93    6    6123  06123_0102  2018   A505  1036999.8  6293318.37   \n",
       "2    3   93    6    6123  06123_0102  2018   E101  1036999.8  6293318.37   \n",
       "\n",
       "  QUALITE_XY  ... cdi_2017 ipondi_crs  CL SC  iris_type longitude   latitude  \\\n",
       "0      Bonne  ...    0.796     36.487   2  0          0  7.178602  43.658636   \n",
       "1      Bonne  ...    0.796     36.487   2  0          0  7.178602  43.658636   \n",
       "2      Bonne  ...    0.796     36.487   2  0          0  7.178602  43.658636   \n",
       "\n",
       "  Q_XY_acceptable  Q_XY_bonne  Q_XY_mauvaise  \n",
       "0             0.0         1.0            0.0  \n",
       "1             0.0         1.0            0.0  \n",
       "2             0.0         1.0            0.0  \n",
       "\n",
       "[3 rows x 46 columns]"
      ]
     },
     "execution_count": 111,
     "metadata": {},
     "output_type": "execute_result"
    }
   ],
   "source": [
    "data2.head(3)"
   ]
  },
  {
   "cell_type": "markdown",
   "id": "9db7946a",
   "metadata": {},
   "source": [
    "## Categories of LAB"
   ]
  },
  {
   "cell_type": "code",
   "execution_count": 112,
   "id": "03082258",
   "metadata": {},
   "outputs": [],
   "source": [
    "pd.unique(data2['LAB']);"
   ]
  },
  {
   "cell_type": "code",
   "execution_count": 113,
   "id": "d4c26d1d",
   "metadata": {},
   "outputs": [],
   "source": [
    "data2_cat = data.agg({\n",
    "    'LAB':[is_sport, is_leasure, is_medical, is_socio_med, \n",
    "           is_tourist,is_general_service,is_commerce,is_commerce_spec,\n",
    "           is_grande_surface,is_high_educ,is_schools,is_transport]\n",
    "})"
   ]
  },
  {
   "cell_type": "code",
   "execution_count": 114,
   "id": "4beae67e",
   "metadata": {},
   "outputs": [
    {
     "data": {
      "text/plain": [
       "(LAB, is_sport)  (LAB, is_leasure)  (LAB, is_medical)  (LAB, is_socio_med)  (LAB, is_tourist)  (LAB, is_general_service)  (LAB, is_commerce)  (LAB, is_commerce_spec)  (LAB, is_grande_surface)  (LAB, is_high_educ)  (LAB, is_schools)  (LAB, is_transport)\n",
       "False            False              False              False                False              False                      False               False                    False                     False                False              False                  11857\n",
       "dtype: int64"
      ]
     },
     "execution_count": 114,
     "metadata": {},
     "output_type": "execute_result"
    }
   ],
   "source": [
    "data2_cat.isna().value_counts()"
   ]
  },
  {
   "cell_type": "markdown",
   "id": "a8f18b3f",
   "metadata": {},
   "source": [
    "## Merge datasets"
   ]
  },
  {
   "cell_type": "code",
   "execution_count": 115,
   "id": "0c07643b",
   "metadata": {},
   "outputs": [
    {
     "name": "stderr",
     "output_type": "stream",
     "text": [
      "/home/mchistya/.pyenv/versions/3.8.6/envs/trampact/lib/python3.8/site-packages/pandas/core/reshape/merge.py:648: UserWarning: merging between different levels can give an unintended result (1 levels on the left,2 on the right)\n",
      "  warnings.warn(msg, UserWarning)\n"
     ]
    },
    {
     "data": {
      "text/html": [
       "<div>\n",
       "<style scoped>\n",
       "    .dataframe tbody tr th:only-of-type {\n",
       "        vertical-align: middle;\n",
       "    }\n",
       "\n",
       "    .dataframe tbody tr th {\n",
       "        vertical-align: top;\n",
       "    }\n",
       "\n",
       "    .dataframe thead th {\n",
       "        text-align: right;\n",
       "    }\n",
       "</style>\n",
       "<table border=\"1\" class=\"dataframe\">\n",
       "  <thead>\n",
       "    <tr style=\"text-align: right;\">\n",
       "      <th></th>\n",
       "      <th>fid</th>\n",
       "      <th>REG</th>\n",
       "      <th>DEP</th>\n",
       "      <th>DEPCOM</th>\n",
       "      <th>DCIRIS</th>\n",
       "      <th>AN</th>\n",
       "      <th>TYPEQU</th>\n",
       "      <th>LAMBERT_X</th>\n",
       "      <th>LAMBERT_Y</th>\n",
       "      <th>QUALITE_XY</th>\n",
       "      <th>...</th>\n",
       "      <th>(LAB, is_medical)</th>\n",
       "      <th>(LAB, is_socio_med)</th>\n",
       "      <th>(LAB, is_tourist)</th>\n",
       "      <th>(LAB, is_general_service)</th>\n",
       "      <th>(LAB, is_commerce)</th>\n",
       "      <th>(LAB, is_commerce_spec)</th>\n",
       "      <th>(LAB, is_grande_surface)</th>\n",
       "      <th>(LAB, is_high_educ)</th>\n",
       "      <th>(LAB, is_schools)</th>\n",
       "      <th>(LAB, is_transport)</th>\n",
       "    </tr>\n",
       "  </thead>\n",
       "  <tbody>\n",
       "    <tr>\n",
       "      <th>0</th>\n",
       "      <td>1</td>\n",
       "      <td>93</td>\n",
       "      <td>6</td>\n",
       "      <td>6123</td>\n",
       "      <td>06123_0102</td>\n",
       "      <td>2018</td>\n",
       "      <td>A405</td>\n",
       "      <td>1036999.8</td>\n",
       "      <td>6293318.37</td>\n",
       "      <td>Bonne</td>\n",
       "      <td>...</td>\n",
       "      <td>0</td>\n",
       "      <td>0</td>\n",
       "      <td>0</td>\n",
       "      <td>0</td>\n",
       "      <td>0</td>\n",
       "      <td>0</td>\n",
       "      <td>0</td>\n",
       "      <td>0</td>\n",
       "      <td>0</td>\n",
       "      <td>0</td>\n",
       "    </tr>\n",
       "    <tr>\n",
       "      <th>1</th>\n",
       "      <td>2</td>\n",
       "      <td>93</td>\n",
       "      <td>6</td>\n",
       "      <td>6123</td>\n",
       "      <td>06123_0102</td>\n",
       "      <td>2018</td>\n",
       "      <td>A505</td>\n",
       "      <td>1036999.8</td>\n",
       "      <td>6293318.37</td>\n",
       "      <td>Bonne</td>\n",
       "      <td>...</td>\n",
       "      <td>1</td>\n",
       "      <td>0</td>\n",
       "      <td>0</td>\n",
       "      <td>0</td>\n",
       "      <td>0</td>\n",
       "      <td>0</td>\n",
       "      <td>0</td>\n",
       "      <td>0</td>\n",
       "      <td>0</td>\n",
       "      <td>0</td>\n",
       "    </tr>\n",
       "    <tr>\n",
       "      <th>2</th>\n",
       "      <td>3</td>\n",
       "      <td>93</td>\n",
       "      <td>6</td>\n",
       "      <td>6123</td>\n",
       "      <td>06123_0102</td>\n",
       "      <td>2018</td>\n",
       "      <td>E101</td>\n",
       "      <td>1036999.8</td>\n",
       "      <td>6293318.37</td>\n",
       "      <td>Bonne</td>\n",
       "      <td>...</td>\n",
       "      <td>0</td>\n",
       "      <td>0</td>\n",
       "      <td>1</td>\n",
       "      <td>0</td>\n",
       "      <td>0</td>\n",
       "      <td>0</td>\n",
       "      <td>0</td>\n",
       "      <td>0</td>\n",
       "      <td>0</td>\n",
       "      <td>0</td>\n",
       "    </tr>\n",
       "  </tbody>\n",
       "</table>\n",
       "<p>3 rows × 58 columns</p>\n",
       "</div>"
      ],
      "text/plain": [
       "   fid  REG  DEP  DEPCOM      DCIRIS    AN TYPEQU  LAMBERT_X   LAMBERT_Y  \\\n",
       "0    1   93    6    6123  06123_0102  2018   A405  1036999.8  6293318.37   \n",
       "1    2   93    6    6123  06123_0102  2018   A505  1036999.8  6293318.37   \n",
       "2    3   93    6    6123  06123_0102  2018   E101  1036999.8  6293318.37   \n",
       "\n",
       "  QUALITE_XY  ... (LAB, is_medical) (LAB, is_socio_med)  (LAB, is_tourist)  \\\n",
       "0      Bonne  ...                 0                   0                  0   \n",
       "1      Bonne  ...                 1                   0                  0   \n",
       "2      Bonne  ...                 0                   0                  1   \n",
       "\n",
       "  (LAB, is_general_service)  (LAB, is_commerce) (LAB, is_commerce_spec)  \\\n",
       "0                         0                   0                       0   \n",
       "1                         0                   0                       0   \n",
       "2                         0                   0                       0   \n",
       "\n",
       "  (LAB, is_grande_surface) (LAB, is_high_educ)  (LAB, is_schools)  \\\n",
       "0                        0                   0                  0   \n",
       "1                        0                   0                  0   \n",
       "2                        0                   0                  0   \n",
       "\n",
       "   (LAB, is_transport)  \n",
       "0                    0  \n",
       "1                    0  \n",
       "2                    0  \n",
       "\n",
       "[3 rows x 58 columns]"
      ]
     },
     "execution_count": 115,
     "metadata": {},
     "output_type": "execute_result"
    }
   ],
   "source": [
    "df2 = data2.merge(data2_cat,how='left',left_index=True, right_index=True)\n",
    "df2.head(3)"
   ]
  },
  {
   "cell_type": "code",
   "execution_count": 116,
   "id": "860fc7b2",
   "metadata": {},
   "outputs": [
    {
     "data": {
      "text/plain": [
       "0        061230102\n",
       "1        061230102\n",
       "2        061230102\n",
       "3        061230102\n",
       "4        060880301\n",
       "           ...    \n",
       "11414    061230101\n",
       "11415    061230101\n",
       "11416    061230101\n",
       "11417    061230101\n",
       "11418    061230101\n",
       "Name: iris_id, Length: 11419, dtype: object"
      ]
     },
     "execution_count": 116,
     "metadata": {},
     "output_type": "execute_result"
    }
   ],
   "source": [
    "df2.iris_id"
   ]
  },
  {
   "cell_type": "markdown",
   "id": "82f8358d",
   "metadata": {},
   "source": [
    "## Label iris with tramway line 2"
   ]
  },
  {
   "cell_type": "code",
   "execution_count": 117,
   "id": "9e87bfeb",
   "metadata": {},
   "outputs": [],
   "source": [
    "iris_t2 = pd.read_excel('../raw_data/IrisT2.xlsx')\n",
    "list(iris_t2.columns);"
   ]
  },
  {
   "cell_type": "code",
   "execution_count": 118,
   "id": "87653f46",
   "metadata": {},
   "outputs": [
    {
     "data": {
      "text/plain": [
       "iris_id            int64\n",
       "DEPCOM             int64\n",
       "NOM_COM           object\n",
       "IRIS               int64\n",
       "NOM_IRIS          object\n",
       "                  ...   \n",
       "TE_pop_55_64     float64\n",
       "TE_pop_65_79     float64\n",
       "TE_pop_80plus    float64\n",
       "ds_btp           float64\n",
       "ipondi_crs       float64\n",
       "Length: 230, dtype: object"
      ]
     },
     "execution_count": 118,
     "metadata": {},
     "output_type": "execute_result"
    }
   ],
   "source": [
    "iris_t2.dtypes"
   ]
  },
  {
   "cell_type": "code",
   "execution_count": 119,
   "id": "65c8ef3c",
   "metadata": {},
   "outputs": [],
   "source": [
    "iris_t2['iris_id']=iris_t2['iris_id'].apply(lambda x: str(x))"
   ]
  },
  {
   "cell_type": "code",
   "execution_count": 120,
   "id": "7554de3e",
   "metadata": {},
   "outputs": [
    {
     "data": {
      "text/plain": [
       "'60883001'"
      ]
     },
     "execution_count": 120,
     "metadata": {},
     "output_type": "execute_result"
    }
   ],
   "source": [
    "iris_t2.iris_id[7]"
   ]
  },
  {
   "cell_type": "code",
   "execution_count": 121,
   "id": "4b328c44",
   "metadata": {},
   "outputs": [
    {
     "data": {
      "text/plain": [
       "str"
      ]
     },
     "execution_count": 121,
     "metadata": {},
     "output_type": "execute_result"
    }
   ],
   "source": [
    "type(iris_t2.iris_id[8])"
   ]
  },
  {
   "cell_type": "code",
   "execution_count": 122,
   "id": "7a38c527",
   "metadata": {},
   "outputs": [
    {
     "data": {
      "text/plain": [
       "iris_id           object\n",
       "DEPCOM             int64\n",
       "NOM_COM           object\n",
       "IRIS               int64\n",
       "NOM_IRIS          object\n",
       "                  ...   \n",
       "TE_pop_55_64     float64\n",
       "TE_pop_65_79     float64\n",
       "TE_pop_80plus    float64\n",
       "ds_btp           float64\n",
       "ipondi_crs       float64\n",
       "Length: 230, dtype: object"
      ]
     },
     "execution_count": 122,
     "metadata": {},
     "output_type": "execute_result"
    }
   ],
   "source": [
    "iris_t2.dtypes"
   ]
  },
  {
   "cell_type": "code",
   "execution_count": 123,
   "id": "27e0e2e7",
   "metadata": {},
   "outputs": [],
   "source": [
    "iris_t2[['iris_id']]=iris_t2.iris_id.apply(lambda x: str(0)+x)"
   ]
  },
  {
   "cell_type": "code",
   "execution_count": 124,
   "id": "e43950ac",
   "metadata": {},
   "outputs": [],
   "source": [
    "x=iris_t2.iris_id[8]"
   ]
  },
  {
   "cell_type": "code",
   "execution_count": 125,
   "id": "02ce620c",
   "metadata": {},
   "outputs": [
    {
     "data": {
      "text/plain": [
       "'060882906'"
      ]
     },
     "execution_count": 125,
     "metadata": {},
     "output_type": "execute_result"
    }
   ],
   "source": [
    "x"
   ]
  },
  {
   "cell_type": "code",
   "execution_count": 126,
   "id": "98f14fec",
   "metadata": {},
   "outputs": [
    {
     "data": {
      "text/plain": [
       "9"
      ]
     },
     "execution_count": 126,
     "metadata": {},
     "output_type": "execute_result"
    }
   ],
   "source": [
    "len(_)"
   ]
  },
  {
   "cell_type": "code",
   "execution_count": 127,
   "id": "4ff3e667",
   "metadata": {},
   "outputs": [],
   "source": [
    "list_irist2 = list(iris_t2['iris_id'])"
   ]
  },
  {
   "cell_type": "code",
   "execution_count": 128,
   "id": "04c33f23",
   "metadata": {},
   "outputs": [
    {
     "data": {
      "text/plain": [
       "'060882905'"
      ]
     },
     "execution_count": 128,
     "metadata": {},
     "output_type": "execute_result"
    }
   ],
   "source": [
    "list_irist2[9]"
   ]
  },
  {
   "cell_type": "code",
   "execution_count": 129,
   "id": "94fb0eee",
   "metadata": {},
   "outputs": [
    {
     "name": "stdout",
     "output_type": "stream",
     "text": [
      "<class 'pandas.core.frame.DataFrame'>\n",
      "RangeIndex: 69 entries, 0 to 68\n",
      "Columns: 230 entries, iris_id to ipondi_crs\n",
      "dtypes: float64(125), int64(100), object(5)\n",
      "memory usage: 124.1+ KB\n"
     ]
    }
   ],
   "source": [
    "iris_t2.info()"
   ]
  },
  {
   "cell_type": "code",
   "execution_count": 130,
   "id": "839afd2d",
   "metadata": {},
   "outputs": [],
   "source": [
    "iris_t2[['iris_id','NOM_COM']].to_csv('../raw_data/iris_t2.csv')"
   ]
  },
  {
   "cell_type": "code",
   "execution_count": 131,
   "id": "8b68cd42",
   "metadata": {},
   "outputs": [],
   "source": [
    "df2['iris_with_t2']=df2['iris_id'].map(lambda x: 1 if x in list_irist2 else 0)"
   ]
  },
  {
   "cell_type": "code",
   "execution_count": 132,
   "id": "df1e1082",
   "metadata": {},
   "outputs": [],
   "source": [
    "df2['iris_with_t1']=df2['iris_id'].map(lambda x: 1 if x in list_irist1 else 0)"
   ]
  },
  {
   "cell_type": "code",
   "execution_count": 133,
   "id": "e3d8111c",
   "metadata": {},
   "outputs": [
    {
     "data": {
      "text/plain": [
       "0    8077\n",
       "1    3342\n",
       "Name: iris_with_t1, dtype: int64"
      ]
     },
     "execution_count": 133,
     "metadata": {},
     "output_type": "execute_result"
    }
   ],
   "source": [
    "df2['iris_with_t1'].value_counts()"
   ]
  },
  {
   "cell_type": "code",
   "execution_count": 134,
   "id": "7924f902",
   "metadata": {},
   "outputs": [
    {
     "data": {
      "text/html": [
       "<div>\n",
       "<style scoped>\n",
       "    .dataframe tbody tr th:only-of-type {\n",
       "        vertical-align: middle;\n",
       "    }\n",
       "\n",
       "    .dataframe tbody tr th {\n",
       "        vertical-align: top;\n",
       "    }\n",
       "\n",
       "    .dataframe thead th {\n",
       "        text-align: right;\n",
       "    }\n",
       "</style>\n",
       "<table border=\"1\" class=\"dataframe\">\n",
       "  <thead>\n",
       "    <tr style=\"text-align: right;\">\n",
       "      <th></th>\n",
       "      <th>fid</th>\n",
       "      <th>REG</th>\n",
       "      <th>DEP</th>\n",
       "      <th>DEPCOM</th>\n",
       "      <th>DCIRIS</th>\n",
       "      <th>AN</th>\n",
       "      <th>TYPEQU</th>\n",
       "      <th>LAMBERT_X</th>\n",
       "      <th>LAMBERT_Y</th>\n",
       "      <th>QUALITE_XY</th>\n",
       "      <th>...</th>\n",
       "      <th>(LAB, is_tourist)</th>\n",
       "      <th>(LAB, is_general_service)</th>\n",
       "      <th>(LAB, is_commerce)</th>\n",
       "      <th>(LAB, is_commerce_spec)</th>\n",
       "      <th>(LAB, is_grande_surface)</th>\n",
       "      <th>(LAB, is_high_educ)</th>\n",
       "      <th>(LAB, is_schools)</th>\n",
       "      <th>(LAB, is_transport)</th>\n",
       "      <th>iris_with_t2</th>\n",
       "      <th>iris_with_t1</th>\n",
       "    </tr>\n",
       "  </thead>\n",
       "  <tbody>\n",
       "    <tr>\n",
       "      <th>0</th>\n",
       "      <td>1</td>\n",
       "      <td>93</td>\n",
       "      <td>6</td>\n",
       "      <td>6123</td>\n",
       "      <td>06123_0102</td>\n",
       "      <td>2018</td>\n",
       "      <td>A405</td>\n",
       "      <td>1036999.8</td>\n",
       "      <td>6293318.37</td>\n",
       "      <td>Bonne</td>\n",
       "      <td>...</td>\n",
       "      <td>0</td>\n",
       "      <td>0</td>\n",
       "      <td>0</td>\n",
       "      <td>0</td>\n",
       "      <td>0</td>\n",
       "      <td>0</td>\n",
       "      <td>0</td>\n",
       "      <td>0</td>\n",
       "      <td>1</td>\n",
       "      <td>0</td>\n",
       "    </tr>\n",
       "    <tr>\n",
       "      <th>1</th>\n",
       "      <td>2</td>\n",
       "      <td>93</td>\n",
       "      <td>6</td>\n",
       "      <td>6123</td>\n",
       "      <td>06123_0102</td>\n",
       "      <td>2018</td>\n",
       "      <td>A505</td>\n",
       "      <td>1036999.8</td>\n",
       "      <td>6293318.37</td>\n",
       "      <td>Bonne</td>\n",
       "      <td>...</td>\n",
       "      <td>0</td>\n",
       "      <td>0</td>\n",
       "      <td>0</td>\n",
       "      <td>0</td>\n",
       "      <td>0</td>\n",
       "      <td>0</td>\n",
       "      <td>0</td>\n",
       "      <td>0</td>\n",
       "      <td>1</td>\n",
       "      <td>0</td>\n",
       "    </tr>\n",
       "    <tr>\n",
       "      <th>2</th>\n",
       "      <td>3</td>\n",
       "      <td>93</td>\n",
       "      <td>6</td>\n",
       "      <td>6123</td>\n",
       "      <td>06123_0102</td>\n",
       "      <td>2018</td>\n",
       "      <td>E101</td>\n",
       "      <td>1036999.8</td>\n",
       "      <td>6293318.37</td>\n",
       "      <td>Bonne</td>\n",
       "      <td>...</td>\n",
       "      <td>1</td>\n",
       "      <td>0</td>\n",
       "      <td>0</td>\n",
       "      <td>0</td>\n",
       "      <td>0</td>\n",
       "      <td>0</td>\n",
       "      <td>0</td>\n",
       "      <td>0</td>\n",
       "      <td>1</td>\n",
       "      <td>0</td>\n",
       "    </tr>\n",
       "  </tbody>\n",
       "</table>\n",
       "<p>3 rows × 60 columns</p>\n",
       "</div>"
      ],
      "text/plain": [
       "   fid  REG  DEP  DEPCOM      DCIRIS    AN TYPEQU  LAMBERT_X   LAMBERT_Y  \\\n",
       "0    1   93    6    6123  06123_0102  2018   A405  1036999.8  6293318.37   \n",
       "1    2   93    6    6123  06123_0102  2018   A505  1036999.8  6293318.37   \n",
       "2    3   93    6    6123  06123_0102  2018   E101  1036999.8  6293318.37   \n",
       "\n",
       "  QUALITE_XY  ... (LAB, is_tourist) (LAB, is_general_service)  \\\n",
       "0      Bonne  ...                 0                         0   \n",
       "1      Bonne  ...                 0                         0   \n",
       "2      Bonne  ...                 1                         0   \n",
       "\n",
       "   (LAB, is_commerce) (LAB, is_commerce_spec)  (LAB, is_grande_surface)  \\\n",
       "0                   0                       0                         0   \n",
       "1                   0                       0                         0   \n",
       "2                   0                       0                         0   \n",
       "\n",
       "  (LAB, is_high_educ) (LAB, is_schools) (LAB, is_transport)  iris_with_t2  \\\n",
       "0                   0                 0                   0             1   \n",
       "1                   0                 0                   0             1   \n",
       "2                   0                 0                   0             1   \n",
       "\n",
       "   iris_with_t1  \n",
       "0             0  \n",
       "1             0  \n",
       "2             0  \n",
       "\n",
       "[3 rows x 60 columns]"
      ]
     },
     "execution_count": 134,
     "metadata": {},
     "output_type": "execute_result"
    }
   ],
   "source": [
    "df2.head(3)"
   ]
  },
  {
   "cell_type": "markdown",
   "id": "f82e9bd9",
   "metadata": {},
   "source": [
    "## Feature selection"
   ]
  },
  {
   "cell_type": "code",
   "execution_count": 135,
   "id": "f2d91a85",
   "metadata": {},
   "outputs": [],
   "source": [
    "df2['iris_type']=df2['TYP_IRIS']"
   ]
  },
  {
   "cell_type": "code",
   "execution_count": 136,
   "id": "a62143fa",
   "metadata": {},
   "outputs": [
    {
     "data": {
      "text/plain": [
       "Index([                        'fid',                         'REG',\n",
       "                               'DEP',                      'DEPCOM',\n",
       "                            'DCIRIS',                          'AN',\n",
       "                            'TYPEQU',                   'LAMBERT_X',\n",
       "                         'LAMBERT_Y',                  'QUALITE_XY',\n",
       "                               'LAB',                      'CLASSE',\n",
       "                          'DEPCOM_2',                     'NOM_COM',\n",
       "                              'IRIS',                     'iris_id',\n",
       "                          'NOM_IRIS',                    'TYP_IRIS',\n",
       "                            'supkm2',                     'denskm2',\n",
       "                          'pop_2016',                      'ds_btp',\n",
       "                             'Agglo',                     'revenus',\n",
       "                         'bpe_index',                  'evol_15_24',\n",
       "                        '15_24_2016',                  '15_24_2017',\n",
       "                           'TC_2015',                     'TC_2016',\n",
       "                           'TC_2017',                   'cadr_2015',\n",
       "                         'cadr_2016',                   'cadr_2017',\n",
       "                          'cdi_2015',                    'cdi_2016',\n",
       "                          'cdi_2017',                  'ipondi_crs',\n",
       "                                'CL',                          'SC',\n",
       "                         'iris_type',                   'longitude',\n",
       "                          'latitude',             'Q_XY_acceptable',\n",
       "                        'Q_XY_bonne',               'Q_XY_mauvaise',\n",
       "                 ('LAB', 'is_sport'),         ('LAB', 'is_leasure'),\n",
       "               ('LAB', 'is_medical'),       ('LAB', 'is_socio_med'),\n",
       "               ('LAB', 'is_tourist'), ('LAB', 'is_general_service'),\n",
       "              ('LAB', 'is_commerce'),   ('LAB', 'is_commerce_spec'),\n",
       "        ('LAB', 'is_grande_surface'),       ('LAB', 'is_high_educ'),\n",
       "               ('LAB', 'is_schools'),       ('LAB', 'is_transport'),\n",
       "                      'iris_with_t2',                'iris_with_t1'],\n",
       "      dtype='object')"
      ]
     },
     "execution_count": 136,
     "metadata": {},
     "output_type": "execute_result"
    }
   ],
   "source": [
    "df2.columns"
   ]
  },
  {
   "cell_type": "code",
   "execution_count": 137,
   "id": "f52e2442",
   "metadata": {},
   "outputs": [],
   "source": [
    "imp_feat2 = [ 'iris_id','iris_type','iris_with_t1','iris_with_t2','AN', 'longitude', 'latitude',\n",
    "            ('LAB', 'is_sport'), ('LAB', 'is_leasure'), ('LAB', 'is_medical'), ('LAB', 'is_socio_med'),\n",
    "            ('LAB', 'is_tourist'), ('LAB', 'is_general_service'), ('LAB', 'is_commerce'), ('LAB', 'is_commerce_spec'),\n",
    "            ('LAB', 'is_grande_surface'), ('LAB', 'is_high_educ'), ('LAB', 'is_schools'), ('LAB', 'is_transport'),\n",
    "            'Q_XY_acceptable', 'Q_XY_bonne', 'Q_XY_mauvaise', 'LAB', 'CLASSE']"
   ]
  },
  {
   "cell_type": "code",
   "execution_count": 138,
   "id": "a79dc69b",
   "metadata": {},
   "outputs": [
    {
     "name": "stderr",
     "output_type": "stream",
     "text": [
      "/home/mchistya/.pyenv/versions/3.8.6/envs/trampact/lib/python3.8/site-packages/numpy/core/_asarray.py:102: VisibleDeprecationWarning: Creating an ndarray from ragged nested sequences (which is a list-or-tuple of lists-or-tuples-or ndarrays with different lengths or shapes) is deprecated. If you meant to do this, you must specify 'dtype=object' when creating the ndarray.\n",
      "  return array(a, dtype, copy=False, order=order)\n"
     ]
    }
   ],
   "source": [
    "df_main2=df2[imp_feat2]"
   ]
  },
  {
   "cell_type": "code",
   "execution_count": 139,
   "id": "77d000d4",
   "metadata": {},
   "outputs": [
    {
     "data": {
      "text/html": [
       "<div>\n",
       "<style scoped>\n",
       "    .dataframe tbody tr th:only-of-type {\n",
       "        vertical-align: middle;\n",
       "    }\n",
       "\n",
       "    .dataframe tbody tr th {\n",
       "        vertical-align: top;\n",
       "    }\n",
       "\n",
       "    .dataframe thead th {\n",
       "        text-align: right;\n",
       "    }\n",
       "</style>\n",
       "<table border=\"1\" class=\"dataframe\">\n",
       "  <thead>\n",
       "    <tr style=\"text-align: right;\">\n",
       "      <th></th>\n",
       "      <th>iris_id</th>\n",
       "      <th>iris_type</th>\n",
       "      <th>iris_with_t1</th>\n",
       "      <th>iris_with_t2</th>\n",
       "      <th>AN</th>\n",
       "      <th>longitude</th>\n",
       "      <th>latitude</th>\n",
       "      <th>(LAB, is_sport)</th>\n",
       "      <th>(LAB, is_leasure)</th>\n",
       "      <th>(LAB, is_medical)</th>\n",
       "      <th>...</th>\n",
       "      <th>(LAB, is_commerce_spec)</th>\n",
       "      <th>(LAB, is_grande_surface)</th>\n",
       "      <th>(LAB, is_high_educ)</th>\n",
       "      <th>(LAB, is_schools)</th>\n",
       "      <th>(LAB, is_transport)</th>\n",
       "      <th>Q_XY_acceptable</th>\n",
       "      <th>Q_XY_bonne</th>\n",
       "      <th>Q_XY_mauvaise</th>\n",
       "      <th>LAB</th>\n",
       "      <th>CLASSE</th>\n",
       "    </tr>\n",
       "  </thead>\n",
       "  <tbody>\n",
       "    <tr>\n",
       "      <th>0</th>\n",
       "      <td>061230102</td>\n",
       "      <td>H</td>\n",
       "      <td>0</td>\n",
       "      <td>1</td>\n",
       "      <td>2018</td>\n",
       "      <td>7.178602</td>\n",
       "      <td>43.658636</td>\n",
       "      <td>0</td>\n",
       "      <td>1</td>\n",
       "      <td>0</td>\n",
       "      <td>...</td>\n",
       "      <td>0</td>\n",
       "      <td>0</td>\n",
       "      <td>0</td>\n",
       "      <td>0</td>\n",
       "      <td>0</td>\n",
       "      <td>0.0</td>\n",
       "      <td>1.0</td>\n",
       "      <td>0.0</td>\n",
       "      <td>Électricien</td>\n",
       "      <td>Services a</td>\n",
       "    </tr>\n",
       "    <tr>\n",
       "      <th>1</th>\n",
       "      <td>061230102</td>\n",
       "      <td>H</td>\n",
       "      <td>0</td>\n",
       "      <td>1</td>\n",
       "      <td>2018</td>\n",
       "      <td>7.178602</td>\n",
       "      <td>43.658636</td>\n",
       "      <td>0</td>\n",
       "      <td>0</td>\n",
       "      <td>1</td>\n",
       "      <td>...</td>\n",
       "      <td>0</td>\n",
       "      <td>0</td>\n",
       "      <td>0</td>\n",
       "      <td>0</td>\n",
       "      <td>0</td>\n",
       "      <td>0.0</td>\n",
       "      <td>1.0</td>\n",
       "      <td>0.0</td>\n",
       "      <td>Agence immobilière</td>\n",
       "      <td>Services a</td>\n",
       "    </tr>\n",
       "    <tr>\n",
       "      <th>2</th>\n",
       "      <td>061230102</td>\n",
       "      <td>H</td>\n",
       "      <td>0</td>\n",
       "      <td>1</td>\n",
       "      <td>2018</td>\n",
       "      <td>7.178602</td>\n",
       "      <td>43.658636</td>\n",
       "      <td>0</td>\n",
       "      <td>0</td>\n",
       "      <td>0</td>\n",
       "      <td>...</td>\n",
       "      <td>0</td>\n",
       "      <td>0</td>\n",
       "      <td>0</td>\n",
       "      <td>0</td>\n",
       "      <td>0</td>\n",
       "      <td>0.0</td>\n",
       "      <td>1.0</td>\n",
       "      <td>0.0</td>\n",
       "      <td>Taxi</td>\n",
       "      <td>Transport</td>\n",
       "    </tr>\n",
       "  </tbody>\n",
       "</table>\n",
       "<p>3 rows × 24 columns</p>\n",
       "</div>"
      ],
      "text/plain": [
       "     iris_id iris_type  iris_with_t1  iris_with_t2    AN  longitude  \\\n",
       "0  061230102         H             0             1  2018   7.178602   \n",
       "1  061230102         H             0             1  2018   7.178602   \n",
       "2  061230102         H             0             1  2018   7.178602   \n",
       "\n",
       "    latitude  (LAB, is_sport)  (LAB, is_leasure)  (LAB, is_medical)  ...  \\\n",
       "0  43.658636                0                  1                  0  ...   \n",
       "1  43.658636                0                  0                  1  ...   \n",
       "2  43.658636                0                  0                  0  ...   \n",
       "\n",
       "   (LAB, is_commerce_spec)  (LAB, is_grande_surface)  (LAB, is_high_educ)  \\\n",
       "0                        0                         0                    0   \n",
       "1                        0                         0                    0   \n",
       "2                        0                         0                    0   \n",
       "\n",
       "   (LAB, is_schools)  (LAB, is_transport)  Q_XY_acceptable  Q_XY_bonne  \\\n",
       "0                  0                    0              0.0         1.0   \n",
       "1                  0                    0              0.0         1.0   \n",
       "2                  0                    0              0.0         1.0   \n",
       "\n",
       "   Q_XY_mauvaise                  LAB      CLASSE  \n",
       "0            0.0         Électricien  Services a  \n",
       "1            0.0  Agence immobilière  Services a  \n",
       "2            0.0                 Taxi   Transport  \n",
       "\n",
       "[3 rows x 24 columns]"
      ]
     },
     "execution_count": 139,
     "metadata": {},
     "output_type": "execute_result"
    }
   ],
   "source": [
    "df_main2.head(3)"
   ]
  },
  {
   "cell_type": "code",
   "execution_count": 140,
   "id": "2e807b7e",
   "metadata": {},
   "outputs": [
    {
     "data": {
      "text/plain": [
       "(11419, 24)"
      ]
     },
     "execution_count": 140,
     "metadata": {},
     "output_type": "execute_result"
    }
   ],
   "source": [
    "df_main2.shape"
   ]
  },
  {
   "cell_type": "code",
   "execution_count": 141,
   "id": "4d59dd4e",
   "metadata": {},
   "outputs": [],
   "source": [
    "df_main2.to_csv('../raw_data/bpe_t2_clean.csv')"
   ]
  },
  {
   "cell_type": "markdown",
   "id": "299e1187",
   "metadata": {},
   "source": [
    "## Aggregation at iris level"
   ]
  },
  {
   "cell_type": "code",
   "execution_count": 138,
   "id": "b5a1981e",
   "metadata": {},
   "outputs": [
    {
     "data": {
      "text/html": [
       "<div>\n",
       "<style scoped>\n",
       "    .dataframe tbody tr th:only-of-type {\n",
       "        vertical-align: middle;\n",
       "    }\n",
       "\n",
       "    .dataframe tbody tr th {\n",
       "        vertical-align: top;\n",
       "    }\n",
       "\n",
       "    .dataframe thead tr th {\n",
       "        text-align: left;\n",
       "    }\n",
       "\n",
       "    .dataframe thead tr:last-of-type th {\n",
       "        text-align: right;\n",
       "    }\n",
       "</style>\n",
       "<table border=\"1\" class=\"dataframe\">\n",
       "  <thead>\n",
       "    <tr>\n",
       "      <th></th>\n",
       "      <th colspan=\"12\" halign=\"left\">LAB</th>\n",
       "    </tr>\n",
       "    <tr>\n",
       "      <th></th>\n",
       "      <th>count_sport</th>\n",
       "      <th>count_leasure</th>\n",
       "      <th>count_medical</th>\n",
       "      <th>count_socio_med</th>\n",
       "      <th>count_tourist</th>\n",
       "      <th>count_general_service</th>\n",
       "      <th>count_commerce</th>\n",
       "      <th>count_commerce_spec</th>\n",
       "      <th>count_grande_surface</th>\n",
       "      <th>count_high_educ</th>\n",
       "      <th>count_schools</th>\n",
       "      <th>count_transport</th>\n",
       "    </tr>\n",
       "    <tr>\n",
       "      <th>iris_id</th>\n",
       "      <th></th>\n",
       "      <th></th>\n",
       "      <th></th>\n",
       "      <th></th>\n",
       "      <th></th>\n",
       "      <th></th>\n",
       "      <th></th>\n",
       "      <th></th>\n",
       "      <th></th>\n",
       "      <th></th>\n",
       "      <th></th>\n",
       "      <th></th>\n",
       "    </tr>\n",
       "  </thead>\n",
       "  <tbody>\n",
       "    <tr>\n",
       "      <th>060880101</th>\n",
       "      <td>0</td>\n",
       "      <td>1</td>\n",
       "      <td>27</td>\n",
       "      <td>1</td>\n",
       "      <td>7</td>\n",
       "      <td>2</td>\n",
       "      <td>35</td>\n",
       "      <td>190</td>\n",
       "      <td>6</td>\n",
       "      <td>2</td>\n",
       "      <td>4</td>\n",
       "      <td>1</td>\n",
       "    </tr>\n",
       "    <tr>\n",
       "      <th>060880102</th>\n",
       "      <td>0</td>\n",
       "      <td>1</td>\n",
       "      <td>17</td>\n",
       "      <td>0</td>\n",
       "      <td>2</td>\n",
       "      <td>0</td>\n",
       "      <td>40</td>\n",
       "      <td>226</td>\n",
       "      <td>2</td>\n",
       "      <td>0</td>\n",
       "      <td>0</td>\n",
       "      <td>1</td>\n",
       "    </tr>\n",
       "    <tr>\n",
       "      <th>060880103</th>\n",
       "      <td>6</td>\n",
       "      <td>0</td>\n",
       "      <td>17</td>\n",
       "      <td>1</td>\n",
       "      <td>3</td>\n",
       "      <td>0</td>\n",
       "      <td>37</td>\n",
       "      <td>115</td>\n",
       "      <td>3</td>\n",
       "      <td>0</td>\n",
       "      <td>2</td>\n",
       "      <td>2</td>\n",
       "    </tr>\n",
       "    <tr>\n",
       "      <th>060880201</th>\n",
       "      <td>2</td>\n",
       "      <td>2</td>\n",
       "      <td>68</td>\n",
       "      <td>1</td>\n",
       "      <td>4</td>\n",
       "      <td>1</td>\n",
       "      <td>50</td>\n",
       "      <td>121</td>\n",
       "      <td>10</td>\n",
       "      <td>0</td>\n",
       "      <td>4</td>\n",
       "      <td>7</td>\n",
       "    </tr>\n",
       "    <tr>\n",
       "      <th>060880202</th>\n",
       "      <td>1</td>\n",
       "      <td>0</td>\n",
       "      <td>21</td>\n",
       "      <td>0</td>\n",
       "      <td>8</td>\n",
       "      <td>1</td>\n",
       "      <td>21</td>\n",
       "      <td>83</td>\n",
       "      <td>11</td>\n",
       "      <td>2</td>\n",
       "      <td>3</td>\n",
       "      <td>7</td>\n",
       "    </tr>\n",
       "    <tr>\n",
       "      <th>...</th>\n",
       "      <td>...</td>\n",
       "      <td>...</td>\n",
       "      <td>...</td>\n",
       "      <td>...</td>\n",
       "      <td>...</td>\n",
       "      <td>...</td>\n",
       "      <td>...</td>\n",
       "      <td>...</td>\n",
       "      <td>...</td>\n",
       "      <td>...</td>\n",
       "      <td>...</td>\n",
       "      <td>...</td>\n",
       "    </tr>\n",
       "    <tr>\n",
       "      <th>061230107</th>\n",
       "      <td>0</td>\n",
       "      <td>0</td>\n",
       "      <td>41</td>\n",
       "      <td>0</td>\n",
       "      <td>3</td>\n",
       "      <td>3</td>\n",
       "      <td>40</td>\n",
       "      <td>71</td>\n",
       "      <td>13</td>\n",
       "      <td>0</td>\n",
       "      <td>6</td>\n",
       "      <td>4</td>\n",
       "    </tr>\n",
       "    <tr>\n",
       "      <th>061230108</th>\n",
       "      <td>2</td>\n",
       "      <td>0</td>\n",
       "      <td>0</td>\n",
       "      <td>0</td>\n",
       "      <td>0</td>\n",
       "      <td>0</td>\n",
       "      <td>0</td>\n",
       "      <td>0</td>\n",
       "      <td>0</td>\n",
       "      <td>0</td>\n",
       "      <td>1</td>\n",
       "      <td>1</td>\n",
       "    </tr>\n",
       "    <tr>\n",
       "      <th>061230109</th>\n",
       "      <td>1</td>\n",
       "      <td>0</td>\n",
       "      <td>0</td>\n",
       "      <td>0</td>\n",
       "      <td>0</td>\n",
       "      <td>0</td>\n",
       "      <td>1</td>\n",
       "      <td>1</td>\n",
       "      <td>0</td>\n",
       "      <td>0</td>\n",
       "      <td>1</td>\n",
       "      <td>0</td>\n",
       "    </tr>\n",
       "    <tr>\n",
       "      <th>061230110</th>\n",
       "      <td>3</td>\n",
       "      <td>0</td>\n",
       "      <td>0</td>\n",
       "      <td>0</td>\n",
       "      <td>0</td>\n",
       "      <td>0</td>\n",
       "      <td>0</td>\n",
       "      <td>0</td>\n",
       "      <td>1</td>\n",
       "      <td>0</td>\n",
       "      <td>0</td>\n",
       "      <td>0</td>\n",
       "    </tr>\n",
       "    <tr>\n",
       "      <th>061230111</th>\n",
       "      <td>1</td>\n",
       "      <td>0</td>\n",
       "      <td>0</td>\n",
       "      <td>0</td>\n",
       "      <td>0</td>\n",
       "      <td>0</td>\n",
       "      <td>0</td>\n",
       "      <td>0</td>\n",
       "      <td>0</td>\n",
       "      <td>0</td>\n",
       "      <td>0</td>\n",
       "      <td>0</td>\n",
       "    </tr>\n",
       "  </tbody>\n",
       "</table>\n",
       "<p>100 rows × 12 columns</p>\n",
       "</div>"
      ],
      "text/plain": [
       "                  LAB                                              \\\n",
       "          count_sport count_leasure count_medical count_socio_med   \n",
       "iris_id                                                             \n",
       "060880101           0             1            27               1   \n",
       "060880102           0             1            17               0   \n",
       "060880103           6             0            17               1   \n",
       "060880201           2             2            68               1   \n",
       "060880202           1             0            21               0   \n",
       "...               ...           ...           ...             ...   \n",
       "061230107           0             0            41               0   \n",
       "061230108           2             0             0               0   \n",
       "061230109           1             0             0               0   \n",
       "061230110           3             0             0               0   \n",
       "061230111           1             0             0               0   \n",
       "\n",
       "                                                              \\\n",
       "          count_tourist count_general_service count_commerce   \n",
       "iris_id                                                        \n",
       "060880101             7                     2             35   \n",
       "060880102             2                     0             40   \n",
       "060880103             3                     0             37   \n",
       "060880201             4                     1             50   \n",
       "060880202             8                     1             21   \n",
       "...                 ...                   ...            ...   \n",
       "061230107             3                     3             40   \n",
       "061230108             0                     0              0   \n",
       "061230109             0                     0              1   \n",
       "061230110             0                     0              0   \n",
       "061230111             0                     0              0   \n",
       "\n",
       "                                                                    \\\n",
       "          count_commerce_spec count_grande_surface count_high_educ   \n",
       "iris_id                                                              \n",
       "060880101                 190                    6               2   \n",
       "060880102                 226                    2               0   \n",
       "060880103                 115                    3               0   \n",
       "060880201                 121                   10               0   \n",
       "060880202                  83                   11               2   \n",
       "...                       ...                  ...             ...   \n",
       "061230107                  71                   13               0   \n",
       "061230108                   0                    0               0   \n",
       "061230109                   1                    0               0   \n",
       "061230110                   0                    1               0   \n",
       "061230111                   0                    0               0   \n",
       "\n",
       "                                         \n",
       "          count_schools count_transport  \n",
       "iris_id                                  \n",
       "060880101             4               1  \n",
       "060880102             0               1  \n",
       "060880103             2               2  \n",
       "060880201             4               7  \n",
       "060880202             3               7  \n",
       "...                 ...             ...  \n",
       "061230107             6               4  \n",
       "061230108             1               1  \n",
       "061230109             1               0  \n",
       "061230110             0               0  \n",
       "061230111             0               0  \n",
       "\n",
       "[100 rows x 12 columns]"
      ]
     },
     "execution_count": 138,
     "metadata": {},
     "output_type": "execute_result"
    }
   ],
   "source": [
    "df_main_agg2 = df_main2.groupby('iris_id').agg({\n",
    "    'LAB':[count_sport, count_leasure, count_medical, count_socio_med, \n",
    "           count_tourist,count_general_service,count_commerce,count_commerce_spec,\n",
    "           count_grande_surface,count_high_educ,count_schools,count_transport]\n",
    "})\n",
    "df_main_agg2"
   ]
  },
  {
   "cell_type": "code",
   "execution_count": 139,
   "id": "914abc25",
   "metadata": {},
   "outputs": [
    {
     "data": {
      "text/plain": [
       "100"
      ]
     },
     "execution_count": 139,
     "metadata": {},
     "output_type": "execute_result"
    }
   ],
   "source": [
    "len(df_main_agg2.index)"
   ]
  },
  {
   "cell_type": "code",
   "execution_count": 140,
   "id": "c687ff84",
   "metadata": {},
   "outputs": [],
   "source": [
    "df_main_agg2['iris_with_t1']=df_main_agg2.index.map(lambda x: 1 if x in list_irist1 else 0)"
   ]
  },
  {
   "cell_type": "code",
   "execution_count": 141,
   "id": "0e63d563",
   "metadata": {},
   "outputs": [],
   "source": [
    "# Identify if T2 passes through the iris\n",
    "df_main_agg2['iris_with_t2']=df_main_agg2.index.map(lambda x: 1 if x in list_irist2 else 0)"
   ]
  },
  {
   "cell_type": "code",
   "execution_count": 142,
   "id": "1df2cbce",
   "metadata": {},
   "outputs": [
    {
     "data": {
      "text/html": [
       "<div>\n",
       "<style scoped>\n",
       "    .dataframe tbody tr th:only-of-type {\n",
       "        vertical-align: middle;\n",
       "    }\n",
       "\n",
       "    .dataframe tbody tr th {\n",
       "        vertical-align: top;\n",
       "    }\n",
       "\n",
       "    .dataframe thead tr th {\n",
       "        text-align: left;\n",
       "    }\n",
       "\n",
       "    .dataframe thead tr:last-of-type th {\n",
       "        text-align: right;\n",
       "    }\n",
       "</style>\n",
       "<table border=\"1\" class=\"dataframe\">\n",
       "  <thead>\n",
       "    <tr>\n",
       "      <th></th>\n",
       "      <th colspan=\"12\" halign=\"left\">LAB</th>\n",
       "      <th>iris_with_t1</th>\n",
       "      <th>iris_with_t2</th>\n",
       "    </tr>\n",
       "    <tr>\n",
       "      <th></th>\n",
       "      <th>count_sport</th>\n",
       "      <th>count_leasure</th>\n",
       "      <th>count_medical</th>\n",
       "      <th>count_socio_med</th>\n",
       "      <th>count_tourist</th>\n",
       "      <th>count_general_service</th>\n",
       "      <th>count_commerce</th>\n",
       "      <th>count_commerce_spec</th>\n",
       "      <th>count_grande_surface</th>\n",
       "      <th>count_high_educ</th>\n",
       "      <th>count_schools</th>\n",
       "      <th>count_transport</th>\n",
       "      <th></th>\n",
       "      <th></th>\n",
       "    </tr>\n",
       "    <tr>\n",
       "      <th>iris_id</th>\n",
       "      <th></th>\n",
       "      <th></th>\n",
       "      <th></th>\n",
       "      <th></th>\n",
       "      <th></th>\n",
       "      <th></th>\n",
       "      <th></th>\n",
       "      <th></th>\n",
       "      <th></th>\n",
       "      <th></th>\n",
       "      <th></th>\n",
       "      <th></th>\n",
       "      <th></th>\n",
       "      <th></th>\n",
       "    </tr>\n",
       "  </thead>\n",
       "  <tbody>\n",
       "    <tr>\n",
       "      <th>060880101</th>\n",
       "      <td>0</td>\n",
       "      <td>1</td>\n",
       "      <td>27</td>\n",
       "      <td>1</td>\n",
       "      <td>7</td>\n",
       "      <td>2</td>\n",
       "      <td>35</td>\n",
       "      <td>190</td>\n",
       "      <td>6</td>\n",
       "      <td>2</td>\n",
       "      <td>4</td>\n",
       "      <td>1</td>\n",
       "      <td>0</td>\n",
       "      <td>1</td>\n",
       "    </tr>\n",
       "    <tr>\n",
       "      <th>060880102</th>\n",
       "      <td>0</td>\n",
       "      <td>1</td>\n",
       "      <td>17</td>\n",
       "      <td>0</td>\n",
       "      <td>2</td>\n",
       "      <td>0</td>\n",
       "      <td>40</td>\n",
       "      <td>226</td>\n",
       "      <td>2</td>\n",
       "      <td>0</td>\n",
       "      <td>0</td>\n",
       "      <td>1</td>\n",
       "      <td>1</td>\n",
       "      <td>1</td>\n",
       "    </tr>\n",
       "    <tr>\n",
       "      <th>060880103</th>\n",
       "      <td>6</td>\n",
       "      <td>0</td>\n",
       "      <td>17</td>\n",
       "      <td>1</td>\n",
       "      <td>3</td>\n",
       "      <td>0</td>\n",
       "      <td>37</td>\n",
       "      <td>115</td>\n",
       "      <td>3</td>\n",
       "      <td>0</td>\n",
       "      <td>2</td>\n",
       "      <td>2</td>\n",
       "      <td>1</td>\n",
       "      <td>1</td>\n",
       "    </tr>\n",
       "  </tbody>\n",
       "</table>\n",
       "</div>"
      ],
      "text/plain": [
       "                  LAB                                              \\\n",
       "          count_sport count_leasure count_medical count_socio_med   \n",
       "iris_id                                                             \n",
       "060880101           0             1            27               1   \n",
       "060880102           0             1            17               0   \n",
       "060880103           6             0            17               1   \n",
       "\n",
       "                                                              \\\n",
       "          count_tourist count_general_service count_commerce   \n",
       "iris_id                                                        \n",
       "060880101             7                     2             35   \n",
       "060880102             2                     0             40   \n",
       "060880103             3                     0             37   \n",
       "\n",
       "                                                                    \\\n",
       "          count_commerce_spec count_grande_surface count_high_educ   \n",
       "iris_id                                                              \n",
       "060880101                 190                    6               2   \n",
       "060880102                 226                    2               0   \n",
       "060880103                 115                    3               0   \n",
       "\n",
       "                                        iris_with_t1 iris_with_t2  \n",
       "          count_schools count_transport                            \n",
       "iris_id                                                            \n",
       "060880101             4               1            0            1  \n",
       "060880102             0               1            1            1  \n",
       "060880103             2               2            1            1  "
      ]
     },
     "execution_count": 142,
     "metadata": {},
     "output_type": "execute_result"
    }
   ],
   "source": [
    "df_main_agg2.head(3)"
   ]
  },
  {
   "cell_type": "code",
   "execution_count": 143,
   "id": "214ed2a4",
   "metadata": {},
   "outputs": [
    {
     "data": {
      "text/plain": [
       "(100, 14)"
      ]
     },
     "execution_count": 143,
     "metadata": {},
     "output_type": "execute_result"
    }
   ],
   "source": [
    "df_main_agg2.shape"
   ]
  },
  {
   "cell_type": "code",
   "execution_count": 144,
   "id": "bb4b5c0c",
   "metadata": {},
   "outputs": [],
   "source": [
    "df_main_agg2.to_csv('../raw_data/bpe_t2_agg_iris_clean.csv')"
   ]
  },
  {
   "cell_type": "code",
   "execution_count": null,
   "id": "184598b8",
   "metadata": {},
   "outputs": [],
   "source": []
  }
 ],
 "metadata": {
  "kernelspec": {
   "display_name": "Python 3",
   "language": "python",
   "name": "python3"
  },
  "language_info": {
   "codemirror_mode": {
    "name": "ipython",
    "version": 3
   },
   "file_extension": ".py",
   "mimetype": "text/x-python",
   "name": "python",
   "nbconvert_exporter": "python",
   "pygments_lexer": "ipython3",
   "version": "3.8.6"
  },
  "toc": {
   "base_numbering": 1,
   "nav_menu": {},
   "number_sections": true,
   "sideBar": true,
   "skip_h1_title": false,
   "title_cell": "Table of Contents",
   "title_sidebar": "Contents",
   "toc_cell": false,
   "toc_position": {},
   "toc_section_display": true,
   "toc_window_display": false
  }
 },
 "nbformat": 4,
 "nbformat_minor": 5
}
