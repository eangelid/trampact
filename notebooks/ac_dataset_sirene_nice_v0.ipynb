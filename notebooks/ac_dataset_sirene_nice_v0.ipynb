{
 "cells": [
  {
   "cell_type": "markdown",
   "id": "0d75215c",
   "metadata": {},
   "source": [
    "# Analyse data based \"sirene_nice\""
   ]
  },
  {
   "cell_type": "markdown",
   "id": "991e6284",
   "metadata": {},
   "source": [
    "## Import chemin"
   ]
  },
  {
   "cell_type": "code",
   "execution_count": 4,
   "id": "33213430",
   "metadata": {},
   "outputs": [],
   "source": [
    "#Pour voire toute les columns et les rows du dataframe\n",
    "from IPython.display import display\n",
    "pd.options.display.max_columns = None\n",
    "pd.options.display.max_rows = None"
   ]
  },
  {
   "cell_type": "code",
   "execution_count": null,
   "id": "8c2f48e3",
   "metadata": {},
   "outputs": [],
   "source": [
    "import os\n",
    "# Path\n",
    "path_v2=\"..\"\n",
    "path_v3 = \"raw_data\"\n",
    "fichier='sirene_nice.csv'\n",
    "  \n",
    "# Join various path components \n",
    "fichier=os.path.join(path_v2,path_v3, fichier)\n",
    "fichier"
   ]
  },
  {
   "cell_type": "code",
   "execution_count": null,
   "id": "dbbd8216",
   "metadata": {},
   "outputs": [],
   "source": [
    "import pandas as pd\n",
    "entreprise_df = pd.read_csv(fichier,delimiter=\";\")\n",
    "entreprise_df.head()"
   ]
  },
  {
   "cell_type": "code",
   "execution_count": null,
   "id": "fc3d3842",
   "metadata": {},
   "outputs": [],
   "source": []
  },
  {
   "cell_type": "code",
   "execution_count": null,
   "id": "14222b1f",
   "metadata": {},
   "outputs": [],
   "source": []
  },
  {
   "cell_type": "code",
   "execution_count": null,
   "id": "8c973325",
   "metadata": {},
   "outputs": [],
   "source": []
  },
  {
   "cell_type": "code",
   "execution_count": null,
   "id": "532ea4be",
   "metadata": {},
   "outputs": [],
   "source": []
  },
  {
   "cell_type": "code",
   "execution_count": null,
   "id": "ea0e3e67",
   "metadata": {},
   "outputs": [],
   "source": []
  }
 ],
 "metadata": {
  "kernelspec": {
   "display_name": "Python 3",
   "language": "python",
   "name": "python3"
  },
  "language_info": {
   "codemirror_mode": {
    "name": "ipython",
    "version": 3
   },
   "file_extension": ".py",
   "mimetype": "text/x-python",
   "name": "python",
   "nbconvert_exporter": "python",
   "pygments_lexer": "ipython3",
   "version": "3.8.6"
  },
  "toc": {
   "base_numbering": 1,
   "nav_menu": {},
   "number_sections": true,
   "sideBar": true,
   "skip_h1_title": false,
   "title_cell": "Table of Contents",
   "title_sidebar": "Contents",
   "toc_cell": false,
   "toc_position": {},
   "toc_section_display": true,
   "toc_window_display": false
  },
  "varInspector": {
   "cols": {
    "lenName": 16,
    "lenType": 16,
    "lenVar": 40
   },
   "kernels_config": {
    "python": {
     "delete_cmd_postfix": "",
     "delete_cmd_prefix": "del ",
     "library": "var_list.py",
     "varRefreshCmd": "print(var_dic_list())"
    },
    "r": {
     "delete_cmd_postfix": ") ",
     "delete_cmd_prefix": "rm(",
     "library": "var_list.r",
     "varRefreshCmd": "cat(var_dic_list()) "
    }
   },
   "types_to_exclude": [
    "module",
    "function",
    "builtin_function_or_method",
    "instance",
    "_Feature"
   ],
   "window_display": false
  }
 },
 "nbformat": 4,
 "nbformat_minor": 5
}
