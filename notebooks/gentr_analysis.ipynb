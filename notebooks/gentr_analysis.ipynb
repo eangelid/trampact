{
 "metadata": {
  "language_info": {
   "codemirror_mode": {
    "name": "ipython",
    "version": 3
   },
   "file_extension": ".py",
   "mimetype": "text/x-python",
   "name": "python",
   "nbconvert_exporter": "python",
   "pygments_lexer": "ipython3",
   "version": "3.8.6"
  },
  "orig_nbformat": 2,
  "kernelspec": {
   "name": "python386jvsc74a57bd006a90510172326fbbffec9b48f3801d94e53116406f365a5608c3c2a18acae9f",
   "display_name": "Python 3.8.6 64-bit ('lewagon': pyenv)"
  }
 },
 "nbformat": 4,
 "nbformat_minor": 2,
 "cells": [
  {
   "cell_type": "code",
   "execution_count": 8,
   "metadata": {},
   "outputs": [],
   "source": [
    "import pandas as pd\n",
    "\n",
    "from trampact.preprocess import get_data"
   ]
  },
  {
   "cell_type": "code",
   "execution_count": 9,
   "metadata": {},
   "outputs": [
    {
     "output_type": "stream",
     "name": "stdout",
     "text": [
      "/home/primitive/code/eangelid/trampact/notebooks\n"
     ]
    }
   ],
   "source": [
    "!pwd"
   ]
  },
  {
   "cell_type": "code",
   "execution_count": 10,
   "metadata": {},
   "outputs": [],
   "source": [
    "IRIS_T1_CSV = 'iris_T1.csv'\n",
    "IRIS_T2_CSV = 'iris_T2.csv'\n",
    "BD_GENT_2006 = 'BD_GENT_2006.csv'\n",
    "BD_GENT_2016 = 'BD_GENT_2016.csv'"
   ]
  },
  {
   "source": [
    "#### Load T1 and T2 IRIS codes"
   ],
   "cell_type": "markdown",
   "metadata": {}
  },
  {
   "cell_type": "code",
   "execution_count": 11,
   "metadata": {},
   "outputs": [
    {
     "output_type": "stream",
     "name": "stdout",
     "text": [
      "/home/primitive/code/eangelid/trampact/trampact\n"
     ]
    },
    {
     "output_type": "execute_result",
     "data": {
      "text/plain": [
       "    iris_id                 NOM_IRIS\n",
       "0  60881304          Saint-Sylvestre\n",
       "1  60881503  Jeanne d'Arc-Fuon-Cauda\n",
       "2  60881303                 Gorbella\n",
       "3  60881505                 Michelet\n",
       "4  60881302         Saint-Barthelemy"
      ],
      "text/html": "<div>\n<style scoped>\n    .dataframe tbody tr th:only-of-type {\n        vertical-align: middle;\n    }\n\n    .dataframe tbody tr th {\n        vertical-align: top;\n    }\n\n    .dataframe thead th {\n        text-align: right;\n    }\n</style>\n<table border=\"1\" class=\"dataframe\">\n  <thead>\n    <tr style=\"text-align: right;\">\n      <th></th>\n      <th>iris_id</th>\n      <th>NOM_IRIS</th>\n    </tr>\n  </thead>\n  <tbody>\n    <tr>\n      <th>0</th>\n      <td>60881304</td>\n      <td>Saint-Sylvestre</td>\n    </tr>\n    <tr>\n      <th>1</th>\n      <td>60881503</td>\n      <td>Jeanne d'Arc-Fuon-Cauda</td>\n    </tr>\n    <tr>\n      <th>2</th>\n      <td>60881303</td>\n      <td>Gorbella</td>\n    </tr>\n    <tr>\n      <th>3</th>\n      <td>60881505</td>\n      <td>Michelet</td>\n    </tr>\n    <tr>\n      <th>4</th>\n      <td>60881302</td>\n      <td>Saint-Barthelemy</td>\n    </tr>\n  </tbody>\n</table>\n</div>"
     },
     "metadata": {},
     "execution_count": 11
    }
   ],
   "source": [
    "iris_T1 = get_data(IRIS_T1_CSV, is_local_csv=True)\n",
    "iris_T1.head()"
   ]
  },
  {
   "cell_type": "code",
   "execution_count": 12,
   "metadata": {},
   "outputs": [
    {
     "output_type": "stream",
     "name": "stdout",
     "text": [
      "/home/primitive/code/eangelid/trampact/trampact\n"
     ]
    },
    {
     "output_type": "execute_result",
     "data": {
      "text/plain": [
       "    iris_id         NOM_IRIS\n",
       "0  61230107     Centre Ville\n",
       "1  61230103     Les Pomarels\n",
       "2  61230102       Les Paluds\n",
       "3  61230101           Le Lac\n",
       "4  60883102  Parc des Sports"
      ],
      "text/html": "<div>\n<style scoped>\n    .dataframe tbody tr th:only-of-type {\n        vertical-align: middle;\n    }\n\n    .dataframe tbody tr th {\n        vertical-align: top;\n    }\n\n    .dataframe thead th {\n        text-align: right;\n    }\n</style>\n<table border=\"1\" class=\"dataframe\">\n  <thead>\n    <tr style=\"text-align: right;\">\n      <th></th>\n      <th>iris_id</th>\n      <th>NOM_IRIS</th>\n    </tr>\n  </thead>\n  <tbody>\n    <tr>\n      <th>0</th>\n      <td>61230107</td>\n      <td>Centre Ville</td>\n    </tr>\n    <tr>\n      <th>1</th>\n      <td>61230103</td>\n      <td>Les Pomarels</td>\n    </tr>\n    <tr>\n      <th>2</th>\n      <td>61230102</td>\n      <td>Les Paluds</td>\n    </tr>\n    <tr>\n      <th>3</th>\n      <td>61230101</td>\n      <td>Le Lac</td>\n    </tr>\n    <tr>\n      <th>4</th>\n      <td>60883102</td>\n      <td>Parc des Sports</td>\n    </tr>\n  </tbody>\n</table>\n</div>"
     },
     "metadata": {},
     "execution_count": 12
    }
   ],
   "source": [
    "iris_T2 = get_data(IRIS_T2_CSV, is_local_csv=True)[['iris_id', 'NOM_IRIS']]\n",
    "iris_T2.head()"
   ]
  },
  {
   "source": [
    "#### Load demographic data"
   ],
   "cell_type": "markdown",
   "metadata": {}
  },
  {
   "cell_type": "code",
   "execution_count": 13,
   "metadata": {},
   "outputs": [
    {
     "output_type": "stream",
     "name": "stdout",
     "text": [
      "/home/primitive/code/eangelid/trampact/trampact\n(500, 45)\n"
     ]
    },
    {
     "output_type": "execute_result",
     "data": {
      "text/plain": [
       "    iris_id  t_actifs_2006  t_chom_2006   empl_2006  ouvrier_2006     TP_2006  \\\n",
       "0  60010000      32.377778     2.088889    8.355556      0.000000    6.266667   \n",
       "1  60020000      12.008551     3.002138    4.002850      4.002850    1.000713   \n",
       "2  60030000     232.021978    24.725275   51.282051     80.586081   32.967033   \n",
       "3  60040101     558.359852    79.552998  189.506664    142.278837  104.191062   \n",
       "4  60040102    1322.676650    95.706717  453.856986    188.318276  203.919192   \n",
       "\n",
       "    Int_2006  app_stage_2006   cdd_2006  rev_2006  ...  tx_TC_2006  \\\n",
       "0   0.000000        0.000000   8.355556   17465.0  ...   12.903226   \n",
       "1   0.000000        0.973333   0.000000       NaN  ...    0.000000   \n",
       "2   0.915751        3.622305  28.388278   13866.0  ...    0.000000   \n",
       "3   0.000000        9.724609  43.918480   20108.0  ...   12.450518   \n",
       "4  11.170277       17.151069  81.122892   18178.0  ...    5.740664   \n",
       "\n",
       "   tx_HH_moins2ans_2006  tx_HH_2_4ans_2006  tx_HH_5_9ans_2006  \\\n",
       "0             12.903226          29.032258          22.580645   \n",
       "1             25.000002          33.333331          16.666665   \n",
       "2             24.111964          22.533232          20.918190   \n",
       "3              3.569231          13.748829           9.705411   \n",
       "4              5.073478          11.192460          16.480261   \n",
       "\n",
       "   tx_HH_plus10ans_2006  tx_HH_with_park_2006  tx_HH_with_voit_2006  \\\n",
       "0             83.870969             80.645160            122.580645   \n",
       "1             58.333333             66.666669            133.333331   \n",
       "2             28.058792             58.413059             86.544473   \n",
       "3             36.637534             48.238210             61.290878   \n",
       "4             42.846445             52.077781             70.229033   \n",
       "\n",
       "   tx_HH_1voit_2006  tx_HH_2voit_2006  tx_empl_prec_2006  \n",
       "0         74.193547         48.387097          25.806453  \n",
       "1        108.333328         25.000002           8.105335  \n",
       "2         56.081273         30.463200          14.191041  \n",
       "3         30.845691         30.445187           9.607261  \n",
       "4         33.934914         36.294119           8.274451  \n",
       "\n",
       "[5 rows x 45 columns]"
      ],
      "text/html": "<div>\n<style scoped>\n    .dataframe tbody tr th:only-of-type {\n        vertical-align: middle;\n    }\n\n    .dataframe tbody tr th {\n        vertical-align: top;\n    }\n\n    .dataframe thead th {\n        text-align: right;\n    }\n</style>\n<table border=\"1\" class=\"dataframe\">\n  <thead>\n    <tr style=\"text-align: right;\">\n      <th></th>\n      <th>iris_id</th>\n      <th>t_actifs_2006</th>\n      <th>t_chom_2006</th>\n      <th>empl_2006</th>\n      <th>ouvrier_2006</th>\n      <th>TP_2006</th>\n      <th>Int_2006</th>\n      <th>app_stage_2006</th>\n      <th>cdd_2006</th>\n      <th>rev_2006</th>\n      <th>...</th>\n      <th>tx_TC_2006</th>\n      <th>tx_HH_moins2ans_2006</th>\n      <th>tx_HH_2_4ans_2006</th>\n      <th>tx_HH_5_9ans_2006</th>\n      <th>tx_HH_plus10ans_2006</th>\n      <th>tx_HH_with_park_2006</th>\n      <th>tx_HH_with_voit_2006</th>\n      <th>tx_HH_1voit_2006</th>\n      <th>tx_HH_2voit_2006</th>\n      <th>tx_empl_prec_2006</th>\n    </tr>\n  </thead>\n  <tbody>\n    <tr>\n      <th>0</th>\n      <td>60010000</td>\n      <td>32.377778</td>\n      <td>2.088889</td>\n      <td>8.355556</td>\n      <td>0.000000</td>\n      <td>6.266667</td>\n      <td>0.000000</td>\n      <td>0.000000</td>\n      <td>8.355556</td>\n      <td>17465.0</td>\n      <td>...</td>\n      <td>12.903226</td>\n      <td>12.903226</td>\n      <td>29.032258</td>\n      <td>22.580645</td>\n      <td>83.870969</td>\n      <td>80.645160</td>\n      <td>122.580645</td>\n      <td>74.193547</td>\n      <td>48.387097</td>\n      <td>25.806453</td>\n    </tr>\n    <tr>\n      <th>1</th>\n      <td>60020000</td>\n      <td>12.008551</td>\n      <td>3.002138</td>\n      <td>4.002850</td>\n      <td>4.002850</td>\n      <td>1.000713</td>\n      <td>0.000000</td>\n      <td>0.973333</td>\n      <td>0.000000</td>\n      <td>NaN</td>\n      <td>...</td>\n      <td>0.000000</td>\n      <td>25.000002</td>\n      <td>33.333331</td>\n      <td>16.666665</td>\n      <td>58.333333</td>\n      <td>66.666669</td>\n      <td>133.333331</td>\n      <td>108.333328</td>\n      <td>25.000002</td>\n      <td>8.105335</td>\n    </tr>\n    <tr>\n      <th>2</th>\n      <td>60030000</td>\n      <td>232.021978</td>\n      <td>24.725275</td>\n      <td>51.282051</td>\n      <td>80.586081</td>\n      <td>32.967033</td>\n      <td>0.915751</td>\n      <td>3.622305</td>\n      <td>28.388278</td>\n      <td>13866.0</td>\n      <td>...</td>\n      <td>0.000000</td>\n      <td>24.111964</td>\n      <td>22.533232</td>\n      <td>20.918190</td>\n      <td>28.058792</td>\n      <td>58.413059</td>\n      <td>86.544473</td>\n      <td>56.081273</td>\n      <td>30.463200</td>\n      <td>14.191041</td>\n    </tr>\n    <tr>\n      <th>3</th>\n      <td>60040101</td>\n      <td>558.359852</td>\n      <td>79.552998</td>\n      <td>189.506664</td>\n      <td>142.278837</td>\n      <td>104.191062</td>\n      <td>0.000000</td>\n      <td>9.724609</td>\n      <td>43.918480</td>\n      <td>20108.0</td>\n      <td>...</td>\n      <td>12.450518</td>\n      <td>3.569231</td>\n      <td>13.748829</td>\n      <td>9.705411</td>\n      <td>36.637534</td>\n      <td>48.238210</td>\n      <td>61.290878</td>\n      <td>30.845691</td>\n      <td>30.445187</td>\n      <td>9.607261</td>\n    </tr>\n    <tr>\n      <th>4</th>\n      <td>60040102</td>\n      <td>1322.676650</td>\n      <td>95.706717</td>\n      <td>453.856986</td>\n      <td>188.318276</td>\n      <td>203.919192</td>\n      <td>11.170277</td>\n      <td>17.151069</td>\n      <td>81.122892</td>\n      <td>18178.0</td>\n      <td>...</td>\n      <td>5.740664</td>\n      <td>5.073478</td>\n      <td>11.192460</td>\n      <td>16.480261</td>\n      <td>42.846445</td>\n      <td>52.077781</td>\n      <td>70.229033</td>\n      <td>33.934914</td>\n      <td>36.294119</td>\n      <td>8.274451</td>\n    </tr>\n  </tbody>\n</table>\n<p>5 rows × 45 columns</p>\n</div>"
     },
     "metadata": {},
     "execution_count": 13
    }
   ],
   "source": [
    "bd_gent_2006 = get_data(BD_GENT_2006, is_local_csv=True)\n",
    "print(bd_gent_2006.shape)\n",
    "bd_gent_2006.head()"
   ]
  },
  {
   "cell_type": "code",
   "execution_count": 14,
   "metadata": {},
   "outputs": [
    {
     "output_type": "stream",
     "name": "stdout",
     "text": [
      "/home/primitive/code/eangelid/trampact/trampact\n(500, 45)\n"
     ]
    },
    {
     "output_type": "execute_result",
     "data": {
      "text/plain": [
       "    iris_id  t_actifs_2016  t_chom_2016   empl_2016  ouvrier_2016     TP_2016  \\\n",
       "0  60010000      36.365591     5.741935    4.784946      0.000000    6.698925   \n",
       "1  60020000      31.146667     5.840000    4.866667      4.866667    6.813333   \n",
       "2  60030000     269.050007    43.467660   95.085507     67.918219   42.562084   \n",
       "3  60040101     604.818909    96.239886  183.644202    102.723350   53.893508   \n",
       "4  60040102    1265.456645    91.799759  341.483429    157.342286  152.709438   \n",
       "\n",
       "   Int_2016  app_stage_2016   CDD_2016  rev_2016  ...  tx_TC_2016  \\\n",
       "0  0.000000        0.000000   1.913978       NaN  ...   26.315789   \n",
       "1  0.000000        0.973333   5.840000       NaN  ...    0.000000   \n",
       "2  1.811153        3.622305  18.111525   15670.0  ...    0.000000   \n",
       "3  3.788325        9.724609  40.522157   21136.0  ...    9.189947   \n",
       "4  1.142076       17.151069  81.025567   24220.0  ...    5.396948   \n",
       "\n",
       "   tx_HH_moins2ans_2016  tx_HH_2_4ans_2016  tx_HH_5_9ans_2016  \\\n",
       "0             28.947368          28.947368          21.052632   \n",
       "1             15.625000          25.000000          12.500000   \n",
       "2             11.443818          23.560802          24.268852   \n",
       "3             13.618267          38.343338          33.730176   \n",
       "4              6.232465          14.154485           8.492861   \n",
       "\n",
       "   tx_HH_plus10ans_2016  tx_HH_with_park_2016  tx_HH_with_voit_2016  \\\n",
       "0             47.368421             73.684211            110.526316   \n",
       "1             68.750000             34.375000             90.625000   \n",
       "2             41.063111             69.707541             93.941508   \n",
       "3             18.561670             75.119975             80.093156   \n",
       "4             52.291805             58.982592             76.012828   \n",
       "\n",
       "   tx_HH_1voit_2016  tx_HH_2voit_2016  tx_empl_prec_2016  \n",
       "0         73.684211         36.842105           5.263158  \n",
       "1         65.625000         25.000000          21.875000  \n",
       "2         52.205231         41.736277           8.751155  \n",
       "3         55.589045         24.504111           8.934094  \n",
       "4         39.134568         36.878260           7.848448  \n",
       "\n",
       "[5 rows x 45 columns]"
      ],
      "text/html": "<div>\n<style scoped>\n    .dataframe tbody tr th:only-of-type {\n        vertical-align: middle;\n    }\n\n    .dataframe tbody tr th {\n        vertical-align: top;\n    }\n\n    .dataframe thead th {\n        text-align: right;\n    }\n</style>\n<table border=\"1\" class=\"dataframe\">\n  <thead>\n    <tr style=\"text-align: right;\">\n      <th></th>\n      <th>iris_id</th>\n      <th>t_actifs_2016</th>\n      <th>t_chom_2016</th>\n      <th>empl_2016</th>\n      <th>ouvrier_2016</th>\n      <th>TP_2016</th>\n      <th>Int_2016</th>\n      <th>app_stage_2016</th>\n      <th>CDD_2016</th>\n      <th>rev_2016</th>\n      <th>...</th>\n      <th>tx_TC_2016</th>\n      <th>tx_HH_moins2ans_2016</th>\n      <th>tx_HH_2_4ans_2016</th>\n      <th>tx_HH_5_9ans_2016</th>\n      <th>tx_HH_plus10ans_2016</th>\n      <th>tx_HH_with_park_2016</th>\n      <th>tx_HH_with_voit_2016</th>\n      <th>tx_HH_1voit_2016</th>\n      <th>tx_HH_2voit_2016</th>\n      <th>tx_empl_prec_2016</th>\n    </tr>\n  </thead>\n  <tbody>\n    <tr>\n      <th>0</th>\n      <td>60010000</td>\n      <td>36.365591</td>\n      <td>5.741935</td>\n      <td>4.784946</td>\n      <td>0.000000</td>\n      <td>6.698925</td>\n      <td>0.000000</td>\n      <td>0.000000</td>\n      <td>1.913978</td>\n      <td>NaN</td>\n      <td>...</td>\n      <td>26.315789</td>\n      <td>28.947368</td>\n      <td>28.947368</td>\n      <td>21.052632</td>\n      <td>47.368421</td>\n      <td>73.684211</td>\n      <td>110.526316</td>\n      <td>73.684211</td>\n      <td>36.842105</td>\n      <td>5.263158</td>\n    </tr>\n    <tr>\n      <th>1</th>\n      <td>60020000</td>\n      <td>31.146667</td>\n      <td>5.840000</td>\n      <td>4.866667</td>\n      <td>4.866667</td>\n      <td>6.813333</td>\n      <td>0.000000</td>\n      <td>0.973333</td>\n      <td>5.840000</td>\n      <td>NaN</td>\n      <td>...</td>\n      <td>0.000000</td>\n      <td>15.625000</td>\n      <td>25.000000</td>\n      <td>12.500000</td>\n      <td>68.750000</td>\n      <td>34.375000</td>\n      <td>90.625000</td>\n      <td>65.625000</td>\n      <td>25.000000</td>\n      <td>21.875000</td>\n    </tr>\n    <tr>\n      <th>2</th>\n      <td>60030000</td>\n      <td>269.050007</td>\n      <td>43.467660</td>\n      <td>95.085507</td>\n      <td>67.918219</td>\n      <td>42.562084</td>\n      <td>1.811153</td>\n      <td>3.622305</td>\n      <td>18.111525</td>\n      <td>15670.0</td>\n      <td>...</td>\n      <td>0.000000</td>\n      <td>11.443818</td>\n      <td>23.560802</td>\n      <td>24.268852</td>\n      <td>41.063111</td>\n      <td>69.707541</td>\n      <td>93.941508</td>\n      <td>52.205231</td>\n      <td>41.736277</td>\n      <td>8.751155</td>\n    </tr>\n    <tr>\n      <th>3</th>\n      <td>60040101</td>\n      <td>604.818909</td>\n      <td>96.239886</td>\n      <td>183.644202</td>\n      <td>102.723350</td>\n      <td>53.893508</td>\n      <td>3.788325</td>\n      <td>9.724609</td>\n      <td>40.522157</td>\n      <td>21136.0</td>\n      <td>...</td>\n      <td>9.189947</td>\n      <td>13.618267</td>\n      <td>38.343338</td>\n      <td>33.730176</td>\n      <td>18.561670</td>\n      <td>75.119975</td>\n      <td>80.093156</td>\n      <td>55.589045</td>\n      <td>24.504111</td>\n      <td>8.934094</td>\n    </tr>\n    <tr>\n      <th>4</th>\n      <td>60040102</td>\n      <td>1265.456645</td>\n      <td>91.799759</td>\n      <td>341.483429</td>\n      <td>157.342286</td>\n      <td>152.709438</td>\n      <td>1.142076</td>\n      <td>17.151069</td>\n      <td>81.025567</td>\n      <td>24220.0</td>\n      <td>...</td>\n      <td>5.396948</td>\n      <td>6.232465</td>\n      <td>14.154485</td>\n      <td>8.492861</td>\n      <td>52.291805</td>\n      <td>58.982592</td>\n      <td>76.012828</td>\n      <td>39.134568</td>\n      <td>36.878260</td>\n      <td>7.848448</td>\n    </tr>\n  </tbody>\n</table>\n<p>5 rows × 45 columns</p>\n</div>"
     },
     "metadata": {},
     "execution_count": 14
    }
   ],
   "source": [
    "bd_gent_2016 = get_data(BD_GENT_2016, is_local_csv=True)\n",
    "print(bd_gent_2016.shape)\n",
    "bd_gent_2016.head()"
   ]
  },
  {
   "source": [
    "#### Filter tram quarters only"
   ],
   "cell_type": "markdown",
   "metadata": {}
  },
  {
   "cell_type": "code",
   "execution_count": 20,
   "metadata": {},
   "outputs": [
    {
     "output_type": "stream",
     "name": "stdout",
     "text": [
      "(35, 45)\n"
     ]
    }
   ],
   "source": [
    "bd_gent_2006_T1 = bd_gent_2006.merge(iris_T1, on='iris_id').drop('NOM_IRIS', axis=1)\n",
    "print(bd_gent_2006_T1.shape)"
   ]
  },
  {
   "cell_type": "code",
   "execution_count": 21,
   "metadata": {},
   "outputs": [
    {
     "output_type": "stream",
     "name": "stdout",
     "text": [
      "(35, 45)\n"
     ]
    }
   ],
   "source": [
    "bd_gent_2016_T1 = bd_gent_2016.merge(iris_T1, on='iris_id').drop('NOM_IRIS', axis=1)\n",
    "print(bd_gent_2016_T1.shape)"
   ]
  },
  {
   "cell_type": "code",
   "execution_count": null,
   "metadata": {},
   "outputs": [],
   "source": []
  },
  {
   "cell_type": "code",
   "execution_count": 3,
   "metadata": {},
   "outputs": [],
   "source": [
    "import matplotlib.pyplot as plt\n",
    "%matplotlib inline"
   ]
  },
  {
   "cell_type": "code",
   "execution_count": 25,
   "metadata": {},
   "outputs": [
    {
     "output_type": "error",
     "ename": "AttributeError",
     "evalue": "'numpy.ndarray' object has no attribute 'hist'",
     "traceback": [
      "\u001b[0;31m---------------------------------------------------------------------------\u001b[0m",
      "\u001b[0;31mAttributeError\u001b[0m                            Traceback (most recent call last)",
      "\u001b[0;32m<ipython-input-25-edc4ed31f4b5>\u001b[0m in \u001b[0;36m<module>\u001b[0;34m\u001b[0m\n\u001b[1;32m      4\u001b[0m \u001b[0mfig\u001b[0m\u001b[0;34m,\u001b[0m \u001b[0maxs\u001b[0m \u001b[0;34m=\u001b[0m \u001b[0mplt\u001b[0m\u001b[0;34m.\u001b[0m\u001b[0msubplots\u001b[0m\u001b[0;34m(\u001b[0m\u001b[0;36m2\u001b[0m\u001b[0;34m,\u001b[0m\u001b[0;36m2\u001b[0m\u001b[0;34m,\u001b[0m \u001b[0mfigsize\u001b[0m\u001b[0;34m=\u001b[0m\u001b[0;34m(\u001b[0m\u001b[0;36m14\u001b[0m\u001b[0;34m,\u001b[0m\u001b[0;36m14\u001b[0m\u001b[0;34m)\u001b[0m\u001b[0;34m)\u001b[0m\u001b[0;34m\u001b[0m\u001b[0;34m\u001b[0m\u001b[0m\n\u001b[1;32m      5\u001b[0m \u001b[0maxs\u001b[0m\u001b[0;34m[\u001b[0m\u001b[0;36m0\u001b[0m\u001b[0;34m]\u001b[0m\u001b[0;34m[\u001b[0m\u001b[0;36m0\u001b[0m\u001b[0;34m]\u001b[0m\u001b[0;34m.\u001b[0m\u001b[0mhist\u001b[0m\u001b[0;34m(\u001b[0m\u001b[0mbd_gent_2006\u001b[0m\u001b[0;34m[\u001b[0m\u001b[0;34mf'{draw_feature}_2006'\u001b[0m\u001b[0;34m]\u001b[0m\u001b[0;34m,\u001b[0m \u001b[0mbins\u001b[0m\u001b[0;34m=\u001b[0m\u001b[0mbins\u001b[0m\u001b[0;34m)\u001b[0m\u001b[0;34m\u001b[0m\u001b[0;34m\u001b[0m\u001b[0m\n\u001b[0;32m----> 6\u001b[0;31m \u001b[0maxs\u001b[0m\u001b[0;34m[\u001b[0m\u001b[0;36m1\u001b[0m\u001b[0;34m]\u001b[0m\u001b[0;34m.\u001b[0m\u001b[0mhist\u001b[0m\u001b[0;34m(\u001b[0m\u001b[0mbd_gent_2016\u001b[0m\u001b[0;34m[\u001b[0m\u001b[0;34mf'{draw_feature}_2016'\u001b[0m\u001b[0;34m]\u001b[0m\u001b[0;34m,\u001b[0m \u001b[0mbins\u001b[0m\u001b[0;34m=\u001b[0m\u001b[0mbins\u001b[0m\u001b[0;34m)\u001b[0m\u001b[0;34m\u001b[0m\u001b[0;34m\u001b[0m\u001b[0m\n\u001b[0m\u001b[1;32m      7\u001b[0m \u001b[0maxs\u001b[0m\u001b[0;34m[\u001b[0m\u001b[0;36m2\u001b[0m\u001b[0;34m]\u001b[0m\u001b[0;34m.\u001b[0m\u001b[0mhist\u001b[0m\u001b[0;34m(\u001b[0m\u001b[0mbd_gent_2006_T1\u001b[0m\u001b[0;34m[\u001b[0m\u001b[0;34mf'{draw_feature}_2006'\u001b[0m\u001b[0;34m]\u001b[0m\u001b[0;34m,\u001b[0m \u001b[0mbins\u001b[0m\u001b[0;34m=\u001b[0m\u001b[0mbins\u001b[0m\u001b[0;34m)\u001b[0m\u001b[0;34m\u001b[0m\u001b[0;34m\u001b[0m\u001b[0m\n\u001b[1;32m      8\u001b[0m \u001b[0maxs\u001b[0m\u001b[0;34m[\u001b[0m\u001b[0;36m3\u001b[0m\u001b[0;34m]\u001b[0m\u001b[0;34m.\u001b[0m\u001b[0mhist\u001b[0m\u001b[0;34m(\u001b[0m\u001b[0mbd_gent_2016_T1\u001b[0m\u001b[0;34m[\u001b[0m\u001b[0;34mf'{draw_feature}_2016'\u001b[0m\u001b[0;34m]\u001b[0m\u001b[0;34m,\u001b[0m \u001b[0mbins\u001b[0m\u001b[0;34m=\u001b[0m\u001b[0mbins\u001b[0m\u001b[0;34m)\u001b[0m\u001b[0;34m\u001b[0m\u001b[0;34m\u001b[0m\u001b[0m\n",
      "\u001b[0;31mAttributeError\u001b[0m: 'numpy.ndarray' object has no attribute 'hist'"
     ]
    }
   ],
   "source": [
    "draw_feature = 'tx_empl_prec'\n",
    "bins=20\n",
    "\n",
    "fig, axs = plt.subplots(2,2, figsize=(14,14), squeeze=True)\n",
    "axs[0].hist(bd_gent_2006[f'{draw_feature}_2006'], bins=bins)\n",
    "axs[1].hist(bd_gent_2016[f'{draw_feature}_2016'], bins=bins)\n",
    "axs[2].hist(bd_gent_2006_T1[f'{draw_feature}_2006'], bins=bins)\n",
    "axs[3].hist(bd_gent_2016_T1[f'{draw_feature}_2016'], bins=bins)\n",
    "\n",
    "# axs[0][0].hist(bd_gent_2006[f'{draw_feature}_2006'], bins=bins)\n",
    "# axs[0][1].hist(bd_gent_2016[f'{draw_feature}_2016'], bins=bins)\n",
    "# axs[1][0].hist(bd_gent_2006_T1[f'{draw_feature}_2006'], bins=bins)\n",
    "# axs[1][1].hist(bd_gent_2016_T1[f'{draw_feature}_2016'], bins=bins)\n",
    "\n",
    "ax[0].set_title('2006')\n",
    "ax[0].set_ylabel('Occurences')\n",
    "ax[0].set_xlabel(draw_feature + ' (Nice)')\n",
    "\n",
    "ax[1].set_title('2016')\n",
    "ax[1].set_ylabel('Occurences')\n",
    "ax[1].set_xlabel(draw_feature + ' (Nice)')\n",
    "\n",
    "ax[2].set_title('2006')\n",
    "ax[2].set_ylabel('Occurences')\n",
    "ax[2].set_xlabel(draw_feature + ' (T1)')\n",
    "\n",
    "ax[3].set_title('2016')\n",
    "ax[3].set_ylabel('Occurences')\n",
    "ax[3].set_xlabel(draw_feature + ' (T1)')\n",
    "\n",
    "fig.suptitle(draw_feature)\n",
    "plt.show()"
   ]
  },
  {
   "source": [],
   "cell_type": "markdown",
   "metadata": {}
  }
 ]
}